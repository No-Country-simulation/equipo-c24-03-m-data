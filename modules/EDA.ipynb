{
 "cells": [
  {
   "cell_type": "markdown",
   "metadata": {},
   "source": [
    "# Limpieza de Datos y Análisis Exploratorio de Datos"
   ]
  },
  {
   "cell_type": "markdown",
   "metadata": {},
   "source": [
    "#### **Librerías**"
   ]
  },
  {
   "cell_type": "markdown",
   "metadata": {},
   "source": [
    "Importamos las librerías necesarias."
   ]
  },
  {
   "cell_type": "code",
   "execution_count": 1,
   "metadata": {},
   "outputs": [],
   "source": [
    "import pandas as pd\n",
    "import numpy as np\n",
    "import matplotlib.pyplot as plt\n",
    "import seaborn as sns\n",
    "import locale\n",
    "import calendar\n"
   ]
  },
  {
   "cell_type": "markdown",
   "metadata": {},
   "source": [
    "#### **Lectura del dataset**"
   ]
  },
  {
   "cell_type": "markdown",
   "metadata": {},
   "source": [
    "Leemos los datos."
   ]
  },
  {
   "cell_type": "code",
   "execution_count": 2,
   "metadata": {},
   "outputs": [],
   "source": [
    "df = pd.read_csv('delitos_2021.csv', sep=';')"
   ]
  },
  {
   "cell_type": "markdown",
   "metadata": {},
   "source": [
    "Mostramos las cinco primeras filas del dataframe."
   ]
  },
  {
   "cell_type": "code",
   "execution_count": 3,
   "metadata": {},
   "outputs": [
    {
     "data": {
      "text/html": [
       "<div>\n",
       "<style scoped>\n",
       "    .dataframe tbody tr th:only-of-type {\n",
       "        vertical-align: middle;\n",
       "    }\n",
       "\n",
       "    .dataframe tbody tr th {\n",
       "        vertical-align: top;\n",
       "    }\n",
       "\n",
       "    .dataframe thead th {\n",
       "        text-align: right;\n",
       "    }\n",
       "</style>\n",
       "<table border=\"1\" class=\"dataframe\">\n",
       "  <thead>\n",
       "    <tr style=\"text-align: right;\">\n",
       "      <th></th>\n",
       "      <th>id-mapa</th>\n",
       "      <th>anio</th>\n",
       "      <th>mes</th>\n",
       "      <th>dia</th>\n",
       "      <th>fecha</th>\n",
       "      <th>franja</th>\n",
       "      <th>tipo</th>\n",
       "      <th>subtipo</th>\n",
       "      <th>uso_armas</th>\n",
       "      <th>barrio</th>\n",
       "      <th>comuna</th>\n",
       "      <th>latitud</th>\n",
       "      <th>longitud</th>\n",
       "      <th>cantidad</th>\n",
       "    </tr>\n",
       "  </thead>\n",
       "  <tbody>\n",
       "    <tr>\n",
       "      <th>0</th>\n",
       "      <td>HC-2021-1008202</td>\n",
       "      <td>2021</td>\n",
       "      <td>Enero</td>\n",
       "      <td>Miércoles</td>\n",
       "      <td>06/01/2021</td>\n",
       "      <td>18</td>\n",
       "      <td>Homicidio</td>\n",
       "      <td>Siniestro Vial</td>\n",
       "      <td>NaN</td>\n",
       "      <td>Constitución</td>\n",
       "      <td>1.0</td>\n",
       "      <td>-34,62761</td>\n",
       "      <td>-58,379146</td>\n",
       "      <td>1.0</td>\n",
       "    </tr>\n",
       "    <tr>\n",
       "      <th>1</th>\n",
       "      <td>HC-2021-1009094</td>\n",
       "      <td>2021</td>\n",
       "      <td>Enero</td>\n",
       "      <td>Jueves</td>\n",
       "      <td>07/01/2021</td>\n",
       "      <td>10</td>\n",
       "      <td>Homicidio</td>\n",
       "      <td>Siniestro Vial</td>\n",
       "      <td>NaN</td>\n",
       "      <td>Mataderos</td>\n",
       "      <td>9.0</td>\n",
       "      <td>-34,64972969</td>\n",
       "      <td>-58,51058958</td>\n",
       "      <td>1.0</td>\n",
       "    </tr>\n",
       "    <tr>\n",
       "      <th>2</th>\n",
       "      <td>HC-2021-1013236</td>\n",
       "      <td>2021</td>\n",
       "      <td>Enero</td>\n",
       "      <td>Domingo</td>\n",
       "      <td>10/01/2021</td>\n",
       "      <td>7</td>\n",
       "      <td>Homicidio</td>\n",
       "      <td>Siniestro Vial</td>\n",
       "      <td>NaN</td>\n",
       "      <td>Parque Chacabuco</td>\n",
       "      <td>7.0</td>\n",
       "      <td>-34,62917196</td>\n",
       "      <td>-58,43058079</td>\n",
       "      <td>1.0</td>\n",
       "    </tr>\n",
       "    <tr>\n",
       "      <th>3</th>\n",
       "      <td>HC-2021-1014154</td>\n",
       "      <td>2021</td>\n",
       "      <td>Enero</td>\n",
       "      <td>Lunes</td>\n",
       "      <td>11/01/2021</td>\n",
       "      <td>9</td>\n",
       "      <td>Homicidio</td>\n",
       "      <td>Siniestro Vial</td>\n",
       "      <td>NaN</td>\n",
       "      <td>Nueva Pompeya</td>\n",
       "      <td>5.0</td>\n",
       "      <td>-34,63867577</td>\n",
       "      <td>-58,4145554</td>\n",
       "      <td>1.0</td>\n",
       "    </tr>\n",
       "    <tr>\n",
       "      <th>4</th>\n",
       "      <td>HC-2021-1015476</td>\n",
       "      <td>2021</td>\n",
       "      <td>Enero</td>\n",
       "      <td>Lunes</td>\n",
       "      <td>11/01/2021</td>\n",
       "      <td>21</td>\n",
       "      <td>Homicidio</td>\n",
       "      <td>Siniestro Vial</td>\n",
       "      <td>NaN</td>\n",
       "      <td>Parque Avellaneda</td>\n",
       "      <td>9.0</td>\n",
       "      <td>-34,64771436</td>\n",
       "      <td>-58,46806552</td>\n",
       "      <td>1.0</td>\n",
       "    </tr>\n",
       "  </tbody>\n",
       "</table>\n",
       "</div>"
      ],
      "text/plain": [
       "           id-mapa  anio    mes        dia       fecha franja       tipo  \\\n",
       "0  HC-2021-1008202  2021  Enero  Miércoles  06/01/2021     18  Homicidio   \n",
       "1  HC-2021-1009094  2021  Enero     Jueves  07/01/2021     10  Homicidio   \n",
       "2  HC-2021-1013236  2021  Enero    Domingo  10/01/2021      7  Homicidio   \n",
       "3  HC-2021-1014154  2021  Enero      Lunes  11/01/2021      9  Homicidio   \n",
       "4  HC-2021-1015476  2021  Enero      Lunes  11/01/2021     21  Homicidio   \n",
       "\n",
       "          subtipo uso_armas             barrio  comuna       latitud  \\\n",
       "0  Siniestro Vial       NaN       Constitución     1.0     -34,62761   \n",
       "1  Siniestro Vial       NaN          Mataderos     9.0  -34,64972969   \n",
       "2  Siniestro Vial       NaN   Parque Chacabuco     7.0  -34,62917196   \n",
       "3  Siniestro Vial       NaN      Nueva Pompeya     5.0  -34,63867577   \n",
       "4  Siniestro Vial       NaN  Parque Avellaneda     9.0  -34,64771436   \n",
       "\n",
       "       longitud  cantidad  \n",
       "0    -58,379146       1.0  \n",
       "1  -58,51058958       1.0  \n",
       "2  -58,43058079       1.0  \n",
       "3   -58,4145554       1.0  \n",
       "4  -58,46806552       1.0  "
      ]
     },
     "execution_count": 3,
     "metadata": {},
     "output_type": "execute_result"
    }
   ],
   "source": [
    "df.head()"
   ]
  },
  {
   "cell_type": "markdown",
   "metadata": {},
   "source": [
    "#### **Análisis del Dataset**"
   ]
  },
  {
   "cell_type": "markdown",
   "metadata": {},
   "source": [
    "Consultamos el tamaño del dataset."
   ]
  },
  {
   "cell_type": "code",
   "execution_count": 4,
   "metadata": {},
   "outputs": [
    {
     "data": {
      "text/plain": [
       "(88567, 14)"
      ]
     },
     "execution_count": 4,
     "metadata": {},
     "output_type": "execute_result"
    }
   ],
   "source": [
    "df.shape"
   ]
  },
  {
   "cell_type": "markdown",
   "metadata": {},
   "source": [
    "Descripción del Dataset"
   ]
  },
  {
   "cell_type": "code",
   "execution_count": 5,
   "metadata": {},
   "outputs": [
    {
     "data": {
      "text/html": [
       "<div>\n",
       "<style scoped>\n",
       "    .dataframe tbody tr th:only-of-type {\n",
       "        vertical-align: middle;\n",
       "    }\n",
       "\n",
       "    .dataframe tbody tr th {\n",
       "        vertical-align: top;\n",
       "    }\n",
       "\n",
       "    .dataframe thead th {\n",
       "        text-align: right;\n",
       "    }\n",
       "</style>\n",
       "<table border=\"1\" class=\"dataframe\">\n",
       "  <thead>\n",
       "    <tr style=\"text-align: right;\">\n",
       "      <th></th>\n",
       "      <th>anio</th>\n",
       "      <th>comuna</th>\n",
       "      <th>cantidad</th>\n",
       "    </tr>\n",
       "  </thead>\n",
       "  <tbody>\n",
       "    <tr>\n",
       "      <th>count</th>\n",
       "      <td>88567.0</td>\n",
       "      <td>87907.000000</td>\n",
       "      <td>7299.000000</td>\n",
       "    </tr>\n",
       "    <tr>\n",
       "      <th>mean</th>\n",
       "      <td>2021.0</td>\n",
       "      <td>7.538899</td>\n",
       "      <td>1.158515</td>\n",
       "    </tr>\n",
       "    <tr>\n",
       "      <th>std</th>\n",
       "      <td>0.0</td>\n",
       "      <td>4.554293</td>\n",
       "      <td>0.557664</td>\n",
       "    </tr>\n",
       "    <tr>\n",
       "      <th>min</th>\n",
       "      <td>2021.0</td>\n",
       "      <td>0.000000</td>\n",
       "      <td>1.000000</td>\n",
       "    </tr>\n",
       "    <tr>\n",
       "      <th>25%</th>\n",
       "      <td>2021.0</td>\n",
       "      <td>4.000000</td>\n",
       "      <td>1.000000</td>\n",
       "    </tr>\n",
       "    <tr>\n",
       "      <th>50%</th>\n",
       "      <td>2021.0</td>\n",
       "      <td>7.000000</td>\n",
       "      <td>1.000000</td>\n",
       "    </tr>\n",
       "    <tr>\n",
       "      <th>75%</th>\n",
       "      <td>2021.0</td>\n",
       "      <td>12.000000</td>\n",
       "      <td>1.000000</td>\n",
       "    </tr>\n",
       "    <tr>\n",
       "      <th>max</th>\n",
       "      <td>2021.0</td>\n",
       "      <td>15.000000</td>\n",
       "      <td>10.000000</td>\n",
       "    </tr>\n",
       "  </tbody>\n",
       "</table>\n",
       "</div>"
      ],
      "text/plain": [
       "          anio        comuna     cantidad\n",
       "count  88567.0  87907.000000  7299.000000\n",
       "mean    2021.0      7.538899     1.158515\n",
       "std        0.0      4.554293     0.557664\n",
       "min     2021.0      0.000000     1.000000\n",
       "25%     2021.0      4.000000     1.000000\n",
       "50%     2021.0      7.000000     1.000000\n",
       "75%     2021.0     12.000000     1.000000\n",
       "max     2021.0     15.000000    10.000000"
      ]
     },
     "execution_count": 5,
     "metadata": {},
     "output_type": "execute_result"
    }
   ],
   "source": [
    "df.describe()"
   ]
  },
  {
   "cell_type": "markdown",
   "metadata": {},
   "source": [
    "#### **Tipos de Datos**"
   ]
  },
  {
   "cell_type": "markdown",
   "metadata": {},
   "source": [
    "Tipos de datos de las columnas."
   ]
  },
  {
   "cell_type": "code",
   "execution_count": 6,
   "metadata": {},
   "outputs": [
    {
     "data": {
      "text/plain": [
       "id-mapa       object\n",
       "anio           int64\n",
       "mes           object\n",
       "dia           object\n",
       "fecha         object\n",
       "franja        object\n",
       "tipo          object\n",
       "subtipo       object\n",
       "uso_armas     object\n",
       "barrio        object\n",
       "comuna       float64\n",
       "latitud       object\n",
       "longitud      object\n",
       "cantidad     float64\n",
       "dtype: object"
      ]
     },
     "execution_count": 6,
     "metadata": {},
     "output_type": "execute_result"
    }
   ],
   "source": [
    "df.dtypes"
   ]
  },
  {
   "cell_type": "markdown",
   "metadata": {},
   "source": [
    "Vemos que la columna fecha tiene como tipo de dato object, cambiamos el tipo de dato a datatime."
   ]
  },
  {
   "cell_type": "code",
   "execution_count": 7,
   "metadata": {},
   "outputs": [
    {
     "name": "stderr",
     "output_type": "stream",
     "text": [
      "/var/folders/xj/j8r00dd95wn7lh34b83jtgg80000gp/T/ipykernel_43360/1961818311.py:1: UserWarning: Parsing dates in %d/%m/%Y format when dayfirst=False (the default) was specified. Pass `dayfirst=True` or specify a format to silence this warning.\n",
      "  df['fecha'] = df['fecha'].apply(lambda x: pd.to_datetime(x, errors='coerce', utc=True))\n"
     ]
    }
   ],
   "source": [
    "\n",
    "df['fecha'] = df['fecha'].apply(lambda x: pd.to_datetime(x, errors='coerce', utc=True))"
   ]
  },
  {
   "cell_type": "markdown",
   "metadata": {},
   "source": [
    "#### **Valores Nulos y transformación de datos**"
   ]
  },
  {
   "cell_type": "markdown",
   "metadata": {},
   "source": [
    "Vamos a analizar los datos de cada columna para ver si tienen datos nulos fáciles de encontrar o datos nulos que no se pueden econtrar con isnull, y vamos a inspeccionar los datos para normalizarlos, por ejemplo si en la columna dia hay dos lunes, uno con mayúsculas y otro sin mayúsculas, nos quedarmos con un sólo formato. "
   ]
  },
  {
   "cell_type": "code",
   "execution_count": 8,
   "metadata": {},
   "outputs": [
    {
     "data": {
      "text/plain": [
       "id-mapa          0\n",
       "anio             0\n",
       "mes              0\n",
       "dia              0\n",
       "fecha            0\n",
       "franja           0\n",
       "tipo             0\n",
       "subtipo      72246\n",
       "uso_armas    80095\n",
       "barrio        1177\n",
       "comuna         660\n",
       "latitud          0\n",
       "longitud         0\n",
       "cantidad     81268\n",
       "dtype: int64"
      ]
     },
     "execution_count": 8,
     "metadata": {},
     "output_type": "execute_result"
    }
   ],
   "source": [
    "df.isnull().sum()"
   ]
  },
  {
   "cell_type": "markdown",
   "metadata": {},
   "source": [
    "Podemos ver que las columnas subtipo, uso_armas, barrio y comuna tienen valoes nulos."
   ]
  },
  {
   "cell_type": "markdown",
   "metadata": {},
   "source": [
    "##### **Columna barrio**"
   ]
  },
  {
   "cell_type": "markdown",
   "metadata": {},
   "source": [
    "Analizamos los valores nulos de la columna barrio y comuna."
   ]
  },
  {
   "cell_type": "code",
   "execution_count": 9,
   "metadata": {},
   "outputs": [
    {
     "data": {
      "text/plain": [
       "comuna\n",
       "0.0    517\n",
       "Name: count, dtype: int64"
      ]
     },
     "execution_count": 9,
     "metadata": {},
     "output_type": "execute_result"
    }
   ],
   "source": [
    "df[df.barrio.isnull()].comuna.value_counts()"
   ]
  },
  {
   "cell_type": "code",
   "execution_count": 10,
   "metadata": {},
   "outputs": [
    {
     "data": {
      "text/plain": [
       "660"
      ]
     },
     "execution_count": 10,
     "metadata": {},
     "output_type": "execute_result"
    }
   ],
   "source": [
    "df[df.barrio.isnull()].comuna.isnull().sum()"
   ]
  },
  {
   "cell_type": "markdown",
   "metadata": {},
   "source": [
    "Podemos observar que todas las filas vacías de la columna barrio tienen la columna comuna vacía o con 0.  Es decir en las 1177 filas de barrios nulas, no hay el dato correspondiente a comuna. \n",
    "Ahora analizamos las columnas latitud y longitud de las mismas filas."
   ]
  },
  {
   "cell_type": "code",
   "execution_count": 11,
   "metadata": {},
   "outputs": [
    {
     "data": {
      "text/plain": [
       "latitud\n",
       "SD    1177\n",
       "Name: count, dtype: int64"
      ]
     },
     "execution_count": 11,
     "metadata": {},
     "output_type": "execute_result"
    }
   ],
   "source": [
    "df[df.barrio.isnull()].latitud.value_counts()"
   ]
  },
  {
   "cell_type": "code",
   "execution_count": 12,
   "metadata": {},
   "outputs": [
    {
     "data": {
      "text/plain": [
       "longitud\n",
       "SD    1177\n",
       "Name: count, dtype: int64"
      ]
     },
     "execution_count": 12,
     "metadata": {},
     "output_type": "execute_result"
    }
   ],
   "source": [
    "df[df.barrio.isnull()].longitud.value_counts()"
   ]
  },
  {
   "cell_type": "markdown",
   "metadata": {},
   "source": [
    "Como vemos tampoco tienen los datos de longitud y latitud, por lo tanto deberíamos borrar estas filas."
   ]
  },
  {
   "cell_type": "code",
   "execution_count": 13,
   "metadata": {},
   "outputs": [],
   "source": [
    "df.dropna(subset=['barrio'], inplace = True)"
   ]
  },
  {
   "cell_type": "code",
   "execution_count": 14,
   "metadata": {},
   "outputs": [
    {
     "data": {
      "text/plain": [
       "0"
      ]
     },
     "execution_count": 14,
     "metadata": {},
     "output_type": "execute_result"
    }
   ],
   "source": [
    "df.barrio.isnull().sum()"
   ]
  },
  {
   "cell_type": "code",
   "execution_count": 15,
   "metadata": {},
   "outputs": [
    {
     "data": {
      "text/plain": [
       "id-mapa          0\n",
       "anio             0\n",
       "mes              0\n",
       "dia              0\n",
       "fecha            0\n",
       "franja           0\n",
       "tipo             0\n",
       "subtipo      71631\n",
       "uso_armas    78992\n",
       "barrio           0\n",
       "comuna           0\n",
       "latitud          0\n",
       "longitud         0\n",
       "cantidad     80609\n",
       "dtype: int64"
      ]
     },
     "execution_count": 15,
     "metadata": {},
     "output_type": "execute_result"
    }
   ],
   "source": [
    "df.isnull().sum()"
   ]
  },
  {
   "cell_type": "code",
   "execution_count": 16,
   "metadata": {},
   "outputs": [
    {
     "data": {
      "text/plain": [
       "barrio\n",
       "Palermo              7785\n",
       "Balvanera            5952\n",
       "Flores               4842\n",
       "Recoleta             4397\n",
       "Caballito            4046\n",
       "Almagro              3590\n",
       "Villa Lugano         3295\n",
       "Belgrano             3030\n",
       "Barracas             2864\n",
       "Constitución         2577\n",
       "Villa Crespo         2396\n",
       "Mataderos            2255\n",
       "Nueva Pompeya        2186\n",
       "San Nicolás          2133\n",
       "Villa Soldati        1982\n",
       "Parque Chacabuco     1925\n",
       "Retiro               1902\n",
       "Villa Urquiza        1877\n",
       "Monserrat            1655\n",
       "San Cristóbal        1627\n",
       "Saavedra             1626\n",
       "Parque Avellaneda    1530\n",
       "Villa Devoto         1472\n",
       "Parque Patricios     1461\n",
       "Boedo                1429\n",
       "Nuñez                1424\n",
       "Liniers              1418\n",
       "Boca                 1284\n",
       "Colegiales           1216\n",
       "Chacarita            1190\n",
       "Floresta             1149\n",
       "Villa Del Parque      972\n",
       "San Telmo             951\n",
       "Villa Pueyrredón      806\n",
       "Vélez Sársfield       802\n",
       "Monte Castro          793\n",
       "Villa Santa Rita      745\n",
       "Villa Luro            733\n",
       "Villa Gral. Mitre     731\n",
       "Paternal              457\n",
       "Villa Ortuzar         451\n",
       "Villa Riachuelo       436\n",
       "Coghlan               398\n",
       "Villa Real            381\n",
       "Versalles             367\n",
       "Parque Chas           325\n",
       "Agronomía             296\n",
       "Puerto Madero         229\n",
       "Nueva pompeya           2\n",
       "Name: count, dtype: int64"
      ]
     },
     "execution_count": 16,
     "metadata": {},
     "output_type": "execute_result"
    }
   ],
   "source": [
    "df.barrio.value_counts()"
   ]
  },
  {
   "cell_type": "markdown",
   "metadata": {},
   "source": [
    "##### **Columna anio**"
   ]
  },
  {
   "cell_type": "code",
   "execution_count": 17,
   "metadata": {},
   "outputs": [
    {
     "data": {
      "text/plain": [
       "anio\n",
       "2021    87390\n",
       "Name: count, dtype: int64"
      ]
     },
     "execution_count": 17,
     "metadata": {},
     "output_type": "execute_result"
    }
   ],
   "source": [
    "df.anio.value_counts()"
   ]
  },
  {
   "cell_type": "markdown",
   "metadata": {},
   "source": [
    "##### **Columna mes**"
   ]
  },
  {
   "cell_type": "code",
   "execution_count": 18,
   "metadata": {},
   "outputs": [],
   "source": [
    "locale.setlocale(locale.LC_TIME, 'es_ES.UTF-8')  # Para sistemas Unix/Linux\n",
    "# locale.setlocale(locale.LC_TIME, 'Spanish_Spain.1252')  # Para Windows\n",
    "\n",
    "meses = list(calendar.month_name)[1:]\n",
    "meses = list(map(str.capitalize, meses))"
   ]
  },
  {
   "cell_type": "code",
   "execution_count": 19,
   "metadata": {},
   "outputs": [
    {
     "data": {
      "text/plain": [
       "mes\n",
       "Enero         7170\n",
       "Febrero       6803\n",
       "Marzo         7883\n",
       "Abril         6476\n",
       "Mayo          5807\n",
       "Junio         6651\n",
       "Julio         7260\n",
       "Agosto        7546\n",
       "Septiembre    7220\n",
       "Octubre       7628\n",
       "Noviembre     8425\n",
       "Diciembre     8521\n",
       "Name: count, dtype: int64"
      ]
     },
     "execution_count": 19,
     "metadata": {},
     "output_type": "execute_result"
    }
   ],
   "source": [
    "df.mes.value_counts().loc[meses]"
   ]
  },
  {
   "cell_type": "markdown",
   "metadata": {},
   "source": [
    "##### **Columna dia**"
   ]
  },
  {
   "cell_type": "code",
   "execution_count": 20,
   "metadata": {},
   "outputs": [
    {
     "data": {
      "text/plain": [
       "dia\n",
       "Viernes      13598\n",
       "Miércoles    13243\n",
       "Martes       13229\n",
       "Jueves       13161\n",
       "Lunes        13090\n",
       "Sábado       11276\n",
       "Domingo       9695\n",
       "domingo         21\n",
       "jueves          16\n",
       "martes          16\n",
       "lunes           15\n",
       "sábado          12\n",
       "miércoles       10\n",
       "viernes          8\n",
       "Name: count, dtype: int64"
      ]
     },
     "execution_count": 20,
     "metadata": {},
     "output_type": "execute_result"
    }
   ],
   "source": [
    "df.dia.value_counts()"
   ]
  },
  {
   "cell_type": "code",
   "execution_count": 21,
   "metadata": {},
   "outputs": [
    {
     "name": "stdout",
     "output_type": "stream",
     "text": [
      "['lunes', 'martes', 'miércoles', 'jueves', 'viernes', 'sábado', 'domingo']\n"
     ]
    }
   ],
   "source": [
    "dias = list(calendar.day_name)  \n",
    "print(dias)"
   ]
  },
  {
   "cell_type": "code",
   "execution_count": 22,
   "metadata": {},
   "outputs": [
    {
     "data": {
      "text/plain": [
       "['Lunes', 'Martes', 'Miércoles', 'Jueves', 'Viernes', 'Sábado', 'Domingo']"
      ]
     },
     "execution_count": 22,
     "metadata": {},
     "output_type": "execute_result"
    }
   ],
   "source": [
    "dias_cap = list(map(str.capitalize, dias))\n",
    "dias_cap"
   ]
  },
  {
   "cell_type": "code",
   "execution_count": 23,
   "metadata": {},
   "outputs": [
    {
     "name": "stderr",
     "output_type": "stream",
     "text": [
      "/var/folders/xj/j8r00dd95wn7lh34b83jtgg80000gp/T/ipykernel_43360/977842894.py:1: FutureWarning: A value is trying to be set on a copy of a DataFrame or Series through chained assignment using an inplace method.\n",
      "The behavior will change in pandas 3.0. This inplace method will never work because the intermediate object on which we are setting values always behaves as a copy.\n",
      "\n",
      "For example, when doing 'df[col].method(value, inplace=True)', try using 'df.method({col: value}, inplace=True)' or df[col] = df[col].method(value) instead, to perform the operation inplace on the original object.\n",
      "\n",
      "\n",
      "  df.dia.replace(dias,dias_cap, inplace=True)\n"
     ]
    }
   ],
   "source": [
    "df.dia.replace(dias,dias_cap, inplace=True)"
   ]
  },
  {
   "cell_type": "code",
   "execution_count": 24,
   "metadata": {},
   "outputs": [
    {
     "data": {
      "text/plain": [
       "dia\n",
       "Lunes        13105\n",
       "Martes       13245\n",
       "Miércoles    13253\n",
       "Jueves       13177\n",
       "Viernes      13606\n",
       "Sábado       11288\n",
       "Domingo       9716\n",
       "Name: count, dtype: int64"
      ]
     },
     "execution_count": 24,
     "metadata": {},
     "output_type": "execute_result"
    }
   ],
   "source": [
    "df.dia.value_counts().loc[dias_cap]"
   ]
  },
  {
   "cell_type": "markdown",
   "metadata": {},
   "source": [
    "##### **Columna franja**"
   ]
  },
  {
   "cell_type": "code",
   "execution_count": 25,
   "metadata": {},
   "outputs": [
    {
     "data": {
      "text/plain": [
       "franja\n",
       "19    5151\n",
       "18    5080\n",
       "12    4845\n",
       "20    4792\n",
       "17    4773\n",
       "8     4752\n",
       "16    4447\n",
       "10    4437\n",
       "14    4381\n",
       "13    4278\n",
       "9     4277\n",
       "15    4239\n",
       "11    4064\n",
       "7     3921\n",
       "21    3790\n",
       "22    3218\n",
       "23    3001\n",
       "6     2637\n",
       "0     2634\n",
       "5     1744\n",
       "1     1606\n",
       "SD    1488\n",
       "2     1378\n",
       "3     1246\n",
       "4     1210\n",
       "sd       1\n",
       "Name: count, dtype: int64"
      ]
     },
     "execution_count": 25,
     "metadata": {},
     "output_type": "execute_result"
    }
   ],
   "source": [
    "df.franja.value_counts()"
   ]
  },
  {
   "cell_type": "code",
   "execution_count": 26,
   "metadata": {},
   "outputs": [],
   "source": [
    "df = df[~df.franja.isin(['sd', 'SD'])]"
   ]
  },
  {
   "cell_type": "code",
   "execution_count": 27,
   "metadata": {},
   "outputs": [
    {
     "data": {
      "text/plain": [
       "franja\n",
       "19    5151\n",
       "18    5080\n",
       "12    4845\n",
       "20    4792\n",
       "17    4773\n",
       "8     4752\n",
       "16    4447\n",
       "10    4437\n",
       "14    4381\n",
       "13    4278\n",
       "9     4277\n",
       "15    4239\n",
       "11    4064\n",
       "7     3921\n",
       "21    3790\n",
       "22    3218\n",
       "23    3001\n",
       "6     2637\n",
       "0     2634\n",
       "5     1744\n",
       "1     1606\n",
       "2     1378\n",
       "3     1246\n",
       "4     1210\n",
       "Name: count, dtype: int64"
      ]
     },
     "execution_count": 27,
     "metadata": {},
     "output_type": "execute_result"
    }
   ],
   "source": [
    "df.franja.value_counts()"
   ]
  },
  {
   "cell_type": "code",
   "execution_count": 28,
   "metadata": {},
   "outputs": [],
   "source": [
    "df['franja'] = df['franja'].astype(int)"
   ]
  },
  {
   "cell_type": "code",
   "execution_count": 29,
   "metadata": {},
   "outputs": [
    {
     "data": {
      "text/plain": [
       "id-mapa                   object\n",
       "anio                       int64\n",
       "mes                       object\n",
       "dia                       object\n",
       "fecha        datetime64[ns, UTC]\n",
       "franja                     int64\n",
       "tipo                      object\n",
       "subtipo                   object\n",
       "uso_armas                 object\n",
       "barrio                    object\n",
       "comuna                   float64\n",
       "latitud                   object\n",
       "longitud                  object\n",
       "cantidad                 float64\n",
       "dtype: object"
      ]
     },
     "execution_count": 29,
     "metadata": {},
     "output_type": "execute_result"
    }
   ],
   "source": [
    "df.dtypes"
   ]
  },
  {
   "cell_type": "code",
   "execution_count": 30,
   "metadata": {},
   "outputs": [
    {
     "data": {
      "text/plain": [
       "franja\n",
       "0     2634\n",
       "1     1606\n",
       "2     1378\n",
       "3     1246\n",
       "4     1210\n",
       "5     1744\n",
       "6     2637\n",
       "7     3921\n",
       "8     4752\n",
       "9     4277\n",
       "10    4437\n",
       "11    4064\n",
       "12    4845\n",
       "13    4278\n",
       "14    4381\n",
       "15    4239\n",
       "16    4447\n",
       "17    4773\n",
       "18    5080\n",
       "19    5151\n",
       "20    4792\n",
       "21    3790\n",
       "22    3218\n",
       "23    3001\n",
       "Name: count, dtype: int64"
      ]
     },
     "execution_count": 30,
     "metadata": {},
     "output_type": "execute_result"
    }
   ],
   "source": [
    "df.franja.value_counts().sort_index()"
   ]
  },
  {
   "cell_type": "markdown",
   "metadata": {},
   "source": [
    "##### **Columna tipo**"
   ]
  },
  {
   "cell_type": "code",
   "execution_count": 31,
   "metadata": {},
   "outputs": [
    {
     "data": {
      "text/plain": [
       "tipo\n",
       "Robo (con violencia)     43794\n",
       "Hurto (sin violencia)    35326\n",
       "Lesiones                  6589\n",
       "Homicidio                  192\n",
       "Name: count, dtype: int64"
      ]
     },
     "execution_count": 31,
     "metadata": {},
     "output_type": "execute_result"
    }
   ],
   "source": [
    "df.tipo.value_counts()"
   ]
  },
  {
   "cell_type": "markdown",
   "metadata": {},
   "source": [
    "##### **Columna subtipo**"
   ]
  },
  {
   "cell_type": "code",
   "execution_count": 32,
   "metadata": {},
   "outputs": [
    {
     "data": {
      "text/plain": [
       "subtipo\n",
       "Siniestro Vial     6683\n",
       "Con uso de moto    4532\n",
       "Hurto Automotor    3619\n",
       "Robo Automotor      720\n",
       "Doloso               84\n",
       "Femicidio            14\n",
       "Name: count, dtype: int64"
      ]
     },
     "execution_count": 32,
     "metadata": {},
     "output_type": "execute_result"
    }
   ],
   "source": [
    "df.subtipo.value_counts()"
   ]
  },
  {
   "cell_type": "markdown",
   "metadata": {},
   "source": [
    "##### **Columna uso_armas**"
   ]
  },
  {
   "cell_type": "code",
   "execution_count": 33,
   "metadata": {},
   "outputs": [
    {
     "data": {
      "text/plain": [
       "uso_armas\n",
       "Arma de fuego    5872\n",
       "Arma cortante    2461\n",
       "Name: count, dtype: int64"
      ]
     },
     "execution_count": 33,
     "metadata": {},
     "output_type": "execute_result"
    }
   ],
   "source": [
    "df.uso_armas.value_counts()"
   ]
  },
  {
   "cell_type": "code",
   "execution_count": 34,
   "metadata": {},
   "outputs": [
    {
     "data": {
      "text/plain": [
       "id-mapa          0\n",
       "anio             0\n",
       "mes              0\n",
       "dia              0\n",
       "fecha            0\n",
       "franja           0\n",
       "tipo             0\n",
       "subtipo      70249\n",
       "uso_armas    77568\n",
       "barrio           0\n",
       "comuna           0\n",
       "latitud          0\n",
       "longitud         0\n",
       "cantidad     79120\n",
       "dtype: int64"
      ]
     },
     "execution_count": 34,
     "metadata": {},
     "output_type": "execute_result"
    }
   ],
   "source": [
    "df.isnull().sum()"
   ]
  },
  {
   "cell_type": "markdown",
   "metadata": {},
   "source": [
    "##### **Columna comuna**"
   ]
  },
  {
   "cell_type": "code",
   "execution_count": 35,
   "metadata": {},
   "outputs": [],
   "source": [
    "df['comuna'] = df.comuna.astype(int)"
   ]
  },
  {
   "cell_type": "code",
   "execution_count": 36,
   "metadata": {},
   "outputs": [
    {
     "data": {
      "text/plain": [
       "comuna\n",
       "1     9266\n",
       "2     4313\n",
       "3     7438\n",
       "4     7711\n",
       "5     4929\n",
       "6     3956\n",
       "7     6659\n",
       "8     5643\n",
       "9     5155\n",
       "10    4144\n",
       "11    3869\n",
       "12    4611\n",
       "13    5544\n",
       "14    7639\n",
       "15    5024\n",
       "Name: count, dtype: int64"
      ]
     },
     "execution_count": 36,
     "metadata": {},
     "output_type": "execute_result"
    }
   ],
   "source": [
    "df.comuna.value_counts().sort_index()"
   ]
  },
  {
   "cell_type": "code",
   "execution_count": 37,
   "metadata": {},
   "outputs": [
    {
     "data": {
      "text/plain": [
       "id-mapa                   object\n",
       "anio                       int64\n",
       "mes                       object\n",
       "dia                       object\n",
       "fecha        datetime64[ns, UTC]\n",
       "franja                     int64\n",
       "tipo                      object\n",
       "subtipo                   object\n",
       "uso_armas                 object\n",
       "barrio                    object\n",
       "comuna                     int64\n",
       "latitud                   object\n",
       "longitud                  object\n",
       "cantidad                 float64\n",
       "dtype: object"
      ]
     },
     "execution_count": 37,
     "metadata": {},
     "output_type": "execute_result"
    }
   ],
   "source": [
    "df.dtypes"
   ]
  },
  {
   "cell_type": "markdown",
   "metadata": {},
   "source": [
    "##### **Columnas latitud y longitud**"
   ]
  },
  {
   "cell_type": "code",
   "execution_count": 38,
   "metadata": {},
   "outputs": [],
   "source": [
    "df['longitud'] = df['longitud'].str.replace(',', '.').astype(float)\n",
    "df['latitud'] = df['latitud'].str.replace(',', '.').astype(float)\n"
   ]
  },
  {
   "cell_type": "code",
   "execution_count": 39,
   "metadata": {},
   "outputs": [
    {
     "data": {
      "text/plain": [
       "id-mapa                   object\n",
       "anio                       int64\n",
       "mes                       object\n",
       "dia                       object\n",
       "fecha        datetime64[ns, UTC]\n",
       "franja                     int64\n",
       "tipo                      object\n",
       "subtipo                   object\n",
       "uso_armas                 object\n",
       "barrio                    object\n",
       "comuna                     int64\n",
       "latitud                  float64\n",
       "longitud                 float64\n",
       "cantidad                 float64\n",
       "dtype: object"
      ]
     },
     "execution_count": 39,
     "metadata": {},
     "output_type": "execute_result"
    }
   ],
   "source": [
    "df.dtypes"
   ]
  },
  {
   "cell_type": "markdown",
   "metadata": {},
   "source": [
    "##### **Columna cantidad**"
   ]
  },
  {
   "cell_type": "code",
   "execution_count": 40,
   "metadata": {},
   "outputs": [
    {
     "data": {
      "text/plain": [
       "cantidad\n",
       "1.0     6031\n",
       "2.0      566\n",
       "3.0      110\n",
       "4.0       36\n",
       "5.0       19\n",
       "6.0       11\n",
       "7.0        6\n",
       "10.0       1\n",
       "9.0        1\n",
       "Name: count, dtype: int64"
      ]
     },
     "execution_count": 40,
     "metadata": {},
     "output_type": "execute_result"
    }
   ],
   "source": [
    "df.cantidad.value_counts()"
   ]
  },
  {
   "cell_type": "code",
   "execution_count": 41,
   "metadata": {},
   "outputs": [
    {
     "data": {
      "text/plain": [
       "id-mapa          0\n",
       "anio             0\n",
       "mes              0\n",
       "dia              0\n",
       "fecha            0\n",
       "franja           0\n",
       "tipo             0\n",
       "subtipo      70249\n",
       "uso_armas    77568\n",
       "barrio           0\n",
       "comuna           0\n",
       "latitud          0\n",
       "longitud         0\n",
       "cantidad     79120\n",
       "dtype: int64"
      ]
     },
     "execution_count": 41,
     "metadata": {},
     "output_type": "execute_result"
    }
   ],
   "source": [
    "df.isnull().sum()"
   ]
  },
  {
   "cell_type": "code",
   "execution_count": 42,
   "metadata": {},
   "outputs": [
    {
     "data": {
      "text/html": [
       "<div>\n",
       "<style scoped>\n",
       "    .dataframe tbody tr th:only-of-type {\n",
       "        vertical-align: middle;\n",
       "    }\n",
       "\n",
       "    .dataframe tbody tr th {\n",
       "        vertical-align: top;\n",
       "    }\n",
       "\n",
       "    .dataframe thead th {\n",
       "        text-align: right;\n",
       "    }\n",
       "</style>\n",
       "<table border=\"1\" class=\"dataframe\">\n",
       "  <thead>\n",
       "    <tr style=\"text-align: right;\">\n",
       "      <th></th>\n",
       "      <th>id-mapa</th>\n",
       "      <th>anio</th>\n",
       "      <th>mes</th>\n",
       "      <th>dia</th>\n",
       "      <th>fecha</th>\n",
       "      <th>franja</th>\n",
       "      <th>tipo</th>\n",
       "      <th>subtipo</th>\n",
       "      <th>uso_armas</th>\n",
       "      <th>barrio</th>\n",
       "      <th>comuna</th>\n",
       "      <th>latitud</th>\n",
       "      <th>longitud</th>\n",
       "      <th>cantidad</th>\n",
       "    </tr>\n",
       "  </thead>\n",
       "  <tbody>\n",
       "    <tr>\n",
       "      <th>7299</th>\n",
       "      <td>RH-2021-1000016</td>\n",
       "      <td>2021</td>\n",
       "      <td>Diciembre</td>\n",
       "      <td>Viernes</td>\n",
       "      <td>2021-12-31 00:00:00+00:00</td>\n",
       "      <td>22</td>\n",
       "      <td>Robo (con violencia)</td>\n",
       "      <td>NaN</td>\n",
       "      <td>NaN</td>\n",
       "      <td>Balvanera</td>\n",
       "      <td>3</td>\n",
       "      <td>-34.611825</td>\n",
       "      <td>-58.408461</td>\n",
       "      <td>NaN</td>\n",
       "    </tr>\n",
       "    <tr>\n",
       "      <th>7300</th>\n",
       "      <td>RH-2021-1000017</td>\n",
       "      <td>2021</td>\n",
       "      <td>Diciembre</td>\n",
       "      <td>Viernes</td>\n",
       "      <td>2021-12-31 00:00:00+00:00</td>\n",
       "      <td>23</td>\n",
       "      <td>Hurto (sin violencia)</td>\n",
       "      <td>NaN</td>\n",
       "      <td>NaN</td>\n",
       "      <td>Boedo</td>\n",
       "      <td>5</td>\n",
       "      <td>-34.631487</td>\n",
       "      <td>-58.425219</td>\n",
       "      <td>NaN</td>\n",
       "    </tr>\n",
       "    <tr>\n",
       "      <th>7301</th>\n",
       "      <td>RH-2021-1000031</td>\n",
       "      <td>2021</td>\n",
       "      <td>Enero</td>\n",
       "      <td>Viernes</td>\n",
       "      <td>2021-01-01 00:00:00+00:00</td>\n",
       "      <td>0</td>\n",
       "      <td>Robo (con violencia)</td>\n",
       "      <td>NaN</td>\n",
       "      <td>NaN</td>\n",
       "      <td>Barracas</td>\n",
       "      <td>4</td>\n",
       "      <td>-34.649781</td>\n",
       "      <td>-58.390284</td>\n",
       "      <td>NaN</td>\n",
       "    </tr>\n",
       "    <tr>\n",
       "      <th>7302</th>\n",
       "      <td>RH-2021-1000043</td>\n",
       "      <td>2021</td>\n",
       "      <td>Enero</td>\n",
       "      <td>Viernes</td>\n",
       "      <td>2021-01-01 00:00:00+00:00</td>\n",
       "      <td>2</td>\n",
       "      <td>Robo (con violencia)</td>\n",
       "      <td>NaN</td>\n",
       "      <td>NaN</td>\n",
       "      <td>Flores</td>\n",
       "      <td>7</td>\n",
       "      <td>-34.620428</td>\n",
       "      <td>-58.464256</td>\n",
       "      <td>NaN</td>\n",
       "    </tr>\n",
       "    <tr>\n",
       "      <th>7303</th>\n",
       "      <td>RH-2021-1000061</td>\n",
       "      <td>2021</td>\n",
       "      <td>Enero</td>\n",
       "      <td>Viernes</td>\n",
       "      <td>2021-01-01 00:00:00+00:00</td>\n",
       "      <td>2</td>\n",
       "      <td>Robo (con violencia)</td>\n",
       "      <td>NaN</td>\n",
       "      <td>NaN</td>\n",
       "      <td>Belgrano</td>\n",
       "      <td>13</td>\n",
       "      <td>-34.559963</td>\n",
       "      <td>-58.449159</td>\n",
       "      <td>NaN</td>\n",
       "    </tr>\n",
       "    <tr>\n",
       "      <th>...</th>\n",
       "      <td>...</td>\n",
       "      <td>...</td>\n",
       "      <td>...</td>\n",
       "      <td>...</td>\n",
       "      <td>...</td>\n",
       "      <td>...</td>\n",
       "      <td>...</td>\n",
       "      <td>...</td>\n",
       "      <td>...</td>\n",
       "      <td>...</td>\n",
       "      <td>...</td>\n",
       "      <td>...</td>\n",
       "      <td>...</td>\n",
       "      <td>...</td>\n",
       "    </tr>\n",
       "    <tr>\n",
       "      <th>88562</th>\n",
       "      <td>RH-2021-3751758</td>\n",
       "      <td>2021</td>\n",
       "      <td>Mayo</td>\n",
       "      <td>Sábado</td>\n",
       "      <td>2021-08-05 00:00:00+00:00</td>\n",
       "      <td>10</td>\n",
       "      <td>Hurto (sin violencia)</td>\n",
       "      <td>NaN</td>\n",
       "      <td>NaN</td>\n",
       "      <td>Balvanera</td>\n",
       "      <td>3</td>\n",
       "      <td>-34.605751</td>\n",
       "      <td>-58.395375</td>\n",
       "      <td>NaN</td>\n",
       "    </tr>\n",
       "    <tr>\n",
       "      <th>88563</th>\n",
       "      <td>RH-2021-3768141</td>\n",
       "      <td>2021</td>\n",
       "      <td>Junio</td>\n",
       "      <td>Martes</td>\n",
       "      <td>2021-06-29 00:00:00+00:00</td>\n",
       "      <td>21</td>\n",
       "      <td>Robo (con violencia)</td>\n",
       "      <td>NaN</td>\n",
       "      <td>NaN</td>\n",
       "      <td>Palermo</td>\n",
       "      <td>14</td>\n",
       "      <td>-34.592660</td>\n",
       "      <td>-58.422338</td>\n",
       "      <td>NaN</td>\n",
       "    </tr>\n",
       "    <tr>\n",
       "      <th>88564</th>\n",
       "      <td>RH-2021-3768589</td>\n",
       "      <td>2021</td>\n",
       "      <td>Junio</td>\n",
       "      <td>Miércoles</td>\n",
       "      <td>2021-06-30 00:00:00+00:00</td>\n",
       "      <td>13</td>\n",
       "      <td>Robo (con violencia)</td>\n",
       "      <td>NaN</td>\n",
       "      <td>NaN</td>\n",
       "      <td>Balvanera</td>\n",
       "      <td>3</td>\n",
       "      <td>-34.608791</td>\n",
       "      <td>-58.404617</td>\n",
       "      <td>NaN</td>\n",
       "    </tr>\n",
       "    <tr>\n",
       "      <th>88565</th>\n",
       "      <td>RH-2021-3783716</td>\n",
       "      <td>2021</td>\n",
       "      <td>Julio</td>\n",
       "      <td>Sábado</td>\n",
       "      <td>2021-07-31 00:00:00+00:00</td>\n",
       "      <td>1</td>\n",
       "      <td>Hurto (sin violencia)</td>\n",
       "      <td>NaN</td>\n",
       "      <td>NaN</td>\n",
       "      <td>Balvanera</td>\n",
       "      <td>3</td>\n",
       "      <td>-34.603284</td>\n",
       "      <td>-58.394526</td>\n",
       "      <td>NaN</td>\n",
       "    </tr>\n",
       "    <tr>\n",
       "      <th>88566</th>\n",
       "      <td>RH-2021-3807019</td>\n",
       "      <td>2021</td>\n",
       "      <td>Octubre</td>\n",
       "      <td>Miércoles</td>\n",
       "      <td>2021-06-10 00:00:00+00:00</td>\n",
       "      <td>14</td>\n",
       "      <td>Hurto (sin violencia)</td>\n",
       "      <td>NaN</td>\n",
       "      <td>NaN</td>\n",
       "      <td>San Nicolás</td>\n",
       "      <td>1</td>\n",
       "      <td>-34.604575</td>\n",
       "      <td>-58.392075</td>\n",
       "      <td>NaN</td>\n",
       "    </tr>\n",
       "  </tbody>\n",
       "</table>\n",
       "<p>79120 rows × 14 columns</p>\n",
       "</div>"
      ],
      "text/plain": [
       "               id-mapa  anio        mes        dia                     fecha  \\\n",
       "7299   RH-2021-1000016  2021  Diciembre    Viernes 2021-12-31 00:00:00+00:00   \n",
       "7300   RH-2021-1000017  2021  Diciembre    Viernes 2021-12-31 00:00:00+00:00   \n",
       "7301   RH-2021-1000031  2021      Enero    Viernes 2021-01-01 00:00:00+00:00   \n",
       "7302   RH-2021-1000043  2021      Enero    Viernes 2021-01-01 00:00:00+00:00   \n",
       "7303   RH-2021-1000061  2021      Enero    Viernes 2021-01-01 00:00:00+00:00   \n",
       "...                ...   ...        ...        ...                       ...   \n",
       "88562  RH-2021-3751758  2021       Mayo     Sábado 2021-08-05 00:00:00+00:00   \n",
       "88563  RH-2021-3768141  2021      Junio     Martes 2021-06-29 00:00:00+00:00   \n",
       "88564  RH-2021-3768589  2021      Junio  Miércoles 2021-06-30 00:00:00+00:00   \n",
       "88565  RH-2021-3783716  2021      Julio     Sábado 2021-07-31 00:00:00+00:00   \n",
       "88566  RH-2021-3807019  2021    Octubre  Miércoles 2021-06-10 00:00:00+00:00   \n",
       "\n",
       "       franja                   tipo subtipo uso_armas       barrio  comuna  \\\n",
       "7299       22   Robo (con violencia)     NaN       NaN    Balvanera       3   \n",
       "7300       23  Hurto (sin violencia)     NaN       NaN        Boedo       5   \n",
       "7301        0   Robo (con violencia)     NaN       NaN     Barracas       4   \n",
       "7302        2   Robo (con violencia)     NaN       NaN       Flores       7   \n",
       "7303        2   Robo (con violencia)     NaN       NaN     Belgrano      13   \n",
       "...       ...                    ...     ...       ...          ...     ...   \n",
       "88562      10  Hurto (sin violencia)     NaN       NaN    Balvanera       3   \n",
       "88563      21   Robo (con violencia)     NaN       NaN      Palermo      14   \n",
       "88564      13   Robo (con violencia)     NaN       NaN    Balvanera       3   \n",
       "88565       1  Hurto (sin violencia)     NaN       NaN    Balvanera       3   \n",
       "88566      14  Hurto (sin violencia)     NaN       NaN  San Nicolás       1   \n",
       "\n",
       "         latitud   longitud  cantidad  \n",
       "7299  -34.611825 -58.408461       NaN  \n",
       "7300  -34.631487 -58.425219       NaN  \n",
       "7301  -34.649781 -58.390284       NaN  \n",
       "7302  -34.620428 -58.464256       NaN  \n",
       "7303  -34.559963 -58.449159       NaN  \n",
       "...          ...        ...       ...  \n",
       "88562 -34.605751 -58.395375       NaN  \n",
       "88563 -34.592660 -58.422338       NaN  \n",
       "88564 -34.608791 -58.404617       NaN  \n",
       "88565 -34.603284 -58.394526       NaN  \n",
       "88566 -34.604575 -58.392075       NaN  \n",
       "\n",
       "[79120 rows x 14 columns]"
      ]
     },
     "execution_count": 42,
     "metadata": {},
     "output_type": "execute_result"
    }
   ],
   "source": [
    "df[df.cantidad.isnull()]"
   ]
  },
  {
   "cell_type": "code",
   "execution_count": 43,
   "metadata": {},
   "outputs": [],
   "source": [
    "##Deberíamos cambiar los NaN a 1 Borro cantidad"
   ]
  },
  {
   "cell_type": "markdown",
   "metadata": {},
   "source": [
    "#### **Estadística Descriptiva**"
   ]
  },
  {
   "cell_type": "code",
   "execution_count": 44,
   "metadata": {},
   "outputs": [
    {
     "name": "stdout",
     "output_type": "stream",
     "text": [
      "<class 'pandas.core.frame.DataFrame'>\n",
      "Index: 85901 entries, 0 to 88566\n",
      "Data columns (total 14 columns):\n",
      " #   Column     Non-Null Count  Dtype              \n",
      "---  ------     --------------  -----              \n",
      " 0   id-mapa    85901 non-null  object             \n",
      " 1   anio       85901 non-null  int64              \n",
      " 2   mes        85901 non-null  object             \n",
      " 3   dia        85901 non-null  object             \n",
      " 4   fecha      85901 non-null  datetime64[ns, UTC]\n",
      " 5   franja     85901 non-null  int64              \n",
      " 6   tipo       85901 non-null  object             \n",
      " 7   subtipo    15652 non-null  object             \n",
      " 8   uso_armas  8333 non-null   object             \n",
      " 9   barrio     85901 non-null  object             \n",
      " 10  comuna     85901 non-null  int64              \n",
      " 11  latitud    85901 non-null  float64            \n",
      " 12  longitud   85901 non-null  float64            \n",
      " 13  cantidad   6781 non-null   float64            \n",
      "dtypes: datetime64[ns, UTC](1), float64(3), int64(3), object(7)\n",
      "memory usage: 9.8+ MB\n"
     ]
    }
   ],
   "source": [
    "df.info()"
   ]
  },
  {
   "cell_type": "code",
   "execution_count": 45,
   "metadata": {},
   "outputs": [
    {
     "data": {
      "text/html": [
       "<div>\n",
       "<style scoped>\n",
       "    .dataframe tbody tr th:only-of-type {\n",
       "        vertical-align: middle;\n",
       "    }\n",
       "\n",
       "    .dataframe tbody tr th {\n",
       "        vertical-align: top;\n",
       "    }\n",
       "\n",
       "    .dataframe thead th {\n",
       "        text-align: right;\n",
       "    }\n",
       "</style>\n",
       "<table border=\"1\" class=\"dataframe\">\n",
       "  <thead>\n",
       "    <tr style=\"text-align: right;\">\n",
       "      <th></th>\n",
       "      <th>anio</th>\n",
       "      <th>franja</th>\n",
       "      <th>comuna</th>\n",
       "      <th>latitud</th>\n",
       "      <th>longitud</th>\n",
       "      <th>cantidad</th>\n",
       "    </tr>\n",
       "  </thead>\n",
       "  <tbody>\n",
       "    <tr>\n",
       "      <th>count</th>\n",
       "      <td>85901.0</td>\n",
       "      <td>85901.000000</td>\n",
       "      <td>85901.000000</td>\n",
       "      <td>85901.000000</td>\n",
       "      <td>85901.000000</td>\n",
       "      <td>6781.000000</td>\n",
       "    </tr>\n",
       "    <tr>\n",
       "      <th>mean</th>\n",
       "      <td>2021.0</td>\n",
       "      <td>13.108532</td>\n",
       "      <td>7.581891</td>\n",
       "      <td>-34.613005</td>\n",
       "      <td>-58.437553</td>\n",
       "      <td>1.158974</td>\n",
       "    </tr>\n",
       "    <tr>\n",
       "      <th>std</th>\n",
       "      <td>0.0</td>\n",
       "      <td>6.087533</td>\n",
       "      <td>4.527195</td>\n",
       "      <td>0.031254</td>\n",
       "      <td>0.041600</td>\n",
       "      <td>0.556356</td>\n",
       "    </tr>\n",
       "    <tr>\n",
       "      <th>min</th>\n",
       "      <td>2021.0</td>\n",
       "      <td>0.000000</td>\n",
       "      <td>1.000000</td>\n",
       "      <td>-34.703796</td>\n",
       "      <td>-58.531444</td>\n",
       "      <td>1.000000</td>\n",
       "    </tr>\n",
       "    <tr>\n",
       "      <th>25%</th>\n",
       "      <td>2021.0</td>\n",
       "      <td>9.000000</td>\n",
       "      <td>4.000000</td>\n",
       "      <td>-34.634142</td>\n",
       "      <td>-58.469639</td>\n",
       "      <td>1.000000</td>\n",
       "    </tr>\n",
       "    <tr>\n",
       "      <th>50%</th>\n",
       "      <td>2021.0</td>\n",
       "      <td>13.000000</td>\n",
       "      <td>7.000000</td>\n",
       "      <td>-34.612704</td>\n",
       "      <td>-58.435432</td>\n",
       "      <td>1.000000</td>\n",
       "    </tr>\n",
       "    <tr>\n",
       "      <th>75%</th>\n",
       "      <td>2021.0</td>\n",
       "      <td>18.000000</td>\n",
       "      <td>12.000000</td>\n",
       "      <td>-34.591379</td>\n",
       "      <td>-58.403872</td>\n",
       "      <td>1.000000</td>\n",
       "    </tr>\n",
       "    <tr>\n",
       "      <th>max</th>\n",
       "      <td>2021.0</td>\n",
       "      <td>23.000000</td>\n",
       "      <td>15.000000</td>\n",
       "      <td>-34.529133</td>\n",
       "      <td>-58.342665</td>\n",
       "      <td>10.000000</td>\n",
       "    </tr>\n",
       "  </tbody>\n",
       "</table>\n",
       "</div>"
      ],
      "text/plain": [
       "          anio        franja        comuna       latitud      longitud  \\\n",
       "count  85901.0  85901.000000  85901.000000  85901.000000  85901.000000   \n",
       "mean    2021.0     13.108532      7.581891    -34.613005    -58.437553   \n",
       "std        0.0      6.087533      4.527195      0.031254      0.041600   \n",
       "min     2021.0      0.000000      1.000000    -34.703796    -58.531444   \n",
       "25%     2021.0      9.000000      4.000000    -34.634142    -58.469639   \n",
       "50%     2021.0     13.000000      7.000000    -34.612704    -58.435432   \n",
       "75%     2021.0     18.000000     12.000000    -34.591379    -58.403872   \n",
       "max     2021.0     23.000000     15.000000    -34.529133    -58.342665   \n",
       "\n",
       "          cantidad  \n",
       "count  6781.000000  \n",
       "mean      1.158974  \n",
       "std       0.556356  \n",
       "min       1.000000  \n",
       "25%       1.000000  \n",
       "50%       1.000000  \n",
       "75%       1.000000  \n",
       "max      10.000000  "
      ]
     },
     "execution_count": 45,
     "metadata": {},
     "output_type": "execute_result"
    }
   ],
   "source": [
    "df.describe()"
   ]
  },
  {
   "cell_type": "code",
   "execution_count": 46,
   "metadata": {},
   "outputs": [
    {
     "data": {
      "text/html": [
       "<div>\n",
       "<style scoped>\n",
       "    .dataframe tbody tr th:only-of-type {\n",
       "        vertical-align: middle;\n",
       "    }\n",
       "\n",
       "    .dataframe tbody tr th {\n",
       "        vertical-align: top;\n",
       "    }\n",
       "\n",
       "    .dataframe thead th {\n",
       "        text-align: right;\n",
       "    }\n",
       "</style>\n",
       "<table border=\"1\" class=\"dataframe\">\n",
       "  <thead>\n",
       "    <tr style=\"text-align: right;\">\n",
       "      <th></th>\n",
       "      <th>id-mapa</th>\n",
       "      <th>anio</th>\n",
       "      <th>mes</th>\n",
       "      <th>dia</th>\n",
       "      <th>fecha</th>\n",
       "      <th>franja</th>\n",
       "      <th>tipo</th>\n",
       "      <th>subtipo</th>\n",
       "      <th>uso_armas</th>\n",
       "      <th>barrio</th>\n",
       "      <th>comuna</th>\n",
       "      <th>latitud</th>\n",
       "      <th>longitud</th>\n",
       "      <th>cantidad</th>\n",
       "    </tr>\n",
       "  </thead>\n",
       "  <tbody>\n",
       "    <tr>\n",
       "      <th>0</th>\n",
       "      <td>HC-2021-1008202</td>\n",
       "      <td>2021</td>\n",
       "      <td>Enero</td>\n",
       "      <td>Miércoles</td>\n",
       "      <td>2021-06-01 00:00:00+00:00</td>\n",
       "      <td>18</td>\n",
       "      <td>Homicidio</td>\n",
       "      <td>Siniestro Vial</td>\n",
       "      <td>NaN</td>\n",
       "      <td>Constitución</td>\n",
       "      <td>1</td>\n",
       "      <td>-34.627610</td>\n",
       "      <td>-58.379146</td>\n",
       "      <td>1.0</td>\n",
       "    </tr>\n",
       "    <tr>\n",
       "      <th>1</th>\n",
       "      <td>HC-2021-1009094</td>\n",
       "      <td>2021</td>\n",
       "      <td>Enero</td>\n",
       "      <td>Jueves</td>\n",
       "      <td>2021-07-01 00:00:00+00:00</td>\n",
       "      <td>10</td>\n",
       "      <td>Homicidio</td>\n",
       "      <td>Siniestro Vial</td>\n",
       "      <td>NaN</td>\n",
       "      <td>Mataderos</td>\n",
       "      <td>9</td>\n",
       "      <td>-34.649730</td>\n",
       "      <td>-58.510590</td>\n",
       "      <td>1.0</td>\n",
       "    </tr>\n",
       "    <tr>\n",
       "      <th>2</th>\n",
       "      <td>HC-2021-1013236</td>\n",
       "      <td>2021</td>\n",
       "      <td>Enero</td>\n",
       "      <td>Domingo</td>\n",
       "      <td>2021-10-01 00:00:00+00:00</td>\n",
       "      <td>7</td>\n",
       "      <td>Homicidio</td>\n",
       "      <td>Siniestro Vial</td>\n",
       "      <td>NaN</td>\n",
       "      <td>Parque Chacabuco</td>\n",
       "      <td>7</td>\n",
       "      <td>-34.629172</td>\n",
       "      <td>-58.430581</td>\n",
       "      <td>1.0</td>\n",
       "    </tr>\n",
       "    <tr>\n",
       "      <th>3</th>\n",
       "      <td>HC-2021-1014154</td>\n",
       "      <td>2021</td>\n",
       "      <td>Enero</td>\n",
       "      <td>Lunes</td>\n",
       "      <td>2021-11-01 00:00:00+00:00</td>\n",
       "      <td>9</td>\n",
       "      <td>Homicidio</td>\n",
       "      <td>Siniestro Vial</td>\n",
       "      <td>NaN</td>\n",
       "      <td>Nueva Pompeya</td>\n",
       "      <td>5</td>\n",
       "      <td>-34.638676</td>\n",
       "      <td>-58.414555</td>\n",
       "      <td>1.0</td>\n",
       "    </tr>\n",
       "    <tr>\n",
       "      <th>4</th>\n",
       "      <td>HC-2021-1015476</td>\n",
       "      <td>2021</td>\n",
       "      <td>Enero</td>\n",
       "      <td>Lunes</td>\n",
       "      <td>2021-11-01 00:00:00+00:00</td>\n",
       "      <td>21</td>\n",
       "      <td>Homicidio</td>\n",
       "      <td>Siniestro Vial</td>\n",
       "      <td>NaN</td>\n",
       "      <td>Parque Avellaneda</td>\n",
       "      <td>9</td>\n",
       "      <td>-34.647714</td>\n",
       "      <td>-58.468066</td>\n",
       "      <td>1.0</td>\n",
       "    </tr>\n",
       "  </tbody>\n",
       "</table>\n",
       "</div>"
      ],
      "text/plain": [
       "           id-mapa  anio    mes        dia                     fecha  franja  \\\n",
       "0  HC-2021-1008202  2021  Enero  Miércoles 2021-06-01 00:00:00+00:00      18   \n",
       "1  HC-2021-1009094  2021  Enero     Jueves 2021-07-01 00:00:00+00:00      10   \n",
       "2  HC-2021-1013236  2021  Enero    Domingo 2021-10-01 00:00:00+00:00       7   \n",
       "3  HC-2021-1014154  2021  Enero      Lunes 2021-11-01 00:00:00+00:00       9   \n",
       "4  HC-2021-1015476  2021  Enero      Lunes 2021-11-01 00:00:00+00:00      21   \n",
       "\n",
       "        tipo         subtipo uso_armas             barrio  comuna    latitud  \\\n",
       "0  Homicidio  Siniestro Vial       NaN       Constitución       1 -34.627610   \n",
       "1  Homicidio  Siniestro Vial       NaN          Mataderos       9 -34.649730   \n",
       "2  Homicidio  Siniestro Vial       NaN   Parque Chacabuco       7 -34.629172   \n",
       "3  Homicidio  Siniestro Vial       NaN      Nueva Pompeya       5 -34.638676   \n",
       "4  Homicidio  Siniestro Vial       NaN  Parque Avellaneda       9 -34.647714   \n",
       "\n",
       "    longitud  cantidad  \n",
       "0 -58.379146       1.0  \n",
       "1 -58.510590       1.0  \n",
       "2 -58.430581       1.0  \n",
       "3 -58.414555       1.0  \n",
       "4 -58.468066       1.0  "
      ]
     },
     "execution_count": 46,
     "metadata": {},
     "output_type": "execute_result"
    }
   ],
   "source": [
    "df.head()"
   ]
  },
  {
   "cell_type": "code",
   "execution_count": 57,
   "metadata": {},
   "outputs": [
    {
     "data": {
      "text/plain": [
       "Text(0, 0.5, 'Número de delitos')"
      ]
     },
     "execution_count": 57,
     "metadata": {},
     "output_type": "execute_result"
    },
    {
     "data": {
      "image/png": "[encoded data removed]",
      "text/plain": [
       "<Figure size 640x480 with 1 Axes>"
      ]
     },
     "metadata": {},
     "output_type": "display_data"
    }
   ],
   "source": [
    "df.tipo.value_counts().plot(kind='bar')\n",
    "plt.title(\"Tipos de Delitos\")\n",
    "plt.ylabel(\"Número de delitos\")"
   ]
  },
  {
   "cell_type": "code",
   "execution_count": 58,
   "metadata": {},
   "outputs": [
    {
     "data": {
      "text/plain": [
       "Text(0, 0.5, 'Número de delitos por comuna')"
      ]
     },
     "execution_count": 58,
     "metadata": {},
     "output_type": "execute_result"
    },
    {
     "data": {
      "image/png": "[encoded data removed]",
      "text/plain": [
       "<Figure size 640x480 with 1 Axes>"
      ]
     },
     "metadata": {},
     "output_type": "display_data"
    }
   ],
   "source": [
    "df.comuna.value_counts().sort_index().plot(kind='bar')\n",
    "plt.title(\"Delitos por Comunas\")\n",
    "plt.ylabel(\"Número de delitos por comuna\")"
   ]
  },
  {
   "cell_type": "code",
   "execution_count": 49,
   "metadata": {},
   "outputs": [
    {
     "data": {
      "text/html": [
       "<div>\n",
       "<style scoped>\n",
       "    .dataframe tbody tr th:only-of-type {\n",
       "        vertical-align: middle;\n",
       "    }\n",
       "\n",
       "    .dataframe tbody tr th {\n",
       "        vertical-align: top;\n",
       "    }\n",
       "\n",
       "    .dataframe thead th {\n",
       "        text-align: right;\n",
       "    }\n",
       "</style>\n",
       "<table border=\"1\" class=\"dataframe\">\n",
       "  <thead>\n",
       "    <tr style=\"text-align: right;\">\n",
       "      <th></th>\n",
       "      <th>id-mapa</th>\n",
       "      <th>anio</th>\n",
       "      <th>mes</th>\n",
       "      <th>dia</th>\n",
       "      <th>fecha</th>\n",
       "      <th>franja</th>\n",
       "      <th>tipo</th>\n",
       "      <th>subtipo</th>\n",
       "      <th>uso_armas</th>\n",
       "      <th>barrio</th>\n",
       "      <th>comuna</th>\n",
       "      <th>latitud</th>\n",
       "      <th>longitud</th>\n",
       "      <th>cantidad</th>\n",
       "    </tr>\n",
       "  </thead>\n",
       "  <tbody>\n",
       "    <tr>\n",
       "      <th>0</th>\n",
       "      <td>HC-2021-1008202</td>\n",
       "      <td>2021</td>\n",
       "      <td>Enero</td>\n",
       "      <td>Miércoles</td>\n",
       "      <td>2021-06-01 00:00:00+00:00</td>\n",
       "      <td>18</td>\n",
       "      <td>Homicidio</td>\n",
       "      <td>Siniestro Vial</td>\n",
       "      <td>NaN</td>\n",
       "      <td>Constitución</td>\n",
       "      <td>1</td>\n",
       "      <td>-34.627610</td>\n",
       "      <td>-58.379146</td>\n",
       "      <td>1.0</td>\n",
       "    </tr>\n",
       "    <tr>\n",
       "      <th>1</th>\n",
       "      <td>HC-2021-1009094</td>\n",
       "      <td>2021</td>\n",
       "      <td>Enero</td>\n",
       "      <td>Jueves</td>\n",
       "      <td>2021-07-01 00:00:00+00:00</td>\n",
       "      <td>10</td>\n",
       "      <td>Homicidio</td>\n",
       "      <td>Siniestro Vial</td>\n",
       "      <td>NaN</td>\n",
       "      <td>Mataderos</td>\n",
       "      <td>9</td>\n",
       "      <td>-34.649730</td>\n",
       "      <td>-58.510590</td>\n",
       "      <td>1.0</td>\n",
       "    </tr>\n",
       "    <tr>\n",
       "      <th>2</th>\n",
       "      <td>HC-2021-1013236</td>\n",
       "      <td>2021</td>\n",
       "      <td>Enero</td>\n",
       "      <td>Domingo</td>\n",
       "      <td>2021-10-01 00:00:00+00:00</td>\n",
       "      <td>7</td>\n",
       "      <td>Homicidio</td>\n",
       "      <td>Siniestro Vial</td>\n",
       "      <td>NaN</td>\n",
       "      <td>Parque Chacabuco</td>\n",
       "      <td>7</td>\n",
       "      <td>-34.629172</td>\n",
       "      <td>-58.430581</td>\n",
       "      <td>1.0</td>\n",
       "    </tr>\n",
       "    <tr>\n",
       "      <th>3</th>\n",
       "      <td>HC-2021-1014154</td>\n",
       "      <td>2021</td>\n",
       "      <td>Enero</td>\n",
       "      <td>Lunes</td>\n",
       "      <td>2021-11-01 00:00:00+00:00</td>\n",
       "      <td>9</td>\n",
       "      <td>Homicidio</td>\n",
       "      <td>Siniestro Vial</td>\n",
       "      <td>NaN</td>\n",
       "      <td>Nueva Pompeya</td>\n",
       "      <td>5</td>\n",
       "      <td>-34.638676</td>\n",
       "      <td>-58.414555</td>\n",
       "      <td>1.0</td>\n",
       "    </tr>\n",
       "    <tr>\n",
       "      <th>4</th>\n",
       "      <td>HC-2021-1015476</td>\n",
       "      <td>2021</td>\n",
       "      <td>Enero</td>\n",
       "      <td>Lunes</td>\n",
       "      <td>2021-11-01 00:00:00+00:00</td>\n",
       "      <td>21</td>\n",
       "      <td>Homicidio</td>\n",
       "      <td>Siniestro Vial</td>\n",
       "      <td>NaN</td>\n",
       "      <td>Parque Avellaneda</td>\n",
       "      <td>9</td>\n",
       "      <td>-34.647714</td>\n",
       "      <td>-58.468066</td>\n",
       "      <td>1.0</td>\n",
       "    </tr>\n",
       "  </tbody>\n",
       "</table>\n",
       "</div>"
      ],
      "text/plain": [
       "           id-mapa  anio    mes        dia                     fecha  franja  \\\n",
       "0  HC-2021-1008202  2021  Enero  Miércoles 2021-06-01 00:00:00+00:00      18   \n",
       "1  HC-2021-1009094  2021  Enero     Jueves 2021-07-01 00:00:00+00:00      10   \n",
       "2  HC-2021-1013236  2021  Enero    Domingo 2021-10-01 00:00:00+00:00       7   \n",
       "3  HC-2021-1014154  2021  Enero      Lunes 2021-11-01 00:00:00+00:00       9   \n",
       "4  HC-2021-1015476  2021  Enero      Lunes 2021-11-01 00:00:00+00:00      21   \n",
       "\n",
       "        tipo         subtipo uso_armas             barrio  comuna    latitud  \\\n",
       "0  Homicidio  Siniestro Vial       NaN       Constitución       1 -34.627610   \n",
       "1  Homicidio  Siniestro Vial       NaN          Mataderos       9 -34.649730   \n",
       "2  Homicidio  Siniestro Vial       NaN   Parque Chacabuco       7 -34.629172   \n",
       "3  Homicidio  Siniestro Vial       NaN      Nueva Pompeya       5 -34.638676   \n",
       "4  Homicidio  Siniestro Vial       NaN  Parque Avellaneda       9 -34.647714   \n",
       "\n",
       "    longitud  cantidad  \n",
       "0 -58.379146       1.0  \n",
       "1 -58.510590       1.0  \n",
       "2 -58.430581       1.0  \n",
       "3 -58.414555       1.0  \n",
       "4 -58.468066       1.0  "
      ]
     },
     "execution_count": 49,
     "metadata": {},
     "output_type": "execute_result"
    }
   ],
   "source": [
    "df.head()"
   ]
  },
  {
   "cell_type": "code",
   "execution_count": 64,
   "metadata": {},
   "outputs": [
    {
     "data": {
      "text/plain": [
       "cantidad\n",
       "1.0     6031\n",
       "2.0      566\n",
       "3.0      110\n",
       "4.0       36\n",
       "5.0       19\n",
       "6.0       11\n",
       "7.0        6\n",
       "10.0       1\n",
       "9.0        1\n",
       "Name: count, dtype: int64"
      ]
     },
     "execution_count": 64,
     "metadata": {},
     "output_type": "execute_result"
    }
   ],
   "source": [
    "df.cantidad.value_counts()"
   ]
  },
  {
   "cell_type": "code",
   "execution_count": 61,
   "metadata": {},
   "outputs": [
    {
     "data": {
      "text/plain": [
       "79120"
      ]
     },
     "execution_count": 61,
     "metadata": {},
     "output_type": "execute_result"
    }
   ],
   "source": [
    "df.cantidad.isnull().sum()"
   ]
  },
  {
   "cell_type": "code",
   "execution_count": null,
   "metadata": {},
   "outputs": [
    {
     "data": {
      "text/plain": [
       "72339"
      ]
     },
     "execution_count": 63,
     "metadata": {},
     "output_type": "execute_result"
    }
   ],
   "source": [
    "79120+6781"
   ]
  },
  {
   "cell_type": "code",
   "execution_count": null,
   "metadata": {},
   "outputs": [],
   "source": []
  },
  {
   "cell_type": "code",
   "execution_count": 50,
   "metadata": {},
   "outputs": [
    {
     "name": "stdout",
     "output_type": "stream",
     "text": [
      "Requirement already satisfied: folium in /Users/nathaly/anaconda3/envs/dsproject1/lib/python3.9/site-packages (0.19.4)\n",
      "Requirement already satisfied: branca>=0.6.0 in /Users/nathaly/anaconda3/envs/dsproject1/lib/python3.9/site-packages (from folium) (0.8.1)\n",
      "Requirement already satisfied: jinja2>=2.9 in /Users/nathaly/anaconda3/envs/dsproject1/lib/python3.9/site-packages (from folium) (3.1.5)\n",
      "Requirement already satisfied: numpy in /Users/nathaly/anaconda3/envs/dsproject1/lib/python3.9/site-packages (from folium) (1.26.3)\n",
      "Requirement already satisfied: requests in /Users/nathaly/anaconda3/envs/dsproject1/lib/python3.9/site-packages (from folium) (2.32.3)\n",
      "Requirement already satisfied: xyzservices in /Users/nathaly/anaconda3/envs/dsproject1/lib/python3.9/site-packages (from folium) (2025.1.0)\n",
      "Requirement already satisfied: MarkupSafe>=2.0 in /Users/nathaly/anaconda3/envs/dsproject1/lib/python3.9/site-packages (from jinja2>=2.9->folium) (3.0.2)\n",
      "Requirement already satisfied: charset_normalizer<4,>=2 in /Users/nathaly/anaconda3/envs/dsproject1/lib/python3.9/site-packages (from requests->folium) (3.3.2)\n",
      "Requirement already satisfied: idna<4,>=2.5 in /Users/nathaly/anaconda3/envs/dsproject1/lib/python3.9/site-packages (from requests->folium) (3.10)\n",
      "Requirement already satisfied: urllib3<3,>=1.21.1 in /Users/nathaly/anaconda3/envs/dsproject1/lib/python3.9/site-packages (from requests->folium) (2.2.2)\n",
      "Requirement already satisfied: certifi>=2017.4.17 in /Users/nathaly/anaconda3/envs/dsproject1/lib/python3.9/site-packages (from requests->folium) (2024.12.14)\n",
      "Note: you may need to restart the kernel to use updated packages.\n"
     ]
    }
   ],
   "source": [
    "pip install folium"
   ]
  },
  {
   "cell_type": "code",
   "execution_count": 51,
   "metadata": {},
   "outputs": [
    {
     "data": {
      "text/html": [
       "<div>\n",
       "<style scoped>\n",
       "    .dataframe tbody tr th:only-of-type {\n",
       "        vertical-align: middle;\n",
       "    }\n",
       "\n",
       "    .dataframe tbody tr th {\n",
       "        vertical-align: top;\n",
       "    }\n",
       "\n",
       "    .dataframe thead th {\n",
       "        text-align: right;\n",
       "    }\n",
       "</style>\n",
       "<table border=\"1\" class=\"dataframe\">\n",
       "  <thead>\n",
       "    <tr style=\"text-align: right;\">\n",
       "      <th></th>\n",
       "      <th>id-mapa</th>\n",
       "      <th>anio</th>\n",
       "      <th>mes</th>\n",
       "      <th>dia</th>\n",
       "      <th>fecha</th>\n",
       "      <th>franja</th>\n",
       "      <th>tipo</th>\n",
       "      <th>subtipo</th>\n",
       "      <th>uso_armas</th>\n",
       "      <th>barrio</th>\n",
       "      <th>comuna</th>\n",
       "      <th>latitud</th>\n",
       "      <th>longitud</th>\n",
       "      <th>cantidad</th>\n",
       "    </tr>\n",
       "  </thead>\n",
       "  <tbody>\n",
       "    <tr>\n",
       "      <th>0</th>\n",
       "      <td>HC-2021-1008202</td>\n",
       "      <td>2021</td>\n",
       "      <td>Enero</td>\n",
       "      <td>Miércoles</td>\n",
       "      <td>2021-06-01 00:00:00+00:00</td>\n",
       "      <td>18</td>\n",
       "      <td>Homicidio</td>\n",
       "      <td>Siniestro Vial</td>\n",
       "      <td>NaN</td>\n",
       "      <td>Constitución</td>\n",
       "      <td>1</td>\n",
       "      <td>-34.627610</td>\n",
       "      <td>-58.379146</td>\n",
       "      <td>1.0</td>\n",
       "    </tr>\n",
       "    <tr>\n",
       "      <th>1</th>\n",
       "      <td>HC-2021-1009094</td>\n",
       "      <td>2021</td>\n",
       "      <td>Enero</td>\n",
       "      <td>Jueves</td>\n",
       "      <td>2021-07-01 00:00:00+00:00</td>\n",
       "      <td>10</td>\n",
       "      <td>Homicidio</td>\n",
       "      <td>Siniestro Vial</td>\n",
       "      <td>NaN</td>\n",
       "      <td>Mataderos</td>\n",
       "      <td>9</td>\n",
       "      <td>-34.649730</td>\n",
       "      <td>-58.510590</td>\n",
       "      <td>1.0</td>\n",
       "    </tr>\n",
       "    <tr>\n",
       "      <th>2</th>\n",
       "      <td>HC-2021-1013236</td>\n",
       "      <td>2021</td>\n",
       "      <td>Enero</td>\n",
       "      <td>Domingo</td>\n",
       "      <td>2021-10-01 00:00:00+00:00</td>\n",
       "      <td>7</td>\n",
       "      <td>Homicidio</td>\n",
       "      <td>Siniestro Vial</td>\n",
       "      <td>NaN</td>\n",
       "      <td>Parque Chacabuco</td>\n",
       "      <td>7</td>\n",
       "      <td>-34.629172</td>\n",
       "      <td>-58.430581</td>\n",
       "      <td>1.0</td>\n",
       "    </tr>\n",
       "    <tr>\n",
       "      <th>3</th>\n",
       "      <td>HC-2021-1014154</td>\n",
       "      <td>2021</td>\n",
       "      <td>Enero</td>\n",
       "      <td>Lunes</td>\n",
       "      <td>2021-11-01 00:00:00+00:00</td>\n",
       "      <td>9</td>\n",
       "      <td>Homicidio</td>\n",
       "      <td>Siniestro Vial</td>\n",
       "      <td>NaN</td>\n",
       "      <td>Nueva Pompeya</td>\n",
       "      <td>5</td>\n",
       "      <td>-34.638676</td>\n",
       "      <td>-58.414555</td>\n",
       "      <td>1.0</td>\n",
       "    </tr>\n",
       "    <tr>\n",
       "      <th>4</th>\n",
       "      <td>HC-2021-1015476</td>\n",
       "      <td>2021</td>\n",
       "      <td>Enero</td>\n",
       "      <td>Lunes</td>\n",
       "      <td>2021-11-01 00:00:00+00:00</td>\n",
       "      <td>21</td>\n",
       "      <td>Homicidio</td>\n",
       "      <td>Siniestro Vial</td>\n",
       "      <td>NaN</td>\n",
       "      <td>Parque Avellaneda</td>\n",
       "      <td>9</td>\n",
       "      <td>-34.647714</td>\n",
       "      <td>-58.468066</td>\n",
       "      <td>1.0</td>\n",
       "    </tr>\n",
       "  </tbody>\n",
       "</table>\n",
       "</div>"
      ],
      "text/plain": [
       "           id-mapa  anio    mes        dia                     fecha  franja  \\\n",
       "0  HC-2021-1008202  2021  Enero  Miércoles 2021-06-01 00:00:00+00:00      18   \n",
       "1  HC-2021-1009094  2021  Enero     Jueves 2021-07-01 00:00:00+00:00      10   \n",
       "2  HC-2021-1013236  2021  Enero    Domingo 2021-10-01 00:00:00+00:00       7   \n",
       "3  HC-2021-1014154  2021  Enero      Lunes 2021-11-01 00:00:00+00:00       9   \n",
       "4  HC-2021-1015476  2021  Enero      Lunes 2021-11-01 00:00:00+00:00      21   \n",
       "\n",
       "        tipo         subtipo uso_armas             barrio  comuna    latitud  \\\n",
       "0  Homicidio  Siniestro Vial       NaN       Constitución       1 -34.627610   \n",
       "1  Homicidio  Siniestro Vial       NaN          Mataderos       9 -34.649730   \n",
       "2  Homicidio  Siniestro Vial       NaN   Parque Chacabuco       7 -34.629172   \n",
       "3  Homicidio  Siniestro Vial       NaN      Nueva Pompeya       5 -34.638676   \n",
       "4  Homicidio  Siniestro Vial       NaN  Parque Avellaneda       9 -34.647714   \n",
       "\n",
       "    longitud  cantidad  \n",
       "0 -58.379146       1.0  \n",
       "1 -58.510590       1.0  \n",
       "2 -58.430581       1.0  \n",
       "3 -58.414555       1.0  \n",
       "4 -58.468066       1.0  "
      ]
     },
     "execution_count": 51,
     "metadata": {},
     "output_type": "execute_result"
    }
   ],
   "source": [
    "df.head()"
   ]
  },
  {
   "cell_type": "code",
   "execution_count": 52,
   "metadata": {},
   "outputs": [
    {
     "data": {
      "text/html": [
       "<div style=\"width:100%;\"><div style=\"position:relative;width:100%;height:0;padding-bottom:60%;\"><span style=\"color:#565656\">Make this Notebook Trusted to load map: File -> Trust Notebook</span><iframe srcdoc=\"&lt;!DOCTYPE html&gt;\n",
       "&lt;html&gt;\n",
       "&lt;head&gt;\n",
       "    \n",
       "    &lt;meta http-equiv=&quot;content-type&quot; content=&quot;text/html; charset=UTF-8&quot; /&gt;\n",
       "    \n",
       "        &lt;script&gt;\n",
       "            L_NO_TOUCH = false;\n",
       "            L_DISABLE_3D = false;\n",
       "        &lt;/script&gt;\n",
       "    \n",
       "    &lt;style&gt;html, body {width: 100%;height: 100%;margin: 0;padding: 0;}&lt;/style&gt;\n",
       "    &lt;style&gt;#map {position:absolute;top:0;bottom:0;right:0;left:0;}&lt;/style&gt;\n",
       "    &lt;script src=&quot;https://cdn.jsdelivr.net/npm/leaflet@1.9.3/dist/leaflet.js&quot;&gt;&lt;/script&gt;\n",
       "    &lt;script src=&quot;https://code.jquery.com/jquery-3.7.1.min.js&quot;&gt;&lt;/script&gt;\n",
       "    &lt;script src=&quot;https://cdn.jsdelivr.net/npm/bootstrap@5.2.2/dist/js/bootstrap.bundle.min.js&quot;&gt;&lt;/script&gt;\n",
       "    &lt;script src=&quot;https://cdnjs.cloudflare.com/ajax/libs/Leaflet.awesome-markers/2.0.2/leaflet.awesome-markers.js&quot;&gt;&lt;/script&gt;\n",
       "    &lt;link rel=&quot;stylesheet&quot; href=&quot;https://cdn.jsdelivr.net/npm/leaflet@1.9.3/dist/leaflet.css&quot;/&gt;\n",
       "    &lt;link rel=&quot;stylesheet&quot; href=&quot;https://cdn.jsdelivr.net/npm/bootstrap@5.2.2/dist/css/bootstrap.min.css&quot;/&gt;\n",
       "    &lt;link rel=&quot;stylesheet&quot; href=&quot;https://netdna.bootstrapcdn.com/bootstrap/3.0.0/css/bootstrap-glyphicons.css&quot;/&gt;\n",
       "    &lt;link rel=&quot;stylesheet&quot; href=&quot;https://cdn.jsdelivr.net/npm/@fortawesome/fontawesome-free@6.2.0/css/all.min.css&quot;/&gt;\n",
       "    &lt;link rel=&quot;stylesheet&quot; href=&quot;https://cdnjs.cloudflare.com/ajax/libs/Leaflet.awesome-markers/2.0.2/leaflet.awesome-markers.css&quot;/&gt;\n",
       "    &lt;link rel=&quot;stylesheet&quot; href=&quot;https://cdn.jsdelivr.net/gh/python-visualization/folium/folium/templates/leaflet.awesome.rotate.min.css&quot;/&gt;\n",
       "    \n",
       "            &lt;meta name=&quot;viewport&quot; content=&quot;width=device-width,\n",
       "                initial-scale=1.0, maximum-scale=1.0, user-scalable=no&quot; /&gt;\n",
       "            &lt;style&gt;\n",
       "                #map_2e674555ce0ee81efa5488651f74a954 {\n",
       "                    position: relative;\n",
       "                    width: 100.0%;\n",
       "                    height: 100.0%;\n",
       "                    left: 0.0%;\n",
       "                    top: 0.0%;\n",
       "                }\n",
       "                .leaflet-container { font-size: 1rem; }\n",
       "            &lt;/style&gt;\n",
       "        \n",
       "    &lt;script src=&quot;https://cdn.jsdelivr.net/gh/python-visualization/folium@main/folium/templates/leaflet_heat.min.js&quot;&gt;&lt;/script&gt;\n",
       "&lt;/head&gt;\n",
       "&lt;body&gt;\n",
       "    \n",
       "    \n",
       "            &lt;div class=&quot;folium-map&quot; id=&quot;map_2e674555ce0ee81efa5488651f74a954&quot; &gt;&lt;/div&gt;\n",
       "        \n",
       "&lt;/body&gt;\n",
       "&lt;script&gt;\n",
       "    \n",
       "    \n",
       "            var map_2e674555ce0ee81efa5488651f74a954 = L.map(\n",
       "                &quot;map_2e674555ce0ee81efa5488651f74a954&quot;,\n",
       "                {\n",
       "                    center: [-34.6037, -58.3816],\n",
       "                    crs: L.CRS.EPSG3857,\n",
       "                    ...{\n",
       "  &quot;zoom&quot;: 11,\n",
       "  &quot;zoomControl&quot;: true,\n",
       "  &quot;preferCanvas&quot;: false,\n",
       "}\n",
       "\n",
       "                }\n",
       "            );\n",
       "\n",
       "            \n",
       "\n",
       "        \n",
       "    \n",
       "            var tile_layer_4023e07c4bf412e584ddf9e49a16dcb9 = L.tileLayer(\n",
       "                &quot;https://tile.openstreetmap.org/{z}/{x}/{y}.png&quot;,\n",
       "                {\n",
       "  &quot;minZoom&quot;: 0,\n",
       "  &quot;maxZoom&quot;: 19,\n",
       "  &quot;maxNativeZoom&quot;: 19,\n",
       "  &quot;noWrap&quot;: false,\n",
       "  &quot;attribution&quot;: &quot;\\u0026copy; \\u003ca href=\\&quot;https://www.openstreetmap.org/copyright\\&quot;\\u003eOpenStreetMap\\u003c/a\\u003e contributors&quot;,\n",
       "  &quot;subdomains&quot;: &quot;abc&quot;,\n",
       "  &quot;detectRetina&quot;: false,\n",
       "  &quot;tms&quot;: false,\n",
       "  &quot;opacity&quot;: 1,\n",
       "}\n",
       "\n",
       "            );\n",
       "        \n",
       "    \n",
       "            tile_layer_4023e07c4bf412e584ddf9e49a16dcb9.addTo(map_2e674555ce0ee81efa5488651f74a954);\n",
       "        \n",
       "    \n",
       "            var heat_map_bddd35ba479282d0744aecf4f7385251 = L.heatLayer(\n",
       "                [[-34.62761, -58.379146, 1.0], [-34.64972969, -58.51058958, 1.0], [-34.62917196, -58.43058079, 1.0], [-34.63867577, -58.4145554, 1.0], [-34.64771436, -58.46806552, 1.0], [-34.5670444, -58.40801265, 1.0], [-34.586223, -58.487442, 1.0], [-34.654863, -58.416418, 1.0], [-34.61111371, -58.4535168, 1.0], [-34.552034, -58.500682, 1.0], [-34.595745, -58.391459, 1.0], [-34.683858, -58.48191, 1.0], [-34.63625791, -58.48729087, 1.0], [-34.59781576, -58.48337583, 1.0], [-34.59704589, -58.49011633, 1.0], [-34.68468486, -58.47226272, 1.0], [-34.631791, -58.382624, 1.0], [-34.563537, -58.496592, 1.0], [-34.60702137, -58.42465626, 1.0], [-34.60773783, -58.4104595, 1.0], [-34.61161591, -58.41167617, 1.0], [-34.628345, -58.356803, 1.0], [-34.670059, -58.495735, 1.0], [-34.55188462, -58.45165726, 1.0], [-34.686306, -58.48314, 1.0], [-34.643549, -58.375346, 1.0], [-34.547957, -58.49491, 1.0], [-34.64358359, -58.441488, 1.0], [-34.63190516, -58.4689292, 1.0], [-34.63507286, -58.38927747, 1.0], [-34.6176249, -58.38118435, 1.0], [-34.54622981, -58.44163914, 1.0], [-34.626944, -58.415987, 1.0], [-34.645467, -58.401844, 1.0], [-34.656796, -58.446423, 1.0], [-34.59881995, -58.5226262, 1.0], [-34.562191, -58.466491, 1.0], [-34.578168, -58.426535, 1.0], [-34.6528389, -58.5040103, 1.0], [-34.535844, -58.466808, 1.0], [-34.57700876, -58.4099483, 1.0], [-34.639252, -58.517182, 1.0], [-34.655561, -58.507198, 1.0], [-34.645802, -58.46713746, 1.0], [-34.640349, -58.377097, 1.0], [-34.585699, -58.460332, 1.0], [-34.656678, -58.421499, 1.0], [-34.569812, -58.490265, 1.0], [-34.668958, -58.454323, 1.0], [-34.55714, -58.44747, 1.0], [-34.660005, -58.420285, 1.0], [-34.680053, -58.495089, 1.0], [-34.59464012, -58.44397989, 1.0], [-34.654637, -58.4276, 1.0], [-34.604562, -58.405475, 1.0], [-34.650107, -58.425297, 1.0], [-34.57513061, -58.39310545, 1.0], [-34.546686, -58.492207, 1.0], [-34.627894, -58.396247, 1.0], [-34.611122, -58.419722, 1.0], [-34.650126, -58.405448, 1.0], [-34.64493937, -58.42072498, 1.0], [-34.633426, -58.46864, 1.0], [-34.65426, -58.528932, 1.0], [-34.627138, -58.426737, 1.0], [-34.61159, -58.528617, 1.0], [-34.627664, -58.379213, 1.0], [-34.611599, -58.521764, 1.0], [-34.5866013, -58.41351579, 1.0], [-34.6546, -58.439488, 1.0], [-34.59978614, -58.40463393, 1.0], [-34.59871, -58.393042, 1.0], [-34.584053, -58.393914, 1.0], [-34.549471, -58.500501, 1.0], [-34.627859, -58.382817, 1.0], [-34.650826, -58.439845, 1.0], [-34.629435, -58.444036, 1.0], [-34.622072, -58.427799, 1.0], [-34.600827, -58.409489, 1.0], [-34.594178, -58.3816, 1.0], [-34.637314, -58.376416, 1.0], [-34.560158, -58.458298, 1.0], [-34.645843, -58.491425, 1.0], [-34.57763211, -58.51273914, 1.0], [-34.623527, -58.448649, 1.0], [-34.5918897, -58.37828284, 1.0], [-34.55527384, -58.45531304, 1.0], [-34.62150219, -58.47618676, 1.0], [-34.60253938, -58.38147145, 1.0], [-34.622849, -58.519892, 1.0], [-34.610119, -58.405971, 1.0], [-34.64536336, -58.43347137, 1.0], [-34.652298, -58.467767, 1.0], [-34.62445106, -58.39598556, 1.0], [-34.65021804, -58.44035923, 3.0], [-34.65548412, -58.41830964, 1.0], [-34.64893096, -58.43881972, 1.0], [-34.625985, -58.382883, 1.0], [-34.69050312, -58.4681323, 1.0], [-34.654224, -58.416399, 1.0], [-34.64704963, -58.44561165, 1.0], [-34.61174387, -58.40159762, 1.0], [-34.60474404, -58.40313262, 1.0], [-34.68130814, -58.48978691, 1.0], [-34.65267468, -58.39915753, 1.0], [-34.63503891, -58.35740166, 1.0], [-34.64513218, -58.4438567, 1.0], [-34.5994129, -58.44234367, 1.0], [-34.65204638, -58.4024704, 1.0], [-34.59084711, -58.46663424, 1.0], [-34.58049551, -58.38384357, 1.0], [-34.64998205, -58.38664859, 1.0], [-34.58378143, -58.38014239, 1.0], [-34.62312089, -58.36816269, 1.0], [-34.6435393, -58.44153182, 1.0], [-34.65684829, -58.39724864, 1.0], [-34.60532231, -58.45537416, 1.0], [-34.58393029, -58.37806785, 1.0], [-34.60595981, -58.48421414, 1.0], [-34.614975, -58.383087, 1.0], [-34.64361638, -58.44144364, 1.0], [-34.64887265, -58.43888286, 1.0], [-34.6322651, -58.3877346, 1.0], [-34.61554733, -58.39319898, 1.0], [-34.585759, -58.39912, 1.0], [-34.60254829, -58.40980536, 1.0], [-34.582863, -58.428944, 1.0], [-34.58170107, -58.47374461, 1.0], [-34.65620189, -58.402586, 1.0], [-34.63709892, -58.42386117, 1.0], [-34.62975259, -58.47147887, 1.0], [-34.644069, -58.409546, 1.0], [-34.622157, -58.381434, 1.0], [-34.55160041, -58.46774746, 1.0], [-34.61439286, -58.41717624, 1.0], [-34.648836, -58.403841, 1.0], [-34.6551676, -58.39876258, 1.0], [-34.549392, -58.481598, 1.0], [-34.60857373, -58.40083597, 1.0], [-34.58985533, -58.47388083, 1.0], [-34.615439, -58.412821, 1.0], [-34.64516283, -58.44401718, 1.0], [-34.587643, -58.41219, 1.0], [-34.65981566, -58.39477637, 1.0], [-34.63472847, -58.45670319, 1.0], [-34.60771841, -58.40474098, 2.0], [-34.65025338, -58.40478236, 1.0], [-34.61765884, -58.4286918, 1.0], [-34.66406187, -58.47647787, 1.0], [-34.60357368, -58.40643076, 1.0], [-34.669981, -58.494382, 2.0], [-34.56797302, -58.45218011, 1.0], [-34.67341685, -58.46238993, 1.0], [-34.63513937, -58.36260326, 1.0], [-34.56578116, -58.50122979, 1.0], [-34.61749245, -58.45773663, 1.0], [-34.622145, -58.381001, 1.0], [-34.609654, -58.40743, 1.0], [-34.632742, -58.383376, 1.0], [-34.6061, -58.381291, 1.0], [-34.64525458, -58.44161292, 1.0], [-34.64952108, -58.43807674, 1.0], [-34.64811203, -58.4415426, 1.0], [-34.6108475, -58.40590644, 1.0], [-34.65042113, -58.39551954, 1.0], [-34.643874, -58.528818, 1.0], [-34.64131282, -58.42791685, 1.0], [-34.65451266, -58.39998692, 1.0], [-34.65419154, -58.40003759, 1.0], [-34.610233, -58.40767, 1.0], [-34.58699639, -58.50883325, 1.0], [-34.614048, -58.411317, 1.0], [-34.61839745, -58.35301186, 1.0], [-34.6342819, -58.40432603, 1.0], [-34.58086977, -58.38003062, 1.0], [-34.61844078, -58.35372974, 1.0], [-34.60855082, -58.41957289, 1.0], [-34.66993366, -58.49178517, 1.0], [-34.65954627, -58.40118499, 1.0], [-34.58252266, -58.38355918, 1.0], [-34.648105, -58.386166, 1.0], [-34.63651863, -58.38188595, 1.0], [-34.605242, -58.409382, 1.0], [-34.68446034, -58.48451621, 1.0], [-34.59920523, -58.46951697, 1.0], [-34.651701, -58.40741, 1.0], [-34.63793647, -58.49639475, 1.0], [-34.58158805, -58.40876799, 1.0], [-34.56239678, -58.45248333, 1.0], [-34.548643, -58.455043, 1.0], [-34.644463, -58.489928, 1.0], [-34.64742024, -58.44242779, 1.0], [-34.672422, -58.493447, 2.0], [-34.621941, -58.374171, 1.0], [-34.637012, -58.366628, 1.0], [-34.637213, -58.367929, 1.0], [-34.63001, -58.476716, 2.0], [-34.587982, -58.411846, 1.0], [-34.598113, -58.430055, 1.0], [-34.556195, -58.476413, 1.0], [-34.576067, -58.485011, 1.0], [-34.642823, -58.422818, 1.0], [-34.630714, -58.527931, 1.0], [-34.625715, -58.529911, 1.0], [-34.590359, -58.515369, 1.0], [-34.625193, -58.36798, 1.0], [-34.611479, -58.421014, 1.0], [-34.56239, -58.505416, 1.0], [-34.578277, -58.461764, 1.0], [-34.62583, -58.418829, 1.0], [-34.640294, -58.456081, 1.0], [-34.616938, -58.473044, 1.0], [-34.638084, -58.503936, 1.0], [-34.620345, -58.424161, 1.0], [-34.65082, -58.454637, 1.0], [-34.577908, -58.427408, 1.0], [-34.615889, -58.394602, 1.0], [-34.578168, -58.426535, 1.0], [-34.578385, -58.49111, 1.0], [-34.621419, -58.479968, 1.0], [-34.627352, -58.45859, 1.0], [-34.630143, -58.402231, 1.0], [-34.619195, -58.530281, 1.0], [-34.642099, -58.508789, 1.0], [-34.619195, -58.530281, 1.0], [-34.581181, -58.406239, 1.0], [-34.617553, -58.446593, 1.0], [-34.583524, -58.401622, 1.0], [-34.626484, -58.456007, 1.0], [-34.554205, -58.493058, 1.0], [-34.589977, -58.405938, 1.0], [-34.616944, -58.356922, 1.0], [-34.612475, -58.470081, 1.0], [-34.615783, -58.418476, 1.0], [-34.647273, -58.50214, 1.0], [-34.622451, -58.459622, 2.0], [-34.603668, -58.380983, 1.0], [-34.584798, -58.407097, 1.0], [-34.637367, -58.49068, 1.0], [-34.604712, -58.402143, 1.0], [-34.591078, -58.377863, 1.0], [-34.564869, -58.47044, 1.0], [-34.605749, -58.370363, 1.0], [-34.639333, -58.418484, 1.0], [-34.622731, -58.391495, 1.0], [-34.593539, -58.431223, 1.0], [-34.601787, -58.450585, 1.0], [-34.573077, -58.503602, 1.0], [-34.648413, -58.499041, 1.0], [-34.603494, -58.488171, 1.0], [-34.589282, -58.519116, 1.0], [-34.596156, -58.442937, 1.0], [-34.600144, -58.404368, 1.0], [-34.608538, -58.417512, 1.0], [-34.60819, -58.403479, 1.0], [-34.62925, -58.464112, 1.0], [-34.643467, -58.419947, 1.0], [-34.671986, -58.467137, 2.0], [-34.609137, -58.369494, 1.0], [-34.586685, -58.410271, 1.0], [-34.649754, -58.430592, 1.0], [-34.591763, -58.391898, 1.0], [-34.642539, -58.396262, 1.0], [-34.581863, -58.420756, 2.0], [-34.548259, -58.468288, 1.0], [-34.638462, -58.506905, 1.0], [-34.574113, -58.391853, 1.0], [-34.604965, -58.3814, 1.0], [-34.589265, -58.499498, 1.0], [-34.590461, -58.440673, 1.0], [-34.58642, -58.437173, 2.0], [-34.609522, -58.461641, 1.0], [-34.625617, -58.487251, 1.0], [-34.573337, -58.49696, 1.0], [-34.656375, -58.524917, 1.0], [-34.609522, -58.461641, 2.0], [-34.604094, -58.460022, 1.0], [-34.626841, -58.518465, 1.0], [-34.58227, -58.49175, 1.0], [-34.594763, -58.444303, 1.0], [-34.621319, -58.422432, 1.0], [-34.65923, -58.444737, 1.0], [-34.624977, -58.379309, 1.0], [-34.629739, -58.470184, 1.0], [-34.597818, -58.433782, 1.0], [-34.603926, -58.400933, 1.0], [-34.589216, -58.495667, 1.0], [-34.627713, -58.391015, 1.0], [-34.612714, -58.374482, 1.0], [-34.677425, -58.483408, 1.0], [-34.609589, -58.374956, 1.0], [-34.584205, -58.489504, 1.0], [-34.59906, -58.460014, 1.0], [-34.697853, -58.470014, 1.0], [-34.619842, -58.47833, 1.0], [-34.609697, -58.399109, 1.0], [-34.620567, -58.490968, 1.0], [-34.608339, -58.396863, 1.0], [-34.634017, -58.432741, 1.0], [-34.582107, -58.443603, 1.0], [-34.621727, -58.444354, 1.0], [-34.572748, -58.481638, 1.0], [-34.595736, -58.3961, 1.0], [-34.61741, -58.514887, 1.0], [-34.615148, -58.399235, 1.0], [-34.695999, -58.468091, 1.0], [-34.589612, -58.437127, 1.0], [-34.575688, -58.486621, 1.0], [-34.625256, -58.453305, 1.0], [-34.553514, -58.464521, 3.0], [-34.597734, -58.421782, 1.0], [-34.617352, -58.503798, 1.0], [-34.595321, -58.399284, 1.0], [-34.568951, -58.477215, 1.0], [-34.578649, -58.431961, 1.0], [-34.587461, -58.397222, 2.0], [-34.567862, -58.486612, 1.0], [-34.618786, -58.387426, 1.0], [-34.594665, -58.419717, 2.0], [-34.592306, -58.474334, 1.0], [-34.638005, -58.503416, 1.0], [-34.661868, -58.485035, 2.0], [-34.633667, -58.359862, 1.0], [-34.607287, -58.381223, 1.0], [-34.608331, -58.470116, 1.0], [-34.650107, -58.425297, 2.0], [-34.667934, -58.474012, 2.0], [-34.62539, -58.416374, 1.0], [-34.644921, -58.44553, 1.0], [-34.54837, -58.493326, 1.0], [-34.640546, -58.402674, 6.0], [-34.598281, -58.499541, 1.0], [-34.60298, -58.422076, 1.0], [-34.655461, -58.414183, 1.0], [-34.614109, -58.506168, 1.0], [-34.677439, -58.470762, 1.0], [-34.574506, -58.40473, 1.0], [-34.657611, -58.402014, 1.0], [-34.596504, -58.419968, 2.0], [-34.613013, -58.52351, 1.0], [-34.561739, -58.489086, 2.0], [-34.674189, -58.501363, 1.0], [-34.605885, -58.460514, 1.0], [-34.603145, -58.372469, 1.0], [-34.603678, -58.379822, 1.0], [-34.625133, -58.42718, 1.0], [-34.597948, -58.413258, 1.0], [-34.635831, -58.48437, 1.0], [-34.62645, -58.4734, 1.0], [-34.636629, -58.523899, 1.0], [-34.605106, -58.412041, 1.0], [-34.604548, -58.48737, 1.0], [-34.564012, -58.490042, 1.0], [-34.635366, -58.452368, 1.0], [-34.595076, -58.520806, 1.0], [-34.591493, -58.42416, 3.0], [-34.578751, -58.468635, 1.0], [-34.564875, -58.454251, 1.0], [-34.607728, -58.446516, 1.0], [-34.633724, -58.504571, 1.0], [-34.58583, -58.442667, 1.0], [-34.597129, -58.497569, 1.0], [-34.649959, -58.493805, 1.0], [-34.588455, -58.399002, 1.0], [-34.60879, -58.437304, 3.0], [-34.648762, -58.49942, 1.0], [-34.650214, -58.453767, 1.0], [-34.577008, -58.43202, 1.0], [-34.61175, -58.528689, 1.0], [-34.552034, -58.500682, 1.0], [-34.675383, -58.477681, 1.0], [-34.613525, -58.380408, 1.0], [-34.603718, -58.416555, 2.0], [-34.587291, -58.394893, 1.0], [-34.67398, -58.501639, 3.0], [-34.650323, -58.416239, 1.0], [-34.624297, -58.469422, 2.0], [-34.625966, -58.454673, 1.0], [-34.607271, -58.424631, 1.0], [-34.630622, -58.503176, 1.0], [-34.627686, -58.413352, 1.0], [-34.672632, -58.499124, 1.0], [-34.60923, -58.510285, 1.0], [-34.607742, -58.406125, 1.0], [-34.60668, -58.408744, 1.0], [-34.641388, -58.442604, 1.0], [-34.6246, -58.499331, 1.0], [-34.577239, -58.409961, 2.0], [-34.619718, -58.407785, 1.0], [-34.63067, -58.413076, 1.0], [-34.640202, -58.389888, 1.0], [-34.597107, -58.434446, 1.0], [-34.649918, -58.464518, 1.0], [-34.614426, -58.479021, 1.0], [-34.655654, -58.422855, 2.0], [-34.580804, -58.407284, 1.0], [-34.638932, -58.476071, 2.0], [-34.631059, -58.529899, 1.0], [-34.572704, -58.439663, 1.0], [-34.649892, -58.414578, 1.0], [-34.578715, -58.480591, 1.0], [-34.636235, -58.400309, 1.0], [-34.565019, -58.486375, 1.0], [-34.623485, -58.377091, 1.0], [-34.604579, -58.398225, 1.0], [-34.558288, -58.459916, 1.0], [-34.639387, -58.454329, 1.0], [-34.624506, -58.417781, 2.0], [-34.674129, -58.477416, 1.0], [-34.633412, -58.473995, 2.0], [-34.590821, -58.435314, 1.0], [-34.554117, -58.438482, 1.0], [-34.610994, -58.386128, 2.0], [-34.582057, -58.499772, 1.0], [-34.68631, -58.48314, 2.0], [-34.601383, -58.381936, 1.0], [-34.622487, -58.430951, 1.0], [-34.597726, -58.417815, 1.0], [-34.635647, -58.397438, 1.0], [-34.677265, -58.478368, 1.0], [-34.5831, -58.431674, 1.0], [-34.596906, -58.409799, 1.0], [-34.626936, -58.425772, 1.0], [-34.664925, -58.449959, 1.0], [-34.603154, -58.392394, 1.0], [-34.604035, -58.380964, 1.0], [-34.614204, -58.397481, 1.0], [-34.578731, -58.476569, 2.0], [-34.56428, -58.453244, 1.0], [-34.6288, -58.483725, 1.0], [-34.626942, -58.44797, 1.0], [-34.605106, -58.412041, 1.0], [-34.609298, -58.406012, 1.0], [-34.633394, -58.432812, 1.0], [-34.581675, -58.395993, 1.0], [-34.647064, -58.427644, 1.0], [-34.60045, -58.404466, 1.0], [-34.586376, -58.506761, 2.0], [-34.659049, -58.485368, 1.0], [-34.588887, -58.413327, 1.0], [-34.567868, -58.448776, 1.0], [-34.618531, -58.381099, 1.0], [-34.623045, -58.43466, 1.0], [-34.615823, -58.40456, 1.0], [-34.644201, -58.417373, 3.0], [-34.603526, -58.383683, 1.0], [-34.650935, -58.489195, 1.0], [-34.587678, -58.383851, 1.0], [-34.644466, -58.489928, 1.0], [-34.560636, -58.457731, 1.0], [-34.665806, -58.44216, 1.0], [-34.626496, -58.441022, 1.0], [-34.644727, -58.417202, 3.0], [-34.61226, -58.528907, 1.0], [-34.598474, -58.418972, 1.0], [-34.598711, -58.393783, 1.0], [-34.613508, -58.517286, 1.0], [-34.621417, -58.496141, 1.0], [-34.644038, -58.467686, 1.0], [-34.570241, -58.41366, 1.0], [-34.658107, -58.475829, 1.0], [-34.628843, -58.488869, 2.0], [-34.632061, -58.474604, 1.0], [-34.636497, -58.402122, 1.0], [-34.62836, -58.444998, 1.0], [-34.54837, -58.493326, 1.0], [-34.609634, -58.418656, 1.0], [-34.629343, -58.433515, 1.0], [-34.600825, -58.453089, 1.0], [-34.632322, -58.503033, 1.0], [-34.63637, -58.47369, 1.0], [-34.615842, -58.420084, 1.0], [-34.552034, -58.500682, 1.0], [-34.545309, -58.489887, 1.0], [-34.543329, -58.461296, 2.0], [-34.555621, -58.482044, 1.0], [-34.655185, -58.472118, 2.0], [-34.666172, -58.510351, 1.0], [-34.597825, -58.417268, 1.0], [-34.600323, -58.382439, 1.0], [-34.646029, -58.420134, 1.0], [-34.625114, -58.510559, 1.0], [-34.604144, -58.411355, 2.0], [-34.600524, -58.40449, 1.0], [-34.635141, -58.49992, 2.0], [-34.626996, -58.426759, 1.0], [-34.619431, -58.406392, 1.0], [-34.624107, -58.400359, 1.0], [-34.599946, -58.449026, 2.0], [-34.570137, -58.508682, 1.0], [-34.626622, -58.481885, 1.0], [-34.586285, -58.502186, 1.0], [-34.614355, -58.400132, 1.0], [-34.605118, -58.413417, 1.0], [-34.651848, -58.417804, 1.0], [-34.567769, -58.471046, 1.0], [-34.598618, -58.391662, 1.0], [-34.595099, -58.378509, 1.0], [-34.659061, -58.521285, 1.0], [-34.676484, -58.489352, 1.0], [-34.602089, -58.402309, 1.0], [-34.614941, -58.407289, 1.0], [-34.542646, -58.447785, 1.0], [-34.635139, -58.466218, 1.0], [-34.615994, -58.396103, 1.0], [-34.626613, -58.424142, 1.0], [-34.588108, -58.439392, 1.0], [-34.58419, -58.427156, 1.0], [-34.625383, -58.360983, 1.0], [-34.584736, -58.499519, 2.0], [-34.599181, -58.413547, 1.0], [-34.594228, -58.443531, 1.0], [-34.652202, -58.385059, 1.0], [-34.622506, -58.39072, 1.0], [-34.629604, -58.460642, 1.0], [-34.599615, -58.371543, 2.0], [-34.577281, -58.409869, 1.0], [-34.672469, -58.476975, 1.0], [-34.590844, -58.388943, 1.0], [-34.590828, -58.513877, 1.0], [-34.604357, -58.390119, 1.0], [-34.584776, -58.483379, 1.0], [-34.568539, -58.487752, 1.0], [-34.627686, -58.413352, 1.0], [-34.562395, -58.45487, 1.0], [-34.607237, -58.397856, 1.0], [-34.641786, -58.529846, 3.0], [-34.681483, -58.480036, 1.0], [-34.631036, -58.513019, 1.0], [-34.585551, -58.488085, 1.0], [-34.67398, -58.501639, 2.0], [-34.622543, -58.430762, 2.0], [-34.604629, -58.447752, 1.0], [-34.581866, -58.420311, 1.0], [-34.56371, -58.506113, 1.0], [-34.611875, -58.415339, 1.0], [-34.590615, -58.448751, 1.0], [-34.629491, -58.370666, 1.0], [-34.614842, -58.507355, 1.0], [-34.640459, -58.431395, 1.0], [-34.63333, -58.460482, 1.0], [-34.632885, -58.471744, 1.0], [-34.649169, -58.379016, 1.0], [-34.574892, -58.476164, 1.0], [-34.660133, -58.503109, 1.0], [-34.642845, -58.358738, 2.0], [-34.661982, -58.517471, 1.0], [-34.616883, -58.415641, 1.0], [-34.598944, -58.4785, 1.0], [-34.632503, -58.373579, 1.0], [-34.639173, -58.526731, 1.0], [-34.587446, -58.508415, 1.0], [-34.592054, -58.442626, 1.0], [-34.645638, -58.36843, 1.0], [-34.553498, -58.497805, 1.0], [-34.628403, -58.3986, 1.0], [-34.603728, -58.381616, 1.0], [-34.575864, -58.418354, 1.0], [-34.596997, -58.401833, 1.0], [-34.618388, -58.457295, 1.0], [-34.629506, -58.391728, 1.0], [-34.622451, -58.459622, 1.0], [-34.578751, -58.468635, 1.0], [-34.613711, -58.426107, 1.0], [-34.579941, -58.475499, 1.0], [-34.617765, -58.521758, 1.0], [-34.639252, -58.527708, 1.0], [-34.621191, -58.41943, 1.0], [-34.659065, -58.516413, 1.0], [-34.559284, -58.427359, 1.0], [-34.623859, -58.391342, 1.0], [-34.596869, -58.400379, 1.0], [-34.599832, -58.440815, 1.0], [-34.587461, -58.397222, 1.0], [-34.642784, -58.50955, 1.0], [-34.62864, -58.425215, 1.0], [-34.60066, -58.441826, 1.0], [-34.584883, -58.499916, 1.0], [-34.591673, -58.407142, 1.0], [-34.596726, -58.38184, 1.0], [-34.617847, -58.385881, 1.0], [-34.660531, -58.478539, 1.0], [-34.597488, -58.393061, 1.0], [-34.592066, -58.392363, 1.0], [-34.626216, -58.486606, 1.0], [-34.646644, -58.373031, 1.0], [-34.663875, -58.482462, 1.0], [-34.612226, -58.505409, 1.0], [-34.633923, -58.462153, 1.0], [-34.654819, -58.398481, 1.0], [-34.567862, -58.486612, 1.0], [-34.611174, -58.369421, 2.0], [-34.684385, -58.482711, 1.0], [-34.598045, -58.406632, 1.0], [-34.619758, -58.380622, 1.0], [-34.569757, -58.436069, 1.0], [-34.579274, -58.434614, 1.0], [-34.611875, -58.415339, 1.0], [-34.603803, -58.415665, 1.0], [-34.602629, -58.383805, 1.0], [-34.581086, -58.499901, 1.0], [-34.627875, -58.381658, 1.0], [-34.622072, -58.427799, 1.0], [-34.587351, -58.445618, 1.0], [-34.650707, -58.499588, 1.0], [-34.627042, -58.383113, 1.0], [-34.627063, -58.479296, 1.0], [-34.649798, -58.500544, 1.0], [-34.610914, -58.430334, 1.0], [-34.601838, -58.404808, 1.0], [-34.655752, -58.496781, 1.0], [-34.622731, -58.391495, 1.0], [-34.653635, -58.433787, 1.0], [-34.569161, -58.446499, 1.0], [-34.604382, -58.459319, 1.0], [-34.624835, -58.451988, 1.0], [-34.67231, -58.493457, 1.0], [-34.64394, -58.430658, 1.0], [-34.609653, -58.381468, 1.0], [-34.584046, -58.460536, 1.0], [-34.64597, -58.528659, 2.0], [-34.601404, -58.497085, 1.0], [-34.657389, -58.423098, 1.0], [-34.605189, -58.366971, 1.0], [-34.559148, -58.449401, 1.0], [-34.605132, -58.508395, 1.0], [-34.60728, -58.430533, 1.0], [-34.5991, -58.439496, 2.0], [-34.598454, -58.403727, 1.0], [-34.579642, -58.423408, 1.0], [-34.560095, -58.471429, 1.0], [-34.667959, -58.493606, 2.0], [-34.616315, -58.501737, 1.0], [-34.627801, -58.381439, 1.0], [-34.589566, -58.404325, 1.0], [-34.556504, -58.448014, 1.0], [-34.552034, -58.500682, 1.0], [-34.612419, -58.475222, 1.0], [-34.611262, -58.405843, 2.0], [-34.603668, -58.380983, 1.0], [-34.627041, -58.391193, 1.0], [-34.683252, -58.489438, 1.0], [-34.650286, -58.416239, 1.0], [-34.627061, -58.385736, 1.0], [-34.626424, -58.422846, 2.0], [-34.573961, -58.469926, 1.0], [-34.579877, -58.409838, 2.0], [-34.646406, -58.371718, 1.0], [-34.586, -58.407838, 1.0], [-34.637795, -58.499433, 1.0], [-34.555482, -58.462534, 1.0], [-34.656627, -58.383323, 1.0], [-34.651508, -58.395431, 1.0], [-34.575033, -58.471806, 1.0], [-34.586761, -58.439281, 1.0], [-34.641119, -58.369099, 2.0], [-34.625297, -58.392543, 1.0], [-34.618515, -58.356835, 1.0], [-34.634916, -58.447505, 1.0], [-34.639742, -58.49754, 1.0], [-34.634277, -58.448283, 1.0], [-34.643063, -58.481994, 5.0], [-34.549237, -58.49781, 1.0], [-34.550104, -58.468847, 1.0], [-34.60905, -58.463427, 1.0], [-34.644491, -58.519888, 1.0], [-34.570805, -58.486069, 1.0], [-34.631426, -58.389036, 2.0], [-34.589265, -58.499498, 1.0], [-34.63537, -58.395961, 1.0], [-34.585817, -58.380272, 5.0], [-34.668206, -58.442635, 1.0], [-34.629047, -58.382757, 1.0], [-34.618838, -58.403518, 1.0], [-34.600793, -58.405637, 1.0], [-34.65138, -58.396315, 1.0], [-34.589282, -58.519116, 1.0], [-34.563142, -58.458568, 1.0], [-34.611564, -58.376213, 1.0], [-34.595184, -58.457694, 1.0], [-34.623718, -58.459618, 1.0], [-34.581773, -58.463346, 1.0], [-34.617659, -58.381519, 1.0], [-34.613872, -58.417248, 1.0], [-34.60864, -58.436217, 1.0], [-34.624645, -58.3991, 1.0], [-34.590663, -58.466458, 1.0], [-34.580177, -58.430008, 1.0], [-34.650824, -58.406396, 1.0], [-34.610615, -58.466561, 1.0], [-34.658925, -58.504574, 1.0], [-34.666004, -58.491759, 1.0], [-34.643841, -58.422027, 2.0], [-34.599161, -58.404051, 1.0], [-34.562487, -58.462298, 1.0], [-34.600574, -58.445755, 1.0], [-34.62961, -58.435347, 1.0], [-34.655573, -58.494744, 1.0], [-34.650551, -58.409692, 1.0], [-34.625571, -58.431414, 1.0], [-34.659592, -58.449762, 1.0], [-34.620758, -58.374232, 1.0], [-34.600286, -58.382001, 1.0], [-34.622451, -58.459622, 1.0], [-34.55388, -58.450105, 1.0], [-34.651961, -58.486296, 1.0], [-34.637383, -58.449513, 1.0], [-34.54679, -58.448777, 1.0], [-34.637113, -58.499475, 1.0], [-34.622148, -58.381002, 1.0], [-34.609059, -58.479663, 1.0], [-34.604737, -58.400119, 1.0], [-34.62995, -58.433563, 1.0], [-34.604582, -58.400445, 1.0], [-34.672332, -58.477439, 1.0], [-34.548894, -58.454756, 1.0], [-34.636477, -58.453291, 1.0], [-34.649197, -58.440418, 1.0], [-34.6483, -58.439555, 1.0], [-34.622241, -58.382968, 1.0], [-34.599813, -58.42666, 1.0], [-34.598485, -58.436598, 1.0], [-34.645847, -58.491425, 1.0], [-34.604443, -58.45908, 1.0], [-34.616467, -58.528299, 1.0], [-34.61864, -58.430736, 2.0], [-34.637372, -58.369678, 1.0], [-34.605443, -58.455131, 1.0], [-34.559358, -58.504495, 1.0], [-34.625133, -58.42718, 1.0], [-34.614655, -58.531068, 1.0], [-34.632, -58.376107, 1.0], [-34.578833, -58.449814, 1.0], [-34.659101, -58.442335, 1.0], [-34.641109, -58.465917, 1.0], [-34.620021, -58.409257, 2.0], [-34.588717, -58.43398, 1.0], [-34.607447, -58.464893, 1.0], [-34.6132, -58.40023, 1.0], [-34.642823, -58.422818, 1.0], [-34.649186, -58.515627, 1.0], [-34.627654, -58.430811, 1.0], [-34.609482, -58.396293, 1.0], [-34.562481, -58.464676, 2.0], [-34.621037, -58.385803, 1.0], [-34.568057, -58.455678, 1.0], [-34.66395, -58.50483, 1.0], [-34.606166, -58.452017, 1.0], [-34.669221, -58.445332, 3.0], [-34.625502, -58.432398, 1.0], [-34.648614, -58.371922, 2.0], [-34.595675, -58.428005, 1.0], [-34.59331, -58.495837, 1.0], [-34.619362, -58.435917, 1.0], [-34.661332, -58.501653, 1.0], [-34.631824, -58.52952, 1.0], [-34.585441, -58.388595, 1.0], [-34.682081, -58.490743, 3.0], [-34.621571, -58.410766, 1.0], [-34.592178, -58.426869, 1.0], [-34.624014, -58.472745, 1.0], [-34.599476, -58.38887, 1.0], [-34.641288, -58.369153, 1.0], [-34.585025, -58.399937, 1.0], [-34.608839, -58.406035, 1.0], [-34.629302, -58.455463, 1.0], [-34.588172, -58.392331, 1.0], [-34.625956, -58.470251, 1.0], [-34.637464, -58.451442, 1.0], [-34.59903, -58.381258, 1.0], [-34.568595, -58.421858, 1.0], [-34.595184, -58.457694, 1.0], [-34.601297, -58.441092, 1.0], [-34.684183, -58.469298, 2.0], [-34.613929, -58.393239, 2.0], [-34.604562, -58.405475, 1.0], [-34.601235, -58.504431, 1.0], [-34.62005, -58.388845, 1.0], [-34.630516, -58.390789, 2.0], [-34.598068, -58.408153, 1.0], [-34.630848, -58.466577, 1.0], [-34.629433, -58.470209, 1.0], [-34.627486, -58.378501, 1.0], [-34.656782, -58.437025, 1.0], [-34.559148, -58.449401, 1.0], [-34.609962, -58.450956, 2.0], [-34.627423, -58.471104, 5.0], [-34.601314, -58.439313, 1.0], [-34.634723, -58.405891, 1.0], [-34.638428, -58.413196, 2.0], [-34.613196, -58.424942, 1.0], [-34.588719, -58.405549, 1.0], [-34.608733, -58.429194, 1.0], [-34.641397, -58.491765, 1.0], [-34.590252, -58.389604, 1.0], [-34.62263, -58.52394, 1.0], [-34.628285, -58.43565, 1.0], [-34.562602, -58.474017, 1.0], [-34.600286, -58.382001, 1.0], [-34.628143, -58.450397, 1.0], [-34.586787, -58.436677, 1.0], [-34.576621, -58.482737, 1.0], [-34.604219, -58.459951, 1.0], [-34.658366, -58.391686, 1.0], [-34.655228, -58.387044, 1.0], [-34.647187, -58.374817, 1.0], [-34.645853, -58.512956, 1.0], [-34.610833, -58.415828, 1.0], [-34.586787, -58.436677, 2.0], [-34.586091, -58.435533, 1.0], [-34.633124, -58.408002, 1.0], [-34.625114, -58.510559, 1.0], [-34.541532, -58.473787, 1.0], [-34.66142, -58.504656, 1.0], [-34.615727, -58.464374, 1.0], [-34.599015, -58.515283, 1.0], [-34.672193, -58.501268, 1.0], [-34.605668, -58.383643, 1.0], [-34.61309, -58.381226, 1.0], [-34.658062, -58.418508, 1.0], [-34.635516, -58.467492, 1.0], [-34.699648, -58.468679, 2.0], [-34.552034, -58.500682, 1.0], [-34.618232, -58.393205, 1.0], [-34.610337, -58.401789, 1.0], [-34.663049, -58.516029, 1.0], [-34.587066, -58.503487, 1.0], [-34.617268, -58.467961, 1.0], [-34.651376, -58.422266, 1.0], [-34.646029, -58.420134, 1.0], [-34.536644, -58.469311, 1.0], [-34.626201, -58.388314, 1.0], [-34.571434, -58.509702, 1.0], [-34.620902, -58.445734, 1.0], [-34.570709, -58.507878, 1.0], [-34.625715, -58.529911, 1.0], [-34.625462, -58.468398, 1.0], [-34.539371, -58.475488, 2.0], [-34.647349, -58.437425, 1.0], [-34.618419, -58.39675, 2.0], [-34.599873, -58.438768, 1.0], [-34.641815, -58.502558, 1.0], [-34.608349, -58.406177, 1.0], [-34.627894, -58.395219, 1.0], [-34.609931, -58.470501, 3.0], [-34.554519, -58.466385, 1.0], [-34.617438, -58.482041, 1.0], [-34.544014, -58.485669, 2.0], [-34.598846, -58.403951, 1.0], [-34.571835, -58.494097, 1.0], [-34.617116, -58.452588, 3.0], [-34.622437, -58.430624, 2.0], [-34.603955, -58.410672, 2.0], [-34.61547, -58.491156, 1.0], [-34.604785, -58.487033, 1.0], [-34.626355, -58.505959, 1.0], [-34.545246, -58.438646, 1.0], [-34.632153, -58.468991, 2.0], [-34.671389, -58.471182, 1.0], [-34.650126, -58.405448, 1.0], [-34.546721, -58.457296, 1.0], [-34.622389, -58.385837, 1.0], [-34.571823, -58.421746, 1.0], [-34.625193, -58.36798, 1.0], [-34.649672, -58.469778, 1.0], [-34.65082, -58.454637, 1.0], [-34.626996, -58.426759, 3.0], [-34.584666, -58.454545, 1.0], [-34.611413, -58.48142, 1.0], [-34.613591, -58.488257, 1.0], [-34.651961, -58.486296, 3.0], [-34.64027, -58.431514, 1.0], [-34.652798, -58.466729, 1.0], [-34.599895, -58.404186, 1.0], [-34.635443, -58.462971, 1.0], [-34.60384, -58.382539, 1.0], [-34.6245, -58.364489, 1.0], [-34.573496, -58.480668, 1.0], [-34.587216, -58.482306, 1.0], [-34.654913, -58.493953, 1.0], [-34.59706, -58.47664, 1.0], [-34.607742, -58.406125, 2.0], [-34.684213, -58.478099, 1.0], [-34.652579, -58.416193, 1.0], [-34.626613, -58.424142, 1.0], [-34.626613, -58.424142, 1.0], [-34.592551, -58.427595, 1.0], [-34.625265, -58.414695, 1.0], [-34.612328, -58.369566, 1.0], [-34.67907, -58.477447, 2.0], [-34.59547, -58.418537, 1.0], [-34.623416, -58.399281, 1.0], [-34.646593, -58.486067, 1.0], [-34.646441, -58.403802, 1.0], [-34.628549, -58.48907, 1.0], [-34.597911, -58.382182, 1.0], [-34.642518, -58.436249, 1.0], [-34.646857, -58.380158, 1.0], [-34.643028, -58.386852, 1.0], [-34.569999, -58.509038, 1.0], [-34.635516, -58.467492, 1.0], [-34.652987, -58.408606, 1.0], [-34.578181, -58.51075, 1.0], [-34.619949, -58.494367, 1.0], [-34.601726, -58.405934, 1.0], [-34.601449, -58.478518, 1.0], [-34.565173, -58.452371, 1.0], [-34.671207, -58.473073, 1.0], [-34.642867, -58.442154, 1.0], [-34.634929, -58.469484, 2.0], [-34.623957, -58.471712, 1.0], [-34.596802, -58.382671, 1.0], [-34.557976, -58.410802, 1.0], [-34.589282, -58.519116, 2.0], [-34.651002, -58.400127, 1.0], [-34.606166, -58.452017, 1.0], [-34.589612, -58.437127, 1.0], [-34.636201, -58.40049, 1.0], [-34.597663, -58.458024, 1.0], [-34.592015, -58.398386, 1.0], [-34.620561, -58.497219, 1.0], [-34.562037, -58.456695, 1.0], [-34.657443, -58.423319, 1.0], [-34.554737, -58.454412, 1.0], [-34.562341, -58.416804, 2.0], [-34.617659, -58.381519, 1.0], [-34.588491, -58.424894, 2.0], [-34.642146, -58.416106, 3.0], [-34.600242, -58.412284, 1.0], [-34.598144, -58.522341, 1.0], [-34.670202, -58.461859, 1.0], [-34.594178, -58.3816, 1.0], [-34.58678, -58.4414, 1.0], [-34.638645, -58.417682, 2.0], [-34.618326, -58.494514, 1.0], [-34.622451, -58.459622, 1.0], [-34.57839, -58.45854, 1.0], [-34.649795, -58.40505, 1.0], [-34.581731, -58.381263, 1.0], [-34.623471, -58.472766, 1.0], [-34.598112, -58.440695, 1.0], [-34.60366, -58.47277, 1.0], [-34.626523, -58.456108, 1.0], [-34.613279, -58.385072, 4.0], [-34.624719, -58.476767, 1.0], [-34.618543, -58.430733, 1.0], [-34.650166, -58.426671, 3.0], [-34.611596, -58.366141, 1.0], [-34.629126, -58.43203, 1.0], [-34.631459, -58.470996, 1.0], [-34.621369, -58.498198, 1.0], [-34.557637, -58.446873, 1.0], [-34.617268, -58.467961, 1.0], [-34.611479, -58.421014, 1.0], [-34.595934, -58.499549, 1.0], [-34.590751, -58.404667, 1.0], [-34.594331, -58.437045, 1.0], [-34.616388, -58.521954, 1.0], [-34.612416, -58.480621, 1.0], [-34.626823, -58.425565, 1.0], [-34.63479, -58.387978, 1.0], [-34.567862, -58.486612, 2.0], [-34.599439, -58.389671, 1.0], [-34.578384, -58.46321, 1.0], [-34.560881, -58.472681, 1.0], [-34.576787, -58.437756, 1.0], [-34.599629, -58.400568, 1.0], [-34.602418, -58.428575, 1.0], [-34.594686, -58.395409, 1.0], [-34.619707, -58.498293, 1.0], [-34.582767, -58.452289, 1.0], [-34.606545, -58.40595, 1.0], [-34.54837, -58.493326, 1.0], [-34.688191, -58.46129, 2.0], [-34.638763, -58.411599, 1.0], [-34.627757, -58.360481, 1.0], [-34.576095, -58.491606, 1.0], [-34.586123, -58.453112, 1.0], [-34.639116, -58.471478, 1.0], [-34.608331, -58.470116, 1.0], [-34.582236, -58.410194, 1.0], [-34.632745, -58.383377, 1.0], [-34.634121, -58.390359, 2.0], [-34.576729, -58.498844, 1.0], [-34.58127, -58.47431, 1.0], [-34.655658, -58.469238, 1.0], [-34.643634, -58.379453, 1.0], [-34.631064, -58.454486, 1.0], [-34.627701, -58.49022, 1.0], [-34.666004, -58.491759, 1.0], [-34.578392, -58.480106, 1.0], [-34.64156, -58.393809, 1.0], [-34.559003, -58.459452, 1.0], [-34.620496, -58.474189, 1.0], [-34.544875, -58.481129, 1.0], [-34.631772, -58.469276, 1.0], [-34.58548, -58.516341, 1.0], [-34.666142, -58.477897, 1.0], [-34.628699, -58.458317, 1.0], [-34.588856, -58.438253, 1.0], [-34.609298, -58.406012, 1.0], [-34.535844, -58.466808, 1.0], [-34.563695, -58.455106, 1.0], [-34.606108, -58.457383, 1.0], [-34.649789, -58.41843, 1.0], [-34.600574, -58.445755, 1.0], [-34.595402, -58.38198, 1.0], [-34.593099, -58.511158, 1.0], [-34.618044, -58.385833, 1.0], [-34.66794, -58.509663, 1.0], [-34.650126, -58.405448, 1.0], [-34.644867, -58.500246, 1.0], [-34.650126, -58.405448, 1.0], [-34.662369, -58.513506, 1.0], [-34.622392, -58.371017, 1.0], [-34.659342, -58.520997, 2.0], [-34.626926, -58.465179, 1.0], [-34.648588, -58.428949, 1.0], [-34.604462, -58.502291, 1.0], [-34.569009, -58.409461, 2.0], [-34.60743, -58.374359, 1.0], [-34.60743, -58.374359, 2.0], [-34.658826, -58.480299, 1.0], [-34.649106, -58.499793, 2.0], [-34.613174, -58.504557, 1.0], [-34.560865, -58.483385, 1.0], [-34.635516, -58.467492, 1.0], [-34.703796, -58.460718, 1.0], [-34.635516, -58.467492, 1.0], [-34.626578, -58.406741, 1.0], [-34.558653, -58.462414, 1.0], [-34.632363, -58.425532, 2.0], [-34.560961, -58.460385, 1.0], [-34.617659, -58.381519, 1.0], [-34.545681, -58.477647, 1.0], [-34.641786, -58.529846, 1.0], [-34.582045, -58.401538, 1.0], [-34.65135, -58.39775, 1.0], [-34.616467, -58.381187, 1.0], [-34.668704, -58.494493, 2.0], [-34.656089, -58.507922, 1.0], [-34.614729, -58.530673, 1.0], [-34.58558, -58.453725, 2.0], [-34.569827, -58.509727, 2.0], [-34.562224, -58.442693, 1.0], [-34.625381, -58.444481, 1.0], [-34.608686, -58.384873, 1.0], [-34.644367, -58.463831, 1.0], [-34.608911, -58.478018, 1.0], [-34.617847, -58.385881, 1.0], [-34.598002, -58.411924, 1.0], [-34.604624, -58.397069, 1.0], [-34.592058, -58.433449, 1.0], [-34.604412, -58.406648, 1.0], [-34.606166, -58.452017, 1.0], [-34.552666, -58.498057, 1.0], [-34.589356, -58.419049, 1.0], [-34.612075, -58.491228, 1.0], [-34.556245, -58.454167, 1.0], [-34.625253, -58.443326, 1.0], [-34.622869, -58.505097, 1.0], [-34.604191, -58.370164, 1.0], [-34.686109, -58.47552, 1.0], [-34.634177, -58.47167, 2.0], [-34.618734, -58.440748, 1.0], [-34.611479, -58.421014, 1.0], [-34.591562, -58.401039, 2.0], [-34.593567, -58.373846, 1.0], [-34.630039, -58.386875, 1.0], [-34.603991, -58.386529, 1.0], [-34.593353, -58.445823, 1.0], [-34.659576, -58.442772, 1.0], [-34.552719, -58.468124, 1.0], [-34.575651, -58.501213, 1.0], [-34.57498, -58.415406, 1.0], [-34.594854, -58.429173, 2.0], [-34.65135, -58.413407, 1.0], [-34.642978, -58.528875, 1.0], [-34.618134, -58.530338, 1.0], [-34.619194, -58.435439, 1.0], [-34.563298, -58.462703, 1.0], [-34.590878, -58.424912, 1.0], [-34.591682, -58.511031, 2.0], [-34.620595, -58.368441, 1.0], [-34.631849, -58.455488, 1.0], [-34.610833, -58.415828, 1.0], [-34.590156, -58.410931, 1.0], [-34.557589, -58.460566, 2.0], [-34.656231, -58.441341, 1.0], [-34.605502, -58.474231, 1.0], [-34.586932, -58.409898, 1.0], [-34.602193, -58.515007, 1.0], [-34.580732, -58.427076, 1.0], [-34.600323, -58.382439, 1.0], [-34.602906, -58.507129, 1.0], [-34.617042, -58.49605, 2.0], [-34.612663, -58.503686, 1.0], [-34.603574, -58.435151, 1.0], [-34.653344, -58.495938, 1.0], [-34.552751, -58.465134, 1.0], [-34.597825, -58.417268, 1.0], [-34.562902, -58.462919, 1.0], [-34.634884, -58.47315, 1.0], [-34.600286, -58.382001, 1.0], [-34.557515, -58.458505, 1.0], [-34.551, -58.447636, 1.0], [-34.554816, -58.4493, 1.0], [-34.628402, -58.451348, 1.0], [-34.58782, -58.509019, 1.0], [-34.595862, -58.393319, 1.0], [-34.595824, -58.402828, 1.0], [-34.641301, -58.479928, 1.0], [-34.575061, -58.435531, 1.0], [-34.596614, -58.438354, 1.0], [-34.547412, -58.469402, 1.0], [-34.690712, -58.467848, 1.0], [-34.599439, -58.389671, 1.0], [-34.552264, -58.467252, 1.0], [-34.581182, -58.421738, 1.0], [-34.584995, -58.372173, 1.0], [-34.649395, -58.499978, 1.0], [-34.613298, -58.523981, 3.0], [-34.644212, -58.504538, 1.0], [-34.601158, -58.428388, 1.0], [-34.656964, -58.509267, 1.0], [-34.679175, -58.46627, 2.0], [-34.579161, -58.467024, 3.0], [-34.597843, -58.381348, 1.0], [-34.647918, -58.468429, 1.0], [-34.604029, -58.41035, 1.0], [-34.603668, -58.380983, 1.0], [-34.584282, -58.373137, 1.0], [-34.603721, -58.390887, 1.0], [-34.574354, -58.431758, 1.0], [-34.619812, -58.403212, 1.0], [-34.607609, -58.386317, 1.0], [-34.614601, -58.419947, 1.0], [-34.632071, -58.48473, 1.0], [-34.662012, -58.501298, 1.0], [-34.603154, -58.392394, 1.0], [-34.636689, -58.37731, 1.0], [-34.663764, -58.515191, 1.0], [-34.622084, -58.413687, 1.0], [-34.689219, -58.481451, 1.0], [-34.619407, -58.45697, 1.0], [-34.576308, -58.405355, 1.0], [-34.606976, -58.399327, 1.0], [-34.608769, -58.382012, 1.0], [-34.65544, -58.522749, 1.0], [-34.581731, -58.381263, 1.0], [-34.656375, -58.524917, 1.0], [-34.610095, -58.473528, 1.0], [-34.646827, -58.467576, 1.0], [-34.622438, -58.402484, 3.0], [-34.595686, -58.427635, 1.0], [-34.626664, -58.413443, 2.0], [-34.611179, -58.387486, 1.0], [-34.555565, -58.462891, 1.0], [-34.615019, -58.466634, 1.0], [-34.600469, -58.469909, 1.0], [-34.604035, -58.380964, 1.0], [-34.604434, -58.392293, 1.0], [-34.616672, -58.419903, 4.0], [-34.638272, -58.450437, 1.0], [-34.61547, -58.491156, 1.0], [-34.589265, -58.499498, 1.0], [-34.595465, -58.382725, 1.0], [-34.620422, -58.461018, 1.0], [-34.697853, -58.470014, 1.0], [-34.660058, -58.445671, 1.0], [-34.619431, -58.406392, 1.0], [-34.611982, -58.398969, 3.0], [-34.571369, -58.41187, 1.0], [-34.578946, -58.40142, 1.0], [-34.626045, -58.426975, 1.0], [-34.661982, -58.517471, 1.0], [-34.630153, -58.441006, 1.0], [-34.698006, -58.469826, 2.0], [-34.632589, -58.440931, 1.0], [-34.61242, -58.405573, 1.0], [-34.650155, -58.46186, 1.0], [-34.617623, -58.409401, 2.0], [-34.618838, -58.403518, 1.0], [-34.605172, -58.36793, 1.0], [-34.677288, -58.465449, 1.0], [-34.577033, -58.430109, 1.0], [-34.617659, -58.381519, 1.0], [-34.618866, -58.450231, 1.0], [-34.633503, -58.460766, 2.0], [-34.613715, -58.416966, 2.0], [-34.651496, -58.517081, 1.0], [-34.618683, -58.428368, 1.0], [-34.564409, -58.44632, 1.0], [-34.562194, -58.459382, 1.0], [-34.605912, -58.491548, 1.0], [-34.671751, -58.456807, 1.0], [-34.618157, -58.391704, 1.0], [-34.575344, -58.392517, 1.0], [-34.655047, -58.506343, 1.0], [-34.564409, -58.44632, 1.0], [-34.597067, -58.492907, 1.0], [-34.601039, -58.431166, 1.0], [-34.624396, -58.417837, 1.0], [-34.604035, -58.380964, 1.0], [-34.579533, -58.477223, 1.0], [-34.620714, -58.440878, 1.0], [-34.596255, -58.411625, 1.0], [-34.611567, -58.410239, 1.0], [-34.594763, -58.444303, 1.0], [-34.605447, -58.389346, 1.0], [-34.613823, -58.391717, 4.0], [-34.620518, -58.499273, 1.0], [-34.584759, -58.516015, 1.0], [-34.638008, -58.376277, 1.0], [-34.595076, -58.520806, 1.0], [-34.624277, -58.511648, 1.0], [-34.666821, -58.511124, 1.0], [-34.681786, -58.46733, 1.0], [-34.70374, -58.461222, 1.0], [-34.598131, -58.406155, 1.0], [-34.577239, -58.409961, 2.0], [-34.629179, -58.441762, 1.0], [-34.623287, -58.472849, 1.0], [-34.642843, -58.379361, 1.0], [-34.602665, -58.4414, 1.0], [-34.58502, -58.390002, 1.0], [-34.642248, -58.434554, 1.0], [-34.654863, -58.416418, 1.0], [-34.593219, -58.430836, 1.0], [-34.603047, -58.435672, 1.0], [-34.554423, -58.453525, 1.0], [-34.616529, -58.416997, 1.0], [-34.625718, -58.432819, 1.0], [-34.579752, -58.513584, 1.0], [-34.599759, -58.398729, 1.0], [-34.636845, -58.494417, 2.0], [-34.65376, -58.494391, 2.0], [-34.678487, -58.475413, 1.0], [-34.620032, -58.492363, 2.0], [-34.628352, -58.504613, 1.0], [-34.640546, -58.402674, 1.0], [-34.626864, -58.52458, 1.0], [-34.599587, -58.45261, 1.0], [-34.580885, -58.493452, 1.0], [-34.633114, -58.358506, 1.0], [-34.558144, -58.451787, 1.0], [-34.607052, -58.506661, 1.0], [-34.622001, -58.375652, 1.0], [-34.594763, -58.444303, 1.0], [-34.616959, -58.465351, 1.0], [-34.622306, -58.40138, 2.0], [-34.677314, -58.475215, 1.0], [-34.58127, -58.47431, 1.0], [-34.645289, -58.489147, 1.0], [-34.604204, -58.370363, 1.0], [-34.606922, -58.444169, 1.0], [-34.634853, -58.488182, 1.0], [-34.583288, -58.447638, 1.0], [-34.578296, -58.460226, 1.0], [-34.637065, -58.522794, 1.0], [-34.681015, -58.47617, 1.0], [-34.636226, -58.401077, 1.0], [-34.62925, -58.464112, 1.0], [-34.618093, -58.438153, 1.0], [-34.58459, -58.464885, 1.0], [-34.594404, -58.389719, 1.0], [-34.62925, -58.464112, 1.0], [-34.678083, -58.478726, 1.0], [-34.605671, -58.456567, 1.0], [-34.623939, -58.403481, 1.0], [-34.627859, -58.382817, 1.0], [-34.564844, -58.489289, 1.0], [-34.645637, -58.451221, 1.0], [-34.626047, -58.509359, 1.0], [-34.626355, -58.505959, 1.0], [-34.573629, -58.421261, 1.0], [-34.604216, -58.408774, 1.0], [-34.64156, -58.393809, 1.0], [-34.650166, -58.426671, 1.0], [-34.606778, -58.418619, 1.0], [-34.597019, -58.442006, 1.0], [-34.618101, -58.476096, 1.0], [-34.596717, -58.521482, 1.0], [-34.599069, -58.382097, 1.0], [-34.631059, -58.529899, 2.0], [-34.584482, -58.438557, 1.0], [-34.622148, -58.381002, 1.0], [-34.604971, -58.414738, 1.0], [-34.602453, -58.379545, 1.0], [-34.603327, -58.404324, 1.0], [-34.62528, -58.464192, 1.0], [-34.616337, -58.35686, 2.0], [-34.602683, -58.466011, 1.0], [-34.627686, -58.413352, 1.0], [-34.603042, -58.437743, 2.0], [-34.62444, -58.45434, 1.0], [-34.603496, -58.444354, 1.0], [-34.597825, -58.417268, 1.0], [-34.606597, -58.512996, 1.0], [-34.62208, -58.399578, 1.0], [-34.554031, -58.462681, 1.0], [-34.541532, -58.473787, 1.0], [-34.580954, -58.429014, 1.0], [-34.552034, -58.500682, 1.0], [-34.622072, -58.427799, 1.0], [-34.600765, -58.415141, 1.0], [-34.580002, -58.48039, 1.0], [-34.599321, -58.44019, 1.0], [-34.615257, -58.380793, 1.0], [-34.565544, -58.453315, 1.0], [-34.63537, -58.395961, 1.0], [-34.588074, -58.434873, 1.0], [-34.611874, -58.38121, 1.0], [-34.592174, -58.509659, 1.0], [-34.695039, -58.470474, 1.0], [-34.61242, -58.405573, 1.0], [-34.684825, -58.472301, 1.0], [-34.600579, -58.386712, 1.0], [-34.622148, -58.381002, 1.0], [-34.628586, -58.356447, 1.0], [-34.634148, -58.446458, 1.0], [-34.590106, -58.382255, 1.0], [-34.674789, -58.466394, 2.0], [-34.6289, -58.454124, 1.0], [-34.597297, -58.396106, 1.0], [-34.543819, -58.472095, 2.0], [-34.620316, -58.402054, 3.0], [-34.589486, -58.39663, 1.0], [-34.648947, -58.412019, 1.0], [-34.621685, -58.36832, 1.0], [-34.604532, -58.396786, 1.0], [-34.580756, -58.457984, 1.0], [-34.577182, -58.472735, 1.0], [-34.574711, -58.499581, 1.0], [-34.589282, -58.519116, 1.0], [-34.661625, -58.486116, 1.0], [-34.592091, -58.476035, 1.0], [-34.589317, -58.394915, 1.0], [-34.635261, -58.375234, 1.0], [-34.654728, -58.416413, 1.0], [-34.582363, -58.376569, 1.0], [-34.548279, -58.43754, 1.0], [-34.632388, -58.476489, 1.0], [-34.632069, -58.355899, 1.0], [-34.588856, -58.438253, 2.0], [-34.617878, -58.530117, 1.0], [-34.603115, -58.43126, 1.0], [-34.639342, -58.528792, 1.0], [-34.640558, -58.529939, 3.0], [-34.638851, -58.522559, 1.0], [-34.588845, -58.390628, 1.0], [-34.600759, -58.510947, 1.0], [-34.644694, -58.414011, 1.0], [-34.595701, -58.427963, 1.0], [-34.604136, -58.413188, 1.0], [-34.605182, -58.455805, 1.0], [-34.609725, -58.475523, 1.0], [-34.653006, -58.434577, 1.0], [-34.593471, -58.444446, 1.0], [-34.631192, -58.442423, 1.0], [-34.653602, -58.474088, 1.0], [-34.604034, -58.430414, 1.0], [-34.583192, -58.515333, 1.0], [-34.593743, -58.410232, 1.0], [-34.603182, -58.507466, 1.0], [-34.633285, -58.468485, 1.0], [-34.625193, -58.36798, 1.0], [-34.588207, -58.371633, 1.0], [-34.639169, -58.3694, 1.0], [-34.572415, -58.440973, 1.0], [-34.564862, -58.48084, 1.0], [-34.641113, -58.45684, 2.0], [-34.640547, -58.369109, 1.0], [-34.592348, -58.518511, 1.0], [-34.600196, -58.465051, 1.0], [-34.649452, -58.504342, 1.0], [-34.583014, -58.393129, 1.0], [-34.573097, -58.496359, 1.0], [-34.617278, -58.437094, 1.0], [-34.617278, -58.437094, 1.0], [-34.617278, -58.437094, 1.0], [-34.62924, -58.425485, 1.0], [-34.619775, -58.46831, 1.0], [-34.608898, -58.379195, 1.0], [-34.578427, -58.459513, 1.0], [-34.583288, -58.447638, 1.0], [-34.588905, -58.383143, 1.0], [-34.584308, -58.3903, 1.0], [-34.574985, -58.487564, 1.0], [-34.62287, -58.382576, 7.0], [-34.57498, -58.415406, 1.0], [-34.634123, -58.433274, 1.0], [-34.622135, -58.380012, 1.0], [-34.657067, -58.416248, 1.0], [-34.643497, -58.4619, 1.0], [-34.565142, -58.48258, 1.0], [-34.653712, -58.490569, 1.0], [-34.581504, -58.492761, 1.0], [-34.633079, -58.495873, 1.0], [-34.6378, -58.502046, 1.0], [-34.581292, -58.403676, 1.0], [-34.651085, -58.424101, 2.0], [-34.670089, -58.432148, 1.0], [-34.661829, -58.43375, 1.0], [-34.672863, -58.476781, 1.0], [-34.603581, -58.473544, 1.0], [-34.628499, -58.474989, 1.0], [-34.665561, -58.506867, 1.0], [-34.612458, -58.388279, 1.0], [-34.636595, -58.493041, 1.0], [-34.644727, -58.417202, 1.0], [-34.595388, -58.398528, 1.0], [-34.603738, -58.382213, 1.0], [-34.697853, -58.470014, 1.0], [-34.609458, -58.482978, 1.0], [-34.618134, -58.530338, 2.0], [-34.627945, -58.449314, 6.0], [-34.627945, -58.449314, 1.0], [-34.58524, -58.392522, 1.0], [-34.621834, -58.371341, 1.0], [-34.665115, -58.439323, 1.0], [-34.617644, -58.380691, 1.0], [-34.567392, -58.430179, 1.0], [-34.649194, -58.404694, 1.0], [-34.572433, -58.446335, 1.0], [-34.614613, -58.420339, 1.0], [-34.611353, -58.403231, 1.0], [-34.575061, -58.435531, 2.0], [-34.585902, -58.387448, 2.0], [-34.655222, -58.495127, 1.0], [-34.625114, -58.510559, 1.0], [-34.59021, -58.43437, 1.0], [-34.615143, -58.394633, 1.0], [-34.585182, -58.453967, 2.0], [-34.629816, -58.446063, 4.0], [-34.632844, -58.477843, 1.0], [-34.637458, -58.40756, 1.0], [-34.625111, -58.376758, 1.0], [-34.590346, -58.411194, 1.0], [-34.539371, -58.475488, 2.0], [-34.673268, -58.502576, 1.0], [-34.673268, -58.502576, 1.0], [-34.605645, -58.392201, 1.0], [-34.607245, -58.423806, 1.0], [-34.577033, -58.430109, 1.0], [-34.649772, -58.38148, 1.0], [-34.594133, -58.399499, 2.0], [-34.626847, -58.514558, 2.0], [-34.597834, -58.455486, 1.0], [-34.646391, -58.378227, 1.0], [-34.639306, -58.527083, 1.0], [-34.588856, -58.438253, 1.0], [-34.564754, -58.502911, 1.0], [-34.622558, -58.388658, 1.0], [-34.580473, -58.472124, 1.0], [-34.546717, -58.46994, 1.0], [-34.576609, -58.431563, 1.0], [-34.620963, -58.368268, 1.0], [-34.6539, -58.51102, 2.0], [-34.632095, -58.408106, 1.0], [-34.546039, -58.462374, 1.0], [-34.622148, -58.381002, 1.0], [-34.573085, -58.439208, 1.0], [-34.580612, -58.450395, 1.0], [-34.626665, -58.456711, 1.0], [-34.662619, -58.516577, 1.0], [-34.660005, -58.420285, 1.0], [-34.630241, -58.403394, 1.0], [-34.628324, -58.443068, 1.0], [-34.600827, -58.48827, 1.0], [-34.611137, -58.520402, 1.0], [-34.63519, -58.52232, 1.0], [-34.640112, -58.369254, 1.0], [-34.598144, -58.522341, 1.0], [-34.569448, -58.454671, 1.0], [-34.602882, -58.524492, 1.0], [-34.616733, -58.432717, 1.0], [-34.627453, -58.401334, 2.0], [-34.622148, -58.381002, 1.0], [-34.601048, -58.45127, 1.0], [-34.643454, -58.492329, 1.0], [-34.641786, -58.529846, 1.0], [-34.613196, -58.424942, 1.0], [-34.567619, -58.430233, 1.0], [-34.578122, -58.429329, 1.0], [-34.563578, -58.455207, 1.0], [-34.633577, -58.46824, 1.0], [-34.60943, -58.40883, 1.0], [-34.585247, -58.441453, 1.0], [-34.62759, -58.413304, 2.0], [-34.622798, -58.381805, 1.0], [-34.603255, -58.524662, 1.0], [-34.632737, -58.500403, 1.0], [-34.587656, -58.407883, 1.0], [-34.584796, -58.389235, 1.0], [-34.639792, -58.452304, 1.0], [-34.65704, -58.509234, 1.0], [-34.589566, -58.404325, 1.0], [-34.581868, -58.407262, 1.0], [-34.623057, -58.517443, 1.0], [-34.66142, -58.504656, 2.0], [-34.559184, -58.427487, 1.0], [-34.565367, -58.436383, 1.0], [-34.569607, -58.478453, 1.0], [-34.575797, -58.471228, 1.0], [-34.59974, -58.504427, 2.0], [-34.618157, -58.391704, 1.0], [-34.644217, -58.375886, 2.0], [-34.544014, -58.485669, 1.0], [-34.631143, -58.409697, 3.0], [-34.548646, -58.455043, 1.0], [-34.55981, -58.460083, 1.0], [-34.635516, -58.467492, 1.0], [-34.59287, -58.42429, 1.0], [-34.622148, -58.381002, 1.0], [-34.667953, -58.475583, 1.0], [-34.601377, -58.380848, 1.0], [-34.654767, -58.420305, 1.0], [-34.628802, -58.477316, 1.0], [-34.603543, -58.38027, 1.0], [-34.684889, -58.484802, 1.0], [-34.690578, -58.479569, 1.0], [-34.634574, -58.469596, 1.0], [-34.628454, -58.366024, 1.0], [-34.614728, -58.368934, 2.0], [-34.626145, -58.388175, 1.0], [-34.630306, -58.46993, 1.0], [-34.597048, -58.398875, 1.0], [-34.643299, -58.397749, 1.0], [-34.588579, -58.489507, 1.0], [-34.658521, -58.522068, 2.0], [-34.572176, -58.393186, 1.0], [-34.589522, -58.518247, 1.0], [-34.630669, -58.415825, 1.0], [-34.618369, -58.458862, 1.0], [-34.583079, -58.397318, 1.0], [-34.610334, -58.408887, 1.0], [-34.60733, -58.445602, 1.0], [-34.616195, -58.391569, 1.0], [-34.626709, -58.47153, 1.0], [-34.634119, -58.529378, 1.0], [-34.657067, -58.416248, 1.0], [-34.609353, -58.395334, 2.0], [-34.614915, -58.391683, 1.0], [-34.66395, -58.50483, 1.0], [-34.651508, -58.395431, 1.0], [-34.611506, -58.528549, 1.0], [-34.617792, -58.384325, 1.0], [-34.545851, -58.489465, 1.0], [-34.590102, -58.379401, 1.0], [-34.563974, -58.469236, 1.0], [-34.602762, -58.425103, 1.0], [-34.631741, -58.419191, 1.0], [-34.641137, -58.423252, 1.0], [-34.56912, -58.492465, 1.0], [-34.634543, -58.528828, 1.0], [-34.630173, -58.415898, 1.0], [-34.555348, -58.482716, 1.0], [-34.621668, -58.393952, 1.0], [-34.629203, -58.411847, 1.0], [-34.588529, -58.384636, 1.0], [-34.59832, -58.369521, 1.0], [-34.539371, -58.475488, 1.0], [-34.592133, -58.439106, 1.0], [-34.682831, -58.480915, 2.0], [-34.600765, -58.415141, 1.0], [-34.63501, -58.437638, 1.0], [-34.589277, -58.380913, 1.0], [-34.603021, -58.407413, 1.0], [-34.616486, -58.381572, 1.0], [-34.595862, -58.393319, 1.0], [-34.617015, -58.462218, 1.0], [-34.601297, -58.441092, 2.0], [-34.594209, -58.406096, 1.0], [-34.604749, -58.403636, 1.0], [-34.613067, -58.380901, 1.0], [-34.663451, -58.515609, 1.0], [-34.651794, -58.525092, 2.0], [-34.58127, -58.47431, 1.0], [-34.649724, -58.47195, 1.0], [-34.639252, -58.527708, 1.0], [-34.63394, -58.482379, 1.0], [-34.661912, -58.486562, 1.0], [-34.560401, -58.446695, 1.0], [-34.662067, -58.431809, 2.0], [-34.650168, -58.501074, 1.0], [-34.550741, -58.465333, 1.0], [-34.654795, -58.482654, 1.0], [-34.612226, -58.505409, 1.0], [-34.592971, -58.42806, 1.0], [-34.633448, -58.480804, 1.0], [-34.612661, -58.391763, 1.0], [-34.632923, -58.467177, 2.0], [-34.610793, -58.38139, 1.0], [-34.594061, -58.406649, 1.0], [-34.640487, -58.529012, 3.0], [-34.660163, -58.475869, 1.0], [-34.660163, -58.475869, 1.0], [-34.660163, -58.475869, 1.0], [-34.660163, -58.475869, 1.0], [-34.660163, -58.475869, 1.0], [-34.660163, -58.475869, 1.0], [-34.660163, -58.475869, 1.0], [-34.635643, -58.471755, 1.0], [-34.561268, -58.444735, 1.0], [-34.617679, -58.50444, 1.0], [-34.577281, -58.409869, 1.0], [-34.641775, -58.44308, 1.0], [-34.613013, -58.52351, 1.0], [-34.630705, -58.469639, 2.0], [-34.66886, -58.502095, 10.0], [-34.619195, -58.530281, 1.0], [-34.636131, -58.496736, 1.0], [-34.599291, -58.386871, 1.0], [-34.608034, -58.443743, 1.0], [-34.627454, -58.475468, 1.0], [-34.616653, -58.447194, 3.0], [-34.547555, -58.458749, 1.0], [-34.619785, -58.402149, 1.0], [-34.647656, -58.376585, 1.0], [-34.601279, -58.379601, 1.0], [-34.600213, -58.381181, 1.0], [-34.605303, -58.455669, 1.0], [-34.605052, -58.495523, 1.0], [-34.62609, -58.43768, 1.0], [-34.618531, -58.381099, 1.0], [-34.606238, -58.441602, 1.0], [-34.609077, -58.389179, 1.0], [-34.642794, -58.492785, 1.0], [-34.586381, -58.439965, 1.0], [-34.621191, -58.41943, 1.0], [-34.592707, -58.375784, 1.0], [-34.626193, -58.465499, 1.0], [-34.626501, -58.489754, 1.0], [-34.549178, -58.48935, 1.0], [-34.628143, -58.450397, 1.0], [-34.594546, -58.402278, 1.0], [-34.598886, -58.445709, 1.0], [-34.643982, -58.488723, 1.0], [-34.61051, -58.471606, 1.0], [-34.647611, -58.403569, 1.0], [-34.61102, -58.418477, 1.0], [-34.654326, -58.515321, 1.0], [-34.567854, -58.449047, 1.0], [-34.558288, -58.459916, 3.0], [-34.639333, -58.418484, 1.0], [-34.643364, -58.404682, 1.0], [-34.619732, -58.40089, 2.0], [-34.59361, -58.449721, 1.0], [-34.633454, -58.480368, 1.0], [-34.595724, -58.390283, 1.0], [-34.622072, -58.427799, 1.0], [-34.606512, -58.387954, 1.0], [-34.561023, -58.464524, 1.0], [-34.681394, -58.480759, 2.0], [-34.545057, -58.489673, 1.0], [-34.628966, -58.403548, 1.0], [-34.635565, -58.446889, 1.0], [-34.630147, -58.378855, 1.0], [-34.634118, -58.471196, 1.0], [-34.535844, -58.466808, 1.0], [-34.611651, -58.36255, 1.0], [-34.631263, -58.48292, 1.0], [-34.550965, -58.477967, 1.0], [-34.627447, -58.393212, 1.0], [-34.583565, -58.455547, 1.0], [-34.609203, -58.397591, 1.0], [-34.58127, -58.47431, 1.0], [-34.675383, -58.477681, 1.0], [-34.614182, -58.41806, 1.0], [-34.615727, -58.464374, 1.0], [-34.549474, -58.5005, 2.0], [-34.579663, -58.448472, 1.0], [-34.59673, -58.459917, 1.0], [-34.645784, -58.401749, 1.0], [-34.634474, -58.511443, 2.0], [-34.607469, -58.401974, 1.0], [-34.65082, -58.454637, 1.0], [-34.605961, -58.44092, 1.0], [-34.616092, -58.474058, 1.0], [-34.655211, -58.490295, 2.0], [-34.65172, -58.418865, 2.0], [-34.618061, -58.365751, 1.0], [-34.611875, -58.415339, 1.0], [-34.599226, -58.385479, 1.0], [-34.590272, -58.468992, 1.0], [-34.541741, -58.480306, 1.0], [-34.600825, -58.453089, 1.0], [-34.622077, -58.480764, 1.0], [-34.630539, -58.493578, 1.0], [-34.627993, -58.477638, 2.0], [-34.628609, -58.477303, 1.0], [-34.57823, -58.38623, 1.0], [-34.655846, -58.476549, 4.0], [-34.58149, -58.420061, 1.0], [-34.642629, -58.471392, 1.0], [-34.539371, -58.475488, 1.0], [-34.659248, -58.477042, 1.0], [-34.623408, -58.400976, 1.0], [-34.581863, -58.420756, 1.0], [-34.634218, -58.52327, 1.0], [-34.603337, -58.404073, 1.0], [-34.649646, -58.367831, 1.0], [-34.616291, -58.377433, 1.0], [-34.677503, -58.495387, 1.0], [-34.622989, -58.422059, 1.0], [-34.616703, -58.432864, 1.0], [-34.595383, -58.392011, 1.0], [-34.635443, -58.462971, 1.0], [-34.621303, -58.460418, 2.0], [-34.609038, -58.381153, 1.0], [-34.569012, -58.481318, 1.0], [-34.606664, -58.463052, 1.0], [-34.548971, -58.472122, 1.0], [-34.607621, -58.386948, 1.0], [-34.595388, -58.398528, 1.0], [-34.597762, -58.420167, 1.0], [-34.5958, -58.389956, 1.0], [-34.639986, -58.42231, 1.0], [-34.599675, -58.372675, 2.0], [-34.60008, -58.451998, 1.0], [-34.666375, -58.46794, 1.0], [-34.658249, -58.461829, 1.0], [-34.618754, -58.402252, 2.0], [-34.634584, -58.5256, 1.0], [-34.612277, -58.509424, 1.0], [-34.582377, -58.430693, 1.0], [-34.632153, -58.468991, 2.0], [-34.600006, -58.367479, 1.0], [-34.636801, -58.495783, 1.0], [-34.539371, -58.475488, 1.0], [-34.614842, -58.507355, 1.0], [-34.622148, -58.381002, 1.0], [-34.553226, -58.467684, 1.0], [-34.601805, -58.369163, 1.0], [-34.57324, -58.473325, 1.0], [-34.634063, -58.509083, 1.0], [-34.624051, -58.392293, 1.0], [-34.600434, -58.36864, 1.0], [-34.630637, -58.451578, 2.0], [-34.600806, -58.392772, 1.0], [-34.595383, -58.392011, 2.0], [-34.636992, -58.478544, 1.0], [-34.62583, -58.418829, 1.0], [-34.619758, -58.380622, 1.0], [-34.607931, -58.390544, 1.0], [-34.611498, -58.391801, 1.0], [-34.658714, -58.516031, 1.0], [-34.625616, -58.470448, 1.0], [-34.664481, -58.440688, 1.0], [-34.615143, -58.394633, 1.0], [-34.618601, -58.400045, 1.0], [-34.570542, -58.508019, 1.0], [-34.590346, -58.411194, 1.0], [-34.656744, -58.416485, 1.0], [-34.601115, -58.399813, 1.0], [-34.604082, -58.411747, 1.0], [-34.587678, -58.383851, 1.0], [-34.625193, -58.36798, 1.0], [-34.613433, -58.386082, 1.0], [-34.66794, -58.509663, 2.0], [-34.561086, -58.457509, 1.0], [-34.614532, -58.403011, 1.0], [-34.654542, -58.480669, 1.0], [-34.616703, -58.432864, 1.0], [-34.564255, -58.435493, 1.0], [-34.594763, -58.444303, 1.0], [-34.671611, -58.457153, 1.0], [-34.626779, -58.453438, 2.0], [-34.569999, -58.509038, 1.0], [-34.634009, -58.438768, 1.0], [-34.61051, -58.471606, 1.0], [-34.642025, -58.421663, 1.0], [-34.574885, -58.407267, 1.0], [-34.658366, -58.391686, 1.0], [-34.614442, -58.463636, 1.0], [-34.679267, -58.466222, 1.0], [-34.647548, -58.376454, 1.0], [-34.613965, -58.408604, 1.0], [-34.543011, -58.472693, 1.0], [-34.631059, -58.529899, 1.0], [-34.593567, -58.373846, 1.0], [-34.62583, -58.418829, 4.0], [-34.589346, -58.429232, 1.0], [-34.645155, -58.493868, 1.0], [-34.556052, -58.480992, 1.0], [-34.673884, -58.499999, 1.0], [-34.662122, -58.48556, 1.0], [-34.639785, -58.454708, 1.0], [-34.624859, -58.45181, 1.0], [-34.701343, -58.466342, 1.0], [-34.553377, -58.47126, 1.0], [-34.626496, -58.441022, 1.0], [-34.610165, -58.495874, 1.0], [-34.685169, -58.468035, 2.0], [-34.585725, -58.42049, 1.0], [-34.625875, -58.446049, 1.0], [-34.617907, -58.387467, 1.0], [-34.620453, -58.37573, 1.0], [-34.583395, -58.429408, 1.0], [-34.624703, -58.437712, 1.0], [-34.575021, -58.459851, 1.0], [-34.627411, -58.429637, 1.0], [-34.618454, -58.475815, 1.0], [-34.623778, -58.402176, 1.0], [-34.606606, -58.430577, 1.0], [-34.637844, -58.374737, 1.0], [-34.606622, -58.430691, 1.0], [-34.641909, -58.365421, 1.0], [-34.602193, -58.515007, 1.0], [-34.629684, -58.370989, 1.0], [-34.587352, -58.415667, 1.0], [-34.557589, -58.460566, 1.0], [-34.635619, -58.488749, 1.0], [-34.614215, -58.479064, 1.0], [-34.585134, -58.414075, 1.0], [-34.622072, -58.427799, 1.0], [-34.594301, -58.382779, 1.0], [-34.622072, -58.427799, 1.0], [-34.587788, -58.420172, 1.0], [-34.604562, -58.405475, 1.0], [-34.671616, -58.469259, 3.0], [-34.598068, -58.408153, 2.0], [-34.626053, -58.403049, 1.0], [-34.643422, -58.49384, 1.0], [-34.618232, -58.393205, 1.0], [-34.61655, -58.391575, 2.0], [-34.629986, -58.376938, 1.0], [-34.602861, -58.424107, 1.0], [-34.587352, -58.415667, 1.0], [-34.607162, -58.429152, 1.0], [-34.615412, -58.361193, 1.0], [-34.565469, -58.44812, 1.0], [-34.563927, -58.48155, 1.0], [-34.608207, -58.463947, 2.0], [-34.622041, -58.526581, 1.0], [-34.678783, -58.495282, 1.0], [-34.629491, -58.370666, 2.0], [-34.614279, -58.398784, 1.0], [-34.599159, -58.384036, 1.0], [-34.665632, -58.47849, 1.0], [-34.68631, -58.48314, 1.0], [-34.557589, -58.460566, 1.0], [-34.607593, -58.457834, 1.0], [-34.579789, -58.405862, 1.0], [-34.603013, -58.370417, 1.0], [-34.625888, -58.389631, 1.0], [-34.609059, -58.479663, 1.0], [-34.618232, -58.393205, 2.0], [-34.589124, -58.419635, 1.0], [-34.625718, -58.432819, 1.0], [-34.600643, -58.420776, 1.0], [-34.598958, -58.429165, 1.0], [-34.659342, -58.520997, 1.0], [-34.625164, -58.472117, 1.0], [-34.598958, -58.429165, 1.0], [-34.618733, -58.518895, 1.0], [-34.621692, -58.425167, 1.0], [-34.61502, -58.404909, 1.0], [-34.586981, -58.45512, 1.0], [-34.637432, -58.499456, 1.0], [-34.622774, -58.460793, 1.0], [-34.596614, -58.438354, 1.0], [-34.65332, -58.493863, 1.0], [-34.578034, -58.427219, 1.0], [-34.586103, -58.41989, 1.0], [-34.644918, -58.466571, 1.0], [-34.623923, -58.365513, 1.0], [-34.600322, -58.420636, 1.0], [-34.625433, -58.415415, 1.0], [-34.614915, -58.391683, 1.0], [-34.590828, -58.513877, 1.0], [-34.607789, -58.445412, 1.0], [-34.611174, -58.369421, 1.0], [-34.581182, -58.421738, 1.0], [-34.597387, -58.457085, 1.0], [-34.57355, -58.502945, 1.0], [-34.619195, -58.530281, 1.0], [-34.613232, -58.383224, 1.0], [-34.597254, -58.449438, 2.0], [-34.588682, -58.506175, 1.0], [-34.587461, -58.397222, 1.0], [-34.651206, -58.432033, 2.0], [-34.562679, -58.423373, 1.0], [-34.646938, -58.370691, 1.0], [-34.598618, -58.391662, 1.0], [-34.605355, -58.512999, 1.0], [-34.543531, -58.484747, 1.0], [-34.599005, -58.451821, 1.0], [-34.56692, -58.450783, 1.0], [-34.661982, -58.517471, 2.0], [-34.678886, -58.465864, 1.0], [-34.598877, -58.417512, 1.0], [-34.655629, -58.413734, 1.0], [-34.568329, -58.448136, 1.0], [-34.613534, -58.387521, 1.0], [-34.587545, -58.387091, 1.0], [-34.64991, -58.421029, 2.0], [-34.550982, -58.473088, 1.0], [-34.619252, -58.357713, 1.0], [-34.638048, -58.5266, 1.0], [-34.586037, -58.395288, 1.0], [-34.540743, -58.477303, 1.0], [-34.630858, -58.38267, 1.0], [-34.598859, -58.500365, 1.0], [-34.634862, -58.473352, 1.0], [-34.600965, -58.374517, 1.0], [-34.678487, -58.475413, 1.0], [-34.647968, -58.433058, 1.0], [-34.61779, -58.474567, 1.0], [-34.576441, -58.465886, 1.0], [-34.595808, -58.394693, 1.0], [-34.588226, -58.409503, 1.0], [-34.597988, -58.48582, 2.0], [-34.607046, -58.430609, 1.0], [-34.580177, -58.430008, 1.0], [-34.604082, -58.411747, 1.0], [-34.53999, -58.474928, 1.0], [-34.669643, -58.464153, 1.0], [-34.604106, -58.489222, 1.0], [-34.656481, -58.374077, 1.0], [-34.632363, -58.500497, 1.0], [-34.626041, -58.420252, 1.0], [-34.606545, -58.40595, 1.0], [-34.624835, -58.451988, 1.0], [-34.639342, -58.528792, 3.0], [-34.611691, -58.394775, 1.0], [-34.610119, -58.405971, 2.0], [-34.631224, -58.386742, 2.0], [-34.616985, -58.41973, 1.0], [-34.612849, -58.377589, 1.0], [-34.627175, -58.386606, 4.0], [-34.606922, -58.444169, 1.0], [-34.623926, -58.416225, 1.0], [-34.611662, -58.508465, 1.0], [-34.59967, -58.478831, 1.0], [-34.661982, -58.517471, 1.0], [-34.642951, -58.493888, 1.0], [-34.634695, -58.392605, 1.0], [-34.571317, -58.506584, 1.0], [-34.580053, -58.472134, 1.0], [-34.672932, -58.481969, 2.0], [-34.544969, -58.487391, 2.0], [-34.611521, -58.522631, 1.0], [-34.597911, -58.382182, 1.0], [-34.577043, -58.493128, 1.0], [-34.678783, -58.495282, 1.0], [-34.597067, -58.492907, 1.0], [-34.629847, -58.414533, 1.0], [-34.583327, -58.418786, 1.0], [-34.686626, -58.483035, 1.0], [-34.597589, -58.456238, 1.0], [-34.624838, -58.491843, 1.0], [-34.571546, -58.476121, 1.0], [-34.672023, -58.460726, 1.0], [-34.648812, -58.440701, 1.0], [-34.585182, -58.453967, 1.0], [-34.623977, -58.430425, 1.0], [-34.626978, -58.483313, 2.0], [-34.580145, -58.447486, 1.0], [-34.558653, -58.462414, 1.0], [-34.609415, -58.477623, 1.0], [-34.567392, -58.430179, 1.0], [-34.613591, -58.488257, 1.0], [-34.541741, -58.480306, 1.0], [-34.643591, -58.472541, 6.0], [-34.594331, -58.437045, 1.0], [-34.575759, -58.484473, 1.0], [-34.573252, -58.445182, 1.0], [-34.681662, -58.483434, 2.0], [-34.591043, -58.40217, 1.0], [-34.681318, -58.470071, 1.0], [-34.612021, -58.463584, 1.0], [-34.683043, -58.47462, 1.0], [-34.610407, -58.48222, 1.0], [-34.55593, -58.488049, 2.0], [-34.60256, -58.38189, 1.0], [-34.571168, -58.423249, 1.0], [-34.597995, -58.459652, 1.0], [-34.619659, -58.500359, 1.0], [-34.603233, -58.412978, 1.0], [-34.569009, -58.409461, 1.0], [-34.634056, -58.466682, 1.0], [-34.625103, -58.467525, 1.0], [-34.574662, -58.51197, 1.0], [-34.581271, -58.420814, 1.0], [-34.604101, -58.387909, 1.0], [-34.629326, -58.390932, 1.0], [-34.598045, -58.406632, 1.0], [-34.639342, -58.528792, 1.0], [-34.567329, -58.438102, 1.0], [-34.562341, -58.416804, 1.0], [-34.67078, -58.47943, 1.0], [-34.631595, -58.400534, 1.0], [-34.67078, -58.47943, 1.0], [-34.626368, -58.471575, 1.0], [-34.604635, -58.361545, 1.0], [-34.634452, -58.524227, 2.0], [-34.679587, -58.450304, 1.0], [-34.623778, -58.402176, 1.0], [-34.628756, -58.493669, 1.0], [-34.60862, -58.401914, 1.0], [-34.596747, -58.400111, 2.0], [-34.548403, -58.491985, 1.0], [-34.633626, -58.38858, 1.0], [-34.60733, -58.445602, 1.0], [-34.626228, -58.421519, 1.0], [-34.688759, -58.478773, 1.0], [-34.628848, -58.462712, 1.0], [-34.588226, -58.382843, 1.0], [-34.598002, -58.411924, 1.0], [-34.623038, -58.439437, 1.0], [-34.605372, -58.453553, 1.0], [-34.620975, -58.416514, 1.0], [-34.605093, -58.419742, 1.0], [-34.650156, -58.528413, 1.0], [-34.583888, -58.41072, 1.0], [-34.615171, -58.378919, 1.0], [-34.602572, -58.426187, 1.0], [-34.631468, -58.433024, 1.0], [-34.621143, -58.403066, 1.0], [-34.565618, -58.482091, 1.0], [-34.644418, -58.376861, 1.0], [-34.634936, -58.528059, 1.0], [-34.609567, -58.466493, 1.0], [-34.60379, -58.468854, 1.0], [-34.597231, -58.393198, 1.0], [-34.581731, -58.381263, 7.0], [-34.657929, -58.505781, 1.0], [-34.579941, -58.475499, 4.0], [-34.581863, -58.420756, 1.0], [-34.639292, -58.512989, 1.0], [-34.615535, -58.414374, 1.0], [-34.610871, -58.417475, 2.0], [-34.560439, -58.477143, 1.0], [-34.563078, -58.448816, 1.0], [-34.623816, -58.44498, 1.0], [-34.56428, -58.453244, 1.0], [-34.626933, -58.450974, 1.0], [-34.589056, -58.410086, 1.0], [-34.548105, -58.459952, 2.0], [-34.550505, -58.453009, 2.0], [-34.647812, -58.417649, 3.0], [-34.619389, -58.370517, 1.0], [-34.548105, -58.459952, 1.0], [-34.631741, -58.419191, 1.0], [-34.577181, -58.457594, 1.0], [-34.634818, -58.353787, 2.0], [-34.621627, -58.405016, 1.0], [-34.600818, -58.462122, 1.0], [-34.604674, -58.400842, 2.0], [-34.63146, -58.472378, 1.0], [-34.616218, -58.375984, 1.0], [-34.682335, -58.475535, 1.0], [-34.624156, -58.431793, 1.0], [-34.623982, -58.492918, 1.0], [-34.552425, -58.469543, 1.0], [-34.586273, -58.38705, 1.0], [-34.631451, -58.502049, 1.0], [-34.627593, -58.50729, 1.0], [-34.653756, -58.503198, 1.0], [-34.591605, -58.501464, 3.0], [-34.649789, -58.41843, 1.0], [-34.615257, -58.380793, 1.0], [-34.61788, -58.394474, 1.0], [-34.587004, -58.5077, 1.0], [-34.677692, -58.475584, 1.0], [-34.639342, -58.528792, 1.0], [-34.548672, -58.468585, 1.0], [-34.613075, -58.476459, 1.0], [-34.614444, -58.487262, 1.0], [-34.613445, -58.374617, 1.0], [-34.61611, -58.420129, 1.0], [-34.604028, -58.385757, 1.0], [-34.656089, -58.507922, 1.0], [-34.582693, -58.434643, 1.0], [-34.628966, -58.403548, 2.0], [-34.647303, -58.503988, 1.0], [-34.598454, -58.403727, 1.0], [-34.55495, -58.488359, 2.0], [-34.591148, -58.510184, 1.0], [-34.642473, -58.37626, 1.0], [-34.620823, -58.441103, 1.0], [-34.620823, -58.441103, 1.0], [-34.640308, -58.376502, 1.0], [-34.62597, -58.39892, 1.0], [-34.604579, -58.398225, 1.0], [-34.622241, -58.382968, 1.0], [-34.618101, -58.476096, 1.0], [-34.593667, -58.442723, 1.0], [-34.626851, -58.473166, 1.0], [-34.64597, -58.528659, 1.0], [-34.609973, -58.403329, 1.0], [-34.592192, -58.43561, 1.0], [-34.601001, -58.429953, 1.0], [-34.558914, -58.474325, 1.0], [-34.569752, -58.46492, 1.0], [-34.59195, -58.401325, 1.0], [-34.624031, -58.503489, 1.0], [-34.606771, -58.522431, 1.0], [-34.599544, -58.438426, 1.0], [-34.619107, -58.391672, 2.0], [-34.596712, -58.415523, 1.0], [-34.627686, -58.413352, 1.0], [-34.589793, -58.412041, 1.0], [-34.603552, -58.442693, 1.0], [-34.637718, -58.409058, 1.0], [-34.639166, -58.423763, 1.0], [-34.594831, -58.393203, 1.0], [-34.654637, -58.4276, 1.0], [-34.56908, -58.479909, 1.0], [-34.595227, -58.379962, 3.0], [-34.581076, -58.429321, 1.0], [-34.658063, -58.495961, 1.0], [-34.634584, -58.5256, 1.0], [-34.597788, -58.418945, 3.0], [-34.547295, -58.485764, 1.0], [-34.570201, -58.440164, 1.0], [-34.597926, -58.499076, 1.0], [-34.606914, -58.485157, 1.0], [-34.628132, -58.529742, 1.0], [-34.597231, -58.393198, 3.0], [-34.603468, -58.418036, 1.0], [-34.581203, -58.476913, 1.0], [-34.555955, -58.468927, 1.0], [-34.574144, -58.431992, 1.0], [-34.618299, -58.43646, 1.0], [-34.631192, -58.442423, 1.0], [-34.566384, -58.45268, 1.0], [-34.555725, -58.448519, 1.0], [-34.578905, -58.490178, 1.0], [-34.539371, -58.475488, 1.0], [-34.623605, -58.427495, 1.0], [-34.606787, -58.392119, 1.0], [-34.620496, -58.474189, 1.0], [-34.636775, -58.424389, 1.0], [-34.647871, -58.43297, 1.0], [-34.60412, -58.410141, 1.0], [-34.637392, -58.499898, 1.0], [-34.632219, -58.456927, 2.0], [-34.574497, -58.470865, 1.0], [-34.5953, -58.423014, 1.0], [-34.593441, -58.506255, 1.0], [-34.636477, -58.453291, 1.0], [-34.644799, -58.505231, 1.0], [-34.584818, -58.488792, 1.0], [-34.585305, -58.451285, 1.0], [-34.599675, -58.372675, 1.0], [-34.589612, -58.437127, 1.0], [-34.575429, -58.454915, 1.0], [-34.68049, -58.46912, 1.0], [-34.624069, -58.368068, 1.0], [-34.648036, -58.498675, 1.0], [-34.560308, -58.443074, 1.0], [-34.619671, -58.439352, 1.0], [-34.620544, -58.394502, 1.0], [-34.652687, -58.52058, 1.0], [-34.610041, -58.40458, 1.0], [-34.587461, -58.397222, 1.0], [-34.576661, -58.473255, 1.0], [-34.663752, -58.503527, 1.0], [-34.634474, -58.47228, 2.0], [-34.599483, -58.401075, 1.0], [-34.624321, -58.372678, 1.0], [-34.595209, -58.451706, 3.0], [-34.645281, -58.439655, 1.0], [-34.651069, -58.40057, 1.0], [-34.549747, -58.498712, 1.0], [-34.568619, -58.45338, 1.0], [-34.567392, -58.430179, 1.0], [-34.599709, -58.446715, 1.0], [-34.565227, -58.41973, 1.0], [-34.612386, -58.45551, 1.0], [-34.556842, -58.461074, 1.0], [-34.617644, -58.380691, 1.0], [-34.598119, -58.454316, 1.0], [-34.637715, -58.409037, 1.0], [-34.648878, -58.525835, 1.0], [-34.633138, -58.386527, 2.0], [-34.637715, -58.409037, 1.0], [-34.624307, -58.48697, 1.0], [-34.62583, -58.418829, 1.0], [-34.580515, -58.404651, 1.0], [-34.594763, -58.444303, 1.0], [-34.608629, -58.424681, 1.0], [-34.658107, -58.475829, 1.0], [-34.595115, -58.477115, 2.0], [-34.614572, -58.391792, 2.0], [-34.614275, -58.418655, 1.0], [-34.632686, -58.370367, 1.0], [-34.549026, -58.470953, 1.0], [-34.562025, -58.453741, 1.0], [-34.57412, -58.433709, 1.0], [-34.609812, -58.488126, 1.0], [-34.602378, -58.506165, 1.0], [-34.561303, -58.448126, 1.0], [-34.622633, -58.389894, 1.0], [-34.586, -58.407838, 1.0], [-34.605172, -58.36793, 1.0], [-34.624486, -58.394744, 1.0], [-34.678783, -58.495282, 1.0], [-34.647819, -58.404929, 1.0], [-34.620304, -58.515201, 2.0], [-34.659537, -58.510115, 2.0], [-34.640558, -58.529939, 1.0], [-34.584076, -58.489548, 1.0], [-34.609039, -58.372396, 1.0], [-34.631222, -58.356411, 1.0], [-34.616534, -58.38307, 2.0], [-34.579642, -58.423408, 1.0], [-34.589543, -58.505395, 1.0], [-34.602843, -58.405143, 1.0], [-34.607162, -58.429152, 1.0], [-34.615878, -58.481674, 2.0], [-34.640437, -58.424922, 1.0], [-34.583823, -58.453206, 1.0], [-34.642859, -58.434447, 2.0], [-34.661728, -58.479881, 1.0], [-34.594163, -58.421062, 1.0], [-34.637639, -58.500918, 1.0], [-34.628422, -58.470659, 1.0], [-34.597825, -58.417268, 1.0], [-34.682259, -58.482637, 1.0], [-34.639297, -58.526972, 1.0], [-34.624156, -58.431793, 1.0], [-34.612919, -58.377385, 1.0], [-34.580004, -58.51469, 1.0], [-34.587559, -58.409034, 1.0], [-34.599391, -58.501444, 1.0], [-34.59469, -58.374367, 1.0], [-34.57648, -58.476584, 1.0], [-34.579045, -58.40146, 1.0], [-34.608629, -58.424681, 1.0], [-34.604562, -58.405475, 1.0], [-34.632736, -58.490777, 1.0], [-34.586588, -58.385853, 1.0], [-34.606272, -58.451939, 1.0], [-34.650551, -58.409692, 6.0], [-34.651564, -58.428073, 1.0], [-34.587449, -58.424286, 1.0], [-34.621832, -58.461801, 1.0], [-34.620933, -58.417107, 1.0], [-34.603041, -58.495991, 1.0], [-34.624663, -58.466115, 1.0], [-34.569999, -58.509038, 2.0], [-34.620975, -58.416514, 1.0], [-34.67093, -58.485363, 1.0], [-34.580672, -58.375162, 1.0], [-34.584664, -58.392276, 1.0], [-34.63816, -58.377676, 1.0], [-34.622173, -58.473461, 1.0], [-34.609298, -58.376341, 1.0], [-34.561338, -58.473819, 1.0], [-34.631378, -58.41596, 1.0], [-34.667195, -58.5057, 1.0], [-34.564764, -58.499138, 1.0], [-34.609383, -58.386262, 1.0], [-34.597276, -58.43084, 1.0], [-34.629032, -58.426194, 1.0], [-34.554315, -58.477855, 1.0], [-34.651739, -58.472044, 2.0], [-34.586588, -58.385853, 1.0], [-34.584856, -58.426318, 1.0], [-34.628323, -58.506301, 1.0], [-34.613296, -58.45227, 1.0], [-34.641332, -58.362674, 1.0], [-34.606787, -58.392119, 1.0], [-34.599198, -58.51376, 1.0], [-34.633182, -58.500269, 1.0], [-34.573621, -58.487238, 1.0], [-34.58058, -58.422607, 1.0], [-34.571912, -58.478064, 1.0], [-34.610253, -58.480571, 1.0], [-34.633459, -58.359353, 1.0], [-34.55344, -58.439742, 1.0], [-34.61973, -58.378702, 1.0], [-34.594262, -58.494974, 1.0], [-34.661982, -58.517471, 3.0], [-34.621147, -58.417676, 1.0], [-34.597222, -58.441655, 1.0], [-34.655086, -58.412835, 1.0], [-34.562981, -58.439544, 1.0], [-34.60172, -58.406462, 1.0], [-34.592781, -58.432362, 1.0], [-34.593019, -58.507391, 1.0], [-34.610241, -58.391789, 1.0], [-34.590841, -58.446643, 1.0], [-34.691728, -58.47899, 1.0], [-34.63559, -58.506548, 1.0], [-34.640696, -58.50499, 1.0], [-34.674789, -58.466394, 1.0], [-34.625737, -58.471971, 1.0], [-34.577691, -58.449368, 1.0], [-34.557589, -58.460566, 1.0], [-34.608382, -58.441595, 1.0], [-34.630858, -58.38267, 1.0], [-34.58273, -58.399281, 1.0], [-34.602221, -58.399724, 1.0], [-34.612649, -58.374722, 1.0], [-34.617644, -58.380691, 1.0], [-34.627423, -58.471104, 1.0], [-34.591198, -58.40097, 1.0], [-34.627801, -58.381439, 1.0], [-34.67398, -58.501639, 1.0], [-34.634009, -58.438768, 1.0], [-34.657098, -58.518068, 1.0], [-34.625271, -58.478935, 1.0], [-34.631772, -58.469276, 1.0], [-34.628483, -58.433793, 1.0], [-34.602542, -58.409796, 1.0], [-34.623492, -58.384401, 1.0], [-34.672911, -58.435401, 1.0], [-34.617185, -58.428796, 1.0], [-34.620737, -58.502334, 1.0], [-34.615681, -58.453186, 1.0], [-34.565544, -58.453315, 1.0], [-34.652153, -58.501268, 1.0], [-34.626914, -58.471438, 1.0], [-34.632923, -58.467177, 1.0], [-34.649031, -58.377106, 1.0], [-34.587837, -58.39661, 1.0], [-34.605362, -58.387899, 1.0], [-34.603282, -58.396931, 1.0], [-34.623492, -58.384401, 1.0], [-34.625731, -58.454518, 1.0], [-34.639545, -58.448711, 1.0], [-34.614504, -58.403888, 1.0], [-34.645253, -58.370917, 1.0], [-34.574485, -58.501733, 1.0], [-34.608731, -58.434733, 1.0], [-34.599118, -58.406128, 1.0], [-34.656782, -58.437025, 1.0], [-34.67398, -58.501639, 1.0], [-34.597194, -58.38979, 1.0], [-34.606878, -58.43285, 1.0], [-34.610174, -58.414474, 1.0], [-34.618334, -58.368777, 1.0], [-34.610729, -58.380601, 1.0], [-34.584366, -58.417117, 1.0], [-34.634096, -58.389871, 1.0], [-34.615627, -58.390389, 1.0], [-34.563731, -58.445069, 1.0], [-34.636904, -58.466768, 1.0], [-34.626315, -58.455568, 1.0], [-34.628499, -58.474989, 1.0], [-34.544014, -58.485669, 1.0], [-34.618394, -58.428952, 1.0], [-34.622312, -58.384398, 1.0], [-34.585512, -58.4059, 1.0], [-34.596906, -58.409799, 1.0], [-34.640477, -58.486064, 1.0], [-34.579485, -58.453777, 1.0], [-34.623232, -58.397832, 1.0], [-34.611646, -58.490576, 1.0], [-34.626425, -58.440473, 1.0], [-34.623136, -58.37274, 1.0], [-34.554481, -58.463544, 1.0], [-34.683561, -58.48916, 1.0], [-34.6682, -58.48525, 1.0], [-34.609038, -58.381153, 1.0], [-34.622413, -58.374098, 1.0], [-34.622543, -58.430762, 1.0], [-34.607985, -58.39204, 1.0], [-34.558943, -58.447618, 1.0], [-34.594442, -58.402354, 1.0], [-34.626665, -58.456711, 1.0], [-34.574686, -58.453713, 1.0], [-34.609218, -58.369348, 1.0], [-34.649672, -58.469778, 1.0], [-34.652153, -58.501268, 1.0], [-34.628267, -58.478741, 1.0], [-34.622148, -58.381002, 1.0], [-34.584277, -58.375532, 1.0], [-34.587177, -58.405504, 1.0], [-34.539371, -58.475488, 1.0], [-34.554585, -58.485359, 1.0], [-34.554585, -58.485359, 1.0], [-34.628691, -58.401106, 1.0], [-34.648936, -58.416148, 1.0], [-34.588184, -58.417072, 1.0], [-34.602662, -58.385903, 1.0], [-34.608576, -58.383472, 1.0], [-34.591289, -58.377923, 1.0], [-34.649811, -58.391553, 1.0], [-34.603738, -58.382213, 1.0], [-34.595388, -58.398528, 1.0], [-34.628639, -58.47045, 1.0], [-34.652343, -58.472706, 1.0], [-34.622064, -58.377206, 1.0], [-34.626563, -58.464402, 1.0], [-34.581731, -58.381263, 1.0], [-34.613352, -58.403138, 1.0], [-34.553626, -58.469832, 1.0], [-34.559539, -58.445237, 1.0], [-34.650704, -58.424335, 1.0], [-34.604141, -58.409787, 1.0], [-34.634161, -58.462097, 1.0], [-34.657339, -58.42379, 1.0], [-34.634161, -58.462097, 1.0], [-34.623012, -58.405989, 1.0], [-34.643677, -58.470247, 1.0], [-34.654795, -58.482654, 1.0], [-34.669214, -58.489212, 1.0], [-34.60599, -58.475111, 1.0], [-34.626368, -58.380189, 1.0], [-34.554816, -58.4493, 1.0], [-34.660219, -58.473104, 1.0], [-34.616388, -58.521954, 1.0], [-34.643424, -58.466708, 1.0], [-34.650828, -58.482679, 1.0], [-34.613422, -58.405282, 1.0], [-34.655431, -58.522885, 1.0], [-34.656375, -58.524917, 1.0], [-34.616062, -58.373267, 1.0], [-34.619758, -58.380622, 1.0], [-34.622821, -58.392933, 1.0], [-34.646736, -58.484193, 1.0], [-34.625081, -58.361443, 1.0], [-34.659034, -58.51232, 1.0], [-34.642983, -58.432256, 1.0], [-34.604035, -58.380964, 1.0], [-34.58088, -58.450001, 1.0], [-34.599636, -58.392938, 1.0], [-34.600261, -58.423688, 1.0], [-34.615442, -58.412821, 1.0], [-34.618078, -58.390333, 1.0], [-34.614149, -58.39513, 1.0], [-34.603342, -58.405162, 1.0], [-34.559037, -58.466109, 1.0], [-34.656261, -58.477004, 1.0], [-34.651722, -58.423071, 1.0], [-34.617732, -58.383021, 1.0], [-34.622731, -58.391495, 1.0], [-34.64232, -58.372647, 1.0], [-34.571132, -58.469586, 1.0], [-34.637375, -58.504918, 1.0], [-34.586966, -58.396223, 1.0], [-34.599954, -58.428211, 1.0], [-34.610939, -58.469734, 1.0], [-34.660875, -58.515512, 1.0], [-34.621142, -58.515628, 1.0], [-34.623778, -58.402176, 1.0], [-34.61213, -58.425578, 1.0], [-34.619763, -58.382984, 1.0], [-34.599069, -58.382097, 1.0], [-34.613328, -58.385768, 1.0], [-34.539371, -58.475488, 1.0], [-34.606787, -58.392119, 1.0], [-34.627129, -58.457839, 1.0], [-34.580349, -58.431962, 1.0], [-34.608551, -58.491159, 1.0], [-34.563244, -58.46117, 1.0], [-34.622135, -58.380012, 1.0], [-34.612081, -58.400323, 1.0], [-34.622104, -58.484375, 1.0], [-34.669643, -58.464153, 1.0], [-34.594302, -58.430063, 1.0], [-34.639147, -58.526418, 1.0], [-34.594143, -58.379396, 1.0], [-34.633601, -58.492753, 1.0], [-34.622336, -58.511497, 1.0], [-34.59021, -58.43437, 1.0], [-34.626223, -58.438167, 1.0], [-34.654929, -58.472437, 1.0], [-34.611262, -58.405843, 1.0], [-34.613401, -58.485251, 1.0], [-34.6741, -58.479498, 1.0], [-34.684771, -58.44433, 1.0], [-34.619767, -58.437334, 1.0], [-34.558288, -58.459916, 1.0], [-34.609522, -58.461641, 1.0], [-34.585512, -58.4059, 1.0], [-34.601383, -58.381936, 1.0], [-34.562037, -58.456695, 1.0], [-34.600509, -58.38536, 1.0], [-34.617484, -58.502994, 1.0], [-34.630389, -58.363359, 1.0], [-34.618779, -58.503486, 1.0], [-34.630421, -58.433266, 1.0], [-34.645593, -58.467646, 1.0], [-34.556234, -58.458805, 1.0], [-34.65789, -58.510493, 1.0], [-34.630705, -58.469639, 1.0], [-34.593815, -58.393083, 1.0], [-34.609132, -58.390956, 1.0], [-34.620777, -58.499751, 1.0], [-34.619767, -58.437334, 1.0], [-34.625915, -58.454544, 1.0], [-34.615759, -58.456163, 1.0], [-34.62892, -58.470438, 1.0], [-34.627875, -58.381658, 1.0], [-34.678155, -58.496128, 1.0], [-34.633411, -58.503059, 1.0], [-34.626954, -58.450842, 1.0], [-34.562668, -58.450523, 1.0], [-34.622731, -58.391495, 1.0], [-34.600618, -58.443795, 1.0], [-34.616467, -58.381187, 1.0], [-34.602084, -58.425608, 1.0], [-34.64529, -58.484568, 1.0], [-34.614655, -58.531068, 1.0], [-34.628924, -58.481712, 1.0], [-34.552719, -58.468124, 1.0], [-34.617265, -58.372514, 1.0], [-34.612661, -58.391763, 1.0], [-34.671152, -58.490711, 1.0], [-34.631392, -58.472555, 1.0], [-34.614915, -58.391683, 1.0], [-34.606787, -58.376526, 1.0], [-34.622331, -58.470266, 1.0], [-34.629302, -58.455463, 1.0], [-34.661199, -58.479323, 1.0], [-34.59175, -58.412396, 1.0], [-34.622944, -58.39495, 1.0], [-34.558442, -58.450587, 1.0], [-34.615112, -58.462466, 1.0], [-34.616486, -58.381572, 1.0], [-34.630175, -58.431787, 1.0], [-34.631775, -58.499975, 1.0], [-34.672812, -58.477823, 1.0], [-34.58554, -58.393324, 1.0], [-34.673379, -58.480456, 1.0], [-34.562483, -58.450303, 1.0], [-34.633822, -58.521079, 1.0], [-34.645227, -58.37104, 1.0], [-34.673622, -58.49227, 1.0], [-34.60901, -58.444494, 1.0], [-34.632106, -58.357353, 1.0], [-34.59257, -58.427293, 1.0], [-34.629552, -58.443746, 1.0], [-34.585372, -58.434757, 1.0], [-34.62925, -58.464112, 1.0], [-34.640404, -58.518982, 1.0], [-34.635215, -58.412413, 1.0], [-34.631222, -58.454408, 1.0], [-34.676656, -58.484326, 1.0], [-34.609482, -58.396293, 1.0], [-34.627411, -58.429637, 1.0], [-34.590457, -58.518615, 1.0], [-34.676634, -58.498127, 1.0], [-34.647895, -58.384472, 1.0], [-34.57414, -58.498492, 2.0], [-34.5878, -58.412123, 1.0], [-34.635598, -58.448504, 1.0], [-34.592704, -58.405783, 1.0], [-34.560778, -58.4727, 1.0], [-34.596894, -58.384856, 1.0], [-34.583401, -58.47826, 1.0], [-34.591059, -58.4025, 1.0], [-34.580368, -58.481129, 1.0], [-34.59455, -58.386319, 1.0], [-34.603803, -58.415665, 1.0], [-34.593262, -58.396024, 1.0], [-34.640996, -58.479265, 1.0], [-34.623826, -58.449409, 1.0], [-34.569628, -58.476532, 1.0], [-34.624788, -58.479112, 1.0], [-34.57122, -58.490764, 1.0], [-34.606342, -58.405801, 1.0], [-34.613582, -58.369526, 1.0], [-34.610538, -58.411738, 1.0], [-34.562616, -58.457676, 1.0], [-34.613812, -58.392656, 1.0], [-34.633456, -58.513909, 1.0], [-34.640161, -58.464419, 1.0], [-34.627486, -58.378501, 1.0], [-34.627411, -58.429637, 1.0], [-34.604094, -58.460022, 1.0], [-34.64795, -58.371609, 1.0], [-34.566305, -58.461517, 1.0], [-34.605425, -58.506732, 3.0], [-34.63146, -58.472378, 1.0], [-34.610921, -58.383371, 1.0], [-34.551945, -58.473573, 1.0], [-34.600849, -58.452919, 1.0], [-34.641798, -58.389763, 1.0], [-34.626109, -58.385758, 1.0], [-34.556328, -58.503505, 1.0], [-34.633456, -58.513909, 1.0], [-34.556891, -58.465276, 1.0], [-34.625639, -58.475085, 1.0], [-34.695957, -58.467588, 1.0], [-34.543267, -58.463119, 1.0], [-34.564409, -58.44632, 1.0], [-34.605248, -58.455221, 1.0], [-34.629179, -58.441762, 1.0], [-34.634645, -58.485451, 2.0], [-34.604608, -58.44962, 1.0], [-34.619834, -58.456005, 1.0], [-34.622451, -58.459622, 1.0], [-34.635323, -58.424924, 1.0], [-34.615695, -58.417022, 1.0], [-34.618101, -58.476096, 1.0], [-34.61543, -58.483638, 1.0], [-34.57498, -58.415406, 1.0], [-34.535844, -58.466808, 1.0], [-34.604469, -58.370574, 1.0], [-34.629377, -58.35844, 1.0], [-34.618308, -58.448964, 1.0], [-34.614829, -58.390384, 1.0], [-34.543953, -58.460624, 1.0], [-34.62615, -58.429922, 1.0], [-34.549093, -58.454077, 1.0], [-34.591797, -58.454097, 1.0], [-34.654461, -58.411113, 1.0], [-34.585917, -58.449884, 1.0], [-34.632015, -58.412967, 1.0], [-34.589491, -58.48365, 1.0], [-34.656624, -58.457358, 1.0], [-34.611831, -58.380547, 1.0], [-34.68631, -58.48314, 1.0], [-34.655589, -58.374613, 1.0], [-34.54877, -58.468508, 1.0], [-34.639234, -58.377363, 1.0], [-34.559412, -58.454679, 1.0], [-34.618299, -58.43646, 1.0], [-34.540787, -58.449971, 1.0], [-34.588043, -58.507283, 3.0], [-34.608701, -58.376376, 1.0], [-34.58869, -58.450769, 1.0], [-34.553995, -58.494464, 1.0], [-34.549474, -58.5005, 6.0], [-34.598993, -58.485131, 1.0], [-34.609275, -58.39338, 1.0], [-34.639719, -58.479702, 3.0], [-34.645594, -58.520375, 1.0], [-34.644369, -58.405641, 1.0], [-34.628899, -58.522717, 1.0], [-34.636647, -58.393174, 1.0], [-34.557371, -58.44168, 1.0], [-34.65017, -58.383667, 1.0], [-34.58108, -58.506896, 1.0], [-34.63537, -58.395961, 1.0], [-34.604579, -58.398225, 1.0], [-34.605492, -58.494006, 1.0], [-34.557557, -58.456284, 1.0], [-34.595117, -58.399906, 1.0], [-34.584053, -58.393914, 1.0], [-34.649216, -58.373951, 1.0], [-34.611262, -58.405843, 4.0], [-34.626483, -58.44991, 1.0], [-34.55568, -58.443601, 1.0], [-34.610587, -58.363517, 1.0], [-34.624374, -58.465479, 1.0], [-34.60733, -58.445602, 1.0], [-34.652353, -58.387275, 1.0], [-34.580515, -58.404651, 1.0], [-34.601562, -58.433723, 1.0], [-34.647521, -58.487135, 1.0], [-34.561967, -58.46373, 1.0], [-34.55791, -58.463051, 1.0], [-34.657237, -58.477959, 1.0], [-34.628121, -58.434008, 1.0], [-34.570709, -58.507878, 1.0], [-34.623528, -58.482432, 1.0], [-34.582341, -58.40559, 1.0], [-34.549474, -58.5005, 2.0], [-34.599839, -58.429064, 1.0], [-34.597717, -58.414629, 1.0], [-34.587846, -58.401986, 1.0], [-34.598281, -58.499541, 1.0], [-34.677746, -58.464245, 1.0], [-34.600821, -58.503645, 3.0], [-34.597795, -58.483287, 1.0], [-34.540762, -58.474357, 1.0], [-34.655375, -58.414118, 1.0], [-34.656782, -58.437025, 1.0], [-34.566227, -58.494644, 1.0], [-34.599337, -58.441278, 1.0], [-34.541741, -58.480306, 1.0], [-34.620751, -58.358986, 1.0], [-34.70374, -58.461222, 1.0], [-34.563537, -58.496592, 1.0], [-34.563928, -58.455066, 1.0], [-34.57498, -58.415406, 1.0], [-34.569009, -58.409461, 1.0], [-34.594986, -58.38144, 1.0], [-34.54716, -58.479394, 1.0], [-34.647395, -58.498068, 1.0], [-34.603342, -58.405162, 1.0], [-34.548438, -58.455283, 1.0], [-34.632153, -58.468991, 1.0], [-34.63769, -58.4919, 1.0], [-34.636379, -58.529225, 1.0], [-34.60366, -58.47277, 1.0], [-34.594919, -58.44627, 1.0], [-34.595115, -58.477115, 1.0], [-34.583296, -58.426029, 1.0], [-34.637191, -58.454461, 1.0], [-34.598283, -58.515837, 2.0], [-34.626651, -58.406827, 1.0], [-34.622615, -58.371719, 1.0], [-34.641465, -58.407583, 1.0], [-34.641465, -58.407583, 1.0], [-34.651637, -58.419586, 3.0], [-34.587034, -58.385033, 1.0], [-34.608731, -58.434733, 1.0], [-34.589056, -58.410086, 1.0], [-34.627009, -58.491094, 1.0], [-34.6289, -58.454124, 1.0], [-34.590004, -58.430254, 1.0], [-34.591448, -58.434366, 2.0], [-34.611576, -58.516414, 2.0], [-34.635516, -58.467492, 1.0], [-34.614033, -58.404993, 1.0], [-34.631864, -58.527235, 1.0], [-34.597254, -58.449438, 2.0], [-34.609797, -58.400477, 1.0], [-34.619758, -58.380622, 1.0], [-34.678685, -58.47141, 1.0], [-34.615444, -58.504836, 1.0], [-34.549474, -58.5005, 1.0], [-34.626368, -58.380189, 1.0], [-34.554635, -58.439415, 2.0], [-34.585401, -58.44348, 1.0], [-34.609233, -58.391962, 1.0], [-34.613636, -58.388958, 1.0], [-34.60243, -58.491126, 1.0], [-34.628414, -58.461207, 2.0], [-34.674286, -58.470773, 1.0], [-34.568347, -58.437356, 1.0], [-34.60862, -58.419059, 1.0], [-34.609285, -58.407683, 1.0], [-34.572364, -58.420553, 1.0], [-34.549474, -58.5005, 1.0], [-34.623195, -58.398209, 1.0], [-34.654245, -58.436145, 2.0], [-34.556402, -58.464343, 1.0], [-34.657305, -58.509614, 2.0], [-34.648351, -58.507672, 1.0], [-34.592192, -58.43561, 1.0], [-34.634354, -58.471633, 1.0], [-34.614852, -58.440725, 1.0], [-34.576118, -58.483657, 1.0], [-34.603668, -58.380983, 1.0], [-34.597788, -58.418945, 1.0], [-34.6439, -58.50642, 1.0], [-34.635373, -58.368329, 2.0], [-34.639218, -58.526033, 1.0], [-34.559184, -58.427487, 1.0], [-34.589274, -58.4225, 1.0], [-34.577519, -58.479123, 1.0], [-34.56617, -58.432249, 1.0], [-34.604434, -58.434747, 1.0], [-34.599834, -58.430104, 1.0], [-34.564542, -58.457417, 1.0], [-34.623778, -58.402176, 1.0], [-34.633324, -58.476359, 1.0], [-34.558267, -58.463584, 1.0], [-34.636791, -58.403786, 3.0], [-34.577281, -58.409869, 1.0], [-34.640805, -58.456265, 1.0], [-34.626785, -58.395532, 1.0], [-34.679587, -58.450304, 1.0], [-34.603744, -58.508376, 1.0], [-34.661811, -58.441485, 1.0], [-34.622241, -58.382968, 1.0], [-34.647812, -58.417649, 1.0], [-34.58554, -58.393324, 1.0], [-34.614637, -58.404917, 1.0], [-34.583296, -58.426029, 1.0], [-34.578663, -58.425257, 1.0], [-34.580483, -58.390653, 2.0], [-34.639439, -58.418606, 1.0], [-34.591702, -58.447601, 1.0], [-34.633335, -58.370214, 1.0], [-34.672911, -58.435401, 1.0], [-34.60918, -58.519137, 1.0], [-34.660531, -58.478539, 1.0], [-34.621057, -58.432624, 1.0], [-34.627522, -58.458584, 1.0], [-34.569309, -58.500219, 1.0], [-34.579941, -58.475499, 1.0], [-34.572006, -58.47795, 1.0], [-34.623232, -58.397832, 7.0], [-34.600574, -58.445755, 1.0], [-34.628239, -58.418268, 1.0], [-34.589842, -58.394122, 2.0], [-34.582341, -58.40559, 1.0], [-34.6741, -58.479498, 1.0], [-34.611651, -58.510435, 1.0], [-34.573108, -58.489339, 1.0], [-34.57451, -58.431585, 1.0], [-34.57189, -58.480237, 1.0], [-34.619753, -58.38145, 1.0], [-34.647895, -58.384472, 1.0], [-34.560828, -58.487174, 1.0], [-34.595076, -58.520806, 1.0], [-34.631231, -58.506396, 1.0], [-34.565862, -58.482765, 2.0], [-34.644179, -58.416155, 1.0], [-34.596614, -58.438354, 1.0], [-34.645467, -58.401844, 1.0], [-34.61823, -58.442405, 1.0], [-34.628853, -58.43953, 3.0], [-34.685505, -58.473054, 1.0], [-34.62965, -58.46552, 1.0], [-34.623366, -58.44437, 2.0], [-34.634245, -58.390903, 1.0], [-34.651193, -58.416243, 1.0], [-34.593539, -58.431223, 1.0], [-34.601892, -58.457071, 1.0], [-34.653817, -58.517486, 1.0], [-34.602064, -58.394108, 1.0], [-34.616303, -58.477401, 1.0], [-34.602809, -58.486993, 1.0], [-34.629829, -58.470144, 1.0], [-34.608097, -58.52696, 1.0], [-34.591585, -58.38207, 1.0], [-34.604652, -58.525322, 1.0], [-34.56906, -58.508481, 1.0], [-34.535393, -58.46273, 1.0], [-34.623778, -58.402176, 1.0], [-34.556595, -58.468414, 1.0], [-34.604366, -58.405264, 1.0], [-34.549031, -58.47258, 1.0], [-34.610339, -58.391882, 1.0], [-34.565513, -58.481887, 1.0], [-34.577281, -58.409869, 1.0], [-34.639659, -58.434467, 1.0], [-34.636843, -58.403616, 2.0], [-34.648468, -58.516978, 1.0], [-34.554976, -58.502415, 1.0], [-34.588957, -58.389276, 1.0], [-34.627744, -58.485852, 1.0], [-34.608811, -58.4301, 1.0], [-34.578427, -58.477773, 1.0], [-34.558554, -58.504078, 1.0], [-34.599656, -58.406317, 1.0], [-34.582596, -58.445788, 1.0], [-34.583883, -58.45621, 1.0], [-34.572541, -58.482022, 1.0], [-34.638008, -58.376277, 7.0], [-34.626937, -58.382237, 1.0], [-34.658463, -58.511401, 1.0], [-34.658463, -58.511401, 1.0], [-34.612703, -58.381841, 1.0], [-34.660885, -58.506906, 1.0], [-34.588757, -58.48423, 1.0], [-34.549493, -58.464963, 1.0], [-34.641439, -58.442775, 1.0], [-34.63553, -58.417913, 2.0], [-34.613232, -58.383224, 3.0], [-34.601437, -58.465433, 1.0], [-34.549523, -58.490008, 2.0], [-34.627833, -58.50404, 1.0], [-34.562947, -58.438179, 1.0], [-34.565873, -58.501436, 1.0], [-34.579776, -58.405572, 1.0], [-34.660535, -58.450919, 1.0], [-34.628726, -58.439174, 1.0], [-34.703796, -58.460718, 1.0], [-34.665494, -58.512803, 1.0], [-34.591585, -58.38207, 1.0], [-34.642978, -58.528875, 1.0], [-34.579941, -58.475499, 1.0], [-34.620894, -58.491279, 1.0], [-34.629326, -58.390932, 1.0], [-34.620537, -58.444887, 1.0], [-34.567297, -58.474569, 1.0], [-34.618917, -58.416783, 1.0], [-34.593965, -58.440835, 1.0], [-34.604495, -58.424343, 1.0], [-34.63695, -58.357916, 1.0], [-34.578547, -58.439942, 1.0], [-34.605561, -58.41985, 1.0], [-34.646001, -58.467123, 1.0], [-34.62157, -58.37718, 3.0], [-34.594655, -58.397158, 1.0], [-34.622514, -58.430051, 1.0], [-34.576542, -58.500404, 1.0], [-34.656247, -58.414914, 1.0], [-34.634056, -58.466682, 1.0], [-34.676881, -58.467607, 1.0], [-34.617254, -58.434311, 1.0], [-34.628508, -58.437172, 2.0], [-34.550099, -58.500426, 1.0], [-34.558789, -58.451155, 1.0], [-34.618446, -58.490487, 1.0], [-34.650853, -58.440746, 1.0], [-34.616467, -58.528299, 1.0], [-34.619754, -58.400454, 1.0], [-34.635523, -58.396352, 1.0], [-34.604806, -58.402602, 1.0], [-34.579847, -58.491662, 1.0], [-34.622436, -58.470729, 1.0], [-34.608146, -58.366536, 2.0], [-34.585457, -58.366637, 1.0], [-34.649921, -58.503925, 1.0], [-34.625114, -58.510559, 1.0], [-34.620619, -58.384309, 1.0], [-34.684771, -58.44433, 1.0], [-34.571168, -58.423249, 1.0], [-34.57464, -58.460007, 1.0], [-34.615547, -58.430256, 1.0], [-34.652511, -58.433681, 3.0], [-34.617043, -58.404144, 1.0], [-34.607276, -58.419967, 1.0], [-34.629534, -58.494851, 1.0], [-34.586963, -58.42124, 1.0], [-34.648423, -58.416287, 1.0], [-34.605208, -58.459514, 1.0], [-34.623979, -58.389762, 1.0], [-34.628285, -58.43565, 1.0], [-34.597218, -58.391813, 1.0], [-34.622691, -58.365213, 1.0], [-34.583459, -58.406178, 1.0], [-34.561756, -58.44419, 1.0], [-34.572009, -58.458802, 1.0], [-34.646656, -58.467545, 1.0], [-34.601115, -58.399813, 1.0], [-34.659576, -58.442772, 1.0], [-34.633753, -58.47001, 1.0], [-34.627863, -58.380699, 1.0], [-34.646953, -58.469643, 1.0], [-34.582548, -58.438362, 1.0], [-34.592567, -58.410921, 1.0], [-34.655589, -58.374613, 1.0], [-34.597218, -58.391813, 1.0], [-34.554481, -58.463544, 1.0], [-34.668259, -58.436353, 1.0], [-34.592139, -58.433156, 1.0], [-34.59137, -58.41575, 1.0], [-34.560209, -58.456701, 1.0], [-34.642921, -58.460716, 1.0], [-34.618786, -58.387426, 1.0], [-34.610941, -58.417344, 6.0], [-34.587728, -58.445807, 2.0], [-34.595718, -58.443141, 1.0], [-34.612111, -58.366299, 1.0], [-34.644604, -58.414163, 1.0], [-34.648413, -58.499041, 1.0], [-34.609982, -58.404976, 1.0], [-34.595514, -58.428093, 1.0], [-34.614357, -58.52466, 1.0], [-34.575033, -58.471806, 1.0], [-34.556625, -58.45126, 1.0], [-34.56118, -58.468893, 1.0], [-34.625852, -58.524936, 1.0], [-34.657841, -58.478816, 1.0], [-34.581378, -58.494256, 1.0], [-34.561466, -58.457349, 1.0], [-34.594373, -58.511376, 1.0], [-34.584513, -58.444788, 1.0], [-34.649106, -58.499793, 1.0], [-34.651188, -58.482475, 1.0], [-34.61223, -58.41678, 1.0], [-34.580502, -58.450955, 1.0], [-34.60489, -58.421192, 1.0], [-34.674467, -58.472162, 1.0], [-34.558802, -58.444093, 1.0], [-34.568976, -58.501574, 1.0], [-34.65143, -58.396622, 1.0], [-34.584308, -58.3903, 1.0], [-34.58902, -58.398622, 1.0], [-34.627701, -58.49022, 1.0], [-34.632428, -58.367814, 1.0], [-34.623416, -58.399281, 1.0], [-34.628853, -58.43953, 4.0], [-34.654263, -58.507567, 1.0], [-34.630362, -58.468303, 1.0], [-34.578517, -58.460138, 1.0], [-34.588357, -58.388122, 3.0], [-34.664989, -58.469389, 1.0], [-34.560391, -58.490022, 1.0], [-34.646391, -58.378227, 1.0], [-34.569009, -58.409461, 1.0], [-34.613884, -58.459449, 2.0], [-34.651187, -58.443326, 1.0], [-34.661709, -58.517175, 2.0], [-34.589863, -58.398612, 1.0], [-34.616467, -58.528299, 1.0], [-34.667953, -58.475583, 2.0], [-34.582411, -58.427185, 2.0], [-34.649918, -58.464518, 1.0], [-34.552578, -58.462703, 1.0], [-34.60489, -58.421192, 1.0], [-34.585261, -58.461383, 1.0], [-34.625111, -58.376758, 1.0], [-34.598121, -58.40466, 1.0], [-34.637466, -58.449447, 1.0], [-34.619434, -58.439016, 1.0], [-34.587277, -58.424417, 1.0], [-34.613993, -58.409878, 1.0], [-34.635516, -58.467492, 2.0], [-34.637113, -58.459961, 1.0], [-34.604136, -58.413188, 1.0], [-34.636201, -58.40049, 1.0], [-34.604634, -58.399486, 1.0], [-34.627575, -58.458713, 1.0], [-34.622276, -58.414951, 1.0], [-34.653695, -58.416594, 1.0], [-34.599984, -58.513052, 1.0], [-34.592198, -58.423322, 1.0], [-34.60988, -58.403076, 1.0], [-34.621191, -58.41943, 1.0], [-34.581731, -58.381263, 1.0], [-34.634159, -58.524245, 1.0], [-34.593987, -58.400094, 1.0], [-34.636379, -58.529225, 2.0], [-34.549474, -58.5005, 1.0], [-34.60425, -58.509191, 1.0], [-34.618112, -58.426564, 1.0], [-34.605991, -58.398316, 1.0], [-34.650737, -58.411465, 1.0], [-34.598068, -58.408153, 1.0], [-34.609373, -58.517375, 1.0], [-34.622575, -58.372796, 1.0], [-34.627423, -58.471104, 1.0], [-34.604014, -58.414519, 1.0], [-34.605447, -58.389346, 1.0], [-34.64584, -58.417453, 1.0], [-34.602249, -58.467334, 2.0], [-34.60221, -58.400907, 1.0], [-34.629491, -58.370666, 1.0], [-34.589029, -58.442277, 1.0], [-34.598974, -58.439767, 1.0], [-34.641446, -58.393131, 1.0], [-34.614388, -58.383119, 2.0], [-34.627741, -58.422531, 1.0], [-34.599769, -58.405303, 1.0], [-34.557384, -58.466219, 1.0], [-34.583725, -58.446853, 1.0], [-34.584759, -58.516015, 1.0], [-34.601206, -58.381071, 1.0], [-34.576847, -58.405076, 1.0], [-34.575591, -58.445766, 1.0], [-34.610982, -58.529335, 1.0], [-34.57567, -58.46281, 1.0], [-34.644101, -58.38958, 1.0], [-34.622633, -58.389894, 1.0], [-34.556083, -58.456209, 1.0], [-34.621188, -58.473904, 1.0], [-34.62833, -58.40849, 1.0], [-34.616862, -58.433428, 1.0], [-34.58889, -58.492732, 1.0], [-34.605024, -58.465526, 1.0], [-34.647502, -58.418556, 1.0], [-34.637542, -58.388872, 1.0], [-34.562902, -58.462919, 1.0], [-34.641054, -58.428569, 1.0], [-34.612663, -58.503686, 1.0], [-34.624205, -58.413659, 1.0], [-34.613433, -58.386082, 2.0], [-34.683923, -58.469631, 1.0], [-34.636718, -58.397034, 1.0], [-34.613995, -58.377543, 1.0], [-34.639333, -58.418484, 1.0], [-34.651212, -58.506268, 1.0], [-34.635059, -58.486413, 1.0], [-34.61846, -58.397521, 1.0], [-34.647606, -58.376326, 1.0], [-34.639179, -58.526809, 1.0], [-34.579243, -58.454864, 1.0], [-34.628018, -58.433821, 1.0], [-34.541608, -58.44324, 1.0], [-34.651176, -58.467398, 1.0], [-34.604491, -58.458475, 1.0], [-34.621685, -58.36832, 1.0], [-34.631498, -58.454379, 1.0], [-34.59175, -58.412396, 1.0], [-34.606628, -58.389314, 1.0], [-34.60925, -58.484992, 1.0], [-34.600452, -58.416148, 1.0], [-34.62499, -58.440623, 1.0], [-34.627233, -58.358619, 1.0], [-34.608941, -58.516674, 1.0], [-34.609294, -58.375856, 1.0], [-34.608629, -58.424681, 1.0], [-34.625138, -58.413577, 1.0], [-34.550561, -58.485902, 1.0], [-34.628089, -58.481265, 1.0], [-34.61823, -58.442405, 1.0], [-34.602861, -58.424107, 1.0], [-34.625098, -58.412477, 1.0], [-34.588442, -58.430712, 5.0], [-34.673099, -58.476557, 1.0], [-34.620823, -58.441103, 1.0], [-34.678091, -58.48419, 1.0], [-34.620496, -58.474189, 1.0], [-34.640349, -58.377097, 1.0], [-34.645847, -58.491425, 1.0], [-34.554549, -58.493239, 1.0], [-34.633822, -58.521079, 1.0], [-34.585551, -58.488085, 1.0], [-34.598844, -58.378731, 1.0], [-34.637477, -58.40814, 1.0], [-34.593125, -58.432017, 1.0], [-34.661982, -58.517471, 1.0], [-34.616218, -58.375984, 1.0], [-34.63718, -58.368048, 1.0], [-34.609238, -58.418662, 2.0], [-34.555301, -58.495679, 1.0], [-34.569999, -58.509038, 1.0], [-34.602407, -58.488892, 1.0], [-34.635624, -58.424634, 1.0], [-34.627701, -58.49022, 1.0], [-34.587034, -58.385033, 1.0], [-34.674964, -58.471537, 1.0], [-34.630298, -58.449824, 1.0], [-34.595558, -58.397377, 1.0], [-34.583347, -58.450288, 1.0], [-34.599115, -58.423577, 1.0], [-34.62583, -58.418829, 1.0], [-34.683772, -58.488679, 3.0], [-34.625435, -58.416104, 1.0], [-34.681318, -58.470071, 1.0], [-34.614655, -58.531068, 1.0], [-34.628463, -58.517481, 1.0], [-34.639632, -58.44791, 3.0], [-34.607085, -58.451689, 1.0], [-34.607085, -58.451689, 1.0], [-34.621685, -58.36832, 1.0], [-34.639135, -58.517408, 1.0], [-34.597854, -58.416005, 1.0], [-34.617732, -58.383021, 1.0], [-34.600574, -58.445755, 1.0], [-34.602249, -58.467334, 1.0], [-34.617004, -58.368691, 1.0], [-34.669129, -58.508095, 1.0], [-34.626453, -58.392313, 1.0], [-34.624598, -58.40888, 1.0], [-34.656089, -58.507922, 1.0], [-34.63431, -58.434621, 1.0], [-34.633173, -58.478709, 1.0], [-34.625695, -58.43184, 1.0], [-34.624841, -58.408909, 1.0], [-34.576032, -58.462377, 1.0], [-34.64258, -58.413055, 1.0], [-34.64258, -58.413055, 3.0], [-34.609886, -58.401787, 1.0], [-34.591819, -58.396007, 1.0], [-34.610155, -58.491039, 1.0], [-34.58869, -58.450769, 2.0], [-34.67398, -58.501639, 1.0], [-34.557336, -58.463907, 1.0], [-34.619991, -58.508829, 1.0], [-34.63067, -58.413076, 1.0], [-34.640477, -58.486064, 1.0], [-34.624457, -58.505766, 1.0], [-34.611701, -58.514328, 1.0], [-34.628449, -58.516378, 1.0], [-34.606457, -58.404664, 1.0], [-34.581709, -58.437402, 1.0], [-34.599673, -58.394403, 1.0], [-34.625164, -58.472117, 1.0], [-34.610769, -58.408855, 1.0], [-34.599308, -58.450878, 1.0], [-34.613453, -58.405025, 1.0], [-34.657803, -58.495438, 3.0], [-34.657803, -58.495438, 3.0], [-34.606557, -58.405604, 1.0], [-34.68359, -58.48892, 5.0], [-34.596367, -58.498383, 1.0], [-34.585247, -58.441453, 1.0], [-34.580402, -58.455582, 1.0], [-34.632153, -58.468991, 1.0], [-34.656706, -58.508773, 1.0], [-34.623986, -58.391438, 1.0], [-34.616291, -58.377433, 2.0], [-34.618603, -58.384912, 1.0], [-34.585527, -58.451332, 1.0], [-34.598485, -58.436598, 1.0], [-34.616877, -58.366601, 1.0], [-34.636135, -58.458541, 1.0], [-34.626018, -58.519533, 1.0], [-34.566109, -58.45229, 1.0], [-34.609537, -58.464248, 1.0], [-34.59021, -58.43437, 2.0], [-34.597296, -58.489525, 1.0], [-34.586787, -58.436677, 6.0], [-34.637502, -58.416168, 1.0], [-34.652015, -58.416374, 1.0], [-34.55041, -58.475419, 1.0], [-34.591879, -58.390163, 1.0], [-34.571128, -58.442547, 1.0], [-34.626169, -58.400187, 1.0], [-34.655488, -58.43842, 1.0], [-34.579403, -58.469522, 1.0], [-34.558509, -58.486085, 1.0], [-34.624107, -58.464372, 1.0], [-34.596743, -58.400291, 1.0], [-34.643119, -58.439228, 1.0], [-34.597833, -58.421064, 1.0], [-34.618754, -58.402252, 1.0], [-34.610798, -58.439303, 1.0], [-34.618838, -58.403518, 1.0], [-34.646001, -58.467123, 1.0], [-34.59153, -58.425894, 1.0], [-34.621817, -58.406157, 1.0], [-34.67398, -58.501639, 1.0], [-34.624917, -58.469184, 2.0], [-34.616349, -58.509814, 1.0], [-34.652806, -58.493356, 1.0], [-34.572671, -58.483646, 1.0], [-34.670053, -58.443863, 1.0], [-34.564862, -58.48084, 1.0], [-34.65323, -58.483205, 1.0], [-34.647142, -58.486022, 1.0], [-34.651173, -58.470115, 1.0], [-34.588594, -58.494793, 2.0], [-34.614853, -58.373192, 2.0], [-34.577281, -58.409869, 1.0], [-34.57498, -58.415406, 1.0], [-34.628735, -58.409978, 1.0], [-34.577281, -58.409869, 1.0], [-34.603991, -58.386529, 1.0], [-34.638428, -58.413196, 2.0], [-34.634565, -58.384593, 1.0], [-34.557637, -58.446873, 1.0], [-34.629873, -58.5063, 1.0], [-34.566785, -58.455435, 1.0], [-34.624025, -58.366625, 2.0], [-34.636526, -58.524003, 2.0], [-34.583189, -58.444577, 2.0], [-34.605651, -58.454003, 1.0], [-34.571168, -58.423249, 1.0], [-34.618754, -58.402252, 1.0], [-34.613908, -58.366823, 1.0], [-34.631936, -58.478895, 1.0], [-34.608576, -58.383472, 2.0], [-34.62892, -58.470438, 2.0], [-34.673268, -58.502576, 1.0], [-34.621385, -58.388748, 1.0], [-34.621385, -58.388748, 1.0], [-34.584759, -58.516015, 1.0], [-34.611479, -58.421014, 1.0], [-34.602122, -58.454993, 1.0], [-34.611689, -58.465745, 1.0], [-34.643877, -58.528817, 1.0], [-34.598363, -58.427856, 1.0], [-34.636791, -58.403786, 1.0], [-34.6302, -58.389169, 1.0], [-34.57414, -58.498492, 1.0], [-34.584185, -58.390569, 1.0], [-34.651705, -58.40741, 1.0], [-34.604697, -58.447859, 1.0], [-34.598363, -58.427856, 1.0], [-34.629326, -58.390932, 1.0], [-34.658187, -58.388455, 1.0], [-34.618236, -58.414097, 1.0], [-34.549474, -58.5005, 1.0], [-34.641204, -58.458602, 1.0], [-34.608097, -58.52696, 1.0], [-34.591585, -58.38207, 1.0], [-34.606545, -58.40595, 1.0], [-34.589346, -58.429232, 1.0], [-34.586981, -58.45512, 1.0], [-34.604434, -58.392293, 1.0], [-34.623229, -58.398474, 1.0], [-34.622513, -58.37281, 1.0], [-34.680767, -58.480948, 1.0], [-34.58089, -58.410311, 1.0], [-34.637178, -58.439365, 1.0], [-34.5831, -58.431674, 1.0], [-34.626109, -58.385758, 1.0], [-34.650456, -58.404669, 3.0], [-34.630327, -58.411309, 5.0], [-34.655089, -58.472608, 1.0], [-34.664788, -58.481292, 1.0], [-34.611087, -58.386161, 1.0], [-34.632071, -58.48473, 1.0], [-34.599792, -58.442785, 1.0], [-34.593714, -58.376495, 1.0], [-34.589996, -58.516664, 1.0], [-34.559228, -58.459098, 1.0], [-34.625435, -58.416104, 1.0], [-34.614484, -58.403532, 1.0], [-34.622148, -58.381002, 2.0], [-34.637502, -58.416168, 1.0], [-34.613823, -58.391717, 1.0], [-34.602581, -58.382282, 1.0], [-34.67398, -58.501639, 3.0], [-34.547957, -58.49491, 1.0], [-34.625662, -58.417686, 1.0], [-34.581206, -58.373553, 1.0], [-34.623057, -58.396368, 1.0], [-34.55288, -58.490178, 1.0], [-34.627554, -58.45757, 1.0], [-34.553595, -58.434657, 1.0], [-34.619431, -58.406392, 1.0], [-34.618157, -58.391704, 1.0], [-34.635516, -58.467492, 1.0], [-34.636487, -58.477351, 2.0], [-34.593098, -58.446231, 1.0], [-34.627453, -58.401334, 2.0], [-34.638699, -58.499222, 1.0], [-34.600389, -58.502837, 1.0], [-34.600389, -58.502837, 1.0], [-34.594197, -58.397981, 1.0], [-34.578208, -58.429426, 1.0], [-34.670846, -58.47621, 1.0], [-34.640362, -58.527599, 1.0], [-34.613708, -58.494173, 1.0], [-34.619362, -58.435917, 1.0], [-34.599312, -58.479663, 1.0], [-34.657518, -58.417823, 1.0], [-34.600825, -58.453089, 1.0], [-34.598454, -58.403727, 1.0], [-34.559539, -58.445237, 1.0], [-34.609918, -58.515934, 1.0], [-34.626847, -58.514558, 1.0], [-34.564328, -58.469612, 1.0], [-34.653032, -58.504069, 1.0], [-34.627815, -58.468559, 1.0], [-34.599353, -58.388154, 1.0], [-34.604082, -58.411747, 1.0], [-34.641875, -58.402654, 1.0], [-34.556614, -58.457102, 1.0], [-34.584682, -58.43382, 1.0], [-34.611137, -58.520402, 1.0], [-34.554869, -58.48385, 2.0], [-34.621188, -58.473904, 1.0], [-34.596614, -58.438354, 1.0], [-34.592908, -58.403052, 1.0], [-34.616376, -58.501953, 1.0], [-34.619123, -58.501761, 1.0], [-34.610722, -58.405817, 1.0], [-34.621876, -58.486183, 1.0], [-34.632101, -58.464319, 2.0], [-34.628535, -58.47982, 1.0], [-34.644694, -58.497203, 1.0], [-34.595076, -58.520806, 1.0], [-34.547957, -58.49491, 1.0], [-34.626933, -58.450974, 1.0], [-34.602071, -58.432202, 1.0], [-34.559228, -58.459098, 1.0], [-34.578663, -58.425257, 1.0], [-34.609614, -58.486472, 3.0], [-34.613929, -58.393239, 1.0], [-34.597788, -58.465943, 1.0], [-34.63259, -58.482258, 1.0], [-34.608207, -58.463947, 1.0], [-34.649696, -58.416346, 1.0], [-34.654294, -58.383351, 2.0], [-34.63745, -58.424315, 1.0], [-34.605885, -58.460514, 1.0], [-34.605349, -58.522021, 1.0], [-34.613607, -58.423333, 1.0], [-34.648383, -58.468755, 1.0], [-34.614074, -58.437815, 1.0], [-34.677334, -58.47949, 1.0], [-34.598919, -58.441626, 1.0], [-34.617252, -58.372853, 1.0], [-34.55864, -58.458108, 1.0], [-34.635874, -58.441491, 1.0], [-34.626785, -58.395532, 1.0], [-34.660163, -58.475869, 1.0], [-34.609958, -58.421284, 4.0], [-34.579161, -58.40633, 1.0], [-34.582251, -58.443782, 1.0], [-34.661982, -58.517471, 1.0], [-34.569953, -58.444888, 1.0], [-34.569953, -58.444888, 1.0], [-34.624069, -58.368068, 1.0], [-34.625253, -58.443326, 1.0], [-34.631121, -58.399168, 1.0], [-34.615143, -58.394633, 1.0], [-34.587003, -58.41316, 1.0], [-34.6034, -58.401304, 1.0], [-34.642784, -58.492419, 1.0], [-34.566143, -58.439417, 1.0], [-34.636204, -58.50414, 1.0], [-34.62109, -58.41807, 1.0], [-34.543011, -58.472693, 1.0], [-34.602651, -58.415474, 1.0], [-34.653006, -58.434577, 1.0], [-34.631318, -58.387811, 1.0], [-34.685324, -58.484118, 1.0], [-34.559148, -58.449401, 1.0], [-34.56985, -58.448808, 1.0], [-34.568595, -58.421858, 2.0], [-34.57268, -58.460731, 1.0], [-34.674535, -58.446891, 1.0], [-34.571168, -58.423249, 1.0], [-34.627066, -58.383797, 1.0], [-34.652924, -58.491573, 1.0], [-34.63042, -58.417334, 1.0], [-34.64529, -58.484568, 3.0], [-34.608538, -58.399666, 1.0], [-34.656375, -58.524917, 1.0], [-34.595439, -58.382419, 1.0], [-34.626847, -58.514558, 1.0], [-34.596925, -58.458248, 1.0], [-34.563582, -58.468292, 1.0], [-34.589265, -58.499498, 1.0], [-34.584986, -58.391009, 1.0], [-34.597854, -58.371153, 1.0], [-34.622148, -58.381002, 1.0], [-34.584986, -58.391009, 1.0], [-34.582266, -58.425112, 1.0], [-34.550495, -58.47343, 1.0], [-34.584682, -58.43382, 1.0], [-34.54737, -58.456516, 1.0], [-34.663414, -58.507053, 2.0], [-34.608146, -58.366536, 1.0], [-34.591688, -58.374652, 1.0], [-34.588684, -58.446009, 1.0], [-34.548945, -58.482692, 1.0], [-34.62925, -58.464112, 1.0], [-34.567268, -58.407866, 1.0], [-34.593057, -58.381525, 1.0], [-34.63241, -58.450241, 1.0], [-34.612111, -58.366299, 1.0], [-34.583421, -58.418649, 1.0], [-34.609087, -58.381948, 2.0], [-34.650368, -58.459371, 1.0], [-34.629908, -58.364089, 1.0], [-34.607201, -58.37501, 1.0], [-34.625715, -58.529911, 1.0], [-34.604434, -58.392293, 1.0], [-34.555482, -58.462534, 1.0], [-34.585699, -58.460332, 1.0], [-34.656375, -58.524917, 2.0], [-34.593539, -58.431223, 1.0], [-34.627796, -58.382087, 1.0], [-34.603013, -58.370417, 1.0], [-34.603033, -58.461254, 1.0], [-34.580145, -58.447486, 1.0], [-34.565104, -58.440156, 1.0], [-34.579161, -58.40633, 1.0], [-34.597843, -58.381348, 1.0], [-34.60876, -58.403859, 1.0], [-34.614244, -58.381284, 1.0], [-34.619758, -58.380622, 1.0], [-34.602412, -58.423996, 1.0], [-34.62925, -58.464112, 1.0], [-34.638729, -58.529852, 2.0], [-34.60618, -58.49342, 1.0], [-34.621539, -58.424044, 3.0], [-34.651467, -58.467065, 2.0], [-34.629326, -58.390932, 1.0], [-34.612198, -58.482832, 1.0], [-34.633188, -58.529437, 1.0], [-34.635821, -58.489567, 1.0], [-34.581734, -58.479183, 1.0], [-34.670435, -58.465166, 2.0], [-34.581332, -58.41835, 3.0], [-34.586588, -58.385853, 1.0], [-34.604461, -58.393864, 1.0], [-34.633002, -58.520522, 1.0], [-34.582236, -58.410194, 1.0], [-34.625936, -58.428442, 1.0], [-34.604034, -58.412588, 1.0], [-34.629179, -58.441762, 3.0], [-34.61838, -58.395996, 1.0], [-34.617637, -58.380282, 1.0], [-34.603551, -58.43356, 1.0], [-34.606166, -58.452017, 1.0], [-34.62818, -58.475184, 1.0], [-34.566797, -58.483334, 1.0], [-34.596688, -58.381425, 1.0], [-34.614444, -58.438994, 2.0], [-34.586546, -58.39825, 1.0], [-34.627163, -58.488911, 1.0], [-34.580298, -58.449662, 1.0], [-34.581744, -58.439387, 1.0], [-34.660544, -58.508909, 4.0], [-34.615842, -58.420084, 1.0], [-34.620496, -58.474189, 1.0], [-34.583442, -58.404033, 1.0], [-34.572981, -58.488061, 1.0], [-34.622872, -58.393772, 1.0], [-34.630705, -58.469639, 2.0], [-34.547957, -58.49491, 1.0], [-34.666769, -58.440949, 1.0], [-34.605286, -58.472438, 1.0], [-34.536997, -58.466862, 1.0], [-34.582757, -58.448876, 2.0], [-34.632794, -58.502405, 1.0], [-34.653795, -58.410223, 1.0], [-34.572023, -58.441136, 1.0], [-34.629674, -58.49629, 1.0], [-34.595117, -58.399906, 1.0], [-34.616104, -58.470389, 1.0], [-34.565855, -58.479907, 1.0], [-34.642932, -58.448056, 3.0], [-34.655104, -58.470411, 2.0], [-34.609656, -58.477483, 1.0], [-34.635516, -58.467492, 1.0], [-34.632911, -58.478617, 1.0], [-34.629163, -58.473435, 1.0], [-34.604461, -58.393864, 1.0], [-34.649357, -58.5158, 1.0], [-34.611885, -58.438897, 1.0], [-34.641113, -58.45684, 1.0], [-34.563927, -58.48155, 1.0], [-34.601406, -58.399742, 1.0], [-34.603357, -58.462912, 1.0], [-34.629886, -58.409874, 1.0], [-34.600933, -58.39567, 1.0], [-34.571369, -58.41187, 1.0], [-34.635545, -58.440303, 1.0], [-34.607526, -58.384923, 1.0], [-34.646463, -58.450195, 1.0], [-34.631741, -58.419191, 3.0], [-34.625435, -58.416104, 1.0], [-34.546172, -58.490232, 4.0], [-34.674014, -58.481204, 1.0], [-34.614135, -58.396141, 1.0], [-34.535844, -58.466808, 1.0], [-34.614135, -58.396141, 1.0], [-34.621375, -58.374264, 1.0], [-34.615257, -58.380793, 1.0], [-34.603991, -58.386529, 1.0], [-34.660135, -58.482332, 1.0], [-34.696301, -58.472035, 1.0], [-34.554519, -58.466385, 1.0], [-34.591716, -58.510924, 1.0], [-34.559184, -58.427487, 1.0], [-34.654337, -58.376333, 1.0], [-34.634882, -58.424926, 1.0], [-34.565674, -58.453326, 1.0], [-34.614915, -58.391683, 1.0], [-34.633459, -58.368591, 1.0], [-34.644509, -58.424862, 1.0], [-34.572783, -58.498497, 1.0], [-34.616467, -58.381187, 1.0], [-34.576729, -58.498844, 1.0], [-34.599089, -58.382528, 1.0], [-34.564889, -58.434413, 5.0], [-34.604445, -58.516922, 1.0], [-34.621829, -58.476741, 1.0], [-34.617644, -58.380691, 1.0], [-34.59651, -58.462323, 1.0], [-34.634561, -58.529449, 2.0], [-34.611381, -58.374763, 1.0], [-34.618299, -58.43646, 1.0], [-34.633822, -58.521079, 2.0], [-34.589129, -58.399834, 1.0], [-34.630364, -58.396264, 2.0], [-34.561822, -58.451313, 1.0], [-34.628785, -58.480484, 1.0], [-34.662439, -58.472988, 1.0], [-34.639007, -58.519752, 1.0], [-34.63946, -58.442572, 1.0], [-34.587824, -58.500798, 1.0], [-34.632206, -58.501039, 1.0], [-34.668337, -58.442349, 2.0], [-34.670059, -58.495735, 1.0], [-34.608276, -58.489553, 1.0], [-34.610921, -58.403246, 1.0], [-34.624246, -58.380074, 1.0], [-34.590384, -58.41708, 1.0], [-34.636653, -58.471302, 2.0], [-34.654853, -58.418894, 1.0], [-34.594204, -58.393231, 1.0], [-34.57823, -58.38623, 1.0], [-34.657841, -58.478816, 1.0], [-34.584657, -58.413408, 1.0], [-34.632153, -58.468991, 1.0], [-34.566144, -58.501996, 1.0], [-34.588108, -58.439392, 1.0], [-34.611834, -58.391688, 1.0], [-34.586761, -58.439281, 1.0], [-34.543514, -58.447681, 3.0], [-34.669129, -58.508095, 1.0], [-34.631208, -58.481365, 1.0], [-34.622517, -58.491142, 1.0], [-34.600053, -58.398731, 1.0], [-34.602745, -58.367247, 1.0], [-34.56578, -58.491772, 1.0], [-34.610394, -58.410778, 1.0], [-34.625715, -58.529911, 1.0], [-34.585917, -58.449884, 1.0], [-34.646022, -58.420043, 1.0], [-34.669129, -58.508095, 1.0], [-34.579642, -58.423408, 2.0], [-34.674507, -58.457409, 1.0], [-34.632607, -58.426937, 4.0], [-34.588791, -58.384956, 1.0], [-34.675425, -58.473424, 1.0], [-34.681445, -58.480172, 3.0], [-34.612067, -58.521941, 1.0], [-34.613863, -58.374929, 1.0], [-34.624937, -58.388396, 1.0], [-34.607382, -58.514271, 1.0], [-34.62718, -58.445505, 1.0], [-34.612842, -58.524601, 2.0], [-34.656481, -58.374077, 1.0], [-34.611936, -58.398831, 1.0], [-34.549474, -58.5005, 9.0], [-34.648413, -58.499041, 2.0], [-34.601115, -58.399813, 1.0], [-34.603803, -58.415665, 1.0], [-34.618157, -58.391704, 1.0], [-34.651548, -58.394186, 2.0], [-34.559865, -58.448194, 1.0], [-34.618601, -58.400045, 1.0], [-34.632069, -58.355899, 2.0], [-34.618134, -58.530338, 1.0], [-34.651033, -58.482476, 2.0], [-34.609156, -58.410389, 1.0], [-34.575099, -58.425256, 1.0], [-34.575099, -58.425256, 1.0], [-34.609493, -58.489752, 4.0], [-34.608456, -58.381978, 1.0], [-34.635215, -58.412413, 1.0], [-34.652015, -58.416374, 1.0], [-34.622488, -58.47343, 1.0], [-34.61755, -58.400136, 2.0], [-34.604676, -58.46165, 1.0], [-34.643055, -58.516426, 1.0], [-34.660758, -58.50386, 4.0], [-34.622135, -58.380012, 1.0], [-34.643877, -58.528817, 3.0], [-34.585025, -58.399937, 2.0], [-34.612613, -58.41344, 1.0], [-34.584756, -58.391726, 2.0], [-34.648762, -58.49942, 2.0], [-34.636457, -58.405633, 1.0], [-34.56352, -58.458189, 1.0], [-34.583427, -58.40205, 1.0], [-34.670293, -58.455742, 2.0], [-34.553047, -58.472599, 1.0], [-34.551656, -58.448742, 1.0], [-34.628134, -58.470676, 1.0], [-34.561473, -58.455665, 1.0], [-34.637217, -58.505034, 1.0], [-34.602418, -58.428575, 1.0], [-34.672911, -58.435401, 1.0], [-34.654686, -58.521282, 1.0], [-34.697853, -58.470014, 1.0], [-34.644415, -58.51905, 1.0], [-34.689625, -58.477462, 1.0], [-34.62251, -58.366493, 1.0], [-34.594302, -58.430063, 1.0], [-34.60852, -58.43735, 1.0], [-34.56299, -58.455874, 1.0], [-34.624922, -58.475361, 1.0], [-34.598092, -58.410299, 1.0], [-34.634484, -58.391957, 1.0], [-34.641512, -58.43661, 1.0], [-34.624288, -58.472621, 1.0], [-34.597616, -58.486348, 1.0], [-34.609623, -58.397332, 1.0], [-34.660716, -58.489804, 1.0], [-34.609554, -58.41741, 1.0], [-34.548609, -58.43721, 1.0], [-34.622543, -58.430762, 1.0], [-34.586285, -58.502186, 1.0], [-34.582236, -58.410194, 1.0], [-34.637844, -58.374737, 1.0], [-34.597033, -58.387365, 1.0], [-34.625511, -58.477609, 1.0], [-34.600386, -58.481701, 1.0], [-34.617819, -58.489751, 1.0], [-34.640535, -58.45131, 2.0], [-34.634788, -58.432505, 1.0], [-34.622337, -58.455559, 1.0], [-34.575794, -58.405807, 1.0], [-34.611285, -58.462258, 1.0], [-34.634717, -58.409352, 1.0], [-34.609847, -58.483747, 1.0], [-34.634041, -58.36328, 1.0], [-34.588039, -58.427209, 1.0], [-34.619914, -58.469797, 1.0], [-34.616467, -58.381187, 1.0], [-34.631378, -58.41596, 1.0], [-34.611479, -58.421014, 1.0], [-34.579837, -58.437202, 1.0], [-34.624769, -58.410372, 1.0], [-34.60874, -58.432111, 1.0], [-34.62891, -58.529692, 1.0], [-34.596255, -58.411625, 1.0], [-34.606914, -58.485157, 1.0], [-34.552288, -58.4642, 1.0], [-34.659367, -58.418139, 1.0], [-34.599935, -58.502212, 1.0], [-34.625715, -58.529911, 1.0], [-34.559539, -58.445237, 1.0], [-34.628999, -58.439432, 2.0], [-34.609233, -58.391962, 1.0], [-34.646212, -58.416171, 1.0], [-34.618898, -58.519861, 1.0], [-34.58554, -58.393324, 1.0], [-34.676808, -58.474957, 1.0], [-34.634063, -58.509083, 2.0], [-34.606852, -58.400728, 1.0], [-34.606694, -58.391285, 1.0], [-34.627261, -58.392166, 1.0], [-34.550977, -58.466746, 1.0], [-34.609298, -58.406012, 1.0], [-34.57498, -58.415406, 1.0], [-34.586157, -58.422293, 2.0], [-34.603182, -58.507466, 1.0], [-34.608839, -58.406035, 1.0], [-34.623561, -58.400427, 1.0], [-34.622826, -58.420526, 1.0], [-34.651244, -58.418036, 1.0], [-34.595031, -58.494278, 1.0], [-34.605828, -58.480476, 1.0], [-34.625653, -58.378014, 1.0], [-34.611479, -58.421014, 1.0], [-34.628239, -58.418268, 3.0], [-34.632056, -58.429818, 1.0], [-34.628773, -58.438469, 1.0], [-34.591258, -58.512431, 1.0], [-34.578649, -58.431961, 1.0], [-34.627547, -58.458855, 1.0], [-34.632071, -58.48473, 1.0], [-34.626424, -58.422846, 3.0], [-34.65143, -58.396622, 1.0], [-34.625715, -58.529911, 1.0], [-34.590832, -58.487458, 1.0], [-34.612353, -58.396208, 1.0], [-34.583769, -58.435793, 1.0], [-34.583459, -58.406178, 2.0], [-34.59585, -58.395569, 1.0], [-34.558882, -58.453792, 1.0], [-34.628236, -58.446781, 1.0], [-34.59725, -58.490185, 1.0], [-34.580097, -58.50066, 1.0], [-34.678989, -58.474836, 2.0], [-34.666053, -58.43438, 3.0], [-34.642757, -58.490877, 2.0], [-34.610941, -58.417344, 1.0], [-34.640922, -58.473553, 2.0], [-34.603058, -58.492101, 1.0], [-34.623129, -58.465472, 1.0], [-34.548529, -58.470027, 1.0], [-34.670059, -58.495735, 6.0], [-34.62468, -58.382934, 3.0], [-34.608535, -58.41607, 1.0], [-34.582612, -58.428722, 1.0], [-34.593567, -58.373846, 1.0], [-34.648792, -58.435641, 1.0], [-34.584758, -58.442311, 3.0], [-34.548115, -58.468849, 1.0], [-34.656285, -58.493835, 1.0], [-34.560815, -58.442584, 1.0], [-34.592514, -58.404175, 1.0], [-34.653333, -58.525657, 1.0], [-34.589351, -58.408083, 1.0], [-34.621469, -58.390037, 1.0], [-34.61814, -58.526093, 2.0], [-34.62507, -58.529942, 1.0], [-34.599295, -58.412129, 1.0], [-34.594116, -58.418298, 2.0], [-34.586838, -58.432906, 1.0], [-34.599295, -58.412129, 1.0], [-34.583013, -58.426398, 1.0], [-34.617445, -58.476618, 1.0], [-34.63416, -58.523033, 2.0], [-34.594563, -58.385827, 1.0], [-34.621004, -58.48933, 1.0], [-34.582015, -58.450982, 1.0], [-34.635914, -58.398911, 1.0], [-34.617065, -58.469733, 1.0], [-34.616871, -58.477199, 1.0], [-34.628978, -58.410925, 1.0], [-34.64759, -58.525871, 1.0], [-34.583395, -58.488897, 1.0], [-34.662975, -58.431062, 1.0], [-34.64759, -58.525871, 1.0], [-34.64759, -58.525871, 1.0], [-34.608797, -58.440122, 1.0], [-34.64759, -58.525871, 1.0], [-34.604058, -58.429277, 1.0], [-34.575932, -58.434745, 1.0], [-34.624031, -58.503489, 1.0], [-34.594762, -58.52137, 1.0], [-34.556511, -58.461782, 1.0], [-34.628062, -58.419351, 2.0], [-34.60349, -58.378079, 1.0], [-34.617644, -58.380691, 2.0], [-34.645428, -58.380976, 1.0], [-34.609386, -58.39487, 1.0], [-34.627261, -58.392166, 1.0], [-34.649918, -58.464518, 1.0], [-34.681595, -58.465832, 1.0], [-34.674467, -58.472162, 2.0], [-34.601733, -58.383799, 2.0], [-34.641113, -58.45684, 1.0], [-34.660288, -58.428622, 1.0], [-34.638851, -58.522559, 1.0], [-34.652724, -58.388783, 1.0], [-34.595591, -58.384307, 1.0], [-34.651378, -58.396352, 1.0], [-34.599729, -58.397192, 2.0], [-34.549474, -58.5005, 1.0], [-34.595918, -58.391792, 1.0], [-34.631498, -58.454379, 1.0], [-34.648423, -58.416287, 1.0], [-34.596132, -58.37226, 1.0], [-34.604217, -58.389399, 1.0], [-34.632371, -58.373447, 1.0], [-34.596255, -58.411625, 1.0], [-34.665567, -58.428135, 2.0], [-34.670513, -58.432849, 1.0], [-34.599826, -58.523076, 2.0], [-34.550099, -58.500426, 1.0], [-34.599352, -58.369081, 1.0], [-34.67398, -58.501639, 1.0], [-34.626075, -58.457007, 1.0], [-34.564862, -58.48084, 1.0], [-34.566449, -58.507464, 1.0], [-34.619793, -58.381936, 1.0], [-34.618021, -58.464833, 1.0], [-34.630974, -58.378362, 1.0], [-34.604246, -58.37102, 1.0], [-34.640233, -58.510447, 1.0], [-34.614622, -58.437746, 1.0], [-34.61242, -58.405573, 1.0], [-34.637176, -58.38653, 1.0], [-34.622592, -58.489133, 1.0], [-34.648161, -58.50742, 1.0], [-34.610665, -58.461076, 1.0], [-34.600712, -58.389598, 1.0], [-34.607814, -58.389274, 2.0], [-34.570774, -58.478409, 1.0], [-34.618483, -58.429962, 1.0], [-34.598267, -58.404269, 1.0], [-34.578649, -58.431961, 1.0], [-34.564644, -58.480622, 1.0], [-34.609038, -58.381153, 1.0], [-34.638893, -58.415848, 1.0], [-34.619785, -58.402149, 1.0], [-34.675982, -58.483529, 1.0], [-34.613719, -58.373257, 1.0], [-34.594763, -58.444303, 1.0], [-34.649722, -58.37805, 1.0], [-34.63953, -58.375849, 1.0], [-34.664989, -58.469389, 1.0], [-34.622451, -58.459622, 1.0], [-34.633819, -58.520683, 1.0], [-34.622077, -58.480764, 1.0], [-34.62691, -58.358225, 2.0], [-34.636298, -58.368186, 2.0], [-34.636983, -58.453052, 1.0], [-34.575181, -58.440277, 1.0], [-34.645043, -58.373194, 1.0], [-34.634916, -58.447505, 1.0], [-34.638885, -58.500678, 1.0], [-34.589056, -58.410086, 1.0], [-34.584012, -58.512465, 1.0], [-34.669648, -58.498191, 1.0], [-34.662526, -58.494424, 1.0], [-34.547778, -58.486681, 1.0], [-34.558352, -58.452905, 1.0], [-34.616722, -58.494704, 1.0], [-34.68981, -58.469039, 1.0], [-34.598831, -58.48078, 1.0], [-34.630538, -58.419142, 1.0], [-34.634764, -58.447298, 1.0], [-34.647329, -58.418965, 1.0], [-34.66526, -58.490997, 1.0], [-34.65459, -58.448955, 1.0], [-34.63442, -58.478316, 1.0], [-34.628027, -58.464644, 1.0], [-34.65495, -58.521851, 1.0], [-34.585587, -58.501052, 1.0], [-34.554468, -58.449769, 1.0], [-34.611897, -58.469004, 1.0], [-34.650222, -58.498025, 2.0], [-34.630186, -58.468085, 1.0], [-34.586963, -58.42124, 1.0], [-34.648383, -58.468755, 1.0], [-34.57351, -58.469134, 1.0], [-34.590995, -58.446953, 1.0], [-34.605885, -58.460514, 1.0], [-34.572721, -58.489558, 1.0], [-34.610763, -58.381052, 2.0], [-34.56617, -58.432249, 1.0], [-34.581593, -58.492542, 1.0], [-34.618134, -58.530338, 1.0], [-34.624156, -58.431793, 1.0], [-34.578649, -58.431961, 1.0], [-34.634889, -58.473164, 1.0], [-34.621924, -58.506283, 1.0], [-34.641786, -58.529846, 1.0], [-34.545555, -58.484499, 1.0], [-34.562679, -58.423373, 1.0], [-34.600834, -58.41918, 1.0], [-34.626568, -58.393315, 2.0], [-34.656457, -58.475834, 1.0], [-34.577999, -58.497216, 1.0], [-34.587461, -58.397222, 2.0], [-34.648126, -58.403686, 1.0], [-34.615341, -58.411155, 1.0], [-34.58556, -58.407631, 1.0], [-34.622451, -58.459622, 1.0], [-34.604562, -58.405475, 1.0], [-34.628083, -58.443174, 1.0], [-34.632814, -58.510618, 1.0], [-34.566305, -58.461517, 1.0], [-34.581731, -58.381263, 1.0], [-34.595759, -58.393984, 1.0], [-34.593567, -58.373846, 1.0], [-34.678588, -58.476677, 1.0], [-34.58897, -58.429909, 2.0], [-34.641933, -58.395075, 1.0], [-34.630682, -58.435102, 2.0], [-34.612986, -58.526533, 1.0], [-34.589996, -58.516664, 1.0], [-34.613337, -58.425463, 1.0], [-34.536101, -58.468066, 1.0], [-34.613201, -58.418969, 1.0], [-34.634118, -58.471196, 1.0], [-34.567004, -58.453878, 1.0], [-34.604937, -58.392155, 1.0], [-34.609087, -58.381948, 1.0], [-34.576609, -58.431563, 1.0], [-34.662416, -58.446366, 1.0], [-34.606103, -58.381292, 1.0], [-34.618159, -58.419576, 1.0], [-34.591864, -58.510733, 1.0], [-34.60283, -58.394073, 1.0], [-34.607372, -58.462705, 1.0], [-34.628314, -58.426459, 1.0], [-34.680099, -58.478424, 1.0], [-34.664989, -58.469389, 1.0], [-34.547957, -58.49491, 1.0], [-34.676044, -58.495637, 1.0], [-34.616467, -58.381187, 1.0], [-34.649754, -58.417652, 1.0], [-34.608535, -58.41607, 1.0], [-34.54709, -58.483335, 1.0], [-34.587709, -58.440162, 1.0], [-34.601798, -58.389536, 1.0], [-34.62216, -58.381434, 1.0], [-34.587818, -58.422574, 1.0], [-34.650101, -58.526941, 1.0], [-34.624069, -58.368068, 1.0], [-34.562191, -58.466491, 2.0], [-34.613312, -58.481689, 1.0], [-34.683087, -58.481713, 1.0], [-34.615789, -58.393189, 1.0], [-34.64079, -58.418253, 1.0], [-34.588073, -58.411548, 2.0], [-34.557661, -58.464618, 1.0], [-34.550325, -58.491583, 1.0], [-34.61846, -58.397521, 1.0], [-34.629301, -58.406518, 1.0], [-34.597145, -58.476898, 1.0], [-34.555792, -58.485628, 1.0], [-34.603134, -58.507279, 1.0], [-34.566455, -58.437307, 1.0], [-34.623797, -58.401646, 1.0], [-34.622635, -58.391396, 1.0], [-34.553377, -58.47126, 1.0], [-34.611475, -58.453922, 1.0], [-34.644998, -58.369626, 1.0], [-34.652439, -58.388913, 1.0], [-34.619775, -58.43566, 1.0], [-34.610914, -58.430334, 1.0], [-34.588625, -58.403043, 1.0], [-34.570627, -58.49165, 1.0], [-34.625584, -58.506966, 1.0], [-34.603059, -58.422988, 1.0], [-34.64921, -58.37818, 1.0], [-34.616103, -58.459065, 1.0], [-34.571989, -58.434082, 1.0], [-34.62902, -58.505354, 1.0], [-34.598877, -58.417512, 3.0], [-34.648423, -58.416287, 1.0], [-34.612028, -58.479087, 2.0], [-34.579648, -58.400223, 1.0], [-34.64597, -58.528659, 1.0], [-34.624313, -58.513685, 1.0], [-34.645853, -58.512956, 1.0], [-34.571406, -58.506673, 1.0], [-34.596314, -58.467165, 1.0], [-34.611875, -58.415339, 1.0], [-34.577109, -58.436021, 1.0], [-34.581748, -58.414231, 1.0], [-34.577109, -58.436021, 1.0], [-34.551567, -58.472693, 1.0], [-34.604495, -58.395295, 1.0], [-34.624277, -58.511648, 1.0], [-34.630279, -58.406405, 1.0], [-34.616071, -58.361066, 2.0], [-34.637718, -58.409058, 1.0], [-34.626829, -58.508309, 1.0], [-34.605564, -58.404863, 1.0], [-34.625302, -58.516721, 1.0], [-34.638925, -58.389882, 1.0], [-34.582039, -58.457643, 1.0], [-34.539371, -58.475488, 1.0], [-34.621507, -58.51839, 1.0], [-34.583083, -58.382894, 1.0], [-34.598845, -58.447673, 1.0], [-34.651597, -58.4982, 1.0], [-34.614941, -58.407289, 1.0], [-34.694431, -58.466275, 1.0], [-34.565382, -58.440329, 1.0], [-34.62703, -58.435937, 1.0], [-34.584185, -58.390569, 1.0], [-34.61083, -58.381869, 1.0], [-34.620823, -58.441103, 1.0], [-34.662064, -58.439645, 1.0], [-34.571823, -58.421746, 1.0], [-34.623416, -58.399281, 1.0], [-34.62583, -58.418829, 2.0], [-34.549563, -58.467875, 1.0], [-34.619089, -58.438037, 1.0], [-34.65172, -58.418865, 1.0], [-34.535844, -58.466808, 1.0], [-34.554134, -58.462036, 1.0], [-34.610654, -58.412224, 1.0], [-34.626996, -58.426759, 1.0], [-34.547205, -58.458162, 1.0], [-34.657067, -58.416248, 1.0], [-34.578489, -58.458436, 1.0], [-34.611758, -58.479372, 1.0], [-34.547205, -58.458162, 1.0], [-34.588351, -58.485433, 1.0], [-34.580515, -58.404651, 1.0], [-34.598112, -58.440695, 1.0], [-34.586168, -58.431839, 1.0], [-34.58869, -58.450769, 1.0], [-34.582006, -58.40166, 2.0], [-34.60055, -58.442028, 1.0], [-34.616543, -58.381239, 3.0], [-34.653869, -58.416596, 1.0], [-34.584922, -58.437192, 1.0], [-34.639539, -58.365167, 1.0], [-34.600652, -58.370515, 1.0], [-34.565962, -58.448955, 1.0], [-34.600522, -58.442059, 1.0], [-34.574239, -58.457828, 1.0], [-34.608403, -58.481754, 1.0], [-34.651703, -58.373882, 2.0], [-34.599443, -58.415671, 1.0], [-34.55366, -58.452124, 1.0], [-34.610982, -58.529335, 1.0], [-34.63888, -58.508697, 1.0], [-34.633822, -58.521079, 1.0], [-34.577178, -58.430026, 1.0], [-34.556333, -58.447216, 1.0], [-34.666927, -58.476896, 1.0], [-34.633704, -58.44599, 3.0], [-34.660083, -58.449137, 2.0], [-34.684542, -58.482673, 2.0], [-34.564889, -58.434413, 1.0], [-34.553377, -58.47126, 1.0], [-34.61489, -58.526266, 1.0], [-34.649031, -58.377106, 1.0], [-34.633894, -58.504973, 1.0], [-34.613439, -58.384977, 1.0], [-34.6454, -58.49315, 1.0], [-34.618871, -58.437749, 1.0], [-34.602057, -58.434686, 1.0], [-34.640558, -58.529939, 1.0], [-34.634245, -58.390903, 1.0], [-34.563204, -58.482716, 1.0], [-34.58744, -58.453898, 1.0], [-34.653432, -58.527801, 1.0], [-34.641212, -58.398274, 1.0], [-34.604014, -58.414519, 1.0], [-34.63375, -58.498703, 1.0], [-34.604434, -58.392293, 2.0], [-34.55797, -58.451796, 1.0], [-34.604569, -58.400027, 1.0], [-34.621817, -58.406157, 1.0], [-34.622036, -58.374434, 1.0], [-34.553809, -58.476941, 1.0], [-34.629024, -58.440205, 1.0], [-34.603607, -58.455184, 1.0], [-34.53999, -58.474928, 1.0], [-34.622389, -58.385837, 1.0], [-34.597897, -58.414633, 1.0], [-34.67398, -58.501639, 1.0], [-34.592734, -58.375313, 1.0], [-34.597294, -58.449582, 3.0], [-34.584135, -58.466285, 1.0], [-34.558547, -58.453311, 1.0], [-34.688129, -58.482442, 1.0], [-34.58869, -58.450769, 1.0], [-34.647248, -58.449219, 1.0], [-34.621392, -58.422216, 1.0], [-34.583924, -58.489831, 1.0], [-34.593554, -58.427226, 1.0], [-34.624478, -58.454576, 1.0], [-34.588625, -58.403043, 1.0], [-34.607609, -58.386317, 1.0], [-34.592734, -58.375313, 2.0], [-34.62064, -58.412549, 1.0], [-34.632107, -58.422868, 1.0], [-34.621293, -58.443442, 1.0], [-34.587888, -58.490132, 1.0], [-34.575061, -58.435531, 1.0], [-34.68733, -58.470649, 3.0], [-34.593568, -58.394894, 1.0], [-34.60919, -58.383445, 1.0], [-34.630186, -58.503872, 1.0], [-34.605392, -58.45467, 1.0], [-34.608901, -58.40628, 1.0], [-34.655839, -58.375714, 4.0], [-34.638945, -58.41614, 1.0], [-34.673635, -58.501172, 2.0], [-34.638022, -58.522647, 1.0], [-34.5786, -58.469344, 1.0], [-34.547775, -58.442195, 1.0], [-34.606663, -58.38145, 1.0], [-34.619176, -58.493439, 1.0], [-34.56652, -58.437361, 1.0], [-34.63416, -58.523033, 1.0], [-34.578274, -58.470874, 1.0], [-34.617847, -58.385881, 1.0], [-34.580885, -58.493452, 1.0], [-34.605651, -58.454003, 1.0], [-34.632845, -58.360345, 1.0], [-34.566227, -58.494644, 1.0], [-34.62854, -58.45257, 1.0], [-34.594178, -58.3816, 2.0], [-34.623416, -58.399281, 1.0], [-34.617156, -58.373091, 1.0], [-34.658285, -58.470816, 1.0], [-34.69153, -58.479767, 1.0], [-34.618194, -58.367292, 1.0], [-34.580885, -58.493452, 1.0], [-34.651703, -58.373882, 1.0], [-34.583153, -58.402559, 1.0], [-34.626087, -58.379037, 1.0], [-34.617505, -58.457767, 1.0], [-34.606156, -58.446509, 1.0], [-34.627618, -58.459247, 1.0], [-34.615889, -58.394602, 1.0], [-34.561086, -58.457509, 1.0], [-34.549474, -58.5005, 2.0], [-34.613075, -58.471216, 1.0], [-34.618299, -58.43646, 4.0], [-34.57774, -58.480906, 1.0], [-34.595838, -58.391962, 1.0], [-34.625064, -58.38966, 1.0], [-34.672288, -58.469421, 1.0], [-34.58137, -58.420122, 1.0], [-34.681318, -58.470071, 1.0], [-34.639584, -58.38983, 1.0], [-34.613607, -58.423333, 1.0], [-34.590058, -58.449202, 1.0], [-34.656782, -58.437025, 1.0], [-34.591258, -58.512431, 1.0], [-34.575061, -58.435531, 1.0], [-34.633724, -58.504571, 1.0], [-34.684771, -58.44433, 1.0], [-34.642978, -58.393513, 1.0], [-34.619125, -58.361577, 1.0], [-34.637176, -58.38653, 1.0], [-34.587817, -58.476145, 1.0], [-34.579345, -58.470868, 1.0], [-34.621188, -58.473904, 1.0], [-34.599656, -58.406317, 1.0], [-34.613363, -58.45827, 1.0], [-34.628716, -58.438595, 1.0], [-34.679422, -58.470474, 3.0], [-34.623416, -58.399281, 1.0], [-34.559978, -58.461229, 1.0], [-34.559473, -58.495828, 1.0], [-34.625367, -58.371102, 2.0], [-34.600676, -58.497819, 1.0], [-34.540487, -58.449274, 1.0], [-34.664989, -58.469389, 1.0], [-34.589754, -58.426507, 1.0], [-34.611087, -58.386161, 1.0], [-34.604562, -58.405475, 1.0], [-34.61565, -58.497943, 1.0], [-34.556234, -58.458805, 1.0], [-34.549478, -58.458577, 1.0], [-34.629587, -58.514904, 1.0], [-34.626677, -58.394436, 1.0], [-34.613232, -58.383224, 1.0], [-34.58502, -58.390002, 1.0], [-34.669129, -58.508095, 3.0], [-34.647249, -58.375317, 1.0], [-34.573538, -58.417954, 1.0], [-34.654899, -58.47551, 1.0], [-34.647132, -58.419179, 1.0], [-34.637792, -58.502699, 2.0], [-34.669532, -58.500472, 2.0], [-34.643063, -58.481994, 1.0], [-34.586344, -58.4022, 2.0], [-34.563733, -58.452321, 1.0], [-34.626368, -58.471575, 1.0], [-34.647075, -58.486621, 1.0], [-34.653662, -58.48106, 1.0], [-34.637063, -58.363204, 1.0], [-34.63485, -58.362783, 1.0], [-34.646334, -58.496785, 1.0], [-34.628966, -58.403548, 1.0], [-34.625715, -58.529911, 1.0], [-34.571452, -58.432183, 1.0], [-34.630483, -58.415815, 2.0], [-34.653949, -58.426882, 2.0], [-34.623283, -58.361552, 1.0], [-34.691806, -58.47794, 1.0], [-34.611087, -58.386161, 1.0], [-34.60557, -58.405719, 1.0], [-34.604749, -58.403636, 1.0], [-34.65143, -58.396622, 1.0], [-34.606545, -58.40595, 1.0], [-34.659592, -58.449762, 1.0], [-34.640458, -58.457548, 1.0], [-34.597897, -58.414633, 1.0], [-34.552769, -58.481999, 1.0], [-34.548942, -58.46819, 2.0], [-34.623366, -58.496479, 1.0], [-34.65642, -58.516429, 1.0], [-34.653519, -58.420581, 2.0], [-34.647954, -58.460711, 1.0], [-34.627801, -58.381439, 1.0], [-34.654442, -58.520758, 1.0], [-34.618078, -58.390333, 2.0], [-34.695957, -58.467588, 1.0], [-34.591001, -58.498, 2.0], [-34.598036, -58.404738, 1.0], [-34.629301, -58.406518, 1.0], [-34.638156, -58.41163, 1.0], [-34.568461, -58.486083, 1.0], [-34.58869, -58.450769, 1.0], [-34.581057, -58.498089, 1.0], [-34.618499, -58.379843, 1.0], [-34.657841, -58.478816, 1.0], [-34.612405, -58.387321, 1.0], [-34.655086, -58.412835, 1.0], [-34.596825, -58.430038, 2.0], [-34.569999, -58.509038, 1.0], [-34.656375, -58.524917, 1.0], [-34.620496, -58.474189, 1.0], [-34.552657, -58.481706, 1.0], [-34.602306, -58.434512, 1.0], [-34.646984, -58.374307, 1.0], [-34.592618, -58.430715, 1.0], [-34.602371, -58.461047, 1.0], [-34.68631, -58.48314, 1.0], [-34.561804, -58.474753, 2.0], [-34.604282, -58.436619, 1.0], [-34.629326, -58.390932, 1.0], [-34.635318, -58.358894, 1.0], [-34.679421, -58.479312, 2.0], [-34.63189, -58.459544, 1.0], [-34.623527, -58.448649, 1.0], [-34.613232, -58.383224, 1.0], [-34.622361, -58.367227, 1.0], [-34.661015, -58.442488, 1.0], [-34.591219, -58.503801, 1.0], [-34.619767, -58.437334, 1.0], [-34.60733, -58.445602, 1.0], [-34.593261, -58.441934, 1.0], [-34.617935, -58.389442, 1.0], [-34.572083, -58.482507, 1.0], [-34.640558, -58.529939, 1.0], [-34.639333, -58.418484, 1.0], [-34.584513, -58.444788, 1.0], [-34.614372, -58.427602, 2.0], [-34.589893, -58.482501, 1.0], [-34.625389, -58.447888, 1.0], [-34.595076, -58.520806, 1.0], [-34.581731, -58.381263, 1.0], [-34.644694, -58.414011, 1.0], [-34.654418, -58.403244, 1.0], [-34.544969, -58.487391, 1.0], [-34.622715, -58.390717, 1.0], [-34.623214, -58.407221, 1.0], [-34.591763, -58.391898, 1.0], [-34.673469, -58.476012, 1.0], [-34.642677, -58.522025, 1.0], [-34.626326, -58.509086, 1.0], [-34.62121, -58.442368, 1.0], [-34.629644, -58.456543, 1.0], [-34.577485, -58.428688, 1.0], [-34.603319, -58.419515, 1.0], [-34.62225, -58.384345, 2.0], [-34.589282, -58.519116, 1.0], [-34.569999, -58.509038, 1.0], [-34.612111, -58.366299, 2.0], [-34.574079, -58.490061, 1.0], [-34.581731, -58.381263, 1.0], [-34.604511, -58.402108, 1.0], [-34.618173, -58.377368, 1.0], [-34.648185, -58.476717, 1.0], [-34.577088, -58.486926, 1.0], [-34.651074, -58.513513, 1.0], [-34.623561, -58.400427, 1.0], [-34.604491, -58.458475, 1.0], [-34.634474, -58.511443, 1.0], [-34.578222, -58.402638, 1.0], [-34.599353, -58.388154, 1.0], [-34.665681, -58.512636, 1.0], [-34.622444, -58.416372, 1.0], [-34.656628, -58.522137, 1.0], [-34.650764, -58.528384, 1.0], [-34.566417, -58.502558, 1.0], [-34.575621, -58.464123, 1.0], [-34.654799, -58.480409, 1.0], [-34.554195, -58.474861, 1.0], [-34.597067, -58.492907, 1.0], [-34.586922, -58.418788, 1.0], [-34.595763, -58.388427, 1.0], [-34.649918, -58.464518, 1.0], [-34.54134, -58.478223, 1.0], [-34.588698, -58.381976, 1.0], [-34.6501, -58.411724, 1.0], [-34.627228, -58.387868, 1.0], [-34.598454, -58.403727, 1.0], [-34.62072, -58.372858, 1.0], [-34.626937, -58.382237, 1.0], [-34.622306, -58.40138, 1.0], [-34.60071, -58.406653, 1.0], [-34.651097, -58.412729, 4.0], [-34.606787, -58.392119, 1.0], [-34.612067, -58.521941, 1.0], [-34.601696, -58.431876, 1.0], [-34.673622, -58.49227, 1.0], [-34.613749, -58.525585, 2.0], [-34.621303, -58.460418, 1.0], [-34.588717, -58.43398, 1.0], [-34.598201, -58.48331, 1.0], [-34.586342, -58.510301, 1.0], [-34.626937, -58.382237, 1.0], [-34.629699, -58.382665, 1.0], [-34.606331, -58.441659, 1.0], [-34.634622, -58.43571, 1.0], [-34.628314, -58.426459, 1.0], [-34.60119, -58.382375, 1.0], [-34.660875, -58.515512, 4.0], [-34.594178, -58.3816, 1.0], [-34.576553, -58.465795, 1.0], [-34.591702, -58.447601, 1.0], [-34.606103, -58.381292, 1.0], [-34.624618, -58.393582, 1.0], [-34.65896, -58.49684, 1.0], [-34.660129, -58.514197, 1.0], [-34.613823, -58.391717, 1.0], [-34.703796, -58.460718, 1.0], [-34.623561, -58.400427, 2.0], [-34.625523, -58.468868, 3.0], [-34.686008, -58.475727, 1.0], [-34.601451, -58.383888, 1.0], [-34.619847, -58.472934, 1.0], [-34.610056, -58.503947, 1.0], [-34.627241, -58.4185, 1.0], [-34.657067, -58.416248, 1.0], [-34.638272, -58.450437, 1.0], [-34.5951, -58.465389, 1.0], [-34.626494, -58.491739, 1.0], [-34.592209, -58.454433, 1.0], [-34.604562, -58.405475, 1.0], [-34.56371, -58.506113, 1.0], [-34.611384, -58.433561, 1.0], [-34.635634, -58.490035, 2.0], [-34.602882, -58.524492, 1.0], [-34.600806, -58.392772, 1.0], [-34.629534, -58.494851, 1.0], [-34.640735, -58.443796, 1.0], [-34.674136, -58.48339, 1.0], [-34.603357, -58.462912, 1.0], [-34.598602, -58.449861, 2.0], [-34.570805, -58.486069, 1.0], [-34.604709, -58.415807, 1.0], [-34.605588, -58.482727, 1.0], [-34.60664, -58.406822, 1.0], [-34.594828, -58.400661, 1.0], [-34.63559, -58.506548, 1.0], [-34.6412, -58.509966, 1.0], [-34.558237, -58.447783, 1.0], [-34.647414, -58.467986, 1.0], [-34.577191, -58.475594, 1.0], [-34.622148, -58.381002, 1.0], [-34.63721, -58.41762, 1.0], [-34.580794, -58.420589, 1.0], [-34.64658, -58.462944, 1.0], [-34.591065, -58.439172, 1.0], [-34.654406, -58.4016, 2.0], [-34.633411, -58.503059, 1.0], [-34.549747, -58.498712, 1.0], [-34.581076, -58.429322, 1.0], [-34.616534, -58.38307, 1.0], [-34.619842, -58.47833, 1.0], [-34.591585, -58.38207, 1.0], [-34.621264, -58.419245, 1.0], [-34.558914, -58.474325, 1.0], [-34.589618, -58.417867, 1.0], [-34.616796, -58.391039, 1.0], [-34.603182, -58.507466, 2.0], [-34.587816, -58.439668, 1.0], [-34.622543, -58.430762, 1.0], [-34.587601, -58.440159, 1.0], [-34.626656, -58.36215, 1.0], [-34.625162, -58.483808, 1.0], [-34.582408, -58.449812, 1.0], [-34.67398, -58.501639, 3.0], [-34.624721, -58.446533, 1.0], [-34.617004, -58.368691, 1.0], [-34.597788, -58.418945, 1.0], [-34.575726, -58.495039, 1.0], [-34.624025, -58.366625, 1.0], [-34.578682, -58.40692, 1.0], [-34.649494, -58.483435, 1.0], [-34.608246, -58.362908, 1.0], [-34.606083, -58.380843, 1.0], [-34.661868, -58.485035, 1.0], [-34.589265, -58.499498, 1.0], [-34.618022, -58.424893, 1.0], [-34.617163, -58.369806, 1.0], [-34.649031, -58.377106, 1.0], [-34.618118, -58.36646, 1.0], [-34.611874, -58.38121, 1.0], [-34.587406, -58.454418, 1.0], [-34.602255, -58.430174, 1.0], [-34.615695, -58.417022, 1.0], [-34.613122, -58.509114, 1.0], [-34.639116, -58.471478, 1.0], [-34.594451, -58.44338, 1.0], [-34.655732, -58.42438, 1.0], [-34.611503, -58.435364, 1.0], [-34.585699, -58.460332, 1.0], [-34.596882, -58.411745, 1.0], [-34.649421, -58.465695, 2.0], [-34.550488, -58.466952, 1.0], [-34.641298, -58.487804, 1.0], [-34.686661, -58.478691, 1.0], [-34.623395, -58.391361, 1.0], [-34.583592, -58.499969, 2.0], [-34.595402, -58.38198, 1.0], [-34.612849, -58.377589, 1.0], [-34.615535, -58.414374, 1.0], [-34.630401, -58.378637, 1.0], [-34.551937, -58.436567, 1.0], [-34.615984, -58.446698, 1.0], [-34.542961, -58.483514, 1.0], [-34.637432, -58.465226, 1.0], [-34.585761, -58.490284, 1.0], [-34.646177, -58.409474, 2.0], [-34.610088, -58.387977, 1.0], [-34.633201, -58.51486, 1.0], [-34.603015, -58.422563, 1.0], [-34.606914, -58.485157, 1.0], [-34.612328, -58.369566, 1.0], [-34.656323, -58.423549, 1.0], [-34.629624, -58.389283, 2.0], [-34.584965, -58.475626, 1.0], [-34.550686, -58.499663, 1.0], [-34.588856, -58.438253, 1.0], [-34.550036, -58.467315, 1.0], [-34.634414, -58.361347, 1.0], [-34.648893, -58.487605, 1.0], [-34.54036, -58.46527, 1.0], [-34.615143, -58.394633, 1.0], [-34.583159, -58.4072, 2.0], [-34.619195, -58.530281, 1.0], [-34.618157, -58.391704, 1.0], [-34.573738, -58.497726, 1.0], [-34.618838, -58.403518, 1.0], [-34.610636, -58.413105, 1.0], [-34.612547, -58.525877, 1.0], [-34.612467, -58.371931, 1.0], [-34.601355, -58.381109, 1.0], [-34.587181, -58.501306, 1.0], [-34.599123, -58.480249, 1.0], [-34.633285, -58.468485, 1.0], [-34.546068, -58.470432, 1.0], [-34.589397, -58.371309, 1.0], [-34.565453, -58.471372, 1.0], [-34.628703, -58.378809, 1.0], [-34.59675, -58.46563, 1.0], [-34.603574, -58.435151, 1.0], [-34.588579, -58.489507, 1.0], [-34.658463, -58.511401, 2.0], [-34.622558, -58.388658, 2.0], [-34.584657, -58.413408, 1.0], [-34.596688, -58.381425, 1.0], [-34.592833, -58.382844, 1.0], [-34.592707, -58.375784, 1.0], [-34.669643, -58.464153, 2.0], [-34.565959, -58.461873, 1.0], [-34.632607, -58.426937, 3.0], [-34.640779, -58.367495, 1.0], [-34.620968, -58.435206, 2.0], [-34.631975, -58.360948, 1.0], [-34.598485, -58.436598, 1.0], [-34.592374, -58.387065, 1.0], [-34.602561, -58.382721, 1.0], [-34.63695, -58.357916, 1.0], [-34.593251, -58.519983, 1.0], [-34.59832, -58.369521, 1.0], [-34.608277, -58.405977, 1.0], [-34.59832, -58.369521, 1.0], [-34.602748, -58.455714, 2.0], [-34.582603, -58.505447, 1.0], [-34.612257, -58.442189, 1.0], [-34.536068, -58.468989, 1.0], [-34.551567, -58.480404, 2.0], [-34.628853, -58.43953, 1.0], [-34.597943, -58.415853, 2.0], [-34.598068, -58.408153, 1.0], [-34.590841, -58.433436, 1.0], [-34.585551, -58.427264, 1.0], [-34.552126, -58.461045, 1.0], [-34.55507, -58.502384, 1.0], [-34.606008, -58.499286, 1.0], [-34.602255, -58.430174, 1.0], [-34.632071, -58.48473, 1.0], [-34.585201, -58.46047, 1.0], [-34.671806, -58.497913, 1.0], [-34.574556, -58.456747, 1.0], [-34.592903, -58.375516, 1.0], [-34.610119, -58.405971, 1.0], [-34.595439, -58.382419, 1.0], [-34.573132, -58.401751, 1.0], [-34.618644, -58.506227, 1.0], [-34.599702, -58.395823, 1.0], [-34.602672, -58.433337, 1.0], [-34.603983, -58.431318, 2.0], [-34.59567, -58.517346, 1.0], [-34.539371, -58.475488, 2.0], [-34.629739, -58.470184, 1.0], [-34.610636, -58.413105, 1.0], [-34.580868, -58.487823, 1.0], [-34.630401, -58.374341, 1.0], [-34.629302, -58.455463, 1.0], [-34.6389, -58.519814, 1.0], [-34.595388, -58.398528, 2.0], [-34.610982, -58.529335, 1.0], [-34.584365, -58.454916, 1.0], [-34.579172, -58.439061, 1.0], [-34.603337, -58.404073, 1.0], [-34.594514, -58.444148, 1.0], [-34.639817, -58.508438, 1.0], [-34.62321, -58.436265, 1.0], [-34.624478, -58.454576, 1.0], [-34.590832, -58.487458, 1.0], [-34.607371, -58.511963, 1.0], [-34.654147, -58.41971, 1.0], [-34.651599, -58.489989, 1.0], [-34.580234, -58.513871, 3.0], [-34.578334, -58.485864, 1.0], [-34.597834, -58.455486, 1.0], [-34.551319, -58.452311, 1.0], [-34.566651, -58.459666, 1.0], [-34.636729, -58.359882, 1.0], [-34.589282, -58.519116, 1.0], [-34.58782, -58.509019, 1.0], [-34.615049, -58.523603, 1.0], [-34.619955, -58.387326, 2.0], [-34.587117, -58.452208, 1.0], [-34.539371, -58.475488, 1.0], [-34.626171, -58.387213, 1.0], [-34.625142, -58.485923, 1.0], [-34.65658, -58.520505, 1.0], [-34.588351, -58.485433, 1.0], [-34.584053, -58.393914, 1.0], [-34.593938, -58.405848, 1.0], [-34.60096, -58.374002, 1.0], [-34.553955, -58.43412, 1.0], [-34.602378, -58.506165, 1.0], [-34.541741, -58.480306, 1.0], [-34.554481, -58.463544, 1.0], [-34.683306, -58.470421, 2.0], [-34.627547, -58.381681, 1.0], [-34.607245, -58.46442, 2.0], [-34.604136, -58.413188, 1.0], [-34.626664, -58.413443, 1.0], [-34.6652, -58.428751, 3.0], [-34.581076, -58.429322, 1.0], [-34.610538, -58.411738, 1.0], [-34.661293, -58.48413, 2.0], [-34.617229, -58.529281, 1.0], [-34.556578, -58.424491, 2.0], [-34.683531, -58.470307, 1.0], [-34.580502, -58.450955, 1.0], [-34.606962, -58.416292, 1.0], [-34.70374, -58.461222, 1.0], [-34.599823, -58.449398, 1.0], [-34.604652, -58.525322, 1.0], [-34.627952, -58.405307, 1.0], [-34.682613, -58.48187, 1.0], [-34.589308, -58.494147, 1.0], [-34.616218, -58.375984, 2.0], [-34.577281, -58.409869, 1.0], [-34.641532, -58.492132, 1.0], [-34.631975, -58.360948, 1.0], [-34.647753, -58.457392, 1.0], [-34.573564, -58.480787, 1.0], [-34.595525, -58.398166, 1.0], [-34.631128, -58.471193, 1.0], [-34.565292, -58.500233, 1.0], [-34.630979, -58.425767, 1.0], [-34.653588, -58.492367, 1.0], [-34.588108, -58.439392, 2.0], [-34.620191, -58.416667, 1.0], [-34.633831, -58.481466, 2.0], [-34.654263, -58.528932, 1.0], [-34.588856, -58.438253, 1.0], [-34.63972, -58.408702, 1.0], [-34.635579, -58.375273, 1.0], [-34.61223, -58.41678, 1.0], [-34.594833, -58.440023, 1.0], [-34.67398, -58.501639, 1.0], [-34.654202, -58.520241, 1.0], [-34.535844, -58.466808, 1.0], [-34.614279, -58.398784, 1.0], [-34.629475, -58.474803, 1.0], [-34.567277, -58.442381, 1.0], [-34.575207, -58.434959, 1.0], [-34.595433, -58.398715, 1.0], [-34.604635, -58.361545, 1.0], [-34.618858, -58.450212, 1.0], [-34.627207, -58.38736, 1.0], [-34.599372, -58.458553, 1.0], [-34.57783, -58.449222, 1.0], [-34.609614, -58.486472, 1.0], [-34.577974, -58.500879, 1.0], [-34.556073, -58.456079, 1.0], [-34.608209, -58.377817, 1.0], [-34.619135, -58.453958, 1.0], [-34.684868, -58.463686, 1.0], [-34.641738, -58.528951, 1.0], [-34.601075, -58.423896, 1.0], [-34.558288, -58.459916, 1.0], [-34.676013, -58.476176, 1.0], [-34.558288, -58.459916, 1.0], [-34.568058, -58.502316, 1.0], [-34.594545, -58.410612, 1.0], [-34.55503, -58.489966, 1.0], [-34.59257, -58.406087, 1.0], [-34.649772, -58.38148, 1.0], [-34.636511, -58.493114, 1.0], [-34.550561, -58.485902, 1.0], [-34.550561, -58.485902, 1.0], [-34.628999, -58.439432, 1.0], [-34.592154, -58.390459, 1.0], [-34.562902, -58.462919, 1.0], [-34.617732, -58.383021, 1.0], [-34.653713, -58.51919, 1.0], [-34.595144, -58.378081, 1.0], [-34.625715, -58.529911, 1.0], [-34.618517, -58.380649, 1.0], [-34.630311, -58.44936, 1.0], [-34.62359, -58.414814, 1.0], [-34.621562, -58.392581, 1.0], [-34.630173, -58.415898, 2.0], [-34.625715, -58.529911, 1.0], [-34.628422, -58.470659, 1.0], [-34.602861, -58.424107, 1.0], [-34.637462, -58.37065, 1.0], [-34.617145, -58.37877, 1.0], [-34.648351, -58.507672, 1.0], [-34.626637, -58.450563, 1.0], [-34.556234, -58.458805, 1.0], [-34.558317, -58.428455, 1.0], [-34.630382, -58.417767, 3.0], [-34.58913, -58.388982, 1.0], [-34.612146, -58.380486, 1.0], [-34.558288, -58.459916, 1.0], [-34.642833, -58.465769, 1.0], [-34.634198, -58.44662, 1.0], [-34.624457, -58.434484, 1.0], [-34.649678, -58.389133, 1.0], [-34.587034, -58.385033, 3.0], [-34.630042, -58.469824, 1.0], [-34.597818, -58.433782, 1.0], [-34.62208, -58.399578, 1.0], [-34.686039, -58.482366, 1.0], [-34.610615, -58.466561, 1.0], [-34.561086, -58.457509, 1.0], [-34.599212, -58.370553, 1.0], [-34.565448, -58.45523, 1.0], [-34.622337, -58.455559, 1.0], [-34.574187, -58.479737, 1.0], [-34.634056, -58.466682, 1.0], [-34.609973, -58.403329, 1.0], [-34.628414, -58.461207, 1.0], [-34.613265, -58.401453, 4.0], [-34.683177, -58.470594, 1.0], [-34.613101, -58.415141, 1.0], [-34.616162, -58.397742, 1.0], [-34.609192, -58.39056, 1.0], [-34.629836, -58.465765, 1.0], [-34.611303, -58.467848, 2.0], [-34.61242, -58.405573, 1.0], [-34.597928, -58.41174, 1.0], [-34.634604, -58.433552, 1.0], [-34.618002, -58.469672, 2.0], [-34.597877, -58.4188, 1.0], [-34.604739, -58.393787, 1.0], [-34.649187, -58.412009, 1.0], [-34.603174, -58.420959, 1.0], [-34.583079, -58.397318, 1.0], [-34.603668, -58.380983, 1.0], [-34.611764, -58.369468, 1.0], [-34.559228, -58.459098, 1.0], [-34.641398, -58.415999, 2.0], [-34.651493, -58.394304, 1.0], [-34.579822, -58.513677, 1.0], [-34.61775, -58.369548, 1.0], [-34.614668, -58.522233, 1.0], [-34.606002, -58.398611, 1.0], [-34.610339, -58.391882, 1.0], [-34.63141, -58.523868, 1.0], [-34.622438, -58.402484, 1.0], [-34.55864, -58.458108, 1.0], [-34.635139, -58.466218, 1.0], [-34.552975, -58.463477, 1.0], [-34.622451, -58.459622, 1.0], [-34.636683, -58.378138, 1.0], [-34.608209, -58.377817, 1.0], [-34.624721, -58.446533, 1.0], [-34.603876, -58.380916, 1.0], [-34.644487, -58.46066, 1.0], [-34.625138, -58.413577, 1.0], [-34.618301, -58.394502, 1.0], [-34.651703, -58.373882, 1.0], [-34.630412, -58.454913, 1.0], [-34.644876, -58.475341, 1.0], [-34.611177, -58.404496, 1.0], [-34.593815, -58.393083, 1.0], [-34.617679, -58.50444, 1.0], [-34.607742, -58.406125, 1.0], [-34.552809, -58.474197, 1.0], [-34.60247, -58.494955, 1.0], [-34.606545, -58.40595, 1.0], [-34.541993, -58.449018, 1.0], [-34.635818, -58.467472, 1.0], [-34.595076, -58.520806, 1.0], [-34.572433, -58.446335, 2.0], [-34.634066, -58.491622, 1.0], [-34.608894, -58.527327, 1.0], [-34.625924, -58.406907, 1.0], [-34.638866, -58.529089, 1.0], [-34.575009, -58.463357, 1.0], [-34.567831, -58.457221, 1.0], [-34.622742, -58.455311, 1.0], [-34.605172, -58.36793, 2.0], [-34.609653, -58.381468, 1.0], [-34.632913, -58.477615, 1.0], [-34.68195, -58.483112, 1.0], [-34.641113, -58.45684, 1.0], [-34.595234, -58.404183, 1.0], [-34.581731, -58.381263, 1.0], [-34.629343, -58.433515, 1.0], [-34.632153, -58.468991, 1.0], [-34.610717, -58.406032, 1.0], [-34.626572, -58.468407, 1.0], [-34.642691, -58.46046, 1.0], [-34.636332, -58.381876, 1.0], [-34.639007, -58.519752, 1.0], [-34.644746, -58.526056, 1.0], [-34.621843, -58.516904, 1.0], [-34.608701, -58.427743, 1.0], [-34.620953, -58.497612, 2.0], [-34.559934, -58.445814, 1.0], [-34.617623, -58.409401, 1.0], [-34.602565, -58.491358, 1.0], [-34.60536, -58.370282, 1.0], [-34.603422, -58.402224, 1.0], [-34.592734, -58.375313, 1.0], [-34.604196, -58.508946, 1.0], [-34.618753, -58.43633, 1.0], [-34.622306, -58.40138, 1.0], [-34.613051, -58.414789, 1.0], [-34.622203, -58.426559, 1.0], [-34.596566, -58.403083, 1.0], [-34.577665, -58.444526, 1.0], [-34.606212, -58.523191, 4.0], [-34.596645, -58.496893, 1.0], [-34.602418, -58.428575, 2.0], [-34.576609, -58.431563, 1.0], [-34.55676, -58.46126, 1.0], [-34.616046, -58.504317, 1.0], [-34.628456, -58.510166, 1.0], [-34.640425, -58.512638, 1.0], [-34.620872, -58.407577, 1.0], [-34.613962, -58.525056, 1.0], [-34.598891, -58.492845, 1.0], [-34.677265, -58.478368, 1.0], [-34.59832, -58.369521, 1.0], [-34.609493, -58.472395, 1.0], [-34.623781, -58.428897, 1.0], [-34.637472, -58.428285, 1.0], [-34.585025, -58.399937, 1.0], [-34.609668, -58.481107, 1.0], [-34.596875, -58.399525, 1.0], [-34.618101, -58.476096, 1.0], [-34.603688, -58.379995, 1.0], [-34.652015, -58.416374, 1.0], [-34.590383, -58.370998, 1.0], [-34.60711, -58.509386, 1.0], [-34.632503, -58.373579, 1.0], [-34.612613, -58.41344, 1.0], [-34.609522, -58.461641, 1.0], [-34.611544, -58.405783, 2.0], [-34.608269, -58.513291, 2.0], [-34.603255, -58.524662, 1.0], [-34.612649, -58.374722, 1.0], [-34.609564, -58.47926, 1.0], [-34.634637, -58.505454, 1.0], [-34.625229, -58.453004, 1.0], [-34.640558, -58.529939, 1.0], [-34.601477, -58.407264, 1.0], [-34.653519, -58.420581, 1.0], [-34.623605, -58.427495, 1.0], [-34.639532, -58.386664, 1.0], [-34.591682, -58.511031, 1.0], [-34.655431, -58.522885, 2.0], [-34.623215, -58.389834, 1.0], [-34.609233, -58.391962, 1.0], [-34.584287, -58.425675, 1.0], [-34.622048, -58.407365, 1.0], [-34.604118, -58.40892, 2.0], [-34.555711, -58.457887, 1.0], [-34.558847, -58.441636, 1.0], [-34.617156, -58.373091, 1.0], [-34.549213, -58.473546, 2.0], [-34.616114, -58.479513, 1.0], [-34.584763, -58.391705, 1.0], [-34.619195, -58.530281, 1.0], [-34.610636, -58.413105, 1.0], [-34.629513, -58.408369, 1.0], [-34.64473, -58.48775, 1.0], [-34.590041, -58.408903, 2.0], [-34.592734, -58.375313, 1.0], [-34.60784, -58.40622, 1.0], [-34.613919, -58.508305, 1.0], [-34.603351, -58.520469, 1.0], [-34.605496, -58.370369, 1.0], [-34.558393, -58.473367, 1.0], [-34.633923, -58.462153, 1.0], [-34.597054, -58.386403, 1.0], [-34.53937, -58.475488, 1.0], [-34.604035, -58.380964, 1.0], [-34.633724, -58.504571, 1.0], [-34.649926, -58.520796, 1.0], [-34.605972, -58.405713, 1.0], [-34.628481, -58.457138, 1.0], [-34.631498, -58.454379, 1.0], [-34.633354, -58.449246, 1.0], [-34.588698, -58.381976, 1.0], [-34.628585, -58.426294, 1.0], [-34.604495, -58.395295, 1.0], [-34.644044, -58.515302, 1.0], [-34.611897, -58.469004, 1.0], [-34.613884, -58.459449, 1.0], [-34.593567, -58.373846, 1.0], [-34.62981, -58.484938, 1.0], [-34.610176, -58.390424, 1.0], [-34.619596, -58.46182, 1.0], [-34.646177, -58.409474, 1.0], [-34.631698, -58.520572, 1.0], [-34.597911, -58.382182, 1.0], [-34.561916, -58.456267, 1.0], [-34.592348, -58.518511, 1.0], [-34.650338, -58.430986, 1.0], [-34.595736, -58.3961, 1.0], [-34.598889, -58.500631, 1.0], [-34.62818, -58.470878, 1.0], [-34.54679, -58.448777, 1.0], [-34.627203, -58.461742, 1.0], [-34.594442, -58.402354, 1.0], [-34.620496, -58.474189, 1.0], [-34.601383, -58.381936, 1.0], [-34.609038, -58.381153, 1.0], [-34.646984, -58.374307, 1.0], [-34.626228, -58.421519, 1.0], [-34.627993, -58.477638, 1.0], [-34.64214, -58.45583, 1.0], [-34.634622, -58.43571, 1.0], [-34.6289, -58.454124, 1.0], [-34.628156, -58.434766, 1.0], [-34.614842, -58.507355, 1.0], [-34.608604, -58.402349, 1.0], [-34.580154, -58.452024, 1.0], [-34.626347, -58.401002, 1.0], [-34.608392, -58.444959, 1.0], [-34.62282, -58.416253, 1.0], [-34.631941, -58.484976, 2.0], [-34.614613, -58.49223, 1.0], [-34.593404, -58.395696, 1.0], [-34.551611, -58.436745, 1.0], [-34.612989, -58.441514, 1.0], [-34.632607, -58.426937, 4.0], [-34.598125, -58.40538, 1.0], [-34.558442, -58.450587, 1.0], [-34.613508, -58.517286, 1.0], [-34.611651, -58.510435, 1.0], [-34.608576, -58.383472, 1.0], [-34.648423, -58.416287, 1.0], [-34.591585, -58.38207, 1.0], [-34.635079, -58.52757, 1.0], [-34.615401, -58.51478, 1.0], [-34.608074, -58.504471, 1.0], [-34.560338, -58.460976, 1.0], [-34.632363, -58.500497, 1.0], [-34.611982, -58.398969, 1.0], [-34.634056, -58.466682, 2.0], [-34.619273, -58.426351, 7.0], [-34.639147, -58.526418, 1.0], [-34.598454, -58.403727, 1.0], [-34.628239, -58.418268, 2.0], [-34.587461, -58.397222, 1.0], [-34.658313, -58.469304, 1.0], [-34.622779, -58.513702, 1.0], [-34.651069, -58.40057, 1.0], [-34.592734, -58.375313, 1.0], [-34.627423, -58.471104, 2.0], [-34.563197, -58.451416, 1.0], [-34.624835, -58.451988, 2.0], [-34.676484, -58.489352, 1.0], [-34.629281, -58.419501, 1.0], [-34.641313, -58.389695, 1.0], [-34.599889, -58.393003, 1.0], [-34.627108, -58.391882, 1.0], [-34.587677, -58.388996, 1.0], [-34.634118, -58.471196, 1.0], [-34.609087, -58.381948, 1.0], [-34.605746, -58.486187, 1.0], [-34.674036, -58.477592, 2.0], [-34.610265, -58.462855, 1.0], [-34.663875, -58.482462, 2.0], [-34.61756, -58.490009, 1.0], [-34.630295, -58.454863, 1.0], [-34.632373, -58.461014, 1.0], [-34.586404, -58.414066, 1.0], [-34.676357, -58.474414, 2.0], [-34.607742, -58.406125, 1.0], [-34.594582, -58.503178, 1.0], [-34.665457, -58.482078, 1.0], [-34.610045, -58.406066, 1.0], [-34.625275, -58.428587, 1.0], [-34.613601, -58.389682, 2.0], [-34.575648, -58.459868, 2.0], [-34.62385, -58.512206, 1.0], [-34.629302, -58.455463, 1.0], [-34.644944, -58.426986, 1.0], [-34.629337, -58.482696, 1.0], [-34.61262, -58.37549, 1.0], [-34.615695, -58.417022, 1.0], [-34.551629, -58.466036, 1.0], [-34.614269, -58.414726, 2.0], [-34.618118, -58.36646, 1.0], [-34.630353, -58.411784, 1.0], [-34.630353, -58.411784, 1.0], [-34.586071, -58.435705, 2.0], [-34.62078, -58.402798, 1.0], [-34.588856, -58.438253, 1.0], [-34.626667, -58.487705, 2.0], [-34.618838, -58.403518, 1.0], [-34.634764, -58.447298, 1.0], [-34.599115, -58.423577, 1.0], [-34.672947, -58.477004, 1.0], [-34.628277, -58.359687, 1.0], [-34.619753, -58.38145, 3.0], [-34.594791, -58.521082, 1.0], [-34.614275, -58.418655, 1.0], [-34.627163, -58.488911, 1.0], [-34.644944, -58.426986, 1.0], [-34.611982, -58.398969, 1.0], [-34.640278, -58.444049, 1.0], [-34.619909, -58.51464, 1.0], [-34.604912, -58.505905, 1.0], [-34.615907, -58.430175, 1.0], [-34.68359, -58.48892, 2.0], [-34.623807, -58.424714, 1.0], [-34.646482, -58.374419, 1.0], [-34.564136, -58.450612, 1.0], [-34.621703, -58.475562, 1.0], [-34.614989, -58.408293, 1.0], [-34.596304, -58.370456, 1.0], [-34.608898, -58.379195, 1.0], [-34.624598, -58.40888, 1.0], [-34.614244, -58.381284, 1.0], [-34.645915, -58.431099, 1.0], [-34.622545, -58.513902, 1.0], [-34.61483, -58.42457, 1.0], [-34.623243, -58.430598, 1.0], [-34.640437, -58.424922, 1.0], [-34.634474, -58.47228, 1.0], [-34.60425, -58.509191, 1.0], [-34.556681, -58.447696, 1.0], [-34.53999, -58.474928, 1.0], [-34.610433, -58.369834, 1.0], [-34.597087, -58.498637, 1.0], [-34.59068, -58.400715, 1.0], [-34.561602, -58.448723, 1.0], [-34.641423, -58.456503, 1.0], [-34.608898, -58.379195, 1.0], [-34.612661, -58.391763, 1.0], [-34.590827, -58.397682, 1.0], [-34.649483, -58.489402, 1.0], [-34.612663, -58.503686, 1.0], [-34.588267, -58.438979, 1.0], [-34.595612, -58.511593, 1.0], [-34.633541, -58.460605, 1.0], [-34.611122, -58.419722, 2.0], [-34.544014, -58.485669, 1.0], [-34.612735, -58.473125, 1.0], [-34.674827, -58.500515, 1.0], [-34.64364, -58.373659, 2.0], [-34.634645, -58.485451, 1.0], [-34.617262, -58.476888, 1.0], [-34.62111, -58.477369, 1.0], [-34.575295, -58.430838, 1.0], [-34.627504, -58.415938, 1.0], [-34.607568, -58.499815, 1.0], [-34.669078, -58.477421, 2.0], [-34.569649, -58.452921, 1.0], [-34.624956, -58.424526, 1.0], [-34.631274, -58.46927, 1.0], [-34.63725, -58.526623, 1.0], [-34.64374, -58.500023, 1.0], [-34.554468, -58.449769, 1.0], [-34.604434, -58.392293, 2.0], [-34.640648, -58.42617, 2.0], [-34.617251, -58.374447, 1.0], [-34.603342, -58.405162, 1.0], [-34.660005, -58.420285, 1.0], [-34.593567, -58.373846, 1.0], [-34.640081, -58.423203, 1.0], [-34.602756, -58.479303, 1.0], [-34.611897, -58.469004, 1.0], [-34.636487, -58.477351, 1.0], [-34.633347, -58.356559, 2.0], [-34.595712, -58.406792, 1.0], [-34.651094, -58.419506, 1.0], [-34.62703, -58.435937, 1.0], [-34.605274, -58.386483, 1.0], [-34.629343, -58.433515, 2.0], [-34.601411, -58.513739, 1.0], [-34.678167, -58.496112, 3.0], [-34.631106, -58.457068, 1.0], [-34.627291, -58.470817, 1.0], [-34.6063, -58.471665, 1.0], [-34.625933, -58.428767, 1.0], [-34.616572, -58.369466, 2.0], [-34.621369, -58.498198, 1.0], [-34.624156, -58.431793, 1.0], [-34.617445, -58.476618, 1.0], [-34.558288, -58.459916, 1.0], [-34.662024, -58.476628, 2.0], [-34.635167, -58.487704, 1.0], [-34.592483, -58.389012, 1.0], [-34.543953, -58.467827, 1.0], [-34.635026, -58.41521, 1.0], [-34.609125, -58.50019, 1.0], [-34.627163, -58.488911, 1.0], [-34.640531, -58.441553, 1.0], [-34.700044, -58.468187, 1.0], [-34.629829, -58.470144, 5.0], [-34.552944, -58.450915, 1.0], [-34.62174, -58.49021, 3.0], [-34.638866, -58.529089, 1.0], [-34.616877, -58.391682, 1.0], [-34.623778, -58.402176, 1.0], [-34.603303, -58.398376, 1.0], [-34.599769, -58.405303, 1.0], [-34.604412, -58.406648, 1.0], [-34.629534, -58.494851, 1.0], [-34.63146, -58.472378, 5.0], [-34.633655, -58.468206, 1.0], [-34.636872, -58.436595, 1.0], [-34.609087, -58.381948, 1.0], [-34.629549, -58.421169, 1.0], [-34.599599, -58.414935, 1.0], [-34.552578, -58.462703, 1.0], [-34.617644, -58.380691, 1.0], [-34.634148, -58.427832, 1.0], [-34.642823, -58.422818, 1.0], [-34.603668, -58.380983, 1.0], [-34.62154, -58.414968, 1.0], [-34.625723, -58.471753, 1.0], [-34.603174, -58.420959, 1.0], [-34.633938, -58.500162, 1.0], [-34.618396, -58.519337, 1.0], [-34.623778, -58.402176, 1.0], [-34.62415, -58.4022, 1.0], [-34.597149, -58.388103, 1.0], [-34.638119, -58.431887, 1.0], [-34.593503, -58.425203, 1.0], [-34.570197, -58.509196, 1.0], [-34.629524, -58.413183, 1.0], [-34.626169, -58.400187, 1.0], [-34.626169, -58.400187, 2.0], [-34.626368, -58.471575, 1.0], [-34.608157, -58.394949, 1.0], [-34.614189, -58.380432, 1.0], [-34.608724, -58.430477, 1.0], [-34.62981, -58.484938, 1.0], [-34.597702, -58.381299, 2.0], [-34.60528, -58.418358, 1.0], [-34.626053, -58.488475, 2.0], [-34.603939, -58.384222, 2.0], [-34.640202, -58.389888, 1.0], [-34.638255, -58.371409, 1.0], [-34.609298, -58.406012, 1.0], [-34.61102, -58.418477, 1.0], [-34.595076, -58.520806, 1.0], [-34.609454, -58.387295, 1.0], [-34.626425, -58.440473, 1.0], [-34.62075, -58.413828, 1.0], [-34.609729, -58.518079, 2.0], [-34.643785, -58.459708, 2.0], [-34.550629, -58.453361, 3.0], [-34.648158, -58.484079, 1.0], [-34.639792, -58.452304, 1.0], [-34.634118, -58.471196, 1.0], [-34.648755, -58.490335, 1.0], [-34.609697, -58.399109, 1.0], [-34.615627, -58.390389, 1.0], [-34.601451, -58.383888, 1.0], [-34.650363, -58.420498, 1.0], [-34.590359, -58.515369, 1.0], [-34.581598, -58.514522, 1.0], [-34.604532, -58.396786, 1.0], [-34.56078, -58.45467, 1.0], [-34.662755, -58.506261, 1.0], [-34.641894, -58.433123, 1.0], [-34.623137, -58.482322, 1.0], [-34.562277, -58.505408, 1.0], [-34.609038, -58.381153, 1.0], [-34.546999, -58.447955, 1.0], [-34.674193, -58.491706, 1.0], [-34.535844, -58.466808, 2.0], [-34.584756, -58.391726, 2.0], [-34.641786, -58.529846, 2.0], [-34.625265, -58.414695, 1.0], [-34.680839, -58.4844, 1.0], [-34.613422, -58.479821, 1.0], [-34.609038, -58.381153, 1.0], [-34.632015, -58.412967, 1.0], [-34.604562, -58.405475, 1.0], [-34.644505, -58.520965, 1.0], [-34.598416, -58.371488, 1.0], [-34.599759, -58.398729, 1.0], [-34.613422, -58.479821, 1.0], [-34.642107, -58.379624, 1.0], [-34.620975, -58.416514, 2.0], [-34.60864, -58.436217, 1.0], [-34.588553, -58.395864, 1.0], [-34.629182, -58.405459, 1.0], [-34.597142, -58.371808, 1.0], [-34.661285, -58.474332, 1.0], [-34.638343, -58.527166, 1.0], [-34.626169, -58.400187, 1.0], [-34.645044, -58.375938, 1.0], [-34.588399, -58.404478, 1.0], [-34.608676, -58.393462, 1.0], [-34.658499, -58.416347, 1.0], [-34.620114, -58.481696, 1.0], [-34.610438, -58.410351, 1.0], [-34.650338, -58.430986, 1.0], [-34.613232, -58.383224, 1.0], [-34.609066, -58.407311, 1.0], [-34.650296, -58.429846, 2.0], [-34.562482, -58.471217, 1.0], [-34.61623, -58.479622, 1.0], [-34.623986, -58.391438, 1.0], [-34.62925, -58.464112, 1.0], [-34.628187, -58.381469, 1.0], [-34.601371, -58.381594, 1.0], [-34.639001, -58.52184, 1.0], [-34.603831, -58.40359, 1.0], [-34.599753, -58.444751, 1.0], [-34.687312, -58.484992, 1.0], [-34.57882, -58.418538, 1.0], [-34.611206, -58.381901, 1.0], [-34.567268, -58.407866, 1.0], [-34.644128, -58.453675, 1.0], [-34.610604, -58.41162, 1.0], [-34.585025, -58.399937, 1.0], [-34.614694, -58.388976, 1.0], [-34.610735, -58.414472, 1.0], [-34.611567, -58.410239, 1.0], [-34.620544, -58.394502, 1.0], [-34.63589, -58.437928, 1.0], [-34.678783, -58.495282, 2.0], [-34.619561, -58.395931, 1.0], [-34.613584, -58.440063, 1.0], [-34.563928, -58.455066, 1.0], [-34.577948, -58.452012, 1.0], [-34.580217, -58.378617, 1.0], [-34.679552, -58.472348, 2.0], [-34.614978, -58.375046, 1.0], [-34.619662, -58.413944, 1.0], [-34.62064, -58.412549, 1.0], [-34.599159, -58.384036, 1.0], [-34.621323, -58.500761, 1.0], [-34.615727, -58.464374, 1.0], [-34.609556, -58.503117, 1.0], [-34.62583, -58.418829, 1.0], [-34.60241, -58.427826, 1.0], [-34.634456, -58.467963, 1.0], [-34.566378, -58.492102, 1.0], [-34.604136, -58.413188, 1.0], [-34.635139, -58.466218, 1.0], [-34.619206, -58.392425, 1.0], [-34.622113, -58.507434, 2.0], [-34.621973, -58.393116, 1.0], [-34.634026, -58.521719, 1.0], [-34.60395, -58.405223, 1.0], [-34.555294, -58.489734, 2.0], [-34.595591, -58.384307, 1.0], [-34.610297, -58.39747, 1.0], [-34.62127, -58.420501, 1.0], [-34.593271, -58.396953, 1.0], [-34.546108, -58.451987, 1.0], [-34.55366, -58.452124, 1.0], [-34.62528, -58.464192, 1.0], [-34.598349, -58.3874, 1.0], [-34.559539, -58.445237, 1.0], [-34.626501, -58.489754, 1.0], [-34.611874, -58.38121, 2.0], [-34.633653, -58.519508, 1.0], [-34.557511, -58.467591, 1.0], [-34.549474, -58.5005, 1.0], [-34.634543, -58.528828, 1.0], [-34.649498, -58.442125, 1.0], [-34.60927, -58.465015, 1.0], [-34.610775, -58.492058, 1.0], [-34.600648, -58.388103, 1.0], [-34.65558, -58.523363, 1.0], [-34.614372, -58.427602, 1.0], [-34.641913, -58.417951, 1.0], [-34.608629, -58.424681, 1.0], [-34.650007, -58.520868, 3.0], [-34.608797, -58.438708, 1.0], [-34.547204, -58.456856, 1.0], [-34.607577, -58.486363, 1.0], [-34.55456, -58.471589, 1.0], [-34.628221, -58.483745, 1.0], [-34.581057, -58.498089, 1.0], [-34.657235, -58.46735, 1.0], [-34.646346, -58.504917, 1.0], [-34.599159, -58.384036, 1.0], [-34.599159, -58.384036, 1.0], [-34.624069, -58.368068, 1.0], [-34.604084, -58.38224, 1.0], [-34.661871, -58.501108, 1.0], [-34.69651, -58.468546, 1.0], [-34.596239, -58.374326, 1.0], [-34.620645, -58.517428, 1.0], [-34.6741, -58.479498, 1.0], [-34.593567, -58.373846, 1.0], [-34.620858, -58.415098, 1.0], [-34.62597, -58.39892, 2.0], [-34.619152, -58.40504, 1.0], [-34.60958, -58.397596, 1.0], [-34.615812, -58.369503, 1.0], [-34.68049, -58.46912, 1.0], [-34.618578, -58.381889, 1.0], [-34.535223, -58.463086, 1.0], [-34.645853, -58.512956, 1.0], [-34.610659, -58.397649, 1.0], [-34.598995, -58.406073, 1.0], [-34.633354, -58.449246, 1.0], [-34.614915, -58.391683, 2.0], [-34.611785, -58.379348, 1.0], [-34.634218, -58.52327, 1.0], [-34.608863, -58.401836, 1.0], [-34.630559, -58.370487, 1.0], [-34.551389, -58.438794, 2.0], [-34.649836, -58.419423, 1.0], [-34.626216, -58.486606, 1.0], [-34.581057, -58.498089, 1.0], [-34.610982, -58.529335, 1.0], [-34.618579, -58.382985, 1.0], [-34.654795, -58.482654, 1.0], [-34.589607, -58.383554, 1.0], [-34.653162, -58.37889, 1.0], [-34.613038, -58.38049, 2.0], [-34.639105, -58.417091, 1.0], [-34.60976, -58.383421, 1.0], [-34.589543, -58.505395, 3.0], [-34.615193, -58.43526, 1.0], [-34.625119, -58.363464, 1.0], [-34.649918, -58.464518, 1.0], [-34.58913, -58.388982, 2.0], [-34.68631, -58.48314, 1.0], [-34.636106, -58.375072, 1.0], [-34.624713, -58.529545, 1.0], [-34.61804, -58.487932, 1.0], [-34.646559, -58.501388, 1.0], [-34.640321, -58.423848, 2.0], [-34.55593, -58.488049, 1.0], [-34.586588, -58.385853, 1.0], [-34.626228, -58.421519, 1.0], [-34.610457, -58.409476, 4.0], [-34.620222, -58.391629, 1.0], [-34.611875, -58.415339, 1.0], [-34.623012, -58.405989, 1.0], [-34.654899, -58.47551, 1.0], [-34.563415, -58.451881, 2.0], [-34.64529, -58.484568, 1.0], [-34.591109, -58.392567, 1.0], [-34.591562, -58.401039, 1.0], [-34.624994, -58.41284, 1.0], [-34.597948, -58.382601, 1.0], [-34.613884, -58.459449, 1.0], [-34.677564, -58.475437, 1.0], [-34.625836, -58.471703, 1.0], [-34.575572, -58.472743, 1.0], [-34.565476, -58.495192, 1.0], [-34.600518, -58.392915, 1.0], [-34.677927, -58.476133, 1.0], [-34.579352, -58.449111, 1.0], [-34.610982, -58.529335, 2.0], [-34.633325, -58.459903, 1.0], [-34.614952, -58.43373, 1.0], [-34.613364, -58.434431, 1.0], [-34.589216, -58.371016, 2.0], [-34.63609, -58.416193, 1.0], [-34.650156, -58.528413, 1.0], [-34.626169, -58.40892, 1.0], [-34.604722, -58.399628, 1.0], [-34.62174, -58.49021, 1.0], [-34.623778, -58.402176, 1.0], [-34.611055, -58.452973, 1.0], [-34.638135, -58.446236, 1.0], [-34.665899, -58.471615, 1.0], [-34.606662, -58.413718, 1.0], [-34.62958, -58.443933, 1.0], [-34.61305, -58.397432, 1.0], [-34.64597, -58.528659, 1.0], [-34.656834, -58.426118, 1.0], [-34.644844, -58.45856, 2.0], [-34.589358, -58.433088, 1.0], [-34.555725, -58.448519, 1.0], [-34.636985, -58.472416, 1.0], [-34.581879, -58.430045, 1.0], [-34.561257, -58.457527, 1.0], [-34.68631, -58.48314, 1.0], [-34.647026, -58.415342, 1.0], [-34.636204, -58.491773, 1.0], [-34.602882, -58.524492, 1.0], [-34.661982, -58.517471, 1.0], [-34.606605, -58.377858, 1.0], [-34.597797, -58.435524, 1.0], [-34.626368, -58.471575, 1.0], [-34.579218, -58.442581, 1.0], [-34.630516, -58.390789, 1.0], [-34.57498, -58.415406, 1.0], [-34.60954, -58.416563, 1.0], [-34.596163, -58.40846, 2.0], [-34.612328, -58.369566, 1.0], [-34.586377, -58.406477, 1.0], [-34.67135, -58.505107, 1.0], [-34.550051, -58.453581, 1.0], [-34.609494, -58.386732, 1.0], [-34.57101, -58.492524, 1.0], [-34.62891, -58.529692, 1.0], [-34.592551, -58.464383, 1.0], [-34.642828, -58.493101, 2.0], [-34.626228, -58.421519, 1.0], [-34.635624, -58.402276, 1.0], [-34.567329, -58.438102, 1.0], [-34.632315, -58.475654, 1.0], [-34.641625, -58.394331, 1.0], [-34.595739, -58.470845, 1.0], [-34.6226, -58.390752, 1.0], [-34.643632, -58.445169, 1.0], [-34.612943, -58.379025, 1.0], [-34.657841, -58.478816, 1.0], [-34.598481, -58.484359, 1.0], [-34.597744, -58.423371, 1.0], [-34.63684, -58.374827, 1.0], [-34.647895, -58.384472, 1.0], [-34.581082, -58.431045, 1.0], [-34.605971, -58.484271, 1.0], [-34.599729, -58.397192, 2.0], [-34.631041, -58.442172, 1.0], [-34.57987, -58.453236, 1.0], [-34.630039, -58.386875, 1.0], [-34.57988, -58.42347, 1.0], [-34.62891, -58.529692, 1.0], [-34.626644, -58.370972, 1.0], [-34.627023, -58.358474, 1.0], [-34.661018, -58.483575, 1.0], [-34.579773, -58.476605, 1.0], [-34.592058, -58.433449, 1.0], [-34.597897, -58.414633, 1.0], [-34.629908, -58.364089, 1.0], [-34.615995, -58.41705, 1.0], [-34.612881, -58.394726, 1.0], [-34.580939, -58.424529, 1.0], [-34.622148, -58.381002, 2.0], [-34.64156, -58.393809, 1.0], [-34.631595, -58.400534, 1.0], [-34.574505, -58.407612, 1.0], [-34.54589, -58.459898, 1.0], [-34.599532, -58.522879, 1.0], [-34.618299, -58.43646, 1.0], [-34.660758, -58.50386, 1.0], [-34.602219, -58.442491, 1.0], [-34.603668, -58.380983, 1.0], [-34.594442, -58.402354, 2.0], [-34.645272, -58.507945, 1.0], [-34.578296, -58.460226, 1.0], [-34.593539, -58.431223, 1.0], [-34.619182, -58.477069, 1.0], [-34.602043, -58.440516, 1.0], [-34.570266, -58.423442, 1.0], [-34.638084, -58.503936, 1.0], [-34.61683, -58.365871, 1.0], [-34.571128, -58.442547, 1.0], [-34.655961, -58.490975, 2.0], [-34.541687, -58.471994, 2.0], [-34.58533, -58.484273, 1.0], [-34.658925, -58.504574, 1.0], [-34.631554, -58.469374, 1.0], [-34.584798, -58.407097, 1.0], [-34.610339, -58.391882, 1.0], [-34.573056, -58.484033, 1.0], [-34.611479, -58.421014, 1.0], [-34.556578, -58.424491, 1.0], [-34.56911, -58.457477, 1.0], [-34.5953, -58.423014, 1.0], [-34.660952, -58.502226, 2.0], [-34.627535, -58.365721, 1.0], [-34.590383, -58.370998, 1.0], [-34.556052, -58.480992, 1.0], [-34.621539, -58.424044, 1.0], [-34.572083, -58.482507, 1.0], [-34.610119, -58.405971, 1.0], [-34.604902, -58.392357, 1.0], [-34.597775, -58.440924, 1.0], [-34.602102, -58.4457, 1.0], [-34.591987, -58.447786, 1.0], [-34.597124, -58.475889, 1.0], [-34.574748, -58.487267, 1.0], [-34.574839, -58.44773, 1.0], [-34.581082, -58.431045, 1.0], [-34.623778, -58.402176, 1.0], [-34.627009, -58.491094, 1.0], [-34.645366, -58.466002, 1.0], [-34.610763, -58.381052, 1.0], [-34.584568, -58.507851, 1.0], [-34.629534, -58.494851, 1.0], [-34.604832, -58.447864, 1.0], [-34.635399, -58.396438, 1.0], [-34.550099, -58.500426, 1.0], [-34.550099, -58.500426, 1.0], [-34.564862, -58.48084, 1.0], [-34.602706, -58.471548, 1.0], [-34.597538, -58.403416, 1.0], [-34.562341, -58.416804, 1.0], [-34.61309, -58.381226, 1.0], [-34.607657, -58.491989, 2.0], [-34.645962, -58.466995, 2.0], [-34.617644, -58.380691, 1.0], [-34.63631, -58.43564, 2.0], [-34.609378, -58.393889, 2.0], [-34.570024, -58.463116, 1.0], [-34.541741, -58.480306, 1.0], [-34.549474, -58.5005, 1.0], [-34.576609, -58.431563, 1.0], [-34.63247, -58.494594, 4.0], [-34.624277, -58.511648, 1.0], [-34.624585, -58.458143, 1.0], [-34.611202, -58.359239, 1.0], [-34.578168, -58.426535, 1.0], [-34.55981, -58.460083, 1.0], [-34.661982, -58.517471, 1.0], [-34.610419, -58.502367, 1.0], [-34.641592, -58.37405, 1.0], [-34.570027, -58.425684, 1.0], [-34.582474, -58.400207, 1.0], [-34.590682, -58.407778, 2.0], [-34.688642, -58.463585, 1.0], [-34.588388, -58.483621, 1.0], [-34.605972, -58.405713, 2.0], [-34.659768, -58.497822, 1.0], [-34.594442, -58.402354, 2.0], [-34.574256, -58.4598, 2.0], [-34.595076, -58.520806, 5.0], [-34.612159, -58.367136, 1.0], [-34.590461, -58.440673, 1.0], [-34.609535, -58.424659, 1.0], [-34.580763, -58.459171, 1.0], [-34.644955, -58.400841, 1.0], [-34.62962, -58.364267, 1.0], [-34.589119, -58.48471, 2.0], [-34.588698, -58.381976, 1.0], [-34.63238, -58.414483, 2.0], [-34.654648, -58.468364, 1.0], [-34.560818, -58.466172, 1.0], [-34.576729, -58.498844, 1.0], [-34.59813, -58.406016, 1.0], [-34.592781, -58.432362, 1.0], [-34.596684, -58.453992, 1.0], [-34.609436, -58.498308, 1.0], [-34.604003, -58.409283, 1.0], [-34.58273, -58.399281, 1.0], [-34.610028, -58.387567, 1.0], [-34.589282, -58.519116, 1.0], [-34.62509, -58.441646, 1.0], [-34.65432, -58.414797, 1.0], [-34.640558, -58.529939, 1.0], [-34.644606, -58.523095, 4.0], [-34.603767, -58.384115, 1.0], [-34.562958, -58.490838, 1.0], [-34.594763, -58.444303, 1.0], [-34.587401, -58.381209, 2.0], [-34.639952, -58.376993, 1.0], [-34.565382, -58.440329, 1.0], [-34.676484, -58.489352, 1.0], [-34.618157, -58.391704, 1.0], [-34.600113, -58.439339, 1.0], [-34.601985, -58.392599, 2.0], [-34.656375, -58.524917, 1.0], [-34.628902, -58.426402, 1.0], [-34.612057, -58.521923, 1.0], [-34.614703, -58.526145, 1.0], [-34.664397, -58.490075, 1.0], [-34.583459, -58.406178, 1.0], [-34.587392, -58.430127, 1.0], [-34.583419, -58.4527, 1.0], [-34.584366, -58.417117, 3.0], [-34.622135, -58.380012, 1.0], [-34.655462, -58.508809, 1.0], [-34.571805, -58.477548, 1.0], [-34.594302, -58.430063, 1.0], [-34.65704, -58.509234, 2.0], [-34.598618, -58.391662, 1.0], [-34.672332, -58.477439, 1.0], [-34.636628, -58.522366, 2.0], [-34.598435, -58.400853, 1.0], [-34.617095, -58.459394, 1.0], [-34.570472, -58.44383, 1.0], [-34.58869, -58.450769, 1.0], [-34.588245, -58.421085, 1.0], [-34.618181, -58.427321, 1.0], [-34.627041, -58.391193, 1.0], [-34.618982, -58.39028, 1.0], [-34.635244, -58.376727, 1.0], [-34.654881, -58.516102, 1.0], [-34.600419, -58.382489, 1.0], [-34.596726, -58.38184, 2.0], [-34.630783, -58.520851, 1.0], [-34.585725, -58.413163, 2.0], [-34.63725, -58.526623, 1.0], [-34.58825, -58.44706, 1.0], [-34.623319, -58.436678, 1.0], [-34.611442, -58.390622, 1.0], [-34.63662, -58.453289, 1.0], [-34.613823, -58.391717, 1.0], [-34.661982, -58.517471, 1.0], [-34.596993, -58.406334, 1.0], [-34.570044, -58.479055, 1.0], [-34.592874, -58.464556, 1.0], [-34.580502, -58.450955, 1.0], [-34.5637, -58.496839, 1.0], [-34.635914, -58.398911, 1.0], [-34.628265, -58.366574, 1.0], [-34.610763, -58.381052, 1.0], [-34.622665, -58.365179, 1.0], [-34.633757, -58.38877, 1.0], [-34.58548, -58.516341, 1.0], [-34.635479, -58.529393, 1.0], [-34.637547, -58.522653, 1.0], [-34.571446, -58.441947, 1.0], [-34.626195, -58.491311, 1.0], [-34.601383, -58.381936, 1.0], [-34.595331, -58.431501, 1.0], [-34.635175, -58.402449, 1.0], [-34.549474, -58.5005, 1.0], [-34.568932, -58.494195, 1.0], [-34.590714, -58.496418, 1.0], [-34.546717, -58.46994, 1.0], [-34.580402, -58.460608, 1.0], [-34.635375, -58.47546, 1.0], [-34.574711, -58.499581, 1.0], [-34.614694, -58.388976, 1.0], [-34.62902, -58.505354, 1.0], [-34.652504, -58.511504, 1.0], [-34.581082, -58.431045, 1.0], [-34.621941, -58.374171, 1.0], [-34.620994, -58.460517, 2.0], [-34.627486, -58.378501, 1.0], [-34.631378, -58.41596, 1.0], [-34.59034, -58.480891, 1.0], [-34.617847, -58.385881, 1.0], [-34.587942, -58.417493, 1.0], [-34.587653, -58.445706, 3.0], [-34.574449, -58.434432, 1.0], [-34.597218, -58.391813, 1.0], [-34.539371, -58.475488, 1.0], [-34.613038, -58.38049, 2.0], [-34.587861, -58.470453, 1.0], [-34.635047, -58.355619, 2.0], [-34.6474, -58.409473, 1.0], [-34.536382, -58.461215, 1.0], [-34.539578, -58.465848, 1.0], [-34.582251, -58.420351, 1.0], [-34.54884, -58.468453, 1.0], [-34.629561, -58.368725, 1.0], [-34.549555, -58.450287, 1.0], [-34.597067, -58.492907, 1.0], [-34.542419, -58.471452, 1.0], [-34.641221, -58.52892, 2.0], [-34.582849, -58.408207, 1.0], [-34.606139, -58.382086, 1.0], [-34.67398, -58.501639, 1.0], [-34.54419, -58.486189, 1.0], [-34.64888, -58.501736, 1.0], [-34.634186, -58.353461, 2.0], [-34.540487, -58.449274, 1.0], [-34.672566, -58.481537, 1.0], [-34.598174, -58.409544, 1.0], [-34.654463, -58.505709, 1.0], [-34.618134, -58.530338, 2.0], [-34.616092, -58.474058, 1.0], [-34.639059, -58.518766, 2.0], [-34.617343, -58.416856, 2.0], [-34.543514, -58.447681, 1.0], [-34.583288, -58.447638, 1.0], [-34.648171, -58.372831, 1.0], [-34.58419, -58.427156, 1.0], [-34.65847, -58.513113, 2.0], [-34.592174, -58.509659, 1.0], [-34.619758, -58.380622, 5.0], [-34.660875, -58.515512, 2.0], [-34.610615, -58.466561, 1.0], [-34.588614, -58.421493, 1.0], [-34.649493, -58.521458, 1.0], [-34.627801, -58.381439, 1.0], [-34.597734, -58.421782, 1.0], [-34.571168, -58.423249, 1.0], [-34.590688, -58.429189, 1.0], [-34.658463, -58.511401, 1.0], [-34.652015, -58.416374, 2.0], [-34.665718, -58.51343, 1.0], [-34.642823, -58.422818, 1.0], [-34.558429, -58.46822, 1.0], [-34.608994, -58.388724, 1.0], [-34.595838, -58.391962, 1.0], [-34.661982, -58.517471, 1.0], [-34.610338, -58.417302, 1.0], [-34.541565, -58.475328, 1.0], [-34.673379, -58.480456, 1.0], [-34.555047, -58.464617, 1.0], [-34.596986, -58.447335, 1.0], [-34.641875, -58.402654, 1.0], [-34.570823, -58.424079, 1.0], [-34.646391, -58.378227, 1.0], [-34.614204, -58.397481, 1.0], [-34.546286, -58.452126, 1.0], [-34.68645, -58.457774, 1.0], [-34.647463, -58.497879, 1.0], [-34.570341, -58.461108, 1.0], [-34.614346, -58.511259, 1.0], [-34.624967, -58.412099, 1.0], [-34.576393, -58.482418, 1.0], [-34.631022, -58.414508, 1.0], [-34.595824, -58.402828, 2.0], [-34.616134, -58.383028, 1.0], [-34.589083, -58.422212, 1.0], [-34.652323, -58.513247, 2.0], [-34.574556, -58.424992, 1.0], [-34.648683, -58.503614, 2.0], [-34.62943, -58.364815, 2.0], [-34.598281, -58.499541, 1.0], [-34.64458, -58.397282, 1.0], [-34.630516, -58.390789, 1.0], [-34.636672, -58.409146, 1.0], [-34.563142, -58.458568, 1.0], [-34.599274, -58.429455, 1.0], [-34.614359, -58.529884, 1.0], [-34.61846, -58.397521, 2.0], [-34.60301, -58.389466, 1.0], [-34.582077, -58.495384, 1.0], [-34.620905, -58.399833, 1.0], [-34.59741, -58.512686, 1.0], [-34.653468, -58.49415, 2.0], [-34.591585, -58.38207, 1.0], [-34.592516, -58.427211, 1.0], [-34.647611, -58.403569, 1.0], [-34.616836, -58.528775, 1.0], [-34.591469, -58.438473, 1.0], [-34.594138, -58.419572, 1.0], [-34.616, -58.447218, 1.0], [-34.614244, -58.381284, 1.0], [-34.584655, -58.41174, 1.0], [-34.592375, -58.417938, 1.0], [-34.626082, -58.379017, 1.0], [-34.590981, -58.444936, 2.0], [-34.653527, -58.404213, 1.0], [-34.544488, -58.444714, 1.0], [-34.565311, -58.435986, 1.0], [-34.637718, -58.409058, 2.0], [-34.628441, -58.477381, 1.0], [-34.636868, -58.49544, 1.0], [-34.630173, -58.415898, 1.0], [-34.694441, -58.47596, 1.0], [-34.569815, -58.490265, 1.0], [-34.595842, -58.427732, 1.0], [-34.63102, -58.469384, 1.0], [-34.658659, -58.426768, 2.0], [-34.581561, -58.40519, 3.0], [-34.656557, -58.501755, 2.0], [-34.582471, -58.452211, 1.0], [-34.604606, -58.40148, 1.0], [-34.585246, -58.412526, 1.0], [-34.628446, -58.489284, 1.0], [-34.608598, -58.42304, 1.0], [-34.633619, -58.370256, 1.0], [-34.591052, -58.413176, 1.0], [-34.658272, -58.478276, 1.0], [-34.579894, -58.457203, 2.0], [-34.589308, -58.494147, 1.0], [-34.633822, -58.521079, 1.0], [-34.694441, -58.47596, 1.0], [-34.605885, -58.460514, 1.0], [-34.610681, -58.412592, 1.0], [-34.597627, -58.500086, 1.0], [-34.576838, -58.461606, 1.0], [-34.580502, -58.450955, 1.0], [-34.596645, -58.496893, 1.0], [-34.628187, -58.4373, 1.0], [-34.628558, -58.399912, 1.0], [-34.574505, -58.407612, 1.0], [-34.599308, -58.450878, 1.0], [-34.555704, -58.49596, 1.0], [-34.674361, -58.472294, 1.0], [-34.55315, -58.463905, 1.0], [-34.572721, -58.489558, 1.0], [-34.621154, -58.385848, 2.0], [-34.617933, -58.389399, 1.0], [-34.594788, -58.433175, 1.0], [-34.577281, -58.409869, 1.0], [-34.646391, -58.378227, 2.0], [-34.601975, -58.423933, 1.0], [-34.625584, -58.506966, 1.0], [-34.547957, -58.49491, 1.0], [-34.615779, -58.430779, 1.0], [-34.623156, -58.394879, 1.0], [-34.602193, -58.438514, 1.0], [-34.624171, -58.472563, 1.0], [-34.623923, -58.365513, 1.0], [-34.605235, -58.510621, 1.0], [-34.626171, -58.387213, 1.0], [-34.607593, -58.457834, 1.0], [-34.592315, -58.500815, 2.0], [-34.56908, -58.479909, 1.0], [-34.657339, -58.42379, 1.0], [-34.656504, -58.428073, 1.0], [-34.610699, -58.528172, 1.0], [-34.608257, -58.393408, 1.0], [-34.635536, -58.404057, 1.0], [-34.549428, -58.462832, 1.0], [-34.575145, -58.438692, 1.0], [-34.568015, -58.452223, 1.0], [-34.57655, -58.404878, 1.0], [-34.593502, -58.45592, 1.0], [-34.62507, -58.529942, 1.0], [-34.611801, -58.395843, 2.0], [-34.627139, -58.367954, 1.0], [-34.629534, -58.494851, 1.0], [-34.580954, -58.429014, 1.0], [-34.614244, -58.381284, 1.0], [-34.596614, -58.438354, 1.0], [-34.63612, -58.366771, 1.0], [-34.609038, -58.381153, 1.0], [-34.62158, -58.423598, 1.0], [-34.604035, -58.380964, 1.0], [-34.541532, -58.473787, 2.0], [-34.581617, -58.403581, 1.0], [-34.643735, -58.525719, 1.0], [-34.610538, -58.411738, 2.0], [-34.631461, -58.416563, 1.0], [-34.609462, -58.415956, 2.0], [-34.641786, -58.529846, 1.0], [-34.623045, -58.43466, 1.0], [-34.612111, -58.366299, 2.0], [-34.632385, -58.3957, 1.0], [-34.566739, -58.417963, 1.0], [-34.576086, -58.433576, 1.0], [-34.627923, -58.452872, 1.0], [-34.639635, -58.488524, 1.0], [-34.571989, -58.434082, 1.0], [-34.576795, -58.423534, 1.0], [-34.640797, -58.367493, 1.0], [-34.63893, -58.521212, 1.0], [-34.581787, -58.428, 1.0], [-34.625398, -58.445342, 1.0], [-34.593567, -58.373846, 1.0], [-34.630153, -58.441006, 1.0], [-34.620586, -58.461019, 1.0], [-34.622731, -58.485111, 1.0], [-34.607766, -58.4635, 1.0], [-34.613993, -58.409878, 1.0], [-34.628737, -58.40071, 1.0], [-34.573621, -58.487238, 1.0], [-34.61466, -58.369322, 1.0], [-34.643823, -58.517256, 1.0], [-34.566261, -58.439402, 1.0], [-34.600297, -58.453573, 1.0], [-34.628922, -58.430636, 1.0], [-34.624069, -58.368068, 1.0], [-34.608839, -58.406035, 1.0], [-34.585323, -58.388641, 2.0], [-34.549474, -58.5005, 1.0], [-34.611137, -58.520402, 1.0], [-34.594998, -58.373036, 1.0], [-34.601371, -58.381594, 1.0], [-34.589265, -58.499498, 1.0], [-34.616802, -58.389795, 1.0], [-34.568852, -58.484329, 1.0], [-34.607742, -58.406125, 1.0], [-34.624967, -58.412099, 1.0], [-34.698006, -58.469826, 2.0], [-34.631676, -58.454671, 1.0], [-34.669129, -58.508095, 1.0], [-34.561584, -58.505576, 1.0], [-34.644955, -58.400841, 1.0], [-34.619869, -58.38584, 1.0], [-34.607526, -58.384923, 1.0], [-34.57101, -58.492524, 1.0], [-34.627778, -58.37962, 1.0], [-34.617644, -58.380691, 1.0], [-34.619803, -58.384352, 1.0], [-34.636992, -58.478544, 1.0], [-34.640065, -58.376663, 1.0], [-34.606115, -58.41365, 1.0], [-34.642757, -58.490877, 4.0], [-34.542037, -58.448887, 1.0], [-34.660714, -58.483231, 2.0], [-34.609801, -58.48258, 1.0], [-34.611735, -58.379061, 2.0], [-34.622072, -58.427799, 1.0], [-34.589397, -58.371309, 1.0], [-34.536101, -58.468066, 1.0], [-34.629772, -58.390773, 1.0], [-34.613962, -58.525056, 1.0], [-34.584282, -58.373137, 1.0], [-34.575794, -58.405807, 1.0], [-34.631192, -58.442423, 2.0], [-34.613051, -58.414789, 1.0], [-34.616467, -58.528299, 1.0], [-34.595763, -58.388427, 1.0], [-34.618547, -58.379331, 2.0], [-34.638333, -58.488816, 2.0], [-34.597818, -58.433782, 2.0], [-34.654189, -58.516285, 1.0], [-34.618134, -58.530338, 1.0], [-34.623816, -58.44498, 1.0], [-34.64128, -58.392595, 1.0], [-34.638443, -58.381361, 1.0], [-34.637968, -58.458846, 1.0], [-34.617847, -58.385881, 1.0], [-34.603357, -58.462912, 1.0], [-34.60063, -58.495844, 1.0], [-34.620612, -58.484705, 1.0], [-34.574281, -58.488298, 1.0], [-34.591052, -58.413176, 1.0], [-34.551611, -58.436745, 1.0], [-34.657408, -58.39932, 1.0], [-34.5681, -58.471463, 1.0], [-34.594177, -58.418126, 1.0], [-34.616877, -58.366601, 2.0], [-34.622148, -58.381002, 1.0], [-34.604656, -58.376587, 1.0], [-34.649697, -58.521616, 1.0], [-34.554345, -58.441367, 1.0], [-34.618786, -58.387426, 1.0], [-34.582895, -58.403461, 1.0], [-34.598112, -58.440695, 1.0], [-34.573496, -58.480668, 1.0], [-34.656782, -58.437025, 1.0], [-34.64469, -58.518385, 1.0], [-34.655774, -58.505614, 2.0], [-34.561619, -58.505201, 1.0], [-34.565544, -58.453315, 1.0], [-34.577054, -58.503482, 2.0], [-34.556346, -58.444715, 1.0], [-34.608675, -58.460143, 1.0], [-34.634587, -58.488423, 1.0], [-34.620595, -58.368441, 1.0], [-34.621435, -58.441071, 1.0], [-34.580575, -58.44909, 1.0], [-34.595514, -58.428093, 1.0], [-34.620496, -58.474189, 1.0], [-34.599737, -58.393745, 1.0], [-34.57648, -58.476584, 1.0], [-34.624663, -58.466115, 1.0], [-34.619431, -58.406392, 1.0], [-34.565341, -58.445523, 1.0], [-34.548336, -58.443142, 1.0], [-34.703796, -58.460718, 2.0], [-34.600604, -58.439959, 2.0], [-34.58804, -58.406294, 1.0], [-34.628802, -58.480891, 1.0], [-34.62818, -58.460253, 2.0], [-34.673622, -58.49227, 1.0], [-34.589997, -58.379938, 1.0], [-34.576816, -58.429051, 1.0], [-34.598146, -58.36415, 1.0], [-34.611169, -58.421141, 1.0], [-34.600604, -58.439959, 1.0], [-34.569349, -58.400133, 1.0], [-34.617588, -58.49156, 1.0], [-34.567392, -58.430179, 2.0], [-34.603803, -58.415665, 1.0], [-34.589478, -58.5117, 1.0], [-34.640501, -58.455745, 1.0], [-34.632206, -58.501039, 1.0], [-34.616092, -58.474058, 1.0], [-34.610716, -58.428918, 1.0], [-34.604712, -58.402143, 2.0], [-34.5469, -58.448047, 2.0], [-34.615028, -58.530192, 2.0], [-34.604434, -58.392293, 1.0], [-34.567487, -58.479582, 1.0], [-34.653519, -58.420581, 1.0], [-34.619758, -58.380622, 1.0], [-34.657724, -58.510076, 1.0], [-34.599873, -58.438768, 1.0], [-34.559539, -58.445237, 1.0], [-34.637049, -58.405253, 1.0], [-34.54837, -58.493326, 1.0], [-34.648961, -58.474837, 4.0], [-34.680034, -58.450642, 1.0], [-34.622237, -58.384555, 1.0], [-34.63394, -58.482379, 2.0], [-34.631394, -58.379126, 1.0], [-34.603809, -58.441156, 1.0], [-34.56371, -58.506113, 1.0], [-34.606096, -58.512312, 1.0], [-34.568743, -58.445027, 1.0], [-34.560525, -58.47234, 1.0], [-34.703796, -58.460718, 1.0], [-34.67315, -58.458364, 2.0], [-34.551164, -58.499285, 1.0], [-34.5786, -58.469344, 1.0], [-34.659411, -58.516787, 1.0], [-34.638482, -58.364143, 1.0], [-34.561602, -58.448723, 2.0], [-34.567306, -58.456325, 1.0], [-34.564862, -58.43689, 1.0], [-34.614884, -58.424376, 1.0], [-34.572287, -58.399467, 4.0], [-34.628716, -58.438595, 1.0], [-34.655984, -58.513175, 1.0], [-34.617907, -58.387467, 1.0], [-34.627423, -58.471104, 1.0], [-34.656833, -58.480625, 1.0], [-34.67398, -58.501639, 1.0], [-34.666514, -58.507937, 2.0], [-34.597221, -58.397558, 1.0], [-34.597069, -58.491359, 1.0], [-34.580835, -58.454275, 1.0], [-34.576609, -58.431563, 1.0], [-34.613744, -58.389348, 1.0], [-34.626459, -58.423677, 1.0], [-34.599069, -58.382097, 1.0], [-34.579795, -58.453474, 1.0], [-34.609275, -58.39338, 1.0], [-34.548698, -58.468203, 2.0], [-34.569815, -58.490265, 1.0], [-34.568306, -58.493019, 2.0], [-34.605818, -58.442027, 1.0], [-34.605617, -58.421335, 1.0], [-34.614985, -58.437779, 1.0], [-34.608731, -58.434733, 1.0], [-34.650984, -58.444599, 1.0], [-34.570867, -58.458172, 1.0], [-34.598112, -58.440695, 1.0], [-34.647688, -58.50641, 1.0], [-34.627923, -58.452872, 1.0], [-34.587821, -58.368683, 1.0], [-34.562793, -58.476738, 1.0], [-34.573538, -58.417954, 1.0], [-34.650156, -58.528413, 1.0], [-34.623719, -58.51299, 1.0], [-34.657727, -58.470945, 2.0], [-34.644418, -58.376861, 1.0], [-34.604127, -58.405269, 1.0], [-34.621966, -58.50902, 1.0], [-34.6226, -58.390752, 1.0], [-34.648576, -58.50741, 1.0], [-34.65623, -58.414923, 1.0], [-34.604606, -58.40148, 1.0], [-34.588888, -58.405236, 1.0], [-34.619211, -58.475337, 1.0], [-34.604286, -58.415698, 1.0], [-34.630761, -58.460252, 1.0], [-34.54952, -58.454025, 1.0], [-34.629491, -58.370666, 1.0], [-34.63697, -58.522759, 1.0], [-34.653681, -58.418883, 1.0], [-34.608511, -58.373512, 1.0], [-34.581292, -58.403676, 1.0], [-34.578422, -58.425714, 1.0], [-34.579446, -58.479432, 1.0], [-34.610431, -58.393345, 1.0], [-34.609275, -58.39338, 1.0], [-34.559148, -58.449401, 1.0], [-34.541211, -58.471057, 1.0], [-34.639115, -58.510049, 1.0], [-34.613701, -58.391306, 1.0], [-34.559502, -58.448803, 1.0], [-34.622184, -58.516459, 1.0], [-34.622104, -58.484375, 1.0], [-34.604412, -58.406648, 1.0], [-34.599069, -58.382097, 1.0], [-34.590821, -58.435314, 1.0], [-34.576729, -58.498844, 1.0], [-34.577008, -58.43202, 1.0], [-34.636234, -58.492325, 1.0], [-34.625357, -58.393456, 1.0], [-34.641128, -58.479813, 1.0], [-34.613823, -58.391717, 2.0], [-34.611875, -58.415339, 1.0], [-34.621473, -58.476252, 1.0], [-34.60864, -58.436217, 1.0], [-34.637026, -58.386429, 1.0], [-34.596915, -58.385292, 1.0], [-34.641128, -58.479813, 1.0], [-34.566984, -58.455873, 1.0], [-34.593539, -58.431223, 1.0], [-34.62281, -58.443833, 1.0], [-34.648614, -58.430453, 1.0], [-34.579538, -58.432979, 1.0], [-34.590461, -58.440673, 2.0], [-34.637923, -58.396581, 1.0], [-34.601894, -58.370492, 1.0], [-34.645816, -58.502296, 1.0], [-34.644852, -58.421127, 1.0], [-34.56353, -58.486355, 1.0], [-34.5568, -58.466769, 1.0], [-34.58225, -58.472081, 1.0], [-34.60431, -58.405317, 1.0], [-34.625229, -58.453004, 1.0], [-34.631138, -58.453234, 1.0], [-34.654406, -58.52797, 1.0], [-34.587145, -58.407643, 1.0], [-34.596467, -58.471314, 1.0], [-34.600332, -58.431431, 1.0], [-34.618068, -58.412692, 1.0], [-34.607313, -58.381624, 1.0], [-34.604434, -58.392293, 1.0], [-34.624069, -58.368068, 1.0], [-34.618134, -58.530338, 1.0], [-34.622731, -58.391495, 1.0], [-34.57449, -58.443208, 1.0], [-34.622072, -58.427799, 1.0], [-34.622072, -58.427799, 1.0], [-34.632107, -58.422868, 1.0], [-34.538298, -58.46531, 1.0], [-34.566858, -58.484689, 1.0], [-34.576844, -58.503742, 1.0], [-34.647514, -58.491855, 1.0], [-34.557126, -58.503725, 2.0], [-34.576444, -58.44742, 1.0], [-34.6016, -58.433888, 1.0], [-34.630299, -58.496223, 1.0], [-34.668643, -58.474924, 4.0], [-34.672312, -58.503845, 1.0], [-34.64027, -58.431514, 2.0], [-34.620854, -58.416044, 1.0], [-34.609623, -58.397332, 1.0], [-34.626996, -58.426759, 1.0], [-34.596645, -58.496893, 1.0], [-34.638866, -58.529089, 1.0], [-34.61544, -58.402885, 1.0], [-34.636654, -58.445878, 1.0], [-34.616333, -58.443192, 5.0], [-34.546059, -58.458119, 2.0], [-34.55366, -58.452124, 1.0], [-34.609797, -58.401428, 1.0], [-34.618095, -58.475056, 1.0], [-34.573738, -58.497726, 1.0], [-34.632206, -58.501039, 1.0], [-34.596677, -58.459277, 1.0], [-34.585505, -58.428522, 1.0], [-34.624674, -58.484721, 1.0], [-34.598983, -58.394468, 1.0], [-34.548115, -58.468849, 2.0], [-34.558182, -58.499648, 1.0], [-34.557371, -58.44168, 1.0], [-34.651732, -58.415064, 1.0], [-34.651187, -58.443326, 1.0], [-34.575819, -58.464402, 1.0], [-34.608686, -58.384873, 1.0], [-34.583581, -58.418261, 1.0], [-34.629618, -58.364789, 1.0], [-34.631059, -58.529899, 1.0], [-34.633724, -58.399703, 1.0], [-34.635848, -58.369837, 1.0], [-34.563567, -58.456856, 1.0], [-34.670059, -58.495735, 2.0], [-34.564764, -58.461303, 1.0], [-34.667959, -58.493606, 1.0], [-34.608564, -58.505294, 1.0], [-34.569203, -58.457729, 1.0], [-34.572433, -58.446335, 1.0], [-34.660135, -58.482332, 1.0], [-34.616467, -58.381187, 1.0], [-34.651492, -58.514412, 1.0], [-34.552944, -58.450915, 1.0], [-34.686008, -58.475727, 2.0], [-34.617546, -58.378781, 1.0], [-34.672622, -58.476363, 3.0], [-34.590329, -58.416972, 1.0], [-34.561967, -58.46373, 1.0], [-34.547014, -58.447293, 1.0], [-34.617268, -58.467961, 2.0], [-34.551319, -58.452311, 1.0], [-34.577042, -58.429665, 1.0], [-34.595728, -58.432292, 1.0], [-34.597911, -58.382182, 1.0], [-34.629505, -58.379084, 2.0], [-34.629305, -58.429311, 1.0], [-34.563842, -58.483912, 1.0], [-34.609038, -58.381153, 1.0], [-34.641092, -58.404863, 1.0], [-34.60857, -58.421542, 1.0], [-34.652953, -58.517393, 2.0], [-34.54675, -58.490924, 1.0], [-34.616071, -58.361066, 1.0], [-34.636144, -58.3584, 1.0], [-34.598631, -58.45299, 1.0], [-34.656565, -58.517994, 1.0], [-34.56834, -58.455288, 1.0], [-34.608132, -58.447655, 1.0], [-34.640014, -58.526318, 1.0], [-34.634409, -58.375402, 1.0], [-34.574354, -58.431758, 1.0], [-34.655104, -58.470411, 1.0], [-34.631044, -58.362363, 1.0], [-34.640978, -58.480254, 1.0], [-34.607054, -58.395038, 1.0], [-34.656375, -58.524917, 1.0], [-34.560743, -58.459283, 1.0], [-34.605227, -58.402158, 1.0], [-34.590137, -58.452314, 1.0], [-34.554816, -58.4493, 1.0], [-34.598839, -58.404953, 1.0], [-34.544969, -58.487391, 1.0], [-34.577281, -58.409869, 1.0], [-34.670873, -58.499669, 2.0], [-34.56609, -58.458718, 1.0], [-34.578168, -58.426535, 1.0], [-34.55288, -58.490178, 1.0], [-34.597444, -58.397471, 1.0], [-34.55288, -58.490178, 1.0], [-34.629322, -58.496659, 1.0], [-34.571823, -58.421746, 1.0], [-34.592192, -58.43561, 4.0], [-34.601759, -58.415317, 1.0], [-34.571168, -58.423249, 1.0], [-34.593985, -58.406578, 1.0], [-34.628239, -58.418268, 2.0], [-34.595278, -58.372953, 1.0], [-34.627801, -58.381439, 1.0], [-34.603276, -58.394792, 1.0], [-34.55388, -58.450105, 1.0], [-34.625388, -58.391218, 1.0], [-34.647403, -58.457652, 1.0], [-34.603146, -58.437723, 1.0], [-34.660867, -58.474855, 3.0], [-34.623361, -58.462218, 1.0], [-34.563333, -58.454061, 1.0], [-34.610119, -58.405971, 2.0], [-34.604512, -58.406539, 1.0], [-34.555482, -58.462534, 1.0], [-34.578168, -58.426535, 1.0], [-34.613962, -58.525056, 1.0], [-34.573496, -58.480668, 1.0], [-34.582122, -58.406126, 1.0], [-34.589973, -58.387935, 1.0], [-34.641719, -58.529497, 1.0], [-34.63394, -58.482379, 1.0], [-34.587799, -58.426946, 1.0], [-34.580352, -58.425338, 1.0], [-34.64004, -58.474669, 3.0], [-34.611262, -58.405843, 1.0], [-34.656774, -58.480159, 1.0], [-34.637059, -58.363183, 1.0], [-34.615248, -58.409685, 1.0], [-34.646923, -58.41393, 6.0], [-34.541116, -58.479455, 1.0], [-34.586193, -58.51049, 1.0], [-34.586193, -58.51049, 1.0], [-34.588717, -58.43398, 2.0], [-34.681924, -58.467457, 1.0], [-34.565101, -58.506828, 1.0], [-34.61309, -58.381226, 1.0], [-34.554557, -58.502237, 1.0], [-34.612348, -58.404356, 1.0], [-34.592944, -58.430325, 1.0], [-34.633048, -58.459563, 1.0], [-34.617611, -58.378463, 1.0], [-34.579946, -58.431584, 1.0], [-34.569349, -58.400133, 2.0], [-34.602457, -58.450126, 1.0], [-34.649696, -58.416346, 1.0], [-34.596164, -58.432804, 2.0], [-34.629326, -58.390932, 1.0], [-34.628207, -58.506559, 2.0], [-34.557637, -58.446873, 1.0], [-34.562224, -58.442693, 1.0], [-34.60668, -58.408744, 1.0], [-34.572364, -58.420553, 1.0], [-34.540487, -58.449274, 1.0], [-34.603174, -58.420959, 1.0], [-34.619334, -58.461796, 2.0], [-34.602672, -58.433337, 1.0], [-34.62902, -58.505354, 1.0], [-34.645977, -58.508732, 1.0], [-34.609998, -58.386672, 1.0], [-34.64046, -58.445297, 1.0], [-34.656928, -58.506995, 1.0], [-34.587645, -58.371579, 1.0], [-34.618122, -58.389592, 1.0], [-34.620612, -58.484705, 1.0], [-34.606606, -58.373703, 1.0], [-34.590948, -58.510021, 1.0], [-34.615958, -58.462697, 1.0], [-34.620294, -58.511161, 1.0], [-34.650107, -58.425297, 2.0], [-34.630008, -58.400867, 2.0], [-34.616353, -58.431872, 3.0], [-34.60677, -58.502263, 1.0], [-34.590214, -58.449175, 1.0], [-34.656623, -58.373987, 1.0], [-34.642942, -58.36325, 1.0], [-34.597297, -58.396106, 1.0], [-34.655228, -58.387044, 3.0], [-34.629908, -58.364089, 2.0], [-34.577239, -58.409961, 1.0], [-34.63652, -58.358062, 1.0], [-34.679591, -58.487691, 2.0], [-34.68631, -58.48314, 1.0], [-34.593201, -58.382943, 1.0], [-34.619718, -58.407785, 1.0], [-34.61242, -58.405573, 1.0], [-34.636587, -58.520767, 2.0], [-34.588321, -58.389973, 2.0], [-34.650107, -58.425297, 1.0], [-34.597788, -58.418945, 1.0], [-34.548646, -58.455043, 1.0], [-34.677265, -58.478368, 1.0], [-34.632779, -58.471458, 1.0], [-34.62731, -58.474594, 1.0], [-34.539371, -58.475488, 1.0], [-34.606699, -58.419922, 1.0], [-34.636221, -58.424529, 1.0], [-34.551709, -58.488462, 1.0], [-34.6291, -58.495404, 1.0], [-34.593014, -58.513269, 1.0], [-34.5716, -58.493649, 1.0], [-34.621165, -58.435132, 1.0], [-34.536958, -58.470026, 1.0], [-34.62925, -58.464112, 1.0], [-34.626201, -58.388314, 1.0], [-34.589212, -58.424593, 1.0], [-34.622148, -58.381002, 1.0], [-34.578568, -58.469809, 1.0], [-34.678116, -58.491265, 5.0], [-34.550778, -58.490411, 1.0], [-34.60095, -58.522055, 1.0], [-34.616823, -58.422734, 1.0], [-34.594159, -58.516832, 1.0], [-34.688223, -58.469469, 4.0], [-34.549861, -58.475169, 1.0], [-34.619561, -58.395931, 1.0], [-34.606252, -58.483951, 1.0], [-34.60893, -58.369733, 1.0], [-34.628123, -58.456031, 1.0], [-34.631959, -58.44347, 1.0], [-34.596739, -58.428011, 2.0], [-34.535004, -58.466784, 2.0], [-34.652015, -58.416374, 1.0], [-34.575303, -58.399459, 1.0], [-34.647249, -58.375317, 1.0], [-34.639342, -58.528792, 1.0], [-34.561195, -58.450445, 1.0], [-34.618134, -58.530338, 5.0], [-34.618838, -58.403518, 1.0], [-34.586573, -58.50692, 1.0], [-34.622099, -58.378624, 1.0], [-34.656004, -58.469473, 2.0], [-34.645637, -58.451221, 1.0], [-34.608724, -58.430477, 1.0], [-34.638979, -58.360307, 1.0], [-34.603707, -58.392254, 1.0], [-34.633795, -58.489445, 2.0], [-34.594854, -58.429173, 1.0], [-34.614973, -58.427443, 1.0], [-34.586126, -58.430074, 1.0], [-34.619647, -58.398842, 1.0], [-34.653662, -58.48106, 5.0], [-34.628756, -58.493669, 2.0], [-34.610119, -58.405971, 5.0], [-34.66169, -58.516767, 1.0], [-34.607896, -58.484423, 1.0], [-34.674789, -58.466394, 1.0], [-34.58869, -58.450769, 1.0], [-34.612067, -58.521941, 1.0], [-34.60127, -58.523743, 1.0], [-34.612556, -58.489079, 1.0], [-34.57773, -58.468146, 1.0], [-34.60256, -58.38189, 1.0], [-34.651187, -58.443326, 1.0], [-34.621838, -58.391645, 1.0], [-34.574578, -58.499472, 1.0], [-34.555482, -58.462534, 1.0], [-34.555482, -58.462534, 1.0], [-34.633188, -58.529437, 1.0], [-34.581731, -58.381263, 1.0], [-34.595402, -58.38198, 1.0], [-34.626937, -58.382237, 4.0], [-34.555378, -58.502622, 2.0], [-34.598112, -58.440695, 1.0], [-34.618134, -58.530338, 1.0], [-34.645615, -58.433539, 1.0], [-34.606021, -58.494724, 1.0], [-34.574469, -58.441387, 1.0], [-34.684771, -58.44433, 1.0], [-34.625715, -58.529911, 1.0], [-34.54837, -58.493326, 1.0], [-34.604943, -58.419675, 1.0], [-34.609038, -58.381153, 1.0], [-34.566541, -58.451239, 1.0], [-34.64762, -58.510494, 2.0], [-34.577485, -58.428688, 1.0], [-34.638773, -58.366348, 1.0], [-34.615498, -58.357156, 1.0], [-34.65135, -58.39775, 1.0], [-34.669129, -58.508095, 1.0], [-34.610996, -58.367268, 1.0], [-34.603151, -58.391012, 1.0], [-34.626793, -58.414599, 1.0], [-34.577995, -58.472148, 1.0], [-34.552471, -58.501225, 1.0], [-34.592734, -58.375313, 1.0], [-34.61242, -58.405573, 1.0], [-34.680255, -58.49346, 1.0], [-34.618299, -58.43646, 1.0], [-34.580515, -58.404651, 1.0], [-34.618301, -58.394502, 1.0], [-34.609458, -58.482978, 1.0], [-34.607053, -58.377865, 1.0], [-34.607566, -58.419941, 1.0], [-34.560608, -58.505127, 1.0], [-34.579878, -58.453212, 1.0], [-34.589388, -58.469909, 1.0], [-34.619847, -58.472934, 1.0], [-34.671948, -58.477992, 1.0], [-34.584365, -58.454916, 1.0], [-34.555711, -58.457887, 1.0], [-34.638672, -58.374588, 7.0], [-34.602947, -58.40847, 1.0], [-34.598877, -58.417512, 2.0], [-34.604213, -58.405477, 3.0], [-34.623627, -58.400969, 1.0], [-34.640112, -58.369254, 2.0], [-34.618648, -58.399409, 1.0], [-34.612849, -58.388995, 1.0], [-34.618601, -58.400045, 1.0], [-34.637232, -58.498005, 1.0], [-34.595031, -58.494278, 1.0], [-34.608696, -58.488481, 1.0], [-34.620561, -58.497219, 2.0], [-34.57507, -58.512326, 1.0], [-34.63906, -58.516761, 1.0], [-34.620334, -58.410817, 1.0], [-34.624663, -58.466115, 1.0], [-34.590661, -58.431276, 1.0], [-34.612119, -58.452612, 1.0], [-34.674082, -58.471721, 1.0], [-34.599729, -58.397192, 1.0], [-34.556402, -58.464343, 1.0], [-34.596784, -58.441993, 1.0], [-34.598092, -58.410299, 1.0], [-34.599729, -58.397192, 1.0], [-34.611143, -58.419021, 1.0], [-34.587653, -58.445706, 1.0], [-34.586981, -58.45512, 1.0], [-34.619758, -58.380622, 2.0], [-34.649619, -58.458496, 1.0], [-34.589068, -58.387038, 1.0], [-34.628267, -58.478741, 1.0], [-34.633959, -58.512619, 3.0], [-34.603357, -58.382237, 1.0], [-34.592833, -58.382844, 1.0], [-34.628504, -58.477453, 1.0], [-34.631595, -58.400534, 1.0], [-34.661375, -58.4421, 1.0], [-34.652577, -58.416566, 1.0], [-34.62736, -58.417313, 1.0], [-34.640858, -58.391334, 1.0], [-34.577281, -58.409869, 2.0], [-34.60313, -58.411551, 1.0], [-34.636893, -58.45044, 1.0], [-34.627261, -58.392166, 1.0], [-34.622821, -58.385827, 1.0], [-34.584986, -58.391009, 3.0], [-34.618517, -58.380649, 1.0], [-34.635167, -58.487704, 1.0], [-34.60021, -58.372678, 1.0], [-34.618838, -58.403518, 1.0], [-34.600429, -58.383951, 1.0], [-34.604449, -58.391309, 1.0], [-34.57551, -58.415653, 3.0], [-34.617896, -58.436775, 1.0], [-34.638255, -58.466404, 1.0], [-34.592781, -58.432362, 1.0], [-34.668361, -58.482368, 1.0], [-34.617016, -58.492189, 1.0], [-34.572347, -58.488876, 1.0], [-34.575921, -58.404301, 1.0], [-34.594197, -58.419226, 1.0], [-34.598518, -58.492038, 1.0], [-34.603738, -58.382213, 1.0], [-34.620823, -58.441103, 1.0], [-34.63274, -58.438597, 1.0], [-34.656706, -58.508773, 1.0], [-34.603154, -58.392394, 1.0], [-34.577281, -58.409869, 1.0], [-34.60976, -58.383421, 1.0], [-34.619631, -58.372761, 1.0], [-34.619591, -58.372172, 1.0], [-34.584896, -58.455212, 1.0], [-34.631595, -58.400534, 2.0], [-34.619216, -58.509845, 3.0], [-34.628132, -58.529742, 1.0], [-34.60175, -58.422385, 1.0], [-34.597254, -58.449438, 1.0], [-34.68631, -58.48314, 1.0], [-34.589111, -58.45034, 1.0], [-34.555998, -58.439389, 1.0], [-34.627889, -58.496949, 1.0], [-34.615695, -58.417022, 2.0], [-34.628201, -58.419851, 1.0], [-34.608946, -58.516809, 2.0], [-34.543053, -58.483826, 1.0], [-34.60864, -58.436217, 1.0], [-34.623778, -58.402176, 1.0], [-34.583292, -58.37723, 1.0], [-34.609307, -58.36971, 3.0], [-34.649052, -58.46875, 1.0], [-34.587544, -58.41961, 1.0], [-34.637542, -58.388872, 1.0], [-34.581823, -58.492159, 1.0], [-34.606663, -58.38145, 4.0], [-34.585372, -58.434757, 1.0], [-34.661332, -58.501653, 1.0], [-34.648174, -58.414715, 1.0], [-34.655374, -58.406179, 1.0], [-34.632394, -58.383997, 2.0], [-34.61057, -58.462579, 4.0], [-34.605024, -58.465526, 1.0], [-34.603305, -58.492419, 1.0], [-34.650101, -58.526941, 1.0], [-34.584358, -58.453433, 1.0], [-34.611327, -58.401591, 1.0], [-34.56923, -58.489166, 1.0], [-34.564875, -58.454251, 3.0], [-34.601891, -58.381749, 1.0], [-34.630401, -58.374341, 1.0], [-34.59871, -58.393042, 1.0], [-34.640888, -58.479088, 1.0], [-34.61675, -58.466763, 2.0], [-34.598002, -58.411924, 1.0], [-34.638022, -58.455872, 1.0], [-34.630308, -58.486944, 1.0], [-34.59098, -58.504092, 1.0], [-34.673866, -58.459274, 1.0], [-34.587118, -58.455091, 1.0], [-34.625226, -58.391335, 2.0], [-34.562679, -58.423373, 1.0], [-34.65852, -58.485982, 1.0], [-34.64403, -58.419742, 1.0], [-34.632955, -58.417833, 1.0], [-34.567382, -58.449932, 1.0], [-34.646478, -58.4689, 1.0], [-34.609147, -58.391169, 1.0], [-34.606539, -58.505791, 1.0], [-34.64267, -58.490533, 2.0], [-34.625389, -58.447888, 2.0], [-34.634216, -58.488908, 1.0], [-34.629741, -58.475672, 1.0], [-34.601446, -58.510324, 1.0], [-34.682081, -58.490743, 1.0], [-34.619663, -58.37431, 1.0], [-34.634474, -58.511443, 1.0], [-34.635079, -58.52757, 1.0], [-34.632603, -58.355649, 1.0], [-34.581182, -58.421738, 1.0], [-34.6289, -58.454124, 1.0], [-34.604579, -58.398225, 1.0], [-34.570823, -58.424079, 1.0], [-34.623514, -58.482605, 1.0], [-34.595234, -58.404183, 1.0], [-34.56371, -58.506113, 2.0], [-34.599615, -58.430131, 4.0], [-34.611556, -58.387512, 1.0], [-34.604029, -58.41035, 1.0], [-34.596685, -58.427927, 1.0], [-34.660758, -58.50386, 1.0], [-34.634052, -58.373274, 1.0], [-34.617446, -58.399069, 1.0], [-34.676634, -58.498127, 3.0], [-34.66391, -58.488153, 1.0], [-34.575301, -58.45978, 1.0], [-34.578682, -58.40692, 1.0], [-34.562018, -58.423907, 1.0], [-34.552869, -58.484141, 5.0], [-34.679819, -58.480229, 6.0], [-34.587933, -58.470231, 1.0], [-34.648429, -58.408928, 1.0], [-34.662091, -58.505462, 1.0], [-34.65082, -58.416362, 1.0], [-34.611503, -58.435364, 1.0], [-34.615431, -58.526852, 2.0], [-34.599656, -58.406317, 1.0], [-34.597977, -58.414817, 1.0], [-34.659342, -58.520997, 1.0], [-34.656247, -58.414914, 1.0], [-34.649634, -58.460588, 1.0], [-34.609233, -58.391962, 2.0], [-34.615314, -58.526812, 1.0], [-34.590074, -58.393975, 1.0], [-34.621604, -58.400637, 1.0], [-34.614549, -58.478796, 1.0], [-34.628134, -58.470676, 2.0], [-34.591448, -58.434366, 1.0], [-34.625639, -58.4181, 1.0], [-34.599069, -58.382097, 1.0], [-34.590031, -58.395711, 1.0], [-34.62626, -58.439117, 1.0], [-34.586751, -58.413383, 2.0], [-34.59967, -58.478831, 1.0], [-34.606234, -58.383589, 1.0], [-34.666053, -58.43438, 1.0], [-34.625186, -58.497588, 1.0], [-34.555127, -58.496588, 1.0], [-34.597568, -58.484465, 1.0], [-34.622148, -58.381002, 1.0], [-34.625292, -58.369731, 1.0], [-34.627547, -58.458855, 1.0], [-34.608022, -58.401903, 1.0], [-34.588856, -58.438253, 1.0], [-34.621369, -58.498198, 1.0], [-34.570239, -58.448228, 3.0], [-34.604525, -58.398845, 1.0], [-34.622148, -58.381002, 3.0], [-34.70374, -58.461222, 1.0], [-34.592646, -58.44865, 2.0], [-34.575254, -58.408221, 1.0], [-34.626368, -58.380189, 1.0], [-34.639719, -58.479702, 1.0], [-34.623514, -58.482605, 1.0], [-34.607337, -58.38203, 1.0], [-34.57498, -58.415406, 1.0], [-34.62843, -58.366062, 2.0], [-34.617025, -58.448518, 1.0], [-34.622064, -58.377206, 1.0], [-34.622053, -58.423597, 1.0], [-34.633822, -58.521079, 1.0], [-34.604082, -58.411747, 1.0], [-34.646486, -58.448352, 2.0], [-34.640459, -58.431395, 1.0], [-34.645847, -58.491425, 1.0], [-34.669643, -58.464153, 1.0], [-34.55736, -58.46078, 1.0], [-34.627034, -58.529805, 1.0], [-34.64133, -58.456499, 1.0], [-34.536055, -58.46721, 1.0], [-34.613051, -58.414789, 2.0], [-34.636041, -58.424733, 1.0], [-34.647227, -58.467945, 1.0], [-34.621847, -58.514812, 1.0], [-34.611875, -58.415339, 1.0], [-34.643055, -58.516426, 1.0], [-34.587461, -58.397222, 1.0], [-34.671986, -58.467137, 1.0], [-34.608839, -58.406035, 2.0], [-34.628853, -58.43953, 1.0], [-34.617043, -58.404144, 1.0], [-34.625715, -58.529911, 1.0], [-34.622438, -58.402484, 1.0], [-34.583192, -58.515333, 1.0], [-34.630547, -58.363401, 1.0], [-34.656375, -58.524917, 2.0], [-34.63489, -58.382268, 1.0], [-34.550099, -58.500426, 1.0], [-34.5865, -58.454695, 1.0], [-34.548379, -58.497141, 1.0], [-34.590379, -58.448865, 1.0], [-34.604434, -58.392293, 1.0], [-34.550099, -58.500426, 2.0], [-34.546642, -58.472099, 1.0], [-34.586761, -58.439281, 1.0], [-34.61068, -58.506799, 1.0], [-34.583079, -58.397318, 5.0], [-34.545172, -58.481622, 1.0], [-34.618838, -58.403518, 1.0], [-34.596925, -58.458248, 1.0], [-34.622731, -58.391495, 1.0], [-34.554205, -58.493058, 1.0], [-34.583621, -58.372881, 1.0], [-34.583394, -58.44127, 3.0], [-34.590193, -58.407028, 1.0], [-34.625181, -58.484084, 1.0], [-34.599086, -58.402543, 1.0], [-34.634245, -58.433471, 1.0], [-34.60733, -58.445602, 1.0], [-34.600242, -58.412284, 1.0], [-34.579069, -58.494539, 1.0], [-34.550271, -58.464393, 1.0], [-34.660133, -58.503109, 1.0], [-34.647724, -58.498294, 1.0], [-34.604198, -58.385155, 1.0], [-34.654827, -58.514654, 1.0], [-34.667493, -58.474673, 1.0], [-34.611122, -58.419722, 1.0], [-34.61428, -58.432369, 1.0], [-34.566858, -58.484689, 1.0], [-34.60684, -58.475353, 1.0], [-34.630275, -58.448573, 1.0], [-34.602129, -58.381064, 1.0], [-34.627009, -58.491094, 1.0], [-34.640112, -58.369254, 1.0], [-34.653553, -58.481598, 3.0], [-34.61921, -58.436094, 1.0], [-34.547907, -58.463902, 1.0], [-34.574505, -58.407612, 1.0], [-34.600882, -58.404502, 1.0], [-34.591702, -58.447601, 1.0], [-34.639607, -58.426434, 1.0], [-34.611885, -58.438897, 1.0], [-34.597268, -58.394772, 1.0], [-34.612074, -58.422407, 1.0], [-34.547779, -58.442174, 1.0], [-34.621203, -58.456077, 1.0], [-34.62476, -58.385789, 1.0], [-34.559228, -58.459098, 1.0], [-34.595439, -58.382419, 1.0], [-34.591347, -58.447077, 1.0], [-34.558653, -58.462414, 1.0], [-34.603647, -58.379256, 1.0], [-34.60864, -58.436217, 1.0], [-34.588856, -58.438253, 1.0], [-34.625432, -58.430087, 1.0], [-34.636333, -58.451998, 1.0], [-34.614066, -58.39396, 1.0], [-34.602071, -58.432202, 1.0], [-34.625435, -58.416104, 1.0], [-34.636943, -58.522845, 1.0], [-34.582346, -58.420057, 1.0], [-34.64568, -58.368888, 1.0], [-34.578397, -58.462511, 1.0], [-34.597974, -58.410904, 1.0], [-34.632206, -58.501039, 1.0], [-34.626613, -58.424142, 1.0], [-34.607742, -58.406125, 1.0], [-34.622821, -58.392933, 1.0], [-34.64495, -58.432185, 2.0], [-34.643433, -58.391258, 1.0], [-34.604562, -58.405475, 1.0], [-34.629643, -58.444352, 2.0], [-34.599229, -58.367859, 1.0], [-34.646001, -58.467123, 2.0], [-34.581482, -58.448396, 1.0], [-34.578264, -58.459043, 1.0], [-34.615547, -58.430256, 1.0], [-34.602691, -58.385205, 2.0], [-34.602896, -58.449565, 1.0], [-34.672193, -58.501268, 1.0], [-34.65012, -58.368121, 1.0], [-34.61545, -58.385444, 1.0], [-34.623127, -58.438505, 1.0], [-34.650723, -58.386541, 1.0], [-34.589478, -58.5117, 1.0], [-34.650126, -58.405448, 1.0], [-34.634469, -58.524295, 1.0], [-34.629453, -58.474553, 1.0], [-34.676776, -58.463054, 2.0], [-34.558914, -58.474325, 1.0], [-34.597048, -58.398875, 1.0], [-34.594301, -58.382779, 1.0], [-34.634245, -58.390903, 1.0], [-34.610438, -58.410351, 1.0], [-34.636988, -58.398486, 2.0], [-34.641893, -58.470256, 1.0], [-34.608258, -58.441539, 1.0], [-34.636487, -58.477351, 1.0], [-34.600597, -58.487977, 1.0], [-34.623038, -58.439437, 1.0], [-34.635972, -58.372889, 1.0], [-34.586922, -58.418788, 1.0], [-34.644877, -58.495252, 1.0], [-34.619595, -58.380597, 2.0], [-34.628481, -58.457138, 1.0], [-34.583503, -58.439085, 1.0], [-34.603422, -58.402224, 1.0], [-34.625435, -58.416104, 1.0], [-34.613051, -58.414789, 1.0], [-34.549608, -58.484014, 2.0], [-34.614842, -58.507355, 1.0], [-34.61679, -58.390358, 6.0], [-34.625993, -58.449113, 2.0], [-34.604685, -58.518968, 1.0], [-34.608057, -58.393468, 2.0], [-34.607162, -58.429152, 1.0], [-34.650054, -58.525712, 2.0], [-34.557606, -58.441967, 1.0], [-34.622208, -58.379597, 1.0], [-34.616092, -58.474058, 2.0], [-34.621191, -58.41943, 1.0], [-34.622558, -58.388658, 2.0], [-34.629259, -58.377677, 1.0], [-34.633774, -58.524331, 1.0], [-34.577792, -58.430978, 1.0], [-34.622148, -58.381002, 1.0], [-34.681392, -58.47445, 1.0], [-34.605746, -58.486187, 1.0], [-34.623986, -58.391438, 1.0], [-34.630308, -58.486944, 1.0], [-34.627248, -58.466585, 1.0], [-34.605945, -58.42758, 1.0], [-34.68645, -58.457774, 1.0], [-34.572437, -58.442574, 1.0], [-34.625466, -58.454173, 1.0], [-34.574176, -58.416626, 1.0], [-34.64081, -58.391209, 1.0], [-34.625629, -58.454032, 1.0], [-34.566143, -58.439417, 1.0], [-34.627778, -58.37962, 1.0], [-34.616291, -58.377433, 1.0], [-34.586778, -58.503175, 1.0], [-34.615856, -58.470713, 1.0], [-34.642902, -58.461397, 2.0], [-34.535844, -58.466808, 1.0], [-34.583079, -58.397318, 1.0], [-34.627686, -58.413352, 1.0], [-34.638428, -58.413196, 1.0], [-34.582054, -58.411308, 1.0], [-34.566357, -58.483724, 1.0], [-34.632003, -58.455978, 1.0], [-34.624107, -58.464372, 1.0], [-34.586545, -58.408322, 1.0], [-34.65633, -58.466242, 1.0], [-34.619707, -58.498293, 1.0], [-34.619986, -58.36823, 1.0], [-34.570591, -58.479974, 1.0], [-34.619847, -58.472934, 1.0], [-34.628857, -58.472231, 3.0], [-34.587788, -58.420172, 1.0], [-34.600086, -58.402435, 1.0], [-34.578499, -58.470916, 1.0], [-34.612943, -58.386173, 1.0], [-34.580814, -58.41361, 1.0], [-34.65423, -58.524471, 1.0], [-34.549474, -58.5005, 1.0], [-34.606545, -58.40595, 1.0], [-34.622932, -58.441773, 1.0], [-34.644944, -58.426986, 1.0], [-34.582683, -58.510415, 3.0], [-34.629524, -58.413183, 1.0], [-34.61781, -58.406578, 1.0], [-34.635863, -58.441865, 1.0], [-34.634216, -58.488908, 2.0], [-34.677872, -58.487834, 1.0], [-34.595715, -58.497791, 1.0], [-34.597997, -58.388188, 1.0], [-34.653956, -58.519713, 1.0], [-34.667959, -58.493606, 1.0], [-34.622148, -58.381002, 1.0], [-34.614523, -58.404223, 1.0], [-34.607741, -58.440117, 2.0], [-34.60949, -58.379168, 1.0], [-34.655321, -58.471425, 1.0], [-34.645915, -58.431099, 1.0], [-34.593733, -58.400697, 1.0], [-34.594302, -58.430063, 1.0], [-34.608733, -58.429194, 2.0], [-34.548396, -58.460643, 5.0], [-34.615439, -58.384487, 1.0], [-34.581675, -58.395993, 2.0], [-34.617043, -58.404144, 1.0], [-34.639235, -58.526261, 1.0], [-34.618989, -58.436207, 1.0], [-34.621876, -58.486183, 1.0], [-34.619749, -58.433048, 1.0], [-34.659582, -58.51325, 1.0], [-34.641646, -58.488329, 2.0], [-34.583083, -58.382894, 1.0], [-34.614287, -58.414534, 1.0]],\n",
       "                {\n",
       "  &quot;minOpacity&quot;: 0.5,\n",
       "  &quot;maxZoom&quot;: 18,\n",
       "  &quot;radius&quot;: 10,\n",
       "  &quot;blur&quot;: 15,\n",
       "}\n",
       "            );\n",
       "        \n",
       "    \n",
       "            heat_map_bddd35ba479282d0744aecf4f7385251.addTo(map_2e674555ce0ee81efa5488651f74a954);\n",
       "        \n",
       "&lt;/script&gt;\n",
       "&lt;/html&gt;\" style=\"position:absolute;width:100%;height:100%;left:0;top:0;border:none !important;\" allowfullscreen webkitallowfullscreen mozallowfullscreen></iframe></div></div>"
      ],
      "text/plain": [
       "<folium.folium.Map at 0x130be57f0>"
      ]
     },
     "execution_count": 52,
     "metadata": {},
     "output_type": "execute_result"
    }
   ],
   "source": [
    "import folium\n",
    "from folium.plugins import HeatMap\n",
    "\n",
    "# Crear mapa centrado en Buenos Aires\n",
    "mapa = folium.Map(location=[-34.6037, -58.3816], zoom_start=11)\n",
    "\n",
    "# Agregar capa de calor con las ubicaciones del delito\n",
    "heat_data = df[['latitud', 'longitud', 'cantidad']].dropna().values\n",
    "HeatMap(heat_data, radius=10).add_to(mapa)\n",
    "\n",
    "mapa\n",
    "# Guardar y mostrar el mapa\n",
    "#mapa.save(\"mapa_delitos.html\")\n"
   ]
  },
  {
   "cell_type": "code",
   "execution_count": 53,
   "metadata": {},
   "outputs": [
    {
     "data": {
      "text/plain": [
       "barrio\n",
       "Palermo              511.0\n",
       "Balvanera            472.0\n",
       "Flores               421.0\n",
       "Caballito            329.0\n",
       "Recoleta             310.0\n",
       "Mataderos            299.0\n",
       "Almagro              274.0\n",
       "Villa Lugano         270.0\n",
       "Belgrano             268.0\n",
       "Villa Crespo         239.0\n",
       "Saavedra             237.0\n",
       "Monserrat            226.0\n",
       "Nueva Pompeya        217.0\n",
       "Barracas             214.0\n",
       "Constitución         212.0\n",
       "Villa Devoto         196.0\n",
       "Liniers              192.0\n",
       "Parque Avellaneda    180.0\n",
       "Retiro               169.0\n",
       "San Nicolás          167.0\n",
       "Villa Urquiza        165.0\n",
       "Boedo                165.0\n",
       "San Cristóbal        158.0\n",
       "Parque Chacabuco     146.0\n",
       "Chacarita            131.0\n",
       "Floresta             128.0\n",
       "Parque Patricios     126.0\n",
       "Nuñez                120.0\n",
       "Villa Gral. Mitre     91.0\n",
       "Boca                  89.0\n",
       "Villa Del Parque      88.0\n",
       "Villa Pueyrredón      88.0\n",
       "Villa Santa Rita      85.0\n",
       "Villa Luro            85.0\n",
       "Villa Soldati         83.0\n",
       "Vélez Sársfield       78.0\n",
       "Monte Castro          78.0\n",
       "San Telmo             72.0\n",
       "Colegiales            66.0\n",
       "Villa Real            66.0\n",
       "Versalles             58.0\n",
       "Villa Riachuelo       54.0\n",
       "Villa Ortuzar         49.0\n",
       "Paternal              45.0\n",
       "Agronomía             43.0\n",
       "Puerto Madero         40.0\n",
       "Parque Chas           38.0\n",
       "Coghlan               19.0\n",
       "Nueva pompeya          2.0\n",
       "Name: cantidad, dtype: float64"
      ]
     },
     "execution_count": 53,
     "metadata": {},
     "output_type": "execute_result"
    }
   ],
   "source": [
    "df.groupby('barrio')['cantidad'].sum().sort_values(ascending=False)"
   ]
  },
  {
   "cell_type": "code",
   "execution_count": 54,
   "metadata": {},
   "outputs": [
    {
     "data": {
      "text/plain": [
       "7859.0"
      ]
     },
     "execution_count": 54,
     "metadata": {},
     "output_type": "execute_result"
    }
   ],
   "source": [
    "df.groupby('barrio')['cantidad'].sum().sum()"
   ]
  },
  {
   "cell_type": "code",
   "execution_count": 55,
   "metadata": {},
   "outputs": [
    {
     "data": {
      "text/html": [
       "<div>\n",
       "<style scoped>\n",
       "    .dataframe tbody tr th:only-of-type {\n",
       "        vertical-align: middle;\n",
       "    }\n",
       "\n",
       "    .dataframe tbody tr th {\n",
       "        vertical-align: top;\n",
       "    }\n",
       "\n",
       "    .dataframe thead th {\n",
       "        text-align: right;\n",
       "    }\n",
       "</style>\n",
       "<table border=\"1\" class=\"dataframe\">\n",
       "  <thead>\n",
       "    <tr style=\"text-align: right;\">\n",
       "      <th></th>\n",
       "      <th>id-mapa</th>\n",
       "      <th>anio</th>\n",
       "      <th>mes</th>\n",
       "      <th>dia</th>\n",
       "      <th>fecha</th>\n",
       "      <th>franja</th>\n",
       "      <th>tipo</th>\n",
       "      <th>subtipo</th>\n",
       "      <th>uso_armas</th>\n",
       "      <th>barrio</th>\n",
       "      <th>comuna</th>\n",
       "      <th>latitud</th>\n",
       "      <th>longitud</th>\n",
       "      <th>cantidad</th>\n",
       "    </tr>\n",
       "  </thead>\n",
       "  <tbody>\n",
       "    <tr>\n",
       "      <th>0</th>\n",
       "      <td>HC-2021-1008202</td>\n",
       "      <td>2021</td>\n",
       "      <td>Enero</td>\n",
       "      <td>Miércoles</td>\n",
       "      <td>2021-06-01 00:00:00+00:00</td>\n",
       "      <td>18</td>\n",
       "      <td>Homicidio</td>\n",
       "      <td>Siniestro Vial</td>\n",
       "      <td>NaN</td>\n",
       "      <td>Constitución</td>\n",
       "      <td>1</td>\n",
       "      <td>-34.627610</td>\n",
       "      <td>-58.379146</td>\n",
       "      <td>1.0</td>\n",
       "    </tr>\n",
       "    <tr>\n",
       "      <th>1</th>\n",
       "      <td>HC-2021-1009094</td>\n",
       "      <td>2021</td>\n",
       "      <td>Enero</td>\n",
       "      <td>Jueves</td>\n",
       "      <td>2021-07-01 00:00:00+00:00</td>\n",
       "      <td>10</td>\n",
       "      <td>Homicidio</td>\n",
       "      <td>Siniestro Vial</td>\n",
       "      <td>NaN</td>\n",
       "      <td>Mataderos</td>\n",
       "      <td>9</td>\n",
       "      <td>-34.649730</td>\n",
       "      <td>-58.510590</td>\n",
       "      <td>1.0</td>\n",
       "    </tr>\n",
       "    <tr>\n",
       "      <th>2</th>\n",
       "      <td>HC-2021-1013236</td>\n",
       "      <td>2021</td>\n",
       "      <td>Enero</td>\n",
       "      <td>Domingo</td>\n",
       "      <td>2021-10-01 00:00:00+00:00</td>\n",
       "      <td>7</td>\n",
       "      <td>Homicidio</td>\n",
       "      <td>Siniestro Vial</td>\n",
       "      <td>NaN</td>\n",
       "      <td>Parque Chacabuco</td>\n",
       "      <td>7</td>\n",
       "      <td>-34.629172</td>\n",
       "      <td>-58.430581</td>\n",
       "      <td>1.0</td>\n",
       "    </tr>\n",
       "    <tr>\n",
       "      <th>3</th>\n",
       "      <td>HC-2021-1014154</td>\n",
       "      <td>2021</td>\n",
       "      <td>Enero</td>\n",
       "      <td>Lunes</td>\n",
       "      <td>2021-11-01 00:00:00+00:00</td>\n",
       "      <td>9</td>\n",
       "      <td>Homicidio</td>\n",
       "      <td>Siniestro Vial</td>\n",
       "      <td>NaN</td>\n",
       "      <td>Nueva Pompeya</td>\n",
       "      <td>5</td>\n",
       "      <td>-34.638676</td>\n",
       "      <td>-58.414555</td>\n",
       "      <td>1.0</td>\n",
       "    </tr>\n",
       "    <tr>\n",
       "      <th>4</th>\n",
       "      <td>HC-2021-1015476</td>\n",
       "      <td>2021</td>\n",
       "      <td>Enero</td>\n",
       "      <td>Lunes</td>\n",
       "      <td>2021-11-01 00:00:00+00:00</td>\n",
       "      <td>21</td>\n",
       "      <td>Homicidio</td>\n",
       "      <td>Siniestro Vial</td>\n",
       "      <td>NaN</td>\n",
       "      <td>Parque Avellaneda</td>\n",
       "      <td>9</td>\n",
       "      <td>-34.647714</td>\n",
       "      <td>-58.468066</td>\n",
       "      <td>1.0</td>\n",
       "    </tr>\n",
       "  </tbody>\n",
       "</table>\n",
       "</div>"
      ],
      "text/plain": [
       "           id-mapa  anio    mes        dia                     fecha  franja  \\\n",
       "0  HC-2021-1008202  2021  Enero  Miércoles 2021-06-01 00:00:00+00:00      18   \n",
       "1  HC-2021-1009094  2021  Enero     Jueves 2021-07-01 00:00:00+00:00      10   \n",
       "2  HC-2021-1013236  2021  Enero    Domingo 2021-10-01 00:00:00+00:00       7   \n",
       "3  HC-2021-1014154  2021  Enero      Lunes 2021-11-01 00:00:00+00:00       9   \n",
       "4  HC-2021-1015476  2021  Enero      Lunes 2021-11-01 00:00:00+00:00      21   \n",
       "\n",
       "        tipo         subtipo uso_armas             barrio  comuna    latitud  \\\n",
       "0  Homicidio  Siniestro Vial       NaN       Constitución       1 -34.627610   \n",
       "1  Homicidio  Siniestro Vial       NaN          Mataderos       9 -34.649730   \n",
       "2  Homicidio  Siniestro Vial       NaN   Parque Chacabuco       7 -34.629172   \n",
       "3  Homicidio  Siniestro Vial       NaN      Nueva Pompeya       5 -34.638676   \n",
       "4  Homicidio  Siniestro Vial       NaN  Parque Avellaneda       9 -34.647714   \n",
       "\n",
       "    longitud  cantidad  \n",
       "0 -58.379146       1.0  \n",
       "1 -58.510590       1.0  \n",
       "2 -58.430581       1.0  \n",
       "3 -58.414555       1.0  \n",
       "4 -58.468066       1.0  "
      ]
     },
     "execution_count": 55,
     "metadata": {},
     "output_type": "execute_result"
    }
   ],
   "source": [
    "df.head()"
   ]
  },
  {
   "cell_type": "code",
   "execution_count": null,
   "metadata": {},
   "outputs": [],
   "source": []
  }
 ],
 "metadata": {
  "kernelspec": {
   "display_name": "dsproject1",
   "language": "python",
   "name": "python3"
  },
  "language_info": {
   "codemirror_mode": {
    "name": "ipython",
    "version": 3
   },
   "file_extension": ".py",
   "mimetype": "text/x-python",
   "name": "python",
   "nbconvert_exporter": "python",
   "pygments_lexer": "ipython3",
   "version": "3.9.18"
  }
 },
 "nbformat": 4,
 "nbformat_minor": 2
}
