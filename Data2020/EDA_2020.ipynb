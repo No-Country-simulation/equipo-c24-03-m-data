{
 "cells": [
  {
   "cell_type": "markdown",
   "metadata": {},
   "source": [
    "# Limpieza de Datos y Análisis Exploratorio de Datos"
   ]
  },
  {
   "cell_type": "markdown",
   "metadata": {},
   "source": [
    "#### **Librerías**"
   ]
  },
  {
   "cell_type": "markdown",
   "metadata": {},
   "source": [
    "Importamos las librerías necesarias."
   ]
  },
  {
   "cell_type": "code",
   "execution_count": 5,
   "metadata": {},
   "outputs": [],
   "source": [
    "import pandas as pd\n",
    "import numpy as np\n",
    "import matplotlib.pyplot as plt\n",
    "import seaborn as sns\n",
    "import locale\n",
    "import calendar\n"
   ]
  },
  {
   "cell_type": "markdown",
   "metadata": {},
   "source": [
    "#### **Lectura del dataset**"
   ]
  },
  {
   "cell_type": "markdown",
   "metadata": {},
   "source": [
    "Leemos los datos."
   ]
  },
  {
   "cell_type": "code",
   "execution_count": 6,
   "metadata": {},
   "outputs": [],
   "source": [
    "df = pd.read_csv('delitos_2020.csv', sep=',')"
   ]
  },
  {
   "cell_type": "markdown",
   "metadata": {},
   "source": [
    "Mostramos las cinco primeras filas del dataframe."
   ]
  },
  {
   "cell_type": "code",
   "execution_count": 7,
   "metadata": {},
   "outputs": [
    {
     "data": {
      "text/html": [
       "<div>\n",
       "<style scoped>\n",
       "    .dataframe tbody tr th:only-of-type {\n",
       "        vertical-align: middle;\n",
       "    }\n",
       "\n",
       "    .dataframe tbody tr th {\n",
       "        vertical-align: top;\n",
       "    }\n",
       "\n",
       "    .dataframe thead th {\n",
       "        text-align: right;\n",
       "    }\n",
       "</style>\n",
       "<table border=\"1\" class=\"dataframe\">\n",
       "  <thead>\n",
       "    <tr style=\"text-align: right;\">\n",
       "      <th></th>\n",
       "      <th>id-mapa</th>\n",
       "      <th>anio</th>\n",
       "      <th>mes</th>\n",
       "      <th>dia</th>\n",
       "      <th>fecha</th>\n",
       "      <th>franja</th>\n",
       "      <th>tipo</th>\n",
       "      <th>subtipo</th>\n",
       "      <th>uso_arma</th>\n",
       "      <th>uso_moto</th>\n",
       "      <th>barrio</th>\n",
       "      <th>comuna</th>\n",
       "      <th>latitud</th>\n",
       "      <th>longitud</th>\n",
       "      <th>cantidad</th>\n",
       "    </tr>\n",
       "  </thead>\n",
       "  <tbody>\n",
       "    <tr>\n",
       "      <th>0</th>\n",
       "      <td>192085</td>\n",
       "      <td>2020</td>\n",
       "      <td>JUNIO</td>\n",
       "      <td>MIERCOLES</td>\n",
       "      <td>2020-06-10</td>\n",
       "      <td>20.0</td>\n",
       "      <td>Hurto</td>\n",
       "      <td>Hurto total</td>\n",
       "      <td>NO</td>\n",
       "      <td>NO</td>\n",
       "      <td>NaN</td>\n",
       "      <td>NaN</td>\n",
       "      <td>NaN</td>\n",
       "      <td>NaN</td>\n",
       "      <td>1</td>\n",
       "    </tr>\n",
       "    <tr>\n",
       "      <th>1</th>\n",
       "      <td>192086</td>\n",
       "      <td>2020</td>\n",
       "      <td>AGOSTO</td>\n",
       "      <td>VIERNES</td>\n",
       "      <td>2020-08-21</td>\n",
       "      <td>11.0</td>\n",
       "      <td>Hurto</td>\n",
       "      <td>Hurto total</td>\n",
       "      <td>NO</td>\n",
       "      <td>NO</td>\n",
       "      <td>PARQUE AVELLANEDA</td>\n",
       "      <td>9.0</td>\n",
       "      <td>-34.641905</td>\n",
       "      <td>-58.487037</td>\n",
       "      <td>1</td>\n",
       "    </tr>\n",
       "    <tr>\n",
       "      <th>2</th>\n",
       "      <td>192087</td>\n",
       "      <td>2020</td>\n",
       "      <td>SEPTIEMBRE</td>\n",
       "      <td>MARTES</td>\n",
       "      <td>2020-09-15</td>\n",
       "      <td>20.0</td>\n",
       "      <td>Hurto</td>\n",
       "      <td>Hurto total</td>\n",
       "      <td>NO</td>\n",
       "      <td>NO</td>\n",
       "      <td>PARQUE AVELLANEDA</td>\n",
       "      <td>9.0</td>\n",
       "      <td>-34.641899</td>\n",
       "      <td>-58.480738</td>\n",
       "      <td>1</td>\n",
       "    </tr>\n",
       "    <tr>\n",
       "      <th>3</th>\n",
       "      <td>192088</td>\n",
       "      <td>2020</td>\n",
       "      <td>SEPTIEMBRE</td>\n",
       "      <td>MARTES</td>\n",
       "      <td>2020-09-22</td>\n",
       "      <td>10.0</td>\n",
       "      <td>Robo</td>\n",
       "      <td>Robo total</td>\n",
       "      <td>SI</td>\n",
       "      <td>NO</td>\n",
       "      <td>PARQUE AVELLANEDA</td>\n",
       "      <td>9.0</td>\n",
       "      <td>-34.641043</td>\n",
       "      <td>-58.484628</td>\n",
       "      <td>1</td>\n",
       "    </tr>\n",
       "    <tr>\n",
       "      <th>4</th>\n",
       "      <td>192089</td>\n",
       "      <td>2020</td>\n",
       "      <td>OCTUBRE</td>\n",
       "      <td>MARTES</td>\n",
       "      <td>2020-10-06</td>\n",
       "      <td>10.0</td>\n",
       "      <td>Hurto</td>\n",
       "      <td>Hurto total</td>\n",
       "      <td>NO</td>\n",
       "      <td>NO</td>\n",
       "      <td>PARQUE AVELLANEDA</td>\n",
       "      <td>9.0</td>\n",
       "      <td>-34.641055</td>\n",
       "      <td>-58.484537</td>\n",
       "      <td>1</td>\n",
       "    </tr>\n",
       "  </tbody>\n",
       "</table>\n",
       "</div>"
      ],
      "text/plain": [
       "   id-mapa  anio         mes        dia       fecha  franja   tipo  \\\n",
       "0   192085  2020       JUNIO  MIERCOLES  2020-06-10    20.0  Hurto   \n",
       "1   192086  2020      AGOSTO    VIERNES  2020-08-21    11.0  Hurto   \n",
       "2   192087  2020  SEPTIEMBRE     MARTES  2020-09-15    20.0  Hurto   \n",
       "3   192088  2020  SEPTIEMBRE     MARTES  2020-09-22    10.0   Robo   \n",
       "4   192089  2020     OCTUBRE     MARTES  2020-10-06    10.0  Hurto   \n",
       "\n",
       "       subtipo uso_arma uso_moto             barrio  comuna    latitud  \\\n",
       "0  Hurto total       NO       NO                NaN     NaN        NaN   \n",
       "1  Hurto total       NO       NO  PARQUE AVELLANEDA     9.0 -34.641905   \n",
       "2  Hurto total       NO       NO  PARQUE AVELLANEDA     9.0 -34.641899   \n",
       "3   Robo total       SI       NO  PARQUE AVELLANEDA     9.0 -34.641043   \n",
       "4  Hurto total       NO       NO  PARQUE AVELLANEDA     9.0 -34.641055   \n",
       "\n",
       "    longitud  cantidad  \n",
       "0        NaN         1  \n",
       "1 -58.487037         1  \n",
       "2 -58.480738         1  \n",
       "3 -58.484628         1  \n",
       "4 -58.484537         1  "
      ]
     },
     "execution_count": 7,
     "metadata": {},
     "output_type": "execute_result"
    }
   ],
   "source": [
    "df.head()"
   ]
  },
  {
   "cell_type": "markdown",
   "metadata": {},
   "source": [
    "#### **Análisis del Dataset**"
   ]
  },
  {
   "cell_type": "markdown",
   "metadata": {},
   "source": [
    "Consultamos el tamaño del dataset."
   ]
  },
  {
   "cell_type": "code",
   "execution_count": 8,
   "metadata": {},
   "outputs": [
    {
     "data": {
      "text/plain": [
       "(86175, 15)"
      ]
     },
     "execution_count": 8,
     "metadata": {},
     "output_type": "execute_result"
    }
   ],
   "source": [
    "df.shape"
   ]
  },
  {
   "cell_type": "markdown",
   "metadata": {},
   "source": [
    "Descripción del Dataset"
   ]
  },
  {
   "cell_type": "code",
   "execution_count": 9,
   "metadata": {},
   "outputs": [
    {
     "data": {
      "text/html": [
       "<div>\n",
       "<style scoped>\n",
       "    .dataframe tbody tr th:only-of-type {\n",
       "        vertical-align: middle;\n",
       "    }\n",
       "\n",
       "    .dataframe tbody tr th {\n",
       "        vertical-align: top;\n",
       "    }\n",
       "\n",
       "    .dataframe thead th {\n",
       "        text-align: right;\n",
       "    }\n",
       "</style>\n",
       "<table border=\"1\" class=\"dataframe\">\n",
       "  <thead>\n",
       "    <tr style=\"text-align: right;\">\n",
       "      <th></th>\n",
       "      <th>id-mapa</th>\n",
       "      <th>anio</th>\n",
       "      <th>franja</th>\n",
       "      <th>comuna</th>\n",
       "      <th>latitud</th>\n",
       "      <th>longitud</th>\n",
       "      <th>cantidad</th>\n",
       "    </tr>\n",
       "  </thead>\n",
       "  <tbody>\n",
       "    <tr>\n",
       "      <th>count</th>\n",
       "      <td>8.617500e+04</td>\n",
       "      <td>86175.0</td>\n",
       "      <td>85656.000000</td>\n",
       "      <td>84876.000000</td>\n",
       "      <td>84877.000000</td>\n",
       "      <td>84877.000000</td>\n",
       "      <td>86175.0</td>\n",
       "    </tr>\n",
       "    <tr>\n",
       "      <th>mean</th>\n",
       "      <td>4.374087e+05</td>\n",
       "      <td>2020.0</td>\n",
       "      <td>13.172317</td>\n",
       "      <td>7.314423</td>\n",
       "      <td>-34.615116</td>\n",
       "      <td>-58.435696</td>\n",
       "      <td>1.0</td>\n",
       "    </tr>\n",
       "    <tr>\n",
       "      <th>std</th>\n",
       "      <td>3.314539e+05</td>\n",
       "      <td>0.0</td>\n",
       "      <td>6.215458</td>\n",
       "      <td>4.502967</td>\n",
       "      <td>0.031357</td>\n",
       "      <td>0.042089</td>\n",
       "      <td>0.0</td>\n",
       "    </tr>\n",
       "    <tr>\n",
       "      <th>min</th>\n",
       "      <td>1.920850e+05</td>\n",
       "      <td>2020.0</td>\n",
       "      <td>0.000000</td>\n",
       "      <td>1.000000</td>\n",
       "      <td>-34.703804</td>\n",
       "      <td>-58.531079</td>\n",
       "      <td>1.0</td>\n",
       "    </tr>\n",
       "    <tr>\n",
       "      <th>25%</th>\n",
       "      <td>2.136285e+05</td>\n",
       "      <td>2020.0</td>\n",
       "      <td>9.000000</td>\n",
       "      <td>3.000000</td>\n",
       "      <td>-34.636654</td>\n",
       "      <td>-58.468608</td>\n",
       "      <td>1.0</td>\n",
       "    </tr>\n",
       "    <tr>\n",
       "      <th>50%</th>\n",
       "      <td>2.351720e+05</td>\n",
       "      <td>2020.0</td>\n",
       "      <td>14.000000</td>\n",
       "      <td>7.000000</td>\n",
       "      <td>-34.614878</td>\n",
       "      <td>-58.433737</td>\n",
       "      <td>1.0</td>\n",
       "    </tr>\n",
       "    <tr>\n",
       "      <th>75%</th>\n",
       "      <td>8.833155e+05</td>\n",
       "      <td>2020.0</td>\n",
       "      <td>18.000000</td>\n",
       "      <td>11.000000</td>\n",
       "      <td>-34.593691</td>\n",
       "      <td>-58.400842</td>\n",
       "      <td>1.0</td>\n",
       "    </tr>\n",
       "    <tr>\n",
       "      <th>max</th>\n",
       "      <td>1.114290e+06</td>\n",
       "      <td>2020.0</td>\n",
       "      <td>23.000000</td>\n",
       "      <td>15.000000</td>\n",
       "      <td>-34.530394</td>\n",
       "      <td>-58.343409</td>\n",
       "      <td>1.0</td>\n",
       "    </tr>\n",
       "  </tbody>\n",
       "</table>\n",
       "</div>"
      ],
      "text/plain": [
       "            id-mapa     anio        franja        comuna       latitud  \\\n",
       "count  8.617500e+04  86175.0  85656.000000  84876.000000  84877.000000   \n",
       "mean   4.374087e+05   2020.0     13.172317      7.314423    -34.615116   \n",
       "std    3.314539e+05      0.0      6.215458      4.502967      0.031357   \n",
       "min    1.920850e+05   2020.0      0.000000      1.000000    -34.703804   \n",
       "25%    2.136285e+05   2020.0      9.000000      3.000000    -34.636654   \n",
       "50%    2.351720e+05   2020.0     14.000000      7.000000    -34.614878   \n",
       "75%    8.833155e+05   2020.0     18.000000     11.000000    -34.593691   \n",
       "max    1.114290e+06   2020.0     23.000000     15.000000    -34.530394   \n",
       "\n",
       "           longitud  cantidad  \n",
       "count  84877.000000   86175.0  \n",
       "mean     -58.435696       1.0  \n",
       "std        0.042089       0.0  \n",
       "min      -58.531079       1.0  \n",
       "25%      -58.468608       1.0  \n",
       "50%      -58.433737       1.0  \n",
       "75%      -58.400842       1.0  \n",
       "max      -58.343409       1.0  "
      ]
     },
     "execution_count": 9,
     "metadata": {},
     "output_type": "execute_result"
    }
   ],
   "source": [
    "df.describe()"
   ]
  },
  {
   "cell_type": "markdown",
   "metadata": {},
   "source": [
    "#### **Tipos de Datos**"
   ]
  },
  {
   "cell_type": "markdown",
   "metadata": {},
   "source": [
    "Tipos de datos de las columnas."
   ]
  },
  {
   "cell_type": "code",
   "execution_count": 10,
   "metadata": {},
   "outputs": [
    {
     "data": {
      "text/plain": [
       "id-mapa       int64\n",
       "anio          int64\n",
       "mes          object\n",
       "dia          object\n",
       "fecha        object\n",
       "franja      float64\n",
       "tipo         object\n",
       "subtipo      object\n",
       "uso_arma     object\n",
       "uso_moto     object\n",
       "barrio       object\n",
       "comuna      float64\n",
       "latitud     float64\n",
       "longitud    float64\n",
       "cantidad      int64\n",
       "dtype: object"
      ]
     },
     "execution_count": 10,
     "metadata": {},
     "output_type": "execute_result"
    }
   ],
   "source": [
    "df.dtypes"
   ]
  },
  {
   "cell_type": "markdown",
   "metadata": {},
   "source": [
    "Vemos que la columna fecha tiene como tipo de dato object, cambiamos el tipo de dato a datatime."
   ]
  },
  {
   "cell_type": "code",
   "execution_count": 11,
   "metadata": {},
   "outputs": [],
   "source": [
    "\n",
    "df['fecha'] = df['fecha'].apply(lambda x: pd.to_datetime(x, errors='coerce', utc=True))"
   ]
  },
  {
   "cell_type": "code",
   "execution_count": 12,
   "metadata": {},
   "outputs": [
    {
     "data": {
      "text/plain": [
       "datetime64[ns, UTC]"
      ]
     },
     "execution_count": 12,
     "metadata": {},
     "output_type": "execute_result"
    }
   ],
   "source": [
    "df.fecha.dtypes"
   ]
  },
  {
   "cell_type": "markdown",
   "metadata": {},
   "source": [
    "#### **Valores Nulos y transformación de datos**"
   ]
  },
  {
   "cell_type": "markdown",
   "metadata": {},
   "source": [
    "Vamos a analizar los datos de cada columna para ver si tienen datos nulos fáciles de encontrar o datos nulos que no se pueden econtrar con isnull, y vamos a inspeccionar los datos para normalizarlos, por ejemplo si en la columna dia hay dos lunes, uno con mayúsculas y otro sin mayúsculas, nos quedarmos con un sólo formato. "
   ]
  },
  {
   "cell_type": "code",
   "execution_count": 13,
   "metadata": {},
   "outputs": [
    {
     "data": {
      "text/plain": [
       "id-mapa        0\n",
       "anio           0\n",
       "mes            0\n",
       "dia            0\n",
       "fecha          0\n",
       "franja       519\n",
       "tipo           0\n",
       "subtipo        0\n",
       "uso_arma       0\n",
       "uso_moto       0\n",
       "barrio      1299\n",
       "comuna      1299\n",
       "latitud     1298\n",
       "longitud    1298\n",
       "cantidad       0\n",
       "dtype: int64"
      ]
     },
     "execution_count": 13,
     "metadata": {},
     "output_type": "execute_result"
    }
   ],
   "source": [
    "df.isnull().sum()"
   ]
  },
  {
   "cell_type": "markdown",
   "metadata": {},
   "source": [
    "Podemos ver que las columnas subtipo, uso_armas, barrio y comuna tienen valoes nulos."
   ]
  },
  {
   "cell_type": "markdown",
   "metadata": {},
   "source": [
    "##### **Columna barrio**"
   ]
  },
  {
   "cell_type": "markdown",
   "metadata": {},
   "source": [
    "Analizamos los valores nulos de la columna barrio y comuna."
   ]
  },
  {
   "cell_type": "code",
   "execution_count": 14,
   "metadata": {},
   "outputs": [
    {
     "data": {
      "text/plain": [
       "Series([], Name: count, dtype: int64)"
      ]
     },
     "execution_count": 14,
     "metadata": {},
     "output_type": "execute_result"
    }
   ],
   "source": [
    "df[df.barrio.isnull()].comuna.value_counts()"
   ]
  },
  {
   "cell_type": "code",
   "execution_count": 15,
   "metadata": {},
   "outputs": [
    {
     "data": {
      "text/plain": [
       "np.int64(1299)"
      ]
     },
     "execution_count": 15,
     "metadata": {},
     "output_type": "execute_result"
    }
   ],
   "source": [
    "df[df.barrio.isnull()].comuna.isnull().sum()"
   ]
  },
  {
   "cell_type": "markdown",
   "metadata": {},
   "source": [
    "Podemos observar que todas las filas vacías de la columna barrio tienen la columna comuna vacía.  Es decir en las 2584 filas de barrios nulas, no hay el dato correspondiente a comuna. \n",
    "Ahora analizamos las columnas latitud y longitud de las mismas filas."
   ]
  },
  {
   "cell_type": "markdown",
   "metadata": {},
   "source": [
    "Por lo tanto deberíamos borrar estas filas."
   ]
  },
  {
   "cell_type": "code",
   "execution_count": 16,
   "metadata": {},
   "outputs": [],
   "source": [
    "df.dropna(subset=['barrio'], inplace = True)"
   ]
  },
  {
   "cell_type": "code",
   "execution_count": 17,
   "metadata": {},
   "outputs": [
    {
     "data": {
      "text/plain": [
       "id-mapa       0\n",
       "anio          0\n",
       "mes           0\n",
       "dia           0\n",
       "fecha         0\n",
       "franja      501\n",
       "tipo          0\n",
       "subtipo       0\n",
       "uso_arma      0\n",
       "uso_moto      0\n",
       "barrio        0\n",
       "comuna        0\n",
       "latitud       0\n",
       "longitud      0\n",
       "cantidad      0\n",
       "dtype: int64"
      ]
     },
     "execution_count": 17,
     "metadata": {},
     "output_type": "execute_result"
    }
   ],
   "source": [
    "df.isnull().sum()"
   ]
  },
  {
   "cell_type": "code",
   "execution_count": 18,
   "metadata": {},
   "outputs": [
    {
     "data": {
      "text/plain": [
       "barrio\n",
       "PALERMO              6385\n",
       "BALVANERA            5509\n",
       "FLORES               4666\n",
       "VILLA LUGANO         3794\n",
       "CABALLITO            3704\n",
       "RECOLETA             3551\n",
       "BARRACAS             3505\n",
       "ALMAGRO              3246\n",
       "CONSTITUCION         2789\n",
       "BELGRANO             2570\n",
       "RETIRO               2553\n",
       "SAN NICOLAS          2496\n",
       "NUEVA POMPEYA        2292\n",
       "VILLA CRESPO         2285\n",
       "MATADEROS            2135\n",
       "VILLA SOLDATI        2072\n",
       "PARQUE CHACABUCO     1797\n",
       "MONSERRAT            1783\n",
       "SAN CRISTOBAL        1699\n",
       "BOCA                 1694\n",
       "PARQUE PATRICIOS     1693\n",
       "VILLA URQUIZA        1691\n",
       "PARQUE AVELLANEDA    1551\n",
       "BOEDO                1468\n",
       "VILLA DEVOTO         1344\n",
       "SAAVEDRA             1333\n",
       "LINIERS              1279\n",
       "NUÑEZ                1266\n",
       "CHACARITA            1157\n",
       "FLORESTA             1085\n",
       "VILLA DEL PARQUE     1038\n",
       "COLEGIALES            985\n",
       "SAN TELMO             873\n",
       "VILLA GRAL. MITRE     850\n",
       "VILLA PUEYRREDON      771\n",
       "VILLA SANTA RITA      759\n",
       "VELEZ SARSFIELD       707\n",
       "VILLA LURO            653\n",
       "MONTE CASTRO          638\n",
       "PATERNAL              568\n",
       "VILLA RIACHUELO       481\n",
       "VILLA ORTUZAR         472\n",
       "VERSALLES             347\n",
       "COGHLAN               329\n",
       "PARQUE CHAS           319\n",
       "VILLA REAL            272\n",
       "AGRONOMIA             247\n",
       "PUERTO MADERO         175\n",
       "Name: count, dtype: int64"
      ]
     },
     "execution_count": 18,
     "metadata": {},
     "output_type": "execute_result"
    }
   ],
   "source": [
    "df.barrio.value_counts()"
   ]
  },
  {
   "cell_type": "code",
   "execution_count": 19,
   "metadata": {},
   "outputs": [
    {
     "data": {
      "text/plain": [
       "(84876, 15)"
      ]
     },
     "execution_count": 19,
     "metadata": {},
     "output_type": "execute_result"
    }
   ],
   "source": [
    "df.shape"
   ]
  },
  {
   "cell_type": "markdown",
   "metadata": {},
   "source": [
    "##### **Columna anio**"
   ]
  },
  {
   "cell_type": "code",
   "execution_count": 20,
   "metadata": {},
   "outputs": [
    {
     "data": {
      "text/plain": [
       "anio\n",
       "2020    84876\n",
       "Name: count, dtype: int64"
      ]
     },
     "execution_count": 20,
     "metadata": {},
     "output_type": "execute_result"
    }
   ],
   "source": [
    "df.anio.value_counts()"
   ]
  },
  {
   "cell_type": "markdown",
   "metadata": {},
   "source": [
    "##### **Columna mes**"
   ]
  },
  {
   "cell_type": "code",
   "execution_count": 21,
   "metadata": {},
   "outputs": [],
   "source": [
    "locale.setlocale(locale.LC_TIME, 'es_ES.UTF-8')  # Para sistemas Unix/Linux\n",
    "# locale.setlocale(locale.LC_TIME, 'Spanish_Spain.1252')  # Para Windows\n",
    "\n",
    "meses = list(calendar.month_name)[1:]\n",
    "meses = list(map(str.upper, meses))"
   ]
  },
  {
   "cell_type": "code",
   "execution_count": 22,
   "metadata": {},
   "outputs": [
    {
     "data": {
      "text/plain": [
       "mes\n",
       "ENERO         12015\n",
       "FEBRERO       11295\n",
       "MARZO          7695\n",
       "ABRIL          2850\n",
       "MAYO           4304\n",
       "JUNIO          4815\n",
       "JULIO          5199\n",
       "AGOSTO         5887\n",
       "SEPTIEMBRE     6335\n",
       "OCTUBRE        7351\n",
       "NOVIEMBRE      8432\n",
       "DICIEMBRE      8698\n",
       "Name: count, dtype: int64"
      ]
     },
     "execution_count": 22,
     "metadata": {},
     "output_type": "execute_result"
    }
   ],
   "source": [
    "df.mes.value_counts().loc[meses]"
   ]
  },
  {
   "cell_type": "markdown",
   "metadata": {},
   "source": [
    "##### **Columna dia**"
   ]
  },
  {
   "cell_type": "code",
   "execution_count": 23,
   "metadata": {},
   "outputs": [
    {
     "data": {
      "text/plain": [
       "dia\n",
       "MIERCOLES    13018\n",
       "JUEVES       12864\n",
       "LUNES        12636\n",
       "VIERNES      12615\n",
       "MARTES       12279\n",
       "SABADO       11393\n",
       "DOMINGO      10071\n",
       "Name: count, dtype: int64"
      ]
     },
     "execution_count": 23,
     "metadata": {},
     "output_type": "execute_result"
    }
   ],
   "source": [
    "df.dia.value_counts()"
   ]
  },
  {
   "cell_type": "code",
   "execution_count": 24,
   "metadata": {},
   "outputs": [],
   "source": [
    "dias = ['LUNES', 'MARTES', 'MIERCOLES', 'JUEVES', 'VIERNES', 'SABADO', 'DOMINGO']"
   ]
  },
  {
   "cell_type": "code",
   "execution_count": 25,
   "metadata": {},
   "outputs": [
    {
     "data": {
      "text/plain": [
       "dia\n",
       "LUNES        12636\n",
       "MARTES       12279\n",
       "MIERCOLES    13018\n",
       "JUEVES       12864\n",
       "VIERNES      12615\n",
       "SABADO       11393\n",
       "DOMINGO      10071\n",
       "Name: count, dtype: int64"
      ]
     },
     "execution_count": 25,
     "metadata": {},
     "output_type": "execute_result"
    }
   ],
   "source": [
    "df.dia.value_counts().loc[dias]"
   ]
  },
  {
   "cell_type": "markdown",
   "metadata": {},
   "source": [
    "##### **Columna franja**"
   ]
  },
  {
   "cell_type": "code",
   "execution_count": 26,
   "metadata": {},
   "outputs": [
    {
     "data": {
      "text/plain": [
       "np.int64(501)"
      ]
     },
     "execution_count": 26,
     "metadata": {},
     "output_type": "execute_result"
    }
   ],
   "source": [
    "df.franja.isnull().sum()"
   ]
  },
  {
   "cell_type": "code",
   "execution_count": 27,
   "metadata": {},
   "outputs": [],
   "source": [
    "df.dropna(subset=['franja'], inplace = True)"
   ]
  },
  {
   "cell_type": "code",
   "execution_count": 28,
   "metadata": {},
   "outputs": [
    {
     "data": {
      "text/plain": [
       "franja\n",
       "0.0     2583\n",
       "1.0     2042\n",
       "2.0     1553\n",
       "3.0     1403\n",
       "4.0     1403\n",
       "5.0     1798\n",
       "6.0     2411\n",
       "7.0     3122\n",
       "8.0     3828\n",
       "9.0     3954\n",
       "10.0    4299\n",
       "11.0    4112\n",
       "12.0    4784\n",
       "13.0    4257\n",
       "14.0    4362\n",
       "15.0    4394\n",
       "16.0    4361\n",
       "17.0    4592\n",
       "18.0    4804\n",
       "19.0    4761\n",
       "20.0    4828\n",
       "21.0    4058\n",
       "22.0    3499\n",
       "23.0    3167\n",
       "Name: count, dtype: int64"
      ]
     },
     "execution_count": 28,
     "metadata": {},
     "output_type": "execute_result"
    }
   ],
   "source": [
    "df.franja.value_counts().sort_index()"
   ]
  },
  {
   "cell_type": "markdown",
   "metadata": {},
   "source": [
    "##### **Columna tipo**"
   ]
  },
  {
   "cell_type": "code",
   "execution_count": 29,
   "metadata": {},
   "outputs": [
    {
     "data": {
      "text/plain": [
       "tipo\n",
       "Robo          34359\n",
       "Hurto         25508\n",
       "Lesiones      10035\n",
       "Amenazas       8539\n",
       "Vialidad       5806\n",
       "Homicidios      128\n",
       "Name: count, dtype: int64"
      ]
     },
     "execution_count": 29,
     "metadata": {},
     "output_type": "execute_result"
    }
   ],
   "source": [
    "df.tipo.value_counts()"
   ]
  },
  {
   "cell_type": "markdown",
   "metadata": {},
   "source": [
    "##### **Columna subtipo**"
   ]
  },
  {
   "cell_type": "code",
   "execution_count": 30,
   "metadata": {},
   "outputs": [
    {
     "data": {
      "text/plain": [
       "subtipo\n",
       "Robo total                        33690\n",
       "Hurto total                       22859\n",
       "Lesiones Dolosas                  10035\n",
       "Amenazas                           8539\n",
       "Lesiones por siniestros viales     5725\n",
       "Hurto automotor                    2649\n",
       "Robo automotor                      669\n",
       "Homicidios dolosos                  117\n",
       "Muertes por siniestros viales        81\n",
       "Femicidios                           11\n",
       "Name: count, dtype: int64"
      ]
     },
     "execution_count": 30,
     "metadata": {},
     "output_type": "execute_result"
    }
   ],
   "source": [
    "df.subtipo.value_counts()"
   ]
  },
  {
   "cell_type": "markdown",
   "metadata": {},
   "source": [
    "##### **Columna uso_arma**"
   ]
  },
  {
   "cell_type": "code",
   "execution_count": 31,
   "metadata": {},
   "outputs": [
    {
     "data": {
      "text/plain": [
       "uso_arma\n",
       "NO    77109\n",
       "SI     7266\n",
       "Name: count, dtype: int64"
      ]
     },
     "execution_count": 31,
     "metadata": {},
     "output_type": "execute_result"
    }
   ],
   "source": [
    "df.uso_arma.value_counts()"
   ]
  },
  {
   "cell_type": "markdown",
   "metadata": {},
   "source": [
    "##### **Columna uso_moto**"
   ]
  },
  {
   "cell_type": "code",
   "execution_count": 32,
   "metadata": {},
   "outputs": [
    {
     "data": {
      "text/plain": [
       "uso_moto\n",
       "NO    80649\n",
       "SI     3726\n",
       "Name: count, dtype: int64"
      ]
     },
     "execution_count": 32,
     "metadata": {},
     "output_type": "execute_result"
    }
   ],
   "source": [
    "df.uso_moto.value_counts()"
   ]
  },
  {
   "cell_type": "markdown",
   "metadata": {},
   "source": [
    "##### **Columna comuna**"
   ]
  },
  {
   "cell_type": "code",
   "execution_count": 33,
   "metadata": {},
   "outputs": [
    {
     "data": {
      "text/plain": [
       "comuna\n",
       "1.0     10605\n",
       "2.0      3529\n",
       "3.0      7153\n",
       "4.0      9159\n",
       "5.0      4684\n",
       "6.0      3663\n",
       "7.0      6408\n",
       "8.0      6331\n",
       "9.0      4942\n",
       "10.0     3680\n",
       "11.0     3971\n",
       "12.0     4089\n",
       "13.0     4792\n",
       "14.0     6346\n",
       "15.0     5023\n",
       "Name: count, dtype: int64"
      ]
     },
     "execution_count": 33,
     "metadata": {},
     "output_type": "execute_result"
    }
   ],
   "source": [
    "df.comuna.value_counts().sort_index()"
   ]
  },
  {
   "cell_type": "markdown",
   "metadata": {},
   "source": [
    "##### **Columnas latitud y longitud**"
   ]
  },
  {
   "cell_type": "code",
   "execution_count": 34,
   "metadata": {},
   "outputs": [
    {
     "data": {
      "text/plain": [
       "np.int64(0)"
      ]
     },
     "execution_count": 34,
     "metadata": {},
     "output_type": "execute_result"
    }
   ],
   "source": [
    "df.latitud.isnull().sum()"
   ]
  },
  {
   "cell_type": "code",
   "execution_count": 35,
   "metadata": {},
   "outputs": [
    {
     "data": {
      "text/plain": [
       "np.int64(0)"
      ]
     },
     "execution_count": 35,
     "metadata": {},
     "output_type": "execute_result"
    }
   ],
   "source": [
    "df.longitud.isnull().sum()\n"
   ]
  },
  {
   "cell_type": "markdown",
   "metadata": {},
   "source": [
    "##### **Columna cantidad**"
   ]
  },
  {
   "cell_type": "code",
   "execution_count": 36,
   "metadata": {},
   "outputs": [
    {
     "data": {
      "text/plain": [
       "cantidad\n",
       "1    84375\n",
       "Name: count, dtype: int64"
      ]
     },
     "execution_count": 36,
     "metadata": {},
     "output_type": "execute_result"
    }
   ],
   "source": [
    "df.cantidad.value_counts()"
   ]
  },
  {
   "cell_type": "code",
   "execution_count": 37,
   "metadata": {},
   "outputs": [
    {
     "data": {
      "text/plain": [
       "id-mapa     0\n",
       "anio        0\n",
       "mes         0\n",
       "dia         0\n",
       "fecha       0\n",
       "franja      0\n",
       "tipo        0\n",
       "subtipo     0\n",
       "uso_arma    0\n",
       "uso_moto    0\n",
       "barrio      0\n",
       "comuna      0\n",
       "latitud     0\n",
       "longitud    0\n",
       "cantidad    0\n",
       "dtype: int64"
      ]
     },
     "execution_count": 37,
     "metadata": {},
     "output_type": "execute_result"
    }
   ],
   "source": [
    "df.isnull().sum()"
   ]
  },
  {
   "cell_type": "code",
   "execution_count": 38,
   "metadata": {},
   "outputs": [
    {
     "data": {
      "text/plain": [
       "id-mapa                   int64\n",
       "anio                      int64\n",
       "mes                      object\n",
       "dia                      object\n",
       "fecha       datetime64[ns, UTC]\n",
       "franja                  float64\n",
       "tipo                     object\n",
       "subtipo                  object\n",
       "uso_arma                 object\n",
       "uso_moto                 object\n",
       "barrio                   object\n",
       "comuna                  float64\n",
       "latitud                 float64\n",
       "longitud                float64\n",
       "cantidad                  int64\n",
       "dtype: object"
      ]
     },
     "execution_count": 38,
     "metadata": {},
     "output_type": "execute_result"
    }
   ],
   "source": [
    "df.dtypes"
   ]
  },
  {
   "cell_type": "code",
   "execution_count": 39,
   "metadata": {},
   "outputs": [],
   "source": [
    "df[\"latitud\"] = df[\"latitud\"].astype(str).str.replace(\".\", \",\")\n",
    "df[\"longitud\"] = df[\"longitud\"].astype(str).str.replace(\".\", \",\")"
   ]
  },
  {
   "cell_type": "markdown",
   "metadata": {},
   "source": [
    "Guardo el csv"
   ]
  },
  {
   "cell_type": "code",
   "execution_count": 40,
   "metadata": {},
   "outputs": [],
   "source": [
    "df.to_csv(\"datos_2020_comas.csv\", sep=\";\", index=False)"
   ]
  },
  {
   "cell_type": "markdown",
   "metadata": {},
   "source": [
    "#### **Estadística Descriptiva**"
   ]
  },
  {
   "cell_type": "code",
   "execution_count": 41,
   "metadata": {},
   "outputs": [
    {
     "name": "stdout",
     "output_type": "stream",
     "text": [
      "<class 'pandas.core.frame.DataFrame'>\n",
      "Index: 84375 entries, 1 to 86174\n",
      "Data columns (total 15 columns):\n",
      " #   Column    Non-Null Count  Dtype              \n",
      "---  ------    --------------  -----              \n",
      " 0   id-mapa   84375 non-null  int64              \n",
      " 1   anio      84375 non-null  int64              \n",
      " 2   mes       84375 non-null  object             \n",
      " 3   dia       84375 non-null  object             \n",
      " 4   fecha     84375 non-null  datetime64[ns, UTC]\n",
      " 5   franja    84375 non-null  float64            \n",
      " 6   tipo      84375 non-null  object             \n",
      " 7   subtipo   84375 non-null  object             \n",
      " 8   uso_arma  84375 non-null  object             \n",
      " 9   uso_moto  84375 non-null  object             \n",
      " 10  barrio    84375 non-null  object             \n",
      " 11  comuna    84375 non-null  float64            \n",
      " 12  latitud   84375 non-null  object             \n",
      " 13  longitud  84375 non-null  object             \n",
      " 14  cantidad  84375 non-null  int64              \n",
      "dtypes: datetime64[ns, UTC](1), float64(2), int64(3), object(9)\n",
      "memory usage: 10.3+ MB\n"
     ]
    }
   ],
   "source": [
    "df.info()"
   ]
  },
  {
   "cell_type": "code",
   "execution_count": 42,
   "metadata": {},
   "outputs": [
    {
     "data": {
      "text/html": [
       "<div>\n",
       "<style scoped>\n",
       "    .dataframe tbody tr th:only-of-type {\n",
       "        vertical-align: middle;\n",
       "    }\n",
       "\n",
       "    .dataframe tbody tr th {\n",
       "        vertical-align: top;\n",
       "    }\n",
       "\n",
       "    .dataframe thead th {\n",
       "        text-align: right;\n",
       "    }\n",
       "</style>\n",
       "<table border=\"1\" class=\"dataframe\">\n",
       "  <thead>\n",
       "    <tr style=\"text-align: right;\">\n",
       "      <th></th>\n",
       "      <th>id-mapa</th>\n",
       "      <th>anio</th>\n",
       "      <th>franja</th>\n",
       "      <th>comuna</th>\n",
       "      <th>cantidad</th>\n",
       "    </tr>\n",
       "  </thead>\n",
       "  <tbody>\n",
       "    <tr>\n",
       "      <th>count</th>\n",
       "      <td>8.437500e+04</td>\n",
       "      <td>84375.0</td>\n",
       "      <td>84375.000000</td>\n",
       "      <td>84375.000000</td>\n",
       "      <td>84375.0</td>\n",
       "    </tr>\n",
       "    <tr>\n",
       "      <th>mean</th>\n",
       "      <td>4.323286e+05</td>\n",
       "      <td>2020.0</td>\n",
       "      <td>13.165108</td>\n",
       "      <td>7.314631</td>\n",
       "      <td>1.0</td>\n",
       "    </tr>\n",
       "    <tr>\n",
       "      <th>std</th>\n",
       "      <td>3.297388e+05</td>\n",
       "      <td>0.0</td>\n",
       "      <td>6.213216</td>\n",
       "      <td>4.502995</td>\n",
       "      <td>0.0</td>\n",
       "    </tr>\n",
       "    <tr>\n",
       "      <th>min</th>\n",
       "      <td>1.920860e+05</td>\n",
       "      <td>2020.0</td>\n",
       "      <td>0.000000</td>\n",
       "      <td>1.000000</td>\n",
       "      <td>1.0</td>\n",
       "    </tr>\n",
       "    <tr>\n",
       "      <th>25%</th>\n",
       "      <td>2.133695e+05</td>\n",
       "      <td>2020.0</td>\n",
       "      <td>9.000000</td>\n",
       "      <td>3.000000</td>\n",
       "      <td>1.0</td>\n",
       "    </tr>\n",
       "    <tr>\n",
       "      <th>50%</th>\n",
       "      <td>2.346430e+05</td>\n",
       "      <td>2020.0</td>\n",
       "      <td>14.000000</td>\n",
       "      <td>7.000000</td>\n",
       "      <td>1.0</td>\n",
       "    </tr>\n",
       "    <tr>\n",
       "      <th>75%</th>\n",
       "      <td>8.764840e+05</td>\n",
       "      <td>2020.0</td>\n",
       "      <td>18.000000</td>\n",
       "      <td>11.000000</td>\n",
       "      <td>1.0</td>\n",
       "    </tr>\n",
       "    <tr>\n",
       "      <th>max</th>\n",
       "      <td>1.114290e+06</td>\n",
       "      <td>2020.0</td>\n",
       "      <td>23.000000</td>\n",
       "      <td>15.000000</td>\n",
       "      <td>1.0</td>\n",
       "    </tr>\n",
       "  </tbody>\n",
       "</table>\n",
       "</div>"
      ],
      "text/plain": [
       "            id-mapa     anio        franja        comuna  cantidad\n",
       "count  8.437500e+04  84375.0  84375.000000  84375.000000   84375.0\n",
       "mean   4.323286e+05   2020.0     13.165108      7.314631       1.0\n",
       "std    3.297388e+05      0.0      6.213216      4.502995       0.0\n",
       "min    1.920860e+05   2020.0      0.000000      1.000000       1.0\n",
       "25%    2.133695e+05   2020.0      9.000000      3.000000       1.0\n",
       "50%    2.346430e+05   2020.0     14.000000      7.000000       1.0\n",
       "75%    8.764840e+05   2020.0     18.000000     11.000000       1.0\n",
       "max    1.114290e+06   2020.0     23.000000     15.000000       1.0"
      ]
     },
     "execution_count": 42,
     "metadata": {},
     "output_type": "execute_result"
    }
   ],
   "source": [
    "df.describe()"
   ]
  },
  {
   "cell_type": "code",
   "execution_count": 43,
   "metadata": {},
   "outputs": [
    {
     "data": {
      "text/html": [
       "<div>\n",
       "<style scoped>\n",
       "    .dataframe tbody tr th:only-of-type {\n",
       "        vertical-align: middle;\n",
       "    }\n",
       "\n",
       "    .dataframe tbody tr th {\n",
       "        vertical-align: top;\n",
       "    }\n",
       "\n",
       "    .dataframe thead th {\n",
       "        text-align: right;\n",
       "    }\n",
       "</style>\n",
       "<table border=\"1\" class=\"dataframe\">\n",
       "  <thead>\n",
       "    <tr style=\"text-align: right;\">\n",
       "      <th></th>\n",
       "      <th>id-mapa</th>\n",
       "      <th>anio</th>\n",
       "      <th>mes</th>\n",
       "      <th>dia</th>\n",
       "      <th>fecha</th>\n",
       "      <th>franja</th>\n",
       "      <th>tipo</th>\n",
       "      <th>subtipo</th>\n",
       "      <th>uso_arma</th>\n",
       "      <th>uso_moto</th>\n",
       "      <th>barrio</th>\n",
       "      <th>comuna</th>\n",
       "      <th>latitud</th>\n",
       "      <th>longitud</th>\n",
       "      <th>cantidad</th>\n",
       "    </tr>\n",
       "  </thead>\n",
       "  <tbody>\n",
       "    <tr>\n",
       "      <th>1</th>\n",
       "      <td>192086</td>\n",
       "      <td>2020</td>\n",
       "      <td>AGOSTO</td>\n",
       "      <td>VIERNES</td>\n",
       "      <td>2020-08-21 00:00:00+00:00</td>\n",
       "      <td>11.0</td>\n",
       "      <td>Hurto</td>\n",
       "      <td>Hurto total</td>\n",
       "      <td>NO</td>\n",
       "      <td>NO</td>\n",
       "      <td>PARQUE AVELLANEDA</td>\n",
       "      <td>9.0</td>\n",
       "      <td>-34,641905</td>\n",
       "      <td>-58,487037</td>\n",
       "      <td>1</td>\n",
       "    </tr>\n",
       "    <tr>\n",
       "      <th>2</th>\n",
       "      <td>192087</td>\n",
       "      <td>2020</td>\n",
       "      <td>SEPTIEMBRE</td>\n",
       "      <td>MARTES</td>\n",
       "      <td>2020-09-15 00:00:00+00:00</td>\n",
       "      <td>20.0</td>\n",
       "      <td>Hurto</td>\n",
       "      <td>Hurto total</td>\n",
       "      <td>NO</td>\n",
       "      <td>NO</td>\n",
       "      <td>PARQUE AVELLANEDA</td>\n",
       "      <td>9.0</td>\n",
       "      <td>-34,641899</td>\n",
       "      <td>-58,480738</td>\n",
       "      <td>1</td>\n",
       "    </tr>\n",
       "    <tr>\n",
       "      <th>3</th>\n",
       "      <td>192088</td>\n",
       "      <td>2020</td>\n",
       "      <td>SEPTIEMBRE</td>\n",
       "      <td>MARTES</td>\n",
       "      <td>2020-09-22 00:00:00+00:00</td>\n",
       "      <td>10.0</td>\n",
       "      <td>Robo</td>\n",
       "      <td>Robo total</td>\n",
       "      <td>SI</td>\n",
       "      <td>NO</td>\n",
       "      <td>PARQUE AVELLANEDA</td>\n",
       "      <td>9.0</td>\n",
       "      <td>-34,641043</td>\n",
       "      <td>-58,484628</td>\n",
       "      <td>1</td>\n",
       "    </tr>\n",
       "    <tr>\n",
       "      <th>4</th>\n",
       "      <td>192089</td>\n",
       "      <td>2020</td>\n",
       "      <td>OCTUBRE</td>\n",
       "      <td>MARTES</td>\n",
       "      <td>2020-10-06 00:00:00+00:00</td>\n",
       "      <td>10.0</td>\n",
       "      <td>Hurto</td>\n",
       "      <td>Hurto total</td>\n",
       "      <td>NO</td>\n",
       "      <td>NO</td>\n",
       "      <td>PARQUE AVELLANEDA</td>\n",
       "      <td>9.0</td>\n",
       "      <td>-34,641055</td>\n",
       "      <td>-58,484537</td>\n",
       "      <td>1</td>\n",
       "    </tr>\n",
       "    <tr>\n",
       "      <th>5</th>\n",
       "      <td>192090</td>\n",
       "      <td>2020</td>\n",
       "      <td>OCTUBRE</td>\n",
       "      <td>SABADO</td>\n",
       "      <td>2020-10-31 00:00:00+00:00</td>\n",
       "      <td>10.0</td>\n",
       "      <td>Robo</td>\n",
       "      <td>Robo total</td>\n",
       "      <td>NO</td>\n",
       "      <td>NO</td>\n",
       "      <td>PARQUE AVELLANEDA</td>\n",
       "      <td>9.0</td>\n",
       "      <td>-34,641899</td>\n",
       "      <td>-58,480738</td>\n",
       "      <td>1</td>\n",
       "    </tr>\n",
       "  </tbody>\n",
       "</table>\n",
       "</div>"
      ],
      "text/plain": [
       "   id-mapa  anio         mes      dia                     fecha  franja  \\\n",
       "1   192086  2020      AGOSTO  VIERNES 2020-08-21 00:00:00+00:00    11.0   \n",
       "2   192087  2020  SEPTIEMBRE   MARTES 2020-09-15 00:00:00+00:00    20.0   \n",
       "3   192088  2020  SEPTIEMBRE   MARTES 2020-09-22 00:00:00+00:00    10.0   \n",
       "4   192089  2020     OCTUBRE   MARTES 2020-10-06 00:00:00+00:00    10.0   \n",
       "5   192090  2020     OCTUBRE   SABADO 2020-10-31 00:00:00+00:00    10.0   \n",
       "\n",
       "    tipo      subtipo uso_arma uso_moto             barrio  comuna  \\\n",
       "1  Hurto  Hurto total       NO       NO  PARQUE AVELLANEDA     9.0   \n",
       "2  Hurto  Hurto total       NO       NO  PARQUE AVELLANEDA     9.0   \n",
       "3   Robo   Robo total       SI       NO  PARQUE AVELLANEDA     9.0   \n",
       "4  Hurto  Hurto total       NO       NO  PARQUE AVELLANEDA     9.0   \n",
       "5   Robo   Robo total       NO       NO  PARQUE AVELLANEDA     9.0   \n",
       "\n",
       "      latitud    longitud  cantidad  \n",
       "1  -34,641905  -58,487037         1  \n",
       "2  -34,641899  -58,480738         1  \n",
       "3  -34,641043  -58,484628         1  \n",
       "4  -34,641055  -58,484537         1  \n",
       "5  -34,641899  -58,480738         1  "
      ]
     },
     "execution_count": 43,
     "metadata": {},
     "output_type": "execute_result"
    }
   ],
   "source": [
    "df.head()"
   ]
  },
  {
   "cell_type": "code",
   "execution_count": 44,
   "metadata": {},
   "outputs": [
    {
     "data": {
      "text/plain": [
       "Text(0, 0.5, 'Número de delitos')"
      ]
     },
     "execution_count": 44,
     "metadata": {},
     "output_type": "execute_result"
    },
    {
     "data": {
      "image/png": "[encoded data removed]",
      "text/plain": [
       "<Figure size 640x480 with 1 Axes>"
      ]
     },
     "metadata": {},
     "output_type": "display_data"
    }
   ],
   "source": [
    "df.mes.value_counts().loc[meses].plot(kind='bar')\n",
    "plt.title(\"Número de delitos por mes\")\n",
    "plt.ylabel(\"Número de delitos\")"
   ]
  },
  {
   "cell_type": "code",
   "execution_count": 45,
   "metadata": {},
   "outputs": [
    {
     "data": {
      "text/plain": [
       "Text(0, 0.5, 'Número de delitos')"
      ]
     },
     "execution_count": 45,
     "metadata": {},
     "output_type": "execute_result"
    },
    {
     "data": {
      "image/png": "[encoded data removed]",
      "text/plain": [
       "<Figure size 640x480 with 1 Axes>"
      ]
     },
     "metadata": {},
     "output_type": "display_data"
    }
   ],
   "source": [
    "df.dia.value_counts().loc[dias].plot(kind='bar')\n",
    "plt.title(\"Número de delitos por día de la semana\")\n",
    "plt.ylabel(\"Número de delitos\")"
   ]
  },
  {
   "cell_type": "code",
   "execution_count": 46,
   "metadata": {},
   "outputs": [
    {
     "data": {
      "text/plain": [
       "Text(0, 0.5, 'Número de delitos')"
      ]
     },
     "execution_count": 46,
     "metadata": {},
     "output_type": "execute_result"
    },
    {
     "data": {
      "image/png": "[encoded data removed]",
      "text/plain": [
       "<Figure size 640x480 with 1 Axes>"
      ]
     },
     "metadata": {},
     "output_type": "display_data"
    }
   ],
   "source": [
    "df.franja.value_counts().sort_index().plot(kind='bar')\n",
    "plt.title(\"Número de delitos por franja\")\n",
    "plt.ylabel(\"Número de delitos\")"
   ]
  },
  {
   "cell_type": "code",
   "execution_count": 47,
   "metadata": {},
   "outputs": [
    {
     "data": {
      "text/plain": [
       "Text(0, 0.5, 'Número de delitos')"
      ]
     },
     "execution_count": 47,
     "metadata": {},
     "output_type": "execute_result"
    },
    {
     "data": {
      "image/png": "[encoded data removed]",
      "text/plain": [
       "<Figure size 640x480 with 1 Axes>"
      ]
     },
     "metadata": {},
     "output_type": "display_data"
    }
   ],
   "source": [
    "df.tipo.value_counts().plot(kind='bar')\n",
    "plt.title(\"Número de delitos por tipo\")\n",
    "plt.ylabel(\"Número de delitos\")"
   ]
  },
  {
   "cell_type": "code",
   "execution_count": 48,
   "metadata": {},
   "outputs": [
    {
     "data": {
      "text/plain": [
       "Text(0, 0.5, 'Número de delitos')"
      ]
     },
     "execution_count": 48,
     "metadata": {},
     "output_type": "execute_result"
    },
    {
     "data": {
      "image/png": "[encoded data removed]",
      "text/plain": [
       "<Figure size 640x480 with 1 Axes>"
      ]
     },
     "metadata": {},
     "output_type": "display_data"
    }
   ],
   "source": [
    "df.subtipo.value_counts().plot(kind='bar')\n",
    "plt.title(\"Número de delitos por subtipo\")\n",
    "plt.ylabel(\"Número de delitos\")"
   ]
  },
  {
   "cell_type": "code",
   "execution_count": 49,
   "metadata": {},
   "outputs": [
    {
     "data": {
      "text/plain": [
       "Text(0, 0.5, '')"
      ]
     },
     "execution_count": 49,
     "metadata": {},
     "output_type": "execute_result"
    },
    {
     "data": {
      "image/png": "[encoded data removed]",
      "text/plain": [
       "<Figure size 700x700 with 1 Axes>"
      ]
     },
     "metadata": {},
     "output_type": "display_data"
    }
   ],
   "source": [
    "df.uso_arma.value_counts().plot(kind='pie',\n",
    "                            autopct='%1.1f%%',  # Muestra los porcentajes\n",
    "                            startangle=90,      # Girar el gráfico para mejor visualización\n",
    "                            cmap='tab20',        # Cambiar colores\n",
    "                            figsize=(7,7))\n",
    "plt.title(\"Uso de arma\")\n",
    "plt.ylabel(\"\")  \n"
   ]
  },
  {
   "cell_type": "code",
   "execution_count": 50,
   "metadata": {},
   "outputs": [
    {
     "data": {
      "text/plain": [
       "Text(0, 0.5, '')"
      ]
     },
     "execution_count": 50,
     "metadata": {},
     "output_type": "execute_result"
    },
    {
     "data": {
      "image/png": "[encoded data removed]",
      "text/plain": [
       "<Figure size 700x700 with 1 Axes>"
      ]
     },
     "metadata": {},
     "output_type": "display_data"
    }
   ],
   "source": [
    "df.uso_moto.value_counts().plot(kind='pie',\n",
    "                            autopct='%1.1f%%',  # Muestra los porcentajes\n",
    "                            startangle=90,      # Girar el gráfico para mejor visualización\n",
    "                            cmap='tab20',        # Cambiar colores\n",
    "                            figsize=(7,7))\n",
    "plt.title(\"Uso de moto\")\n",
    "plt.ylabel(\"\") \n"
   ]
  },
  {
   "cell_type": "code",
   "execution_count": 51,
   "metadata": {},
   "outputs": [
    {
     "data": {
      "text/plain": [
       "Text(0, 0.5, 'Número de delitos')"
      ]
     },
     "execution_count": 51,
     "metadata": {},
     "output_type": "execute_result"
    },
    {
     "data": {
      "image/png": "[encoded data removed]",
      "text/plain": [
       "<Figure size 640x480 with 1 Axes>"
      ]
     },
     "metadata": {},
     "output_type": "display_data"
    }
   ],
   "source": [
    "df.barrio.value_counts().sort_values(ascending=False)[:10].plot(kind='bar')\n",
    "plt.title(\"Diez barrios con más delitos\")\n",
    "plt.ylabel(\"Número de delitos\")"
   ]
  },
  {
   "cell_type": "code",
   "execution_count": 52,
   "metadata": {},
   "outputs": [
    {
     "data": {
      "text/plain": [
       "Text(0, 0.5, 'Número de delitos')"
      ]
     },
     "execution_count": 52,
     "metadata": {},
     "output_type": "execute_result"
    },
    {
     "data": {
      "image/png": "[encoded data removed]",
      "text/plain": [
       "<Figure size 640x480 with 1 Axes>"
      ]
     },
     "metadata": {},
     "output_type": "display_data"
    }
   ],
   "source": [
    "df.barrio.value_counts().sort_values(ascending=False)[-10:].plot(kind='bar')\n",
    "plt.title(\"Diez barrios con menos delitos\")\n",
    "plt.ylabel(\"Número de delitos\")"
   ]
  },
  {
   "cell_type": "code",
   "execution_count": 53,
   "metadata": {},
   "outputs": [
    {
     "data": {
      "text/plain": [
       "Text(0, 0.5, 'Número de delitos por comuna')"
      ]
     },
     "execution_count": 53,
     "metadata": {},
     "output_type": "execute_result"
    },
    {
     "data": {
      "image/png": "[encoded data removed]",
      "text/plain": [
       "<Figure size 640x480 with 1 Axes>"
      ]
     },
     "metadata": {},
     "output_type": "display_data"
    }
   ],
   "source": [
    "df.comuna.value_counts().sort_index().plot(kind='bar')\n",
    "plt.title(\"Delitos por Comunas\")\n",
    "plt.ylabel(\"Número de delitos por comuna\")"
   ]
  },
  {
   "cell_type": "markdown",
   "metadata": {},
   "source": [
    "#### **Mapa de Calor de Delitos en ls ciudad de Buenos Aires**"
   ]
  },
  {
   "cell_type": "code",
   "execution_count": 54,
   "metadata": {},
   "outputs": [
    {
     "ename": "ValueError",
     "evalue": "Location should consist of two numerical values, but '-34,641905' of type <class 'str'> is not convertible to float.",
     "output_type": "error",
     "traceback": [
      "\u001b[1;31m---------------------------------------------------------------------------\u001b[0m",
      "\u001b[1;31mValueError\u001b[0m                                Traceback (most recent call last)",
      "File \u001b[1;32mc:\\Users\\Nico_\\AppData\\Local\\Programs\\Python\\Python311\\Lib\\site-packages\\folium\\utilities.py:101\u001b[0m, in \u001b[0;36mvalidate_location\u001b[1;34m(location)\u001b[0m\n\u001b[0;32m    100\u001b[0m \u001b[38;5;28;01mtry\u001b[39;00m:\n\u001b[1;32m--> 101\u001b[0m     \u001b[38;5;28;43mfloat\u001b[39;49m\u001b[43m(\u001b[49m\u001b[43mcoord\u001b[49m\u001b[43m)\u001b[49m\n\u001b[0;32m    102\u001b[0m \u001b[38;5;28;01mexcept\u001b[39;00m (\u001b[38;5;167;01mTypeError\u001b[39;00m, \u001b[38;5;167;01mValueError\u001b[39;00m):\n",
      "\u001b[1;31mValueError\u001b[0m: could not convert string to float: '-34,641905'",
      "\nDuring handling of the above exception, another exception occurred:\n",
      "\u001b[1;31mValueError\u001b[0m                                Traceback (most recent call last)",
      "Cell \u001b[1;32mIn[54], line 10\u001b[0m\n\u001b[0;32m      8\u001b[0m \u001b[38;5;66;03m# Agregar capa de calor con las ubicaciones del delito\u001b[39;00m\n\u001b[0;32m      9\u001b[0m heat_data \u001b[38;5;241m=\u001b[39m df[[\u001b[38;5;124m'\u001b[39m\u001b[38;5;124mlatitud\u001b[39m\u001b[38;5;124m'\u001b[39m, \u001b[38;5;124m'\u001b[39m\u001b[38;5;124mlongitud\u001b[39m\u001b[38;5;124m'\u001b[39m, \u001b[38;5;124m'\u001b[39m\u001b[38;5;124mcantidad\u001b[39m\u001b[38;5;124m'\u001b[39m]]\u001b[38;5;241m.\u001b[39mdropna()\u001b[38;5;241m.\u001b[39mvalues\n\u001b[1;32m---> 10\u001b[0m \u001b[43mHeatMap\u001b[49m\u001b[43m(\u001b[49m\u001b[43mheat_data\u001b[49m\u001b[43m,\u001b[49m\u001b[43m \u001b[49m\u001b[43mradius\u001b[49m\u001b[38;5;241;43m=\u001b[39;49m\u001b[38;5;241;43m12\u001b[39;49m\u001b[43m)\u001b[49m\u001b[38;5;241m.\u001b[39madd_to(mapa)\n\u001b[0;32m     13\u001b[0m mapa\n",
      "File \u001b[1;32mc:\\Users\\Nico_\\AppData\\Local\\Programs\\Python\\Python311\\Lib\\site-packages\\folium\\plugins\\heat_map.py:83\u001b[0m, in \u001b[0;36mHeatMap.__init__\u001b[1;34m(self, data, name, min_opacity, max_zoom, radius, blur, gradient, overlay, control, show, **kwargs)\u001b[0m\n\u001b[0;32m     81\u001b[0m \u001b[38;5;28mself\u001b[39m\u001b[38;5;241m.\u001b[39m_name \u001b[38;5;241m=\u001b[39m \u001b[38;5;124m\"\u001b[39m\u001b[38;5;124mHeatMap\u001b[39m\u001b[38;5;124m\"\u001b[39m\n\u001b[0;32m     82\u001b[0m data \u001b[38;5;241m=\u001b[39m if_pandas_df_convert_to_numpy(data)\n\u001b[1;32m---> 83\u001b[0m \u001b[38;5;28mself\u001b[39m\u001b[38;5;241m.\u001b[39mdata \u001b[38;5;241m=\u001b[39m \u001b[43m[\u001b[49m\n\u001b[0;32m     84\u001b[0m \u001b[43m    \u001b[49m\u001b[43m[\u001b[49m\u001b[38;5;241;43m*\u001b[39;49m\u001b[43mvalidate_location\u001b[49m\u001b[43m(\u001b[49m\u001b[43mline\u001b[49m\u001b[43m[\u001b[49m\u001b[43m:\u001b[49m\u001b[38;5;241;43m2\u001b[39;49m\u001b[43m]\u001b[49m\u001b[43m)\u001b[49m\u001b[43m,\u001b[49m\u001b[43m \u001b[49m\u001b[38;5;241;43m*\u001b[39;49m\u001b[43mline\u001b[49m\u001b[43m[\u001b[49m\u001b[38;5;241;43m2\u001b[39;49m\u001b[43m:\u001b[49m\u001b[43m]\u001b[49m\u001b[43m]\u001b[49m\u001b[43m \u001b[49m\u001b[38;5;28;43;01mfor\u001b[39;49;00m\u001b[43m \u001b[49m\u001b[43mline\u001b[49m\u001b[43m \u001b[49m\u001b[38;5;129;43;01min\u001b[39;49;00m\u001b[43m \u001b[49m\u001b[43mdata\u001b[49m\u001b[43m  \u001b[49m\u001b[38;5;66;43;03m# noqa: E999\u001b[39;49;00m\n\u001b[0;32m     85\u001b[0m \u001b[43m\u001b[49m\u001b[43m]\u001b[49m\n\u001b[0;32m     86\u001b[0m \u001b[38;5;28;01mif\u001b[39;00m np\u001b[38;5;241m.\u001b[39many(np\u001b[38;5;241m.\u001b[39misnan(\u001b[38;5;28mself\u001b[39m\u001b[38;5;241m.\u001b[39mdata)):\n\u001b[0;32m     87\u001b[0m     \u001b[38;5;28;01mraise\u001b[39;00m \u001b[38;5;167;01mValueError\u001b[39;00m(\u001b[38;5;124m\"\u001b[39m\u001b[38;5;124mdata may not contain NaNs.\u001b[39m\u001b[38;5;124m\"\u001b[39m)\n",
      "File \u001b[1;32mc:\\Users\\Nico_\\AppData\\Local\\Programs\\Python\\Python311\\Lib\\site-packages\\folium\\plugins\\heat_map.py:84\u001b[0m, in \u001b[0;36m<listcomp>\u001b[1;34m(.0)\u001b[0m\n\u001b[0;32m     81\u001b[0m \u001b[38;5;28mself\u001b[39m\u001b[38;5;241m.\u001b[39m_name \u001b[38;5;241m=\u001b[39m \u001b[38;5;124m\"\u001b[39m\u001b[38;5;124mHeatMap\u001b[39m\u001b[38;5;124m\"\u001b[39m\n\u001b[0;32m     82\u001b[0m data \u001b[38;5;241m=\u001b[39m if_pandas_df_convert_to_numpy(data)\n\u001b[0;32m     83\u001b[0m \u001b[38;5;28mself\u001b[39m\u001b[38;5;241m.\u001b[39mdata \u001b[38;5;241m=\u001b[39m [\n\u001b[1;32m---> 84\u001b[0m     [\u001b[38;5;241m*\u001b[39m\u001b[43mvalidate_location\u001b[49m\u001b[43m(\u001b[49m\u001b[43mline\u001b[49m\u001b[43m[\u001b[49m\u001b[43m:\u001b[49m\u001b[38;5;241;43m2\u001b[39;49m\u001b[43m]\u001b[49m\u001b[43m)\u001b[49m, \u001b[38;5;241m*\u001b[39mline[\u001b[38;5;241m2\u001b[39m:]] \u001b[38;5;28;01mfor\u001b[39;00m line \u001b[38;5;129;01min\u001b[39;00m data  \u001b[38;5;66;03m# noqa: E999\u001b[39;00m\n\u001b[0;32m     85\u001b[0m ]\n\u001b[0;32m     86\u001b[0m \u001b[38;5;28;01mif\u001b[39;00m np\u001b[38;5;241m.\u001b[39many(np\u001b[38;5;241m.\u001b[39misnan(\u001b[38;5;28mself\u001b[39m\u001b[38;5;241m.\u001b[39mdata)):\n\u001b[0;32m     87\u001b[0m     \u001b[38;5;28;01mraise\u001b[39;00m \u001b[38;5;167;01mValueError\u001b[39;00m(\u001b[38;5;124m\"\u001b[39m\u001b[38;5;124mdata may not contain NaNs.\u001b[39m\u001b[38;5;124m\"\u001b[39m)\n",
      "File \u001b[1;32mc:\\Users\\Nico_\\AppData\\Local\\Programs\\Python\\Python311\\Lib\\site-packages\\folium\\utilities.py:103\u001b[0m, in \u001b[0;36mvalidate_location\u001b[1;34m(location)\u001b[0m\n\u001b[0;32m    101\u001b[0m     \u001b[38;5;28mfloat\u001b[39m(coord)\n\u001b[0;32m    102\u001b[0m \u001b[38;5;28;01mexcept\u001b[39;00m (\u001b[38;5;167;01mTypeError\u001b[39;00m, \u001b[38;5;167;01mValueError\u001b[39;00m):\n\u001b[1;32m--> 103\u001b[0m     \u001b[38;5;28;01mraise\u001b[39;00m \u001b[38;5;167;01mValueError\u001b[39;00m(\n\u001b[0;32m    104\u001b[0m         \u001b[38;5;124m\"\u001b[39m\u001b[38;5;124mLocation should consist of two numerical values, \u001b[39m\u001b[38;5;124m\"\u001b[39m\n\u001b[0;32m    105\u001b[0m         \u001b[38;5;124mf\u001b[39m\u001b[38;5;124m\"\u001b[39m\u001b[38;5;124mbut \u001b[39m\u001b[38;5;132;01m{\u001b[39;00mcoord\u001b[38;5;132;01m!r}\u001b[39;00m\u001b[38;5;124m of type \u001b[39m\u001b[38;5;132;01m{\u001b[39;00m\u001b[38;5;28mtype\u001b[39m(coord)\u001b[38;5;132;01m}\u001b[39;00m\u001b[38;5;124m is not convertible to float.\u001b[39m\u001b[38;5;124m\"\u001b[39m\n\u001b[0;32m    106\u001b[0m     )\n\u001b[0;32m    107\u001b[0m \u001b[38;5;28;01mif\u001b[39;00m math\u001b[38;5;241m.\u001b[39misnan(\u001b[38;5;28mfloat\u001b[39m(coord)):\n\u001b[0;32m    108\u001b[0m     \u001b[38;5;28;01mraise\u001b[39;00m \u001b[38;5;167;01mValueError\u001b[39;00m(\u001b[38;5;124m\"\u001b[39m\u001b[38;5;124mLocation values cannot contain NaNs.\u001b[39m\u001b[38;5;124m\"\u001b[39m)\n",
      "\u001b[1;31mValueError\u001b[0m: Location should consist of two numerical values, but '-34,641905' of type <class 'str'> is not convertible to float."
     ]
    }
   ],
   "source": [
    "import branca\n",
    "import folium\n",
    "from folium.plugins import HeatMap\n",
    "\n",
    "# Crear mapa centrado en Buenos Aires\n",
    "mapa = folium.Map(location=[-34.6037, -58.3816], zoom_start=11)\n",
    "\n",
    "# Agregar capa de calor con las ubicaciones del delito\n",
    "heat_data = df[['latitud', 'longitud', 'cantidad']].dropna().values\n",
    "HeatMap(heat_data, radius=12).add_to(mapa)\n",
    "\n",
    "\n",
    "mapa\n"
   ]
  },
  {
   "cell_type": "markdown",
   "metadata": {},
   "source": [
    "En el mapa podemos ver que las regiones más naranjas son los lugares donde se comenten más delitos, seguidas por las amarillas y luego por las verdes."
   ]
  },
  {
   "cell_type": "markdown",
   "metadata": {},
   "source": [
    "#### Barrios de cada comuna"
   ]
  },
  {
   "cell_type": "code",
   "execution_count": null,
   "metadata": {},
   "outputs": [],
   "source": [
    "comuna_barrio = df.groupby('comuna')['barrio'].apply(lambda x: list(set(x))).reset_index()"
   ]
  },
  {
   "cell_type": "code",
   "execution_count": null,
   "metadata": {},
   "outputs": [],
   "source": [
    "pd.set_option('display.max_colwidth', None)"
   ]
  },
  {
   "cell_type": "code",
   "execution_count": null,
   "metadata": {},
   "outputs": [
    {
     "data": {
      "text/html": [
       "<div>\n",
       "<style scoped>\n",
       "    .dataframe tbody tr th:only-of-type {\n",
       "        vertical-align: middle;\n",
       "    }\n",
       "\n",
       "    .dataframe tbody tr th {\n",
       "        vertical-align: top;\n",
       "    }\n",
       "\n",
       "    .dataframe thead th {\n",
       "        text-align: right;\n",
       "    }\n",
       "</style>\n",
       "<table border=\"1\" class=\"dataframe\">\n",
       "  <thead>\n",
       "    <tr style=\"text-align: right;\">\n",
       "      <th></th>\n",
       "      <th>comuna</th>\n",
       "      <th>barrio</th>\n",
       "    </tr>\n",
       "  </thead>\n",
       "  <tbody>\n",
       "    <tr>\n",
       "      <th>0</th>\n",
       "      <td>1.0</td>\n",
       "      <td>[RETIRO, SAN TELMO, CONSTITUCION, SAN NICOLAS, PUERTO MADERO, MONSERRAT]</td>\n",
       "    </tr>\n",
       "    <tr>\n",
       "      <th>1</th>\n",
       "      <td>2.0</td>\n",
       "      <td>[RECOLETA]</td>\n",
       "    </tr>\n",
       "    <tr>\n",
       "      <th>2</th>\n",
       "      <td>3.0</td>\n",
       "      <td>[BALVANERA, SAN CRISTOBAL]</td>\n",
       "    </tr>\n",
       "    <tr>\n",
       "      <th>3</th>\n",
       "      <td>4.0</td>\n",
       "      <td>[PARQUE PATRICIOS, NUEVA POMPEYA, BOCA, BARRACAS]</td>\n",
       "    </tr>\n",
       "    <tr>\n",
       "      <th>4</th>\n",
       "      <td>5.0</td>\n",
       "      <td>[ALMAGRO, BOEDO]</td>\n",
       "    </tr>\n",
       "    <tr>\n",
       "      <th>5</th>\n",
       "      <td>6.0</td>\n",
       "      <td>[CABALLITO]</td>\n",
       "    </tr>\n",
       "    <tr>\n",
       "      <th>6</th>\n",
       "      <td>7.0</td>\n",
       "      <td>[FLORES, PARQUE CHACABUCO]</td>\n",
       "    </tr>\n",
       "    <tr>\n",
       "      <th>7</th>\n",
       "      <td>8.0</td>\n",
       "      <td>[VILLA LUGANO, VILLA SOLDATI, VILLA RIACHUELO]</td>\n",
       "    </tr>\n",
       "    <tr>\n",
       "      <th>8</th>\n",
       "      <td>9.0</td>\n",
       "      <td>[PARQUE AVELLANEDA, MATADEROS, LINIERS]</td>\n",
       "    </tr>\n",
       "    <tr>\n",
       "      <th>9</th>\n",
       "      <td>10.0</td>\n",
       "      <td>[VERSALLES, MONTE CASTRO, FLORESTA, VELEZ SARSFIELD, VILLA REAL, VILLA LURO]</td>\n",
       "    </tr>\n",
       "    <tr>\n",
       "      <th>10</th>\n",
       "      <td>11.0</td>\n",
       "      <td>[VILLA DEVOTO, VILLA GRAL. MITRE, VILLA DEL PARQUE, VILLA SANTA RITA]</td>\n",
       "    </tr>\n",
       "    <tr>\n",
       "      <th>11</th>\n",
       "      <td>12.0</td>\n",
       "      <td>[VILLA URQUIZA, VILLA PUEYRREDON, SAAVEDRA, COGHLAN]</td>\n",
       "    </tr>\n",
       "    <tr>\n",
       "      <th>12</th>\n",
       "      <td>13.0</td>\n",
       "      <td>[NUÃEZ, COLEGIALES, BELGRANO]</td>\n",
       "    </tr>\n",
       "    <tr>\n",
       "      <th>13</th>\n",
       "      <td>14.0</td>\n",
       "      <td>[PALERMO]</td>\n",
       "    </tr>\n",
       "    <tr>\n",
       "      <th>14</th>\n",
       "      <td>15.0</td>\n",
       "      <td>[VILLA ORTUZAR, PARQUE CHAS, CHACARITA, VILLA CRESPO, PATERNAL, AGRONOMIA]</td>\n",
       "    </tr>\n",
       "  </tbody>\n",
       "</table>\n",
       "</div>"
      ],
      "text/plain": [
       "    comuna  \\\n",
       "0      1.0   \n",
       "1      2.0   \n",
       "2      3.0   \n",
       "3      4.0   \n",
       "4      5.0   \n",
       "5      6.0   \n",
       "6      7.0   \n",
       "7      8.0   \n",
       "8      9.0   \n",
       "9     10.0   \n",
       "10    11.0   \n",
       "11    12.0   \n",
       "12    13.0   \n",
       "13    14.0   \n",
       "14    15.0   \n",
       "\n",
       "                                                                          barrio  \n",
       "0       [RETIRO, SAN TELMO, CONSTITUCION, SAN NICOLAS, PUERTO MADERO, MONSERRAT]  \n",
       "1                                                                     [RECOLETA]  \n",
       "2                                                     [BALVANERA, SAN CRISTOBAL]  \n",
       "3                              [PARQUE PATRICIOS, NUEVA POMPEYA, BOCA, BARRACAS]  \n",
       "4                                                               [ALMAGRO, BOEDO]  \n",
       "5                                                                    [CABALLITO]  \n",
       "6                                                     [FLORES, PARQUE CHACABUCO]  \n",
       "7                                 [VILLA LUGANO, VILLA SOLDATI, VILLA RIACHUELO]  \n",
       "8                                        [PARQUE AVELLANEDA, MATADEROS, LINIERS]  \n",
       "9   [VERSALLES, MONTE CASTRO, FLORESTA, VELEZ SARSFIELD, VILLA REAL, VILLA LURO]  \n",
       "10         [VILLA DEVOTO, VILLA GRAL. MITRE, VILLA DEL PARQUE, VILLA SANTA RITA]  \n",
       "11                          [VILLA URQUIZA, VILLA PUEYRREDON, SAAVEDRA, COGHLAN]  \n",
       "12                                                [NUÃEZ, COLEGIALES, BELGRANO]  \n",
       "13                                                                     [PALERMO]  \n",
       "14    [VILLA ORTUZAR, PARQUE CHAS, CHACARITA, VILLA CRESPO, PATERNAL, AGRONOMIA]  "
      ]
     },
     "execution_count": 54,
     "metadata": {},
     "output_type": "execute_result"
    }
   ],
   "source": [
    "comuna_barrio"
   ]
  },
  {
   "cell_type": "markdown",
   "metadata": {},
   "source": [
    "#### Sutipos de cada tipo de delito"
   ]
  },
  {
   "cell_type": "code",
   "execution_count": null,
   "metadata": {},
   "outputs": [],
   "source": [
    "tipo_subtipo = df.groupby('tipo')['subtipo'].apply(lambda x: list(set(x))).reset_index()"
   ]
  },
  {
   "cell_type": "code",
   "execution_count": null,
   "metadata": {},
   "outputs": [
    {
     "data": {
      "text/html": [
       "<div>\n",
       "<style scoped>\n",
       "    .dataframe tbody tr th:only-of-type {\n",
       "        vertical-align: middle;\n",
       "    }\n",
       "\n",
       "    .dataframe tbody tr th {\n",
       "        vertical-align: top;\n",
       "    }\n",
       "\n",
       "    .dataframe thead th {\n",
       "        text-align: right;\n",
       "    }\n",
       "</style>\n",
       "<table border=\"1\" class=\"dataframe\">\n",
       "  <thead>\n",
       "    <tr style=\"text-align: right;\">\n",
       "      <th></th>\n",
       "      <th>tipo</th>\n",
       "      <th>subtipo</th>\n",
       "    </tr>\n",
       "  </thead>\n",
       "  <tbody>\n",
       "    <tr>\n",
       "      <th>0</th>\n",
       "      <td>Amenazas</td>\n",
       "      <td>[Amenazas]</td>\n",
       "    </tr>\n",
       "    <tr>\n",
       "      <th>1</th>\n",
       "      <td>Homicidios</td>\n",
       "      <td>[Femicidios, Homicidios dolosos]</td>\n",
       "    </tr>\n",
       "    <tr>\n",
       "      <th>2</th>\n",
       "      <td>Hurto</td>\n",
       "      <td>[Hurto automotor, Hurto total]</td>\n",
       "    </tr>\n",
       "    <tr>\n",
       "      <th>3</th>\n",
       "      <td>Lesiones</td>\n",
       "      <td>[Lesiones Dolosas]</td>\n",
       "    </tr>\n",
       "    <tr>\n",
       "      <th>4</th>\n",
       "      <td>Robo</td>\n",
       "      <td>[Robo automotor, Robo total]</td>\n",
       "    </tr>\n",
       "    <tr>\n",
       "      <th>5</th>\n",
       "      <td>Vialidad</td>\n",
       "      <td>[Lesiones por siniestros viales, Muertes por siniestros viales]</td>\n",
       "    </tr>\n",
       "  </tbody>\n",
       "</table>\n",
       "</div>"
      ],
      "text/plain": [
       "         tipo                                                          subtipo\n",
       "0    Amenazas                                                       [Amenazas]\n",
       "1  Homicidios                                 [Femicidios, Homicidios dolosos]\n",
       "2       Hurto                                   [Hurto automotor, Hurto total]\n",
       "3    Lesiones                                               [Lesiones Dolosas]\n",
       "4        Robo                                     [Robo automotor, Robo total]\n",
       "5    Vialidad  [Lesiones por siniestros viales, Muertes por siniestros viales]"
      ]
     },
     "execution_count": 56,
     "metadata": {},
     "output_type": "execute_result"
    }
   ],
   "source": [
    "tipo_subtipo"
   ]
  },
  {
   "cell_type": "markdown",
   "metadata": {},
   "source": [
    "#### **Detección de Outliers en la Cantidad de Delitos por Barrio**"
   ]
  },
  {
   "cell_type": "code",
   "execution_count": null,
   "metadata": {},
   "outputs": [
    {
     "data": {
      "text/plain": [
       "<Axes: >"
      ]
     },
     "execution_count": 57,
     "metadata": {},
     "output_type": "execute_result"
    },
    {
     "data": {
      "image/png": "[encoded data removed]",
      "text/plain": [
       "<Figure size 640x480 with 1 Axes>"
      ]
     },
     "metadata": {},
     "output_type": "display_data"
    }
   ],
   "source": [
    "df.barrio.value_counts().plot(kind='box')"
   ]
  },
  {
   "cell_type": "markdown",
   "metadata": {},
   "source": [
    "Podemos ver en el gráfico que si hay outliers."
   ]
  },
  {
   "cell_type": "markdown",
   "metadata": {},
   "source": [
    "#### **Detección de Outliers en la Cantidad de Delitos por Comuna**"
   ]
  },
  {
   "cell_type": "code",
   "execution_count": null,
   "metadata": {},
   "outputs": [
    {
     "data": {
      "text/plain": [
       "<Axes: >"
      ]
     },
     "execution_count": 58,
     "metadata": {},
     "output_type": "execute_result"
    },
    {
     "data": {
      "image/png": "[encoded data removed]",
      "text/plain": [
       "<Figure size 640x480 with 1 Axes>"
      ]
     },
     "metadata": {},
     "output_type": "display_data"
    }
   ],
   "source": [
    "df.comuna.value_counts().plot(kind='box')"
   ]
  },
  {
   "cell_type": "code",
   "execution_count": null,
   "metadata": {},
   "outputs": [
    {
     "data": {
      "text/plain": [
       "Index(['id-mapa', 'anio', 'mes', 'dia', 'fecha', 'franja', 'tipo', 'subtipo',\n",
       "       'uso_arma', 'uso_moto', 'barrio', 'comuna', 'latitud', 'longitud',\n",
       "       'cantidad'],\n",
       "      dtype='object')"
      ]
     },
     "execution_count": 59,
     "metadata": {},
     "output_type": "execute_result"
    }
   ],
   "source": [
    "df.columns"
   ]
  },
  {
   "cell_type": "markdown",
   "metadata": {},
   "source": [
    "En este caso los datos están distribuidos de manera más uniforme"
   ]
  },
  {
   "cell_type": "markdown",
   "metadata": {},
   "source": [
    "#### **Tabulación cruzada**"
   ]
  },
  {
   "cell_type": "code",
   "execution_count": null,
   "metadata": {},
   "outputs": [
    {
     "data": {
      "text/html": [
       "<div>\n",
       "<style scoped>\n",
       "    .dataframe tbody tr th:only-of-type {\n",
       "        vertical-align: middle;\n",
       "    }\n",
       "\n",
       "    .dataframe tbody tr th {\n",
       "        vertical-align: top;\n",
       "    }\n",
       "\n",
       "    .dataframe thead th {\n",
       "        text-align: right;\n",
       "    }\n",
       "</style>\n",
       "<table border=\"1\" class=\"dataframe\">\n",
       "  <thead>\n",
       "    <tr style=\"text-align: right;\">\n",
       "      <th>mes</th>\n",
       "      <th>ENERO</th>\n",
       "      <th>FEBRERO</th>\n",
       "      <th>MARZO</th>\n",
       "      <th>ABRIL</th>\n",
       "      <th>MAYO</th>\n",
       "      <th>JUNIO</th>\n",
       "      <th>JULIO</th>\n",
       "      <th>AGOSTO</th>\n",
       "      <th>SEPTIEMBRE</th>\n",
       "      <th>OCTUBRE</th>\n",
       "      <th>NOVIEMBRE</th>\n",
       "      <th>DICIEMBRE</th>\n",
       "    </tr>\n",
       "    <tr>\n",
       "      <th>tipo</th>\n",
       "      <th></th>\n",
       "      <th></th>\n",
       "      <th></th>\n",
       "      <th></th>\n",
       "      <th></th>\n",
       "      <th></th>\n",
       "      <th></th>\n",
       "      <th></th>\n",
       "      <th></th>\n",
       "      <th></th>\n",
       "      <th></th>\n",
       "      <th></th>\n",
       "    </tr>\n",
       "  </thead>\n",
       "  <tbody>\n",
       "    <tr>\n",
       "      <th>Amenazas</th>\n",
       "      <td>927</td>\n",
       "      <td>882</td>\n",
       "      <td>1043</td>\n",
       "      <td>809</td>\n",
       "      <td>756</td>\n",
       "      <td>766</td>\n",
       "      <td>770</td>\n",
       "      <td>818</td>\n",
       "      <td>848</td>\n",
       "      <td>882</td>\n",
       "      <td>922</td>\n",
       "      <td>940</td>\n",
       "    </tr>\n",
       "    <tr>\n",
       "      <th>Homicidios</th>\n",
       "      <td>16</td>\n",
       "      <td>10</td>\n",
       "      <td>3</td>\n",
       "      <td>11</td>\n",
       "      <td>6</td>\n",
       "      <td>3</td>\n",
       "      <td>14</td>\n",
       "      <td>1</td>\n",
       "      <td>6</td>\n",
       "      <td>9</td>\n",
       "      <td>12</td>\n",
       "      <td>11</td>\n",
       "    </tr>\n",
       "    <tr>\n",
       "      <th>Hurto</th>\n",
       "      <td>2699</td>\n",
       "      <td>2625</td>\n",
       "      <td>3067</td>\n",
       "      <td>2463</td>\n",
       "      <td>2317</td>\n",
       "      <td>2602</td>\n",
       "      <td>2886</td>\n",
       "      <td>3064</td>\n",
       "      <td>3119</td>\n",
       "      <td>3267</td>\n",
       "      <td>3605</td>\n",
       "      <td>3718</td>\n",
       "    </tr>\n",
       "    <tr>\n",
       "      <th>Lesiones</th>\n",
       "      <td>1008</td>\n",
       "      <td>851</td>\n",
       "      <td>987</td>\n",
       "      <td>765</td>\n",
       "      <td>644</td>\n",
       "      <td>712</td>\n",
       "      <td>820</td>\n",
       "      <td>870</td>\n",
       "      <td>925</td>\n",
       "      <td>1059</td>\n",
       "      <td>1066</td>\n",
       "      <td>1124</td>\n",
       "    </tr>\n",
       "    <tr>\n",
       "      <th>Robo</th>\n",
       "      <td>3840</td>\n",
       "      <td>3630</td>\n",
       "      <td>4010</td>\n",
       "      <td>3324</td>\n",
       "      <td>3145</td>\n",
       "      <td>3272</td>\n",
       "      <td>3596</td>\n",
       "      <td>3631</td>\n",
       "      <td>3584</td>\n",
       "      <td>3834</td>\n",
       "      <td>4049</td>\n",
       "      <td>3950</td>\n",
       "    </tr>\n",
       "    <tr>\n",
       "      <th>Vialidad</th>\n",
       "      <td>499</td>\n",
       "      <td>431</td>\n",
       "      <td>650</td>\n",
       "      <td>560</td>\n",
       "      <td>277</td>\n",
       "      <td>637</td>\n",
       "      <td>656</td>\n",
       "      <td>714</td>\n",
       "      <td>631</td>\n",
       "      <td>792</td>\n",
       "      <td>633</td>\n",
       "      <td>809</td>\n",
       "    </tr>\n",
       "  </tbody>\n",
       "</table>\n",
       "</div>"
      ],
      "text/plain": [
       "mes         ENERO  FEBRERO  MARZO  ABRIL  MAYO  JUNIO  JULIO  AGOSTO  \\\n",
       "tipo                                                                   \n",
       "Amenazas      927      882   1043    809   756    766    770     818   \n",
       "Homicidios     16       10      3     11     6      3     14       1   \n",
       "Hurto        2699     2625   3067   2463  2317   2602   2886    3064   \n",
       "Lesiones     1008      851    987    765   644    712    820     870   \n",
       "Robo         3840     3630   4010   3324  3145   3272   3596    3631   \n",
       "Vialidad      499      431    650    560   277    637    656     714   \n",
       "\n",
       "mes         SEPTIEMBRE  OCTUBRE  NOVIEMBRE  DICIEMBRE  \n",
       "tipo                                                   \n",
       "Amenazas           848      882        922        940  \n",
       "Homicidios           6        9         12         11  \n",
       "Hurto             3119     3267       3605       3718  \n",
       "Lesiones           925     1059       1066       1124  \n",
       "Robo              3584     3834       4049       3950  \n",
       "Vialidad           631      792        633        809  "
      ]
     },
     "execution_count": 60,
     "metadata": {},
     "output_type": "execute_result"
    }
   ],
   "source": [
    "df_tipo_mes = pd.crosstab(df[\"tipo\"], df[\"mes\"])[meses]\n",
    "df_tipo_mes\n"
   ]
  },
  {
   "cell_type": "code",
   "execution_count": null,
   "metadata": {},
   "outputs": [
    {
     "data": {
      "text/html": [
       "<div>\n",
       "<style scoped>\n",
       "    .dataframe tbody tr th:only-of-type {\n",
       "        vertical-align: middle;\n",
       "    }\n",
       "\n",
       "    .dataframe tbody tr th {\n",
       "        vertical-align: top;\n",
       "    }\n",
       "\n",
       "    .dataframe thead th {\n",
       "        text-align: right;\n",
       "    }\n",
       "</style>\n",
       "<table border=\"1\" class=\"dataframe\">\n",
       "  <thead>\n",
       "    <tr style=\"text-align: right;\">\n",
       "      <th>tipo</th>\n",
       "      <th>Amenazas</th>\n",
       "      <th>Homicidios</th>\n",
       "      <th>Hurto</th>\n",
       "      <th>Lesiones</th>\n",
       "      <th>Robo</th>\n",
       "      <th>Vialidad</th>\n",
       "    </tr>\n",
       "    <tr>\n",
       "      <th>dia</th>\n",
       "      <th></th>\n",
       "      <th></th>\n",
       "      <th></th>\n",
       "      <th></th>\n",
       "      <th></th>\n",
       "      <th></th>\n",
       "    </tr>\n",
       "  </thead>\n",
       "  <tbody>\n",
       "    <tr>\n",
       "      <th>LUNES</th>\n",
       "      <td>1648</td>\n",
       "      <td>15</td>\n",
       "      <td>5324</td>\n",
       "      <td>1607</td>\n",
       "      <td>6560</td>\n",
       "      <td>1030</td>\n",
       "    </tr>\n",
       "    <tr>\n",
       "      <th>MARTES</th>\n",
       "      <td>1471</td>\n",
       "      <td>17</td>\n",
       "      <td>5319</td>\n",
       "      <td>1371</td>\n",
       "      <td>6713</td>\n",
       "      <td>1046</td>\n",
       "    </tr>\n",
       "    <tr>\n",
       "      <th>MIERCOLES</th>\n",
       "      <td>1585</td>\n",
       "      <td>10</td>\n",
       "      <td>5486</td>\n",
       "      <td>1478</td>\n",
       "      <td>6511</td>\n",
       "      <td>1129</td>\n",
       "    </tr>\n",
       "    <tr>\n",
       "      <th>JUEVES</th>\n",
       "      <td>1564</td>\n",
       "      <td>18</td>\n",
       "      <td>5422</td>\n",
       "      <td>1420</td>\n",
       "      <td>6486</td>\n",
       "      <td>1198</td>\n",
       "    </tr>\n",
       "    <tr>\n",
       "      <th>VIERNES</th>\n",
       "      <td>1543</td>\n",
       "      <td>8</td>\n",
       "      <td>5482</td>\n",
       "      <td>1593</td>\n",
       "      <td>6699</td>\n",
       "      <td>1350</td>\n",
       "    </tr>\n",
       "    <tr>\n",
       "      <th>SABADO</th>\n",
       "      <td>1368</td>\n",
       "      <td>12</td>\n",
       "      <td>4655</td>\n",
       "      <td>1647</td>\n",
       "      <td>5715</td>\n",
       "      <td>866</td>\n",
       "    </tr>\n",
       "    <tr>\n",
       "      <th>DOMINGO</th>\n",
       "      <td>1184</td>\n",
       "      <td>22</td>\n",
       "      <td>3744</td>\n",
       "      <td>1715</td>\n",
       "      <td>5181</td>\n",
       "      <td>670</td>\n",
       "    </tr>\n",
       "  </tbody>\n",
       "</table>\n",
       "</div>"
      ],
      "text/plain": [
       "tipo       Amenazas  Homicidios  Hurto  Lesiones  Robo  Vialidad\n",
       "dia                                                             \n",
       "LUNES          1648          15   5324      1607  6560      1030\n",
       "MARTES         1471          17   5319      1371  6713      1046\n",
       "MIERCOLES      1585          10   5486      1478  6511      1129\n",
       "JUEVES         1564          18   5422      1420  6486      1198\n",
       "VIERNES        1543           8   5482      1593  6699      1350\n",
       "SABADO         1368          12   4655      1647  5715       866\n",
       "DOMINGO        1184          22   3744      1715  5181       670"
      ]
     },
     "execution_count": 61,
     "metadata": {},
     "output_type": "execute_result"
    }
   ],
   "source": [
    "df_tipo_dia = (pd.crosstab(df[\"dia\"], df[\"tipo\"])).loc[dias]\n",
    "df_tipo_dia"
   ]
  },
  {
   "cell_type": "code",
   "execution_count": null,
   "metadata": {},
   "outputs": [
    {
     "data": {
      "text/plain": [
       "<matplotlib.legend.Legend at 0x12cb34280>"
      ]
     },
     "execution_count": 62,
     "metadata": {},
     "output_type": "execute_result"
    },
    {
     "data": {
      "image/png": "[encoded data removed]",
      "text/plain": [
       "<Figure size 1200x400 with 1 Axes>"
      ]
     },
     "metadata": {},
     "output_type": "display_data"
    }
   ],
   "source": [
    "plt.figure(figsize=(12, 4))\n",
    "for tipo in df_tipo_dia.columns:\n",
    "    plt.plot(df_tipo_dia.index, df_tipo_dia[tipo], label=tipo)\n",
    "plt.xlabel('D')  # Eje X: Meses\n",
    "plt.ylabel('Número de delitos')  # Eje Y: Número de delitos\n",
    "plt.title('Cantidad de delitos por tipo en cada día')\n",
    "plt.legend(loc='upper right')"
   ]
  },
  {
   "cell_type": "markdown",
   "metadata": {},
   "source": [
    "Podemos observar que los delitos como robo, hurto y vialidad reducen el sábado y domingo, mientras que lesiones, amenazas y homicidios se mantienen estables a lo largo de la semana."
   ]
  },
  {
   "cell_type": "code",
   "execution_count": null,
   "metadata": {},
   "outputs": [
    {
     "data": {
      "text/html": [
       "<div>\n",
       "<style scoped>\n",
       "    .dataframe tbody tr th:only-of-type {\n",
       "        vertical-align: middle;\n",
       "    }\n",
       "\n",
       "    .dataframe tbody tr th {\n",
       "        vertical-align: top;\n",
       "    }\n",
       "\n",
       "    .dataframe thead th {\n",
       "        text-align: right;\n",
       "    }\n",
       "</style>\n",
       "<table border=\"1\" class=\"dataframe\">\n",
       "  <thead>\n",
       "    <tr style=\"text-align: right;\">\n",
       "      <th>mes</th>\n",
       "      <th>ENERO</th>\n",
       "      <th>FEBRERO</th>\n",
       "      <th>MARZO</th>\n",
       "      <th>ABRIL</th>\n",
       "      <th>MAYO</th>\n",
       "      <th>JUNIO</th>\n",
       "      <th>JULIO</th>\n",
       "      <th>AGOSTO</th>\n",
       "      <th>SEPTIEMBRE</th>\n",
       "      <th>OCTUBRE</th>\n",
       "      <th>NOVIEMBRE</th>\n",
       "      <th>DICIEMBRE</th>\n",
       "    </tr>\n",
       "    <tr>\n",
       "      <th>comuna</th>\n",
       "      <th></th>\n",
       "      <th></th>\n",
       "      <th></th>\n",
       "      <th></th>\n",
       "      <th></th>\n",
       "      <th></th>\n",
       "      <th></th>\n",
       "      <th></th>\n",
       "      <th></th>\n",
       "      <th></th>\n",
       "      <th></th>\n",
       "      <th></th>\n",
       "    </tr>\n",
       "  </thead>\n",
       "  <tbody>\n",
       "    <tr>\n",
       "      <th>1.0</th>\n",
       "      <td>982</td>\n",
       "      <td>922</td>\n",
       "      <td>1067</td>\n",
       "      <td>875</td>\n",
       "      <td>838</td>\n",
       "      <td>910</td>\n",
       "      <td>990</td>\n",
       "      <td>1071</td>\n",
       "      <td>1035</td>\n",
       "      <td>1136</td>\n",
       "      <td>1399</td>\n",
       "      <td>1252</td>\n",
       "    </tr>\n",
       "    <tr>\n",
       "      <th>2.0</th>\n",
       "      <td>400</td>\n",
       "      <td>407</td>\n",
       "      <td>464</td>\n",
       "      <td>400</td>\n",
       "      <td>334</td>\n",
       "      <td>376</td>\n",
       "      <td>413</td>\n",
       "      <td>422</td>\n",
       "      <td>401</td>\n",
       "      <td>486</td>\n",
       "      <td>472</td>\n",
       "      <td>502</td>\n",
       "    </tr>\n",
       "    <tr>\n",
       "      <th>3.0</th>\n",
       "      <td>757</td>\n",
       "      <td>694</td>\n",
       "      <td>804</td>\n",
       "      <td>646</td>\n",
       "      <td>616</td>\n",
       "      <td>659</td>\n",
       "      <td>748</td>\n",
       "      <td>727</td>\n",
       "      <td>799</td>\n",
       "      <td>837</td>\n",
       "      <td>901</td>\n",
       "      <td>945</td>\n",
       "    </tr>\n",
       "    <tr>\n",
       "      <th>4.0</th>\n",
       "      <td>988</td>\n",
       "      <td>893</td>\n",
       "      <td>954</td>\n",
       "      <td>832</td>\n",
       "      <td>741</td>\n",
       "      <td>811</td>\n",
       "      <td>822</td>\n",
       "      <td>889</td>\n",
       "      <td>906</td>\n",
       "      <td>979</td>\n",
       "      <td>986</td>\n",
       "      <td>968</td>\n",
       "    </tr>\n",
       "    <tr>\n",
       "      <th>5.0</th>\n",
       "      <td>495</td>\n",
       "      <td>460</td>\n",
       "      <td>500</td>\n",
       "      <td>405</td>\n",
       "      <td>422</td>\n",
       "      <td>462</td>\n",
       "      <td>487</td>\n",
       "      <td>478</td>\n",
       "      <td>474</td>\n",
       "      <td>568</td>\n",
       "      <td>564</td>\n",
       "      <td>571</td>\n",
       "    </tr>\n",
       "    <tr>\n",
       "      <th>6.0</th>\n",
       "      <td>414</td>\n",
       "      <td>348</td>\n",
       "      <td>420</td>\n",
       "      <td>354</td>\n",
       "      <td>321</td>\n",
       "      <td>369</td>\n",
       "      <td>426</td>\n",
       "      <td>438</td>\n",
       "      <td>374</td>\n",
       "      <td>435</td>\n",
       "      <td>471</td>\n",
       "      <td>430</td>\n",
       "    </tr>\n",
       "    <tr>\n",
       "      <th>7.0</th>\n",
       "      <td>675</td>\n",
       "      <td>681</td>\n",
       "      <td>746</td>\n",
       "      <td>582</td>\n",
       "      <td>578</td>\n",
       "      <td>632</td>\n",
       "      <td>689</td>\n",
       "      <td>657</td>\n",
       "      <td>704</td>\n",
       "      <td>757</td>\n",
       "      <td>744</td>\n",
       "      <td>812</td>\n",
       "    </tr>\n",
       "    <tr>\n",
       "      <th>8.0</th>\n",
       "      <td>687</td>\n",
       "      <td>599</td>\n",
       "      <td>720</td>\n",
       "      <td>642</td>\n",
       "      <td>532</td>\n",
       "      <td>595</td>\n",
       "      <td>661</td>\n",
       "      <td>734</td>\n",
       "      <td>710</td>\n",
       "      <td>737</td>\n",
       "      <td>716</td>\n",
       "      <td>749</td>\n",
       "    </tr>\n",
       "    <tr>\n",
       "      <th>9.0</th>\n",
       "      <td>531</td>\n",
       "      <td>487</td>\n",
       "      <td>596</td>\n",
       "      <td>520</td>\n",
       "      <td>416</td>\n",
       "      <td>474</td>\n",
       "      <td>469</td>\n",
       "      <td>579</td>\n",
       "      <td>529</td>\n",
       "      <td>610</td>\n",
       "      <td>591</td>\n",
       "      <td>657</td>\n",
       "    </tr>\n",
       "    <tr>\n",
       "      <th>10.0</th>\n",
       "      <td>445</td>\n",
       "      <td>432</td>\n",
       "      <td>483</td>\n",
       "      <td>367</td>\n",
       "      <td>360</td>\n",
       "      <td>411</td>\n",
       "      <td>448</td>\n",
       "      <td>419</td>\n",
       "      <td>388</td>\n",
       "      <td>447</td>\n",
       "      <td>462</td>\n",
       "      <td>496</td>\n",
       "    </tr>\n",
       "    <tr>\n",
       "      <th>11.0</th>\n",
       "      <td>444</td>\n",
       "      <td>412</td>\n",
       "      <td>509</td>\n",
       "      <td>369</td>\n",
       "      <td>347</td>\n",
       "      <td>344</td>\n",
       "      <td>420</td>\n",
       "      <td>358</td>\n",
       "      <td>413</td>\n",
       "      <td>393</td>\n",
       "      <td>424</td>\n",
       "      <td>426</td>\n",
       "    </tr>\n",
       "    <tr>\n",
       "      <th>12.0</th>\n",
       "      <td>544</td>\n",
       "      <td>461</td>\n",
       "      <td>588</td>\n",
       "      <td>413</td>\n",
       "      <td>323</td>\n",
       "      <td>390</td>\n",
       "      <td>430</td>\n",
       "      <td>477</td>\n",
       "      <td>523</td>\n",
       "      <td>494</td>\n",
       "      <td>511</td>\n",
       "      <td>472</td>\n",
       "    </tr>\n",
       "    <tr>\n",
       "      <th>13.0</th>\n",
       "      <td>478</td>\n",
       "      <td>462</td>\n",
       "      <td>570</td>\n",
       "      <td>454</td>\n",
       "      <td>426</td>\n",
       "      <td>471</td>\n",
       "      <td>520</td>\n",
       "      <td>575</td>\n",
       "      <td>603</td>\n",
       "      <td>599</td>\n",
       "      <td>604</td>\n",
       "      <td>651</td>\n",
       "    </tr>\n",
       "    <tr>\n",
       "      <th>14.0</th>\n",
       "      <td>642</td>\n",
       "      <td>660</td>\n",
       "      <td>729</td>\n",
       "      <td>627</td>\n",
       "      <td>522</td>\n",
       "      <td>593</td>\n",
       "      <td>763</td>\n",
       "      <td>745</td>\n",
       "      <td>747</td>\n",
       "      <td>820</td>\n",
       "      <td>883</td>\n",
       "      <td>1003</td>\n",
       "    </tr>\n",
       "    <tr>\n",
       "      <th>15.0</th>\n",
       "      <td>507</td>\n",
       "      <td>511</td>\n",
       "      <td>610</td>\n",
       "      <td>446</td>\n",
       "      <td>369</td>\n",
       "      <td>495</td>\n",
       "      <td>456</td>\n",
       "      <td>529</td>\n",
       "      <td>507</td>\n",
       "      <td>545</td>\n",
       "      <td>559</td>\n",
       "      <td>618</td>\n",
       "    </tr>\n",
       "  </tbody>\n",
       "</table>\n",
       "</div>"
      ],
      "text/plain": [
       "mes     ENERO  FEBRERO  MARZO  ABRIL  MAYO  JUNIO  JULIO  AGOSTO  SEPTIEMBRE  \\\n",
       "comuna                                                                         \n",
       "1.0       982      922   1067    875   838    910    990    1071        1035   \n",
       "2.0       400      407    464    400   334    376    413     422         401   \n",
       "3.0       757      694    804    646   616    659    748     727         799   \n",
       "4.0       988      893    954    832   741    811    822     889         906   \n",
       "5.0       495      460    500    405   422    462    487     478         474   \n",
       "6.0       414      348    420    354   321    369    426     438         374   \n",
       "7.0       675      681    746    582   578    632    689     657         704   \n",
       "8.0       687      599    720    642   532    595    661     734         710   \n",
       "9.0       531      487    596    520   416    474    469     579         529   \n",
       "10.0      445      432    483    367   360    411    448     419         388   \n",
       "11.0      444      412    509    369   347    344    420     358         413   \n",
       "12.0      544      461    588    413   323    390    430     477         523   \n",
       "13.0      478      462    570    454   426    471    520     575         603   \n",
       "14.0      642      660    729    627   522    593    763     745         747   \n",
       "15.0      507      511    610    446   369    495    456     529         507   \n",
       "\n",
       "mes     OCTUBRE  NOVIEMBRE  DICIEMBRE  \n",
       "comuna                                 \n",
       "1.0        1136       1399       1252  \n",
       "2.0         486        472        502  \n",
       "3.0         837        901        945  \n",
       "4.0         979        986        968  \n",
       "5.0         568        564        571  \n",
       "6.0         435        471        430  \n",
       "7.0         757        744        812  \n",
       "8.0         737        716        749  \n",
       "9.0         610        591        657  \n",
       "10.0        447        462        496  \n",
       "11.0        393        424        426  \n",
       "12.0        494        511        472  \n",
       "13.0        599        604        651  \n",
       "14.0        820        883       1003  \n",
       "15.0        545        559        618  "
      ]
     },
     "execution_count": 63,
     "metadata": {},
     "output_type": "execute_result"
    }
   ],
   "source": [
    "df_comuna_mes = pd.crosstab(df[\"comuna\"], df[\"mes\"])[meses]\n",
    "df_comuna_mes\n"
   ]
  },
  {
   "cell_type": "code",
   "execution_count": null,
   "metadata": {},
   "outputs": [
    {
     "data": {
      "image/png": "[encoded data removed]",
      "text/plain": [
       "<Figure size 1000x500 with 1 Axes>"
      ]
     },
     "metadata": {},
     "output_type": "display_data"
    }
   ],
   "source": [
    "plt.figure(figsize=(10, 5))  \n",
    "\n",
    "# Graficar \n",
    "df_comuna_mes.iloc[0].plot(kind='bar', position=1, width=0.15, label='Comuna 1', color='blue')\n",
    "\n",
    "df_comuna_mes.iloc[3].plot(kind='bar', position=0, width=0.15, label='Comuna 4', color='brown')\n",
    "\n",
    "df_comuna_mes.iloc[2].plot(kind='bar', position=2, width=0.15, label='Comuna 3', color='pink')\n",
    "\n",
    "plt.xlabel('Meses')  \n",
    "plt.ylabel('Número de delitos')  \n",
    "plt.title('Número de delitos por mes en las tres comunas con más delitos') \n",
    "plt.legend()  \n",
    "\n",
    "plt.xticks(rotation=45)  \n",
    "plt.tight_layout()\n",
    "plt.show()"
   ]
  },
  {
   "cell_type": "markdown",
   "metadata": {},
   "source": [
    "En el gráfico podemos observar como en noviembre aumentan los delitos en la Comuna 1 en comparación con octubre, mientras en las comunas 3 y 4 no aumentan tanto."
   ]
  },
  {
   "cell_type": "code",
   "execution_count": null,
   "metadata": {},
   "outputs": [
    {
     "data": {
      "text/plain": [
       "uso_arma\n",
       "NO    99544\n",
       "SI     8338\n",
       "Name: count, dtype: int64"
      ]
     },
     "execution_count": 65,
     "metadata": {},
     "output_type": "execute_result"
    }
   ],
   "source": [
    "df.uso_arma.value_counts()"
   ]
  },
  {
   "cell_type": "code",
   "execution_count": null,
   "metadata": {},
   "outputs": [
    {
     "data": {
      "text/plain": [
       "tipo\n",
       "Robo    8338\n",
       "Name: count, dtype: int64"
      ]
     },
     "execution_count": 66,
     "metadata": {},
     "output_type": "execute_result"
    }
   ],
   "source": [
    "df[df['uso_arma'] == \"SI\"].tipo.value_counts()"
   ]
  },
  {
   "cell_type": "code",
   "execution_count": null,
   "metadata": {},
   "outputs": [
    {
     "data": {
      "text/plain": [
       "subtipo\n",
       "Robo total        7769\n",
       "Robo automotor     569\n",
       "Name: count, dtype: int64"
      ]
     },
     "execution_count": 67,
     "metadata": {},
     "output_type": "execute_result"
    }
   ],
   "source": [
    "df[df['uso_arma'] == \"SI\"].subtipo.value_counts()"
   ]
  },
  {
   "cell_type": "markdown",
   "metadata": {},
   "source": [
    "Podemos observar que las armas se usan para el tipo de delito robos y los subtipos Robo total y Robo automotor."
   ]
  },
  {
   "cell_type": "code",
   "execution_count": null,
   "metadata": {},
   "outputs": [
    {
     "data": {
      "text/plain": [
       "tipo\n",
       "Robo    4533\n",
       "Name: count, dtype: int64"
      ]
     },
     "execution_count": 68,
     "metadata": {},
     "output_type": "execute_result"
    }
   ],
   "source": [
    "df[df['uso_moto'] == \"SI\"].tipo.value_counts()"
   ]
  },
  {
   "cell_type": "code",
   "execution_count": null,
   "metadata": {},
   "outputs": [
    {
     "data": {
      "text/plain": [
       "subtipo\n",
       "Robo total    4533\n",
       "Name: count, dtype: int64"
      ]
     },
     "execution_count": 69,
     "metadata": {},
     "output_type": "execute_result"
    }
   ],
   "source": [
    "df[df['uso_moto'] == \"SI\"].subtipo.value_counts()"
   ]
  },
  {
   "cell_type": "markdown",
   "metadata": {},
   "source": [
    "Podemos observar que las motos se usan para el tipo de delito Robo, y el subtipo Robo Total."
   ]
  },
  {
   "cell_type": "code",
   "execution_count": null,
   "metadata": {},
   "outputs": [
    {
     "data": {
      "text/plain": [
       "tipo\n",
       "Robo          43865\n",
       "Hurto         35432\n",
       "Lesiones      10831\n",
       "Amenazas      10363\n",
       "Vialidad       7289\n",
       "Homicidios      102\n",
       "Name: count, dtype: int64"
      ]
     },
     "execution_count": 70,
     "metadata": {},
     "output_type": "execute_result"
    }
   ],
   "source": [
    "df.tipo.value_counts()"
   ]
  },
  {
   "cell_type": "code",
   "execution_count": null,
   "metadata": {},
   "outputs": [
    {
     "data": {
      "text/html": [
       "<div>\n",
       "<style scoped>\n",
       "    .dataframe tbody tr th:only-of-type {\n",
       "        vertical-align: middle;\n",
       "    }\n",
       "\n",
       "    .dataframe tbody tr th {\n",
       "        vertical-align: top;\n",
       "    }\n",
       "\n",
       "    .dataframe thead th {\n",
       "        text-align: right;\n",
       "    }\n",
       "</style>\n",
       "<table border=\"1\" class=\"dataframe\">\n",
       "  <thead>\n",
       "    <tr style=\"text-align: right;\">\n",
       "      <th>franja</th>\n",
       "      <th>0.0</th>\n",
       "      <th>1.0</th>\n",
       "      <th>2.0</th>\n",
       "      <th>3.0</th>\n",
       "      <th>4.0</th>\n",
       "      <th>5.0</th>\n",
       "      <th>6.0</th>\n",
       "      <th>7.0</th>\n",
       "      <th>8.0</th>\n",
       "      <th>9.0</th>\n",
       "      <th>...</th>\n",
       "      <th>14.0</th>\n",
       "      <th>15.0</th>\n",
       "      <th>16.0</th>\n",
       "      <th>17.0</th>\n",
       "      <th>18.0</th>\n",
       "      <th>19.0</th>\n",
       "      <th>20.0</th>\n",
       "      <th>21.0</th>\n",
       "      <th>22.0</th>\n",
       "      <th>23.0</th>\n",
       "    </tr>\n",
       "    <tr>\n",
       "      <th>tipo</th>\n",
       "      <th></th>\n",
       "      <th></th>\n",
       "      <th></th>\n",
       "      <th></th>\n",
       "      <th></th>\n",
       "      <th></th>\n",
       "      <th></th>\n",
       "      <th></th>\n",
       "      <th></th>\n",
       "      <th></th>\n",
       "      <th></th>\n",
       "      <th></th>\n",
       "      <th></th>\n",
       "      <th></th>\n",
       "      <th></th>\n",
       "      <th></th>\n",
       "      <th></th>\n",
       "      <th></th>\n",
       "      <th></th>\n",
       "      <th></th>\n",
       "      <th></th>\n",
       "    </tr>\n",
       "  </thead>\n",
       "  <tbody>\n",
       "    <tr>\n",
       "      <th>Amenazas</th>\n",
       "      <td>1268</td>\n",
       "      <td>207</td>\n",
       "      <td>159</td>\n",
       "      <td>137</td>\n",
       "      <td>81</td>\n",
       "      <td>74</td>\n",
       "      <td>89</td>\n",
       "      <td>133</td>\n",
       "      <td>214</td>\n",
       "      <td>310</td>\n",
       "      <td>...</td>\n",
       "      <td>539</td>\n",
       "      <td>557</td>\n",
       "      <td>557</td>\n",
       "      <td>617</td>\n",
       "      <td>698</td>\n",
       "      <td>610</td>\n",
       "      <td>624</td>\n",
       "      <td>566</td>\n",
       "      <td>458</td>\n",
       "      <td>351</td>\n",
       "    </tr>\n",
       "    <tr>\n",
       "      <th>Homicidios</th>\n",
       "      <td>1</td>\n",
       "      <td>6</td>\n",
       "      <td>3</td>\n",
       "      <td>4</td>\n",
       "      <td>3</td>\n",
       "      <td>9</td>\n",
       "      <td>2</td>\n",
       "      <td>3</td>\n",
       "      <td>3</td>\n",
       "      <td>2</td>\n",
       "      <td>...</td>\n",
       "      <td>5</td>\n",
       "      <td>3</td>\n",
       "      <td>5</td>\n",
       "      <td>3</td>\n",
       "      <td>3</td>\n",
       "      <td>4</td>\n",
       "      <td>5</td>\n",
       "      <td>2</td>\n",
       "      <td>10</td>\n",
       "      <td>12</td>\n",
       "    </tr>\n",
       "    <tr>\n",
       "      <th>Hurto</th>\n",
       "      <td>1144</td>\n",
       "      <td>616</td>\n",
       "      <td>498</td>\n",
       "      <td>431</td>\n",
       "      <td>389</td>\n",
       "      <td>558</td>\n",
       "      <td>1034</td>\n",
       "      <td>1731</td>\n",
       "      <td>2344</td>\n",
       "      <td>2135</td>\n",
       "      <td>...</td>\n",
       "      <td>1860</td>\n",
       "      <td>1715</td>\n",
       "      <td>1789</td>\n",
       "      <td>1920</td>\n",
       "      <td>1985</td>\n",
       "      <td>1799</td>\n",
       "      <td>1505</td>\n",
       "      <td>1150</td>\n",
       "      <td>1118</td>\n",
       "      <td>1152</td>\n",
       "    </tr>\n",
       "    <tr>\n",
       "      <th>Lesiones</th>\n",
       "      <td>555</td>\n",
       "      <td>415</td>\n",
       "      <td>339</td>\n",
       "      <td>328</td>\n",
       "      <td>285</td>\n",
       "      <td>250</td>\n",
       "      <td>273</td>\n",
       "      <td>245</td>\n",
       "      <td>304</td>\n",
       "      <td>299</td>\n",
       "      <td>...</td>\n",
       "      <td>551</td>\n",
       "      <td>523</td>\n",
       "      <td>554</td>\n",
       "      <td>615</td>\n",
       "      <td>642</td>\n",
       "      <td>638</td>\n",
       "      <td>601</td>\n",
       "      <td>566</td>\n",
       "      <td>523</td>\n",
       "      <td>491</td>\n",
       "    </tr>\n",
       "    <tr>\n",
       "      <th>Robo</th>\n",
       "      <td>1308</td>\n",
       "      <td>890</td>\n",
       "      <td>818</td>\n",
       "      <td>771</td>\n",
       "      <td>776</td>\n",
       "      <td>1113</td>\n",
       "      <td>1496</td>\n",
       "      <td>2028</td>\n",
       "      <td>2132</td>\n",
       "      <td>1830</td>\n",
       "      <td>...</td>\n",
       "      <td>2058</td>\n",
       "      <td>2092</td>\n",
       "      <td>2139</td>\n",
       "      <td>2363</td>\n",
       "      <td>2672</td>\n",
       "      <td>2989</td>\n",
       "      <td>2981</td>\n",
       "      <td>2362</td>\n",
       "      <td>1906</td>\n",
       "      <td>1670</td>\n",
       "    </tr>\n",
       "    <tr>\n",
       "      <th>Vialidad</th>\n",
       "      <td>194</td>\n",
       "      <td>104</td>\n",
       "      <td>81</td>\n",
       "      <td>48</td>\n",
       "      <td>49</td>\n",
       "      <td>74</td>\n",
       "      <td>125</td>\n",
       "      <td>199</td>\n",
       "      <td>318</td>\n",
       "      <td>345</td>\n",
       "      <td>...</td>\n",
       "      <td>500</td>\n",
       "      <td>479</td>\n",
       "      <td>571</td>\n",
       "      <td>549</td>\n",
       "      <td>469</td>\n",
       "      <td>401</td>\n",
       "      <td>329</td>\n",
       "      <td>303</td>\n",
       "      <td>224</td>\n",
       "      <td>184</td>\n",
       "    </tr>\n",
       "  </tbody>\n",
       "</table>\n",
       "<p>6 rows × 24 columns</p>\n",
       "</div>"
      ],
      "text/plain": [
       "franja      0.0   1.0   2.0   3.0   4.0   5.0   6.0   7.0   8.0   9.0   ...  \\\n",
       "tipo                                                                    ...   \n",
       "Amenazas    1268   207   159   137    81    74    89   133   214   310  ...   \n",
       "Homicidios     1     6     3     4     3     9     2     3     3     2  ...   \n",
       "Hurto       1144   616   498   431   389   558  1034  1731  2344  2135  ...   \n",
       "Lesiones     555   415   339   328   285   250   273   245   304   299  ...   \n",
       "Robo        1308   890   818   771   776  1113  1496  2028  2132  1830  ...   \n",
       "Vialidad     194   104    81    48    49    74   125   199   318   345  ...   \n",
       "\n",
       "franja      14.0  15.0  16.0  17.0  18.0  19.0  20.0  21.0  22.0  23.0  \n",
       "tipo                                                                    \n",
       "Amenazas     539   557   557   617   698   610   624   566   458   351  \n",
       "Homicidios     5     3     5     3     3     4     5     2    10    12  \n",
       "Hurto       1860  1715  1789  1920  1985  1799  1505  1150  1118  1152  \n",
       "Lesiones     551   523   554   615   642   638   601   566   523   491  \n",
       "Robo        2058  2092  2139  2363  2672  2989  2981  2362  1906  1670  \n",
       "Vialidad     500   479   571   549   469   401   329   303   224   184  \n",
       "\n",
       "[6 rows x 24 columns]"
      ]
     },
     "execution_count": 71,
     "metadata": {},
     "output_type": "execute_result"
    }
   ],
   "source": [
    "df_tipo_franja = pd.crosstab(df[\"tipo\"], df[\"franja\"])\n",
    "df_tipo_franja\n"
   ]
  },
  {
   "cell_type": "code",
   "execution_count": null,
   "metadata": {},
   "outputs": [
    {
     "data": {
      "text/plain": [
       "Text(0, 0.5, 'Número de delitos')"
      ]
     },
     "execution_count": 72,
     "metadata": {},
     "output_type": "execute_result"
    },
    {
     "data": {
      "image/png": "[encoded data removed]",
      "text/plain": [
       "<Figure size 640x480 with 1 Axes>"
      ]
     },
     "metadata": {},
     "output_type": "display_data"
    }
   ],
   "source": [
    "df_tipo_franja.loc['Robo'].plot()\n",
    "plt.title(\"Robos por franja\")\n",
    "plt.ylabel(\"Número de delitos\")"
   ]
  },
  {
   "cell_type": "markdown",
   "metadata": {},
   "source": [
    "Podemos observar que el delito más cometido, el robo, se produce más en las noches, siendo las 20 horas la hora en que más casos se dan."
   ]
  },
  {
   "cell_type": "code",
   "execution_count": null,
   "metadata": {},
   "outputs": [
    {
     "data": {
      "text/plain": [
       "Text(0, 0.5, 'Número de delitos')"
      ]
     },
     "execution_count": 73,
     "metadata": {},
     "output_type": "execute_result"
    },
    {
     "data": {
      "image/png": "[encoded data removed]",
      "text/plain": [
       "<Figure size 640x480 with 1 Axes>"
      ]
     },
     "metadata": {},
     "output_type": "display_data"
    }
   ],
   "source": [
    "df_tipo_franja.loc['Vialidad'].plot()\n",
    "plt.title(\"Robos por franja\")\n",
    "plt.ylabel(\"Número de delitos\")"
   ]
  },
  {
   "cell_type": "markdown",
   "metadata": {},
   "source": [
    "Podemos observar que los delitos relacionados con la vialidad tienen su pico a partir de las 12 horas hasta las 17 horas."
   ]
  },
  {
   "cell_type": "code",
   "execution_count": null,
   "metadata": {},
   "outputs": [],
   "source": []
  }
 ],
 "metadata": {
  "kernelspec": {
   "display_name": "Python 3",
   "language": "python",
   "name": "python3"
  },
  "language_info": {
   "codemirror_mode": {
    "name": "ipython",
    "version": 3
   },
   "file_extension": ".py",
   "mimetype": "text/x-python",
   "name": "python",
   "nbconvert_exporter": "python",
   "pygments_lexer": "ipython3",
   "version": "3.11.3"
  }
 },
 "nbformat": 4,
 "nbformat_minor": 2
}
